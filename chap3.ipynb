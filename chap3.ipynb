{
 "cells": [
  {
   "cell_type": "markdown",
   "metadata": {},
   "source": [
    "# Chapter 3 연습문제"
   ]
  },
  {
   "cell_type": "markdown",
   "metadata": {},
   "source": [
    "## singly linked list"
   ]
  },
  {
   "cell_type": "code",
   "execution_count": 24,
   "metadata": {
    "scrolled": true
   },
   "outputs": [
    {
     "data": {
      "text/plain": [
       "defined \u001b[32mtrait\u001b[39m \u001b[36mList\u001b[39m\n",
       "defined \u001b[32mobject\u001b[39m \u001b[36mNil\u001b[39m\n",
       "defined \u001b[32mclass\u001b[39m \u001b[36mCons\u001b[39m\n",
       "defined \u001b[32mobject\u001b[39m \u001b[36mList\u001b[39m"
      ]
     },
     "execution_count": 24,
     "metadata": {},
     "output_type": "execute_result"
    }
   ],
   "source": [
    "// package fpinscala.datastructures\n",
    "\n",
    "sealed trait List[+A]\n",
    "case object Nil extends List[Nothing]\n",
    "case class Cons[+A](head: A, tail: List[A]) extends List[A]\n",
    "\n",
    "object List {\n",
    "  def sum(ints: List[Int]): Int = ints match {\n",
    "    case Nil => 0\n",
    "    case Cons(x, xs) => x + sum(xs)\n",
    "  }\n",
    "\n",
    "  def product(ds: List[Double]): Double = ds match {\n",
    "    case Nil => 1.0\n",
    "    case Cons(0.0, _) => 0.0\n",
    "    case Cons(x, xs) => x * product(xs)\n",
    "  }\n",
    "\n",
    "  def apply[A](as: A*): List[A] =\n",
    "    if (as.isEmpty) Nil\n",
    "    else Cons(as.head, apply(as.tail: _*))\n",
    "  \n",
    "  def show[A](l: List[A]): String = {\n",
    "    def loop(l: List[A], str: String): String = l match {\n",
    "      case Nil => str.substring(0, str.length()-1)\n",
    "      case Cons(h, t) => loop(t, str  ++ h.toString() ++ \",\")\n",
    "    }\n",
    "    loop(l, \"List(\") + \")\"\n",
    "  }\n",
    "}"
   ]
  },
  {
   "cell_type": "code",
   "execution_count": 25,
   "metadata": {},
   "outputs": [
    {
     "data": {
      "text/plain": [
       "\u001b[32mimport \u001b[39m\u001b[36mList._\u001b[39m"
      ]
     },
     "execution_count": 25,
     "metadata": {},
     "output_type": "execute_result"
    }
   ],
   "source": [
    "import List._"
   ]
  },
  {
   "cell_type": "markdown",
   "metadata": {
    "collapsed": true
   },
   "source": [
    "## 연습문제 3.1\n",
    "다음 패턴 부합 표현식의 결과는 무엇인가?\n",
    "```scala\n",
    "val x = List(1,2,3,4,5) match {\n",
    "  case Cons(x, Cons(2, Cons(4, _))) => x\n",
    "  case Nil => 42\n",
    "  case Cons(x, Cons(y, Cons(3, Cons(4, _)))) => x + y\n",
    "  case Cons(h,t) => h + sum(t)\n",
    "  case _ => 101\n",
    "}\n",
    "```"
   ]
  },
  {
   "cell_type": "code",
   "execution_count": 3,
   "metadata": {},
   "outputs": [
    {
     "data": {
      "text/plain": [
       "\u001b[36mx\u001b[39m: \u001b[32mInt\u001b[39m = \u001b[32m3\u001b[39m\n",
       "\u001b[36mres2_1\u001b[39m: \u001b[32mInt\u001b[39m = \u001b[32m3\u001b[39m"
      ]
     },
     "execution_count": 3,
     "metadata": {},
     "output_type": "execute_result"
    }
   ],
   "source": [
    "val x = List(1,2,3,4,5) match {\n",
    "  case Cons(x, Cons(2, Cons(4, _))) => x\n",
    "  case Nil => 42\n",
    "  case Cons(x, Cons(y, Cons(3, Cons(4, _)))) => x + y\n",
    "  case Cons(h,t) => h + sum(t)\n",
    "  case _ => 101\n",
    "}\n",
    "x"
   ]
  },
  {
   "cell_type": "markdown",
   "metadata": {},
   "source": [
    "## 연습문제 3.2\n",
    "List의 첫 요소를 제거하는 함수 tail을 구현하라. 이 함수가 상수 시간으로 실행됨을 주의할 것. Nil인 List도 지원하도록 독자의 구현을 수정하는 여러 가지 방법들도 고려해 보라. 이에 대해서는 다음 장에서 좀 더 살펴볼 것이다."
   ]
  },
  {
   "cell_type": "code",
   "execution_count": 4,
   "metadata": {},
   "outputs": [
    {
     "data": {
      "text/plain": [
       "defined \u001b[32mfunction\u001b[39m \u001b[36mtail\u001b[39m"
      ]
     },
     "execution_count": 4,
     "metadata": {},
     "output_type": "execute_result"
    }
   ],
   "source": [
    "def tail[A](as: List[A]): List[A] = as match {\n",
    "  case Nil => throw new UnsupportedOperationException\n",
    "  case Cons(h, t) => t\n",
    "}"
   ]
  },
  {
   "cell_type": "markdown",
   "metadata": {},
   "source": [
    "## 연습문제 3.3\n",
    "같은 맥락에서, List의 첫 요소를 다른 값으로 대체하는 함수 setHead를 구현하라."
   ]
  },
  {
   "cell_type": "code",
   "execution_count": 5,
   "metadata": {},
   "outputs": [
    {
     "data": {
      "text/plain": [
       "defined \u001b[32mfunction\u001b[39m \u001b[36msetHead\u001b[39m"
      ]
     },
     "execution_count": 5,
     "metadata": {},
     "output_type": "execute_result"
    }
   ],
   "source": [
    "def setHead[A](l: List[A], x: A): List[A] = l match {\n",
    "  case Nil => throw new UnsupportedOperationException\n",
    "  case Cons(h, t) => Cons(x, t)\n",
    "}"
   ]
  },
  {
   "cell_type": "markdown",
   "metadata": {},
   "source": [
    "## 연습문제 3.4\n",
    "tail을 일반화해서, 목록에서 처음 n개의 요소를 제거하는 함수 drop을 구현하라. 이 함수의 실행 시간은 제거되는 원소의 개수에만 비례함을 주의할 것. List 전체의 복사본을 만들 필요는 없다.\n",
    "```scala\n",
    "def drop[A](l: List[A], n: Int): List[A]\n",
    "```"
   ]
  },
  {
   "cell_type": "code",
   "execution_count": 6,
   "metadata": {},
   "outputs": [
    {
     "data": {
      "text/plain": [
       "defined \u001b[32mfunction\u001b[39m \u001b[36mdrop\u001b[39m"
      ]
     },
     "execution_count": 6,
     "metadata": {},
     "output_type": "execute_result"
    }
   ],
   "source": [
    "def drop[A](l: List[A], n: Int): List[A] = {\n",
    "  def loop[A](as: List[A], n: Int): List[A] = \n",
    "    if(n>0) loop(tail(as), n-1)\n",
    "    else as\n",
    "  loop(l, n)\n",
    "}"
   ]
  },
  {
   "cell_type": "markdown",
   "metadata": {},
   "source": [
    "## 연습문제 3.5\n",
    "주어진 술어(predicate)와 부합하는 List의 앞 요소들(prefix)을 제거하는 함수 dropWhile을 구현하라.\n",
    "```scala\n",
    "def dropWhile[A](l: List[A], f: A => Boolean): List[A]\n",
    "```"
   ]
  },
  {
   "cell_type": "code",
   "execution_count": 7,
   "metadata": {},
   "outputs": [
    {
     "data": {
      "text/plain": [
       "defined \u001b[32mfunction\u001b[39m \u001b[36mdropWhile\u001b[39m"
      ]
     },
     "execution_count": 7,
     "metadata": {},
     "output_type": "execute_result"
    }
   ],
   "source": [
    "def dropWhile[A](l: List[A], f: A => Boolean): List[A] = l match {\n",
    "  case Nil => Nil\n",
    "  case Cons(h, t) if(f(h)) => dropWhile(t, f)\n",
    "  case _ => l\n",
    "}"
   ]
  },
  {
   "cell_type": "markdown",
   "metadata": {},
   "source": [
    "## 연습문제 3.6\n",
    "한 List의 마지막 요소를 제외한 모든 요소로 이루어진 List를 돌려주는 함수 init을 구현하라. 예를 들어 List(1,2,3,4)에 대해 init은 List(1,2,3)을 돌려주어야 한다. 이 함수를 tail처럼 상수 시간으로 구현할 수 없는 이유는 무엇일까?\n",
    "```scala\n",
    "def init[A](l: List[A]): List[A]\n",
    "```"
   ]
  },
  {
   "cell_type": "code",
   "execution_count": 8,
   "metadata": {},
   "outputs": [
    {
     "data": {
      "text/plain": [
       "defined \u001b[32mfunction\u001b[39m \u001b[36minit\u001b[39m"
      ]
     },
     "execution_count": 8,
     "metadata": {},
     "output_type": "execute_result"
    }
   ],
   "source": [
    "def init[A](l: List[A]): List[A] = l match {\n",
    "  case Cons(_, Nil) => Nil\n",
    "  case Cons(h, t) => Cons(h, init(t))\n",
    "}\n",
    "\n",
    "// 리스트의 첫 원소인 head는 바로 접근이 가능하지만\n",
    "// tail은 앞에서 부터 차례대로 접근해야하기 때문에 리스트의 길이만큼의 시간이 걸림"
   ]
  },
  {
   "cell_type": "markdown",
   "metadata": {},
   "source": [
    "------\n",
    "목록 3.2 'foldRight'함수와 간단한 용례"
   ]
  },
  {
   "cell_type": "code",
   "execution_count": 36,
   "metadata": {},
   "outputs": [
    {
     "data": {
      "text/plain": [
       "defined \u001b[32mfunction\u001b[39m \u001b[36mfoldRight\u001b[39m\n",
       "defined \u001b[32mfunction\u001b[39m \u001b[36msum2\u001b[39m\n",
       "defined \u001b[32mfunction\u001b[39m \u001b[36mproduct2\u001b[39m"
      ]
     },
     "execution_count": 36,
     "metadata": {},
     "output_type": "execute_result"
    }
   ],
   "source": [
    "def foldRight[A,B](as: List[A], z: B)(f: (A, B) => B): B = as match {\n",
    "  case Nil => z\n",
    "  case Cons(x, xs) => f(x, foldRight(xs, z)(f))\n",
    "}\n",
    "\n",
    "def sum2(ns: List[Int]) = \n",
    "  foldRight(ns, 0)(_ + _)\n",
    "\n",
    "def product2(ns: List[Double]) = \n",
    "  foldRight(ns, 1.0)(_ * _)"
   ]
  },
  {
   "cell_type": "markdown",
   "metadata": {},
   "source": [
    "## 연습문제 3.7\n",
    "foldRight로 구현된 product(목록 3.2의 product2)가 0.0을 만났을 떄 즉시 재귀를 멈추고 0.0을 돌려줄까? 왜 그럴까? 아니라면 왜 아닐까? foldRight를 긴 목록으로 호출했을 때 어떤 평가 단축이 어떤 식으로 일어나는지 고찰하라. 이는 다른 연습문제들보다 심오한 문제이며, 제5장에서 다시 살펴볼 것이다."
   ]
  },
  {
   "cell_type": "markdown",
   "metadata": {},
   "source": [
    "ans:\n",
    "\n",
    "안멈추고 끝까지 호출함. 구현된 함수에서 0.0에 대한 특별한 처리 로직이 없으므로 Nil이 나올떄까지 끝까지 호출된다."
   ]
  },
  {
   "cell_type": "markdown",
   "metadata": {},
   "source": [
    "## 연습문제 3.8\n",
    "`foldRight(List(1,2,3), Nil: List[Int])(Cons(_,_))`처럼 Nil과 Cons 자체를 foldRight에 전달하면 어떤 일이 발생할까? 이로부터, foldRight와 List의 자료 생성자들 사이의 관계에 관해 어떤 점을 알 수 있는가?"
   ]
  },
  {
   "cell_type": "markdown",
   "metadata": {},
   "source": [
    "ans: \n",
    "\n",
    "List(1,2,3)이 똑같이 나옴. foldRight로 펼쳐진 구조와 Cons로 표현된 리스트의 구조가 똑같음"
   ]
  },
  {
   "cell_type": "code",
   "execution_count": 10,
   "metadata": {},
   "outputs": [
    {
     "data": {
      "text/plain": [
       "\u001b[36mres9\u001b[39m: \u001b[32mList\u001b[39m[\u001b[32mInt\u001b[39m] = Cons(1,Cons(2,Cons(3,Nil)))"
      ]
     },
     "execution_count": 10,
     "metadata": {},
     "output_type": "execute_result"
    }
   ],
   "source": [
    "foldRight(List(1,2,3), Nil: List[Int])(Cons(_,_))"
   ]
  },
  {
   "cell_type": "markdown",
   "metadata": {},
   "source": [
    "## 연습문제 3.9\n",
    "foldRight를 이용해서 목록의 길이를 계산하라.\n",
    "```scala\n",
    "def length[A](as: List[A]): Int\n",
    "```"
   ]
  },
  {
   "cell_type": "code",
   "execution_count": 11,
   "metadata": {},
   "outputs": [
    {
     "data": {
      "text/plain": [
       "defined \u001b[32mfunction\u001b[39m \u001b[36mlength\u001b[39m"
      ]
     },
     "execution_count": 11,
     "metadata": {},
     "output_type": "execute_result"
    }
   ],
   "source": [
    "def length[A](as: List[A]): Int = \n",
    "  foldRight(as, 0)((_, acc) => 1 + acc)"
   ]
  },
  {
   "cell_type": "code",
   "execution_count": 12,
   "metadata": {},
   "outputs": [
    {
     "data": {
      "text/plain": [
       "\u001b[36mres11\u001b[39m: \u001b[32mInt\u001b[39m = \u001b[32m8\u001b[39m"
      ]
     },
     "execution_count": 12,
     "metadata": {},
     "output_type": "execute_result"
    }
   ],
   "source": [
    "length(List(1,2,2,3,2,2,2,2))"
   ]
  },
  {
   "cell_type": "markdown",
   "metadata": {},
   "source": [
    "## 연습문제 3.10\n",
    "이번 절의 foldRight 구현은 꼬리 재귀가 아니므로 긴 목록에 대해서는 StackOverflowError 오류가 발생한다(이를 \"스택에 안전[stack-safe]하지 않다\"라고 말한다). 실제로 그런지 실험해 보고, 꼬리 재귀적인 또 다른 일반적 목록 재귀 함수 foldLeft를 이전 장에서 논의한 기법들을 이용해서 작성하라. 서명은 다음과 같다.\n",
    "```scala\n",
    "def foldLeft[A,B](as: List[A], z: B)(f: (B, A) => B): B\n",
    "```"
   ]
  },
  {
   "cell_type": "code",
   "execution_count": 13,
   "metadata": {},
   "outputs": [
    {
     "ename": "",
     "evalue": "",
     "output_type": "error",
     "traceback": [
      "\u001b[31mjava.lang.StackOverflowError\u001b[39m",
      "  scala.collection.mutable.WrappedArrayBuilder.resize(\u001b[32mWrappedArrayBuilder.scala\u001b[39m:\u001b[32m53\u001b[39m)",
      "  scala.collection.mutable.WrappedArrayBuilder.sizeHint(\u001b[32mWrappedArrayBuilder.scala\u001b[39m:\u001b[32m58\u001b[39m)",
      "  scala.collection.IndexedSeqOptimized$class.slice(\u001b[32mIndexedSeqOptimized.scala\u001b[39m:\u001b[32m115\u001b[39m)",
      "  scala.collection.mutable.WrappedArray.slice(\u001b[32mWrappedArray.scala\u001b[39m:\u001b[32m35\u001b[39m)",
      "  scala.collection.IndexedSeqOptimized$class.tail(\u001b[32mIndexedSeqOptimized.scala\u001b[39m:\u001b[32m129\u001b[39m)",
      "  scala.collection.mutable.WrappedArray.tail(\u001b[32mWrappedArray.scala\u001b[39m:\u001b[32m35\u001b[39m)",
      "  $sess.cmd0Wrapper$Helper$List$.apply(\u001b[32mcmd0.sc\u001b[39m:\u001b[32m19\u001b[39m)",
      "  $sess.cmd0Wrapper$Helper$List$.apply(\u001b[32mcmd0.sc\u001b[39m:\u001b[32m19\u001b[39m)",
      "  $sess.cmd0Wrapper$Helper$List$.apply(\u001b[32mcmd0.sc\u001b[39m:\u001b[32m19\u001b[39m)",
      "  $sess.cmd0Wrapper$Helper$List$.apply(\u001b[32mcmd0.sc\u001b[39m:\u001b[32m19\u001b[39m)",
      "  $sess.cmd0Wrapper$Helper$List$.apply(\u001b[32mcmd0.sc\u001b[39m:\u001b[32m19\u001b[39m)",
      "  $sess.cmd0Wrapper$Helper$List$.apply(\u001b[32mcmd0.sc\u001b[39m:\u001b[32m19\u001b[39m)",
      "  $sess.cmd0Wrapper$Helper$List$.apply(\u001b[32mcmd0.sc\u001b[39m:\u001b[32m19\u001b[39m)",
      "  $sess.cmd0Wrapper$Helper$List$.apply(\u001b[32mcmd0.sc\u001b[39m:\u001b[32m19\u001b[39m)",
      "  $sess.cmd0Wrapper$Helper$List$.apply(\u001b[32mcmd0.sc\u001b[39m:\u001b[32m19\u001b[39m)",
      "  $sess.cmd0Wrapper$Helper$List$.apply(\u001b[32mcmd0.sc\u001b[39m:\u001b[32m19\u001b[39m)",
      "  $sess.cmd0Wrapper$Helper$List$.apply(\u001b[32mcmd0.sc\u001b[39m:\u001b[32m19\u001b[39m)",
      "  $sess.cmd0Wrapper$Helper$List$.apply(\u001b[32mcmd0.sc\u001b[39m:\u001b[32m19\u001b[39m)",
      "  $sess.cmd0Wrapper$Helper$List$.apply(\u001b[32mcmd0.sc\u001b[39m:\u001b[32m19\u001b[39m)",
      "  $sess.cmd0Wrapper$Helper$List$.apply(\u001b[32mcmd0.sc\u001b[39m:\u001b[32m19\u001b[39m)",
      "  $sess.cmd0Wrapper$Helper$List$.apply(\u001b[32mcmd0.sc\u001b[39m:\u001b[32m19\u001b[39m)",
      "  $sess.cmd0Wrapper$Helper$List$.apply(\u001b[32mcmd0.sc\u001b[39m:\u001b[32m19\u001b[39m)",
      "  $sess.cmd0Wrapper$Helper$List$.apply(\u001b[32mcmd0.sc\u001b[39m:\u001b[32m19\u001b[39m)",
      "  $sess.cmd0Wrapper$Helper$List$.apply(\u001b[32mcmd0.sc\u001b[39m:\u001b[32m19\u001b[39m)",
      "  $sess.cmd0Wrapper$Helper$List$.apply(\u001b[32mcmd0.sc\u001b[39m:\u001b[32m19\u001b[39m)",
      "  $sess.cmd0Wrapper$Helper$List$.apply(\u001b[32mcmd0.sc\u001b[39m:\u001b[32m19\u001b[39m)",
      "  $sess.cmd0Wrapper$Helper$List$.apply(\u001b[32mcmd0.sc\u001b[39m:\u001b[32m19\u001b[39m)",
      "  $sess.cmd0Wrapper$Helper$List$.apply(\u001b[32mcmd0.sc\u001b[39m:\u001b[32m19\u001b[39m)",
      "  $sess.cmd0Wrapper$Helper$List$.apply(\u001b[32mcmd0.sc\u001b[39m:\u001b[32m19\u001b[39m)",
      "  $sess.cmd0Wrapper$Helper$List$.apply(\u001b[32mcmd0.sc\u001b[39m:\u001b[32m19\u001b[39m)",
      "  $sess.cmd0Wrapper$Helper$List$.apply(\u001b[32mcmd0.sc\u001b[39m:\u001b[32m19\u001b[39m)",
      "  $sess.cmd0Wrapper$Helper$List$.apply(\u001b[32mcmd0.sc\u001b[39m:\u001b[32m19\u001b[39m)",
      "  $sess.cmd0Wrapper$Helper$List$.apply(\u001b[32mcmd0.sc\u001b[39m:\u001b[32m19\u001b[39m)",
      "  $sess.cmd0Wrapper$Helper$List$.apply(\u001b[32mcmd0.sc\u001b[39m:\u001b[32m19\u001b[39m)",
      "  $sess.cmd0Wrapper$Helper$List$.apply(\u001b[32mcmd0.sc\u001b[39m:\u001b[32m19\u001b[39m)",
      "  $sess.cmd0Wrapper$Helper$List$.apply(\u001b[32mcmd0.sc\u001b[39m:\u001b[32m19\u001b[39m)",
      "  $sess.cmd0Wrapper$Helper$List$.apply(\u001b[32mcmd0.sc\u001b[39m:\u001b[32m19\u001b[39m)",
      "  $sess.cmd0Wrapper$Helper$List$.apply(\u001b[32mcmd0.sc\u001b[39m:\u001b[32m19\u001b[39m)",
      "  $sess.cmd0Wrapper$Helper$List$.apply(\u001b[32mcmd0.sc\u001b[39m:\u001b[32m19\u001b[39m)",
      "  $sess.cmd0Wrapper$Helper$List$.apply(\u001b[32mcmd0.sc\u001b[39m:\u001b[32m19\u001b[39m)",
      "  $sess.cmd0Wrapper$Helper$List$.apply(\u001b[32mcmd0.sc\u001b[39m:\u001b[32m19\u001b[39m)",
      "  $sess.cmd0Wrapper$Helper$List$.apply(\u001b[32mcmd0.sc\u001b[39m:\u001b[32m19\u001b[39m)",
      "  $sess.cmd0Wrapper$Helper$List$.apply(\u001b[32mcmd0.sc\u001b[39m:\u001b[32m19\u001b[39m)",
      "  $sess.cmd0Wrapper$Helper$List$.apply(\u001b[32mcmd0.sc\u001b[39m:\u001b[32m19\u001b[39m)",
      "  $sess.cmd0Wrapper$Helper$List$.apply(\u001b[32mcmd0.sc\u001b[39m:\u001b[32m19\u001b[39m)",
      "  $sess.cmd0Wrapper$Helper$List$.apply(\u001b[32mcmd0.sc\u001b[39m:\u001b[32m19\u001b[39m)",
      "  $sess.cmd0Wrapper$Helper$List$.apply(\u001b[32mcmd0.sc\u001b[39m:\u001b[32m19\u001b[39m)",
      "  $sess.cmd0Wrapper$Helper$List$.apply(\u001b[32mcmd0.sc\u001b[39m:\u001b[32m19\u001b[39m)",
      "  $sess.cmd0Wrapper$Helper$List$.apply(\u001b[32mcmd0.sc\u001b[39m:\u001b[32m19\u001b[39m)",
      "  $sess.cmd0Wrapper$Helper$List$.apply(\u001b[32mcmd0.sc\u001b[39m:\u001b[32m19\u001b[39m)",
      "  $sess.cmd0Wrapper$Helper$List$.apply(\u001b[32mcmd0.sc\u001b[39m:\u001b[32m19\u001b[39m)",
      "  $sess.cmd0Wrapper$Helper$List$.apply(\u001b[32mcmd0.sc\u001b[39m:\u001b[32m19\u001b[39m)",
      "  $sess.cmd0Wrapper$Helper$List$.apply(\u001b[32mcmd0.sc\u001b[39m:\u001b[32m19\u001b[39m)",
      "  $sess.cmd0Wrapper$Helper$List$.apply(\u001b[32mcmd0.sc\u001b[39m:\u001b[32m19\u001b[39m)",
      "  $sess.cmd0Wrapper$Helper$List$.apply(\u001b[32mcmd0.sc\u001b[39m:\u001b[32m19\u001b[39m)",
      "  $sess.cmd0Wrapper$Helper$List$.apply(\u001b[32mcmd0.sc\u001b[39m:\u001b[32m19\u001b[39m)",
      "  $sess.cmd0Wrapper$Helper$List$.apply(\u001b[32mcmd0.sc\u001b[39m:\u001b[32m19\u001b[39m)",
      "  $sess.cmd0Wrapper$Helper$List$.apply(\u001b[32mcmd0.sc\u001b[39m:\u001b[32m19\u001b[39m)",
      "  $sess.cmd0Wrapper$Helper$List$.apply(\u001b[32mcmd0.sc\u001b[39m:\u001b[32m19\u001b[39m)",
      "  $sess.cmd0Wrapper$Helper$List$.apply(\u001b[32mcmd0.sc\u001b[39m:\u001b[32m19\u001b[39m)",
      "  $sess.cmd0Wrapper$Helper$List$.apply(\u001b[32mcmd0.sc\u001b[39m:\u001b[32m19\u001b[39m)",
      "  $sess.cmd0Wrapper$Helper$List$.apply(\u001b[32mcmd0.sc\u001b[39m:\u001b[32m19\u001b[39m)",
      "  $sess.cmd0Wrapper$Helper$List$.apply(\u001b[32mcmd0.sc\u001b[39m:\u001b[32m19\u001b[39m)",
      "  $sess.cmd0Wrapper$Helper$List$.apply(\u001b[32mcmd0.sc\u001b[39m:\u001b[32m19\u001b[39m)",
      "  $sess.cmd0Wrapper$Helper$List$.apply(\u001b[32mcmd0.sc\u001b[39m:\u001b[32m19\u001b[39m)",
      "  $sess.cmd0Wrapper$Helper$List$.apply(\u001b[32mcmd0.sc\u001b[39m:\u001b[32m19\u001b[39m)",
      "  $sess.cmd0Wrapper$Helper$List$.apply(\u001b[32mcmd0.sc\u001b[39m:\u001b[32m19\u001b[39m)",
      "  $sess.cmd0Wrapper$Helper$List$.apply(\u001b[32mcmd0.sc\u001b[39m:\u001b[32m19\u001b[39m)",
      "  $sess.cmd0Wrapper$Helper$List$.apply(\u001b[32mcmd0.sc\u001b[39m:\u001b[32m19\u001b[39m)",
      "  $sess.cmd0Wrapper$Helper$List$.apply(\u001b[32mcmd0.sc\u001b[39m:\u001b[32m19\u001b[39m)",
      "  $sess.cmd0Wrapper$Helper$List$.apply(\u001b[32mcmd0.sc\u001b[39m:\u001b[32m19\u001b[39m)",
      "  $sess.cmd0Wrapper$Helper$List$.apply(\u001b[32mcmd0.sc\u001b[39m:\u001b[32m19\u001b[39m)",
      "  $sess.cmd0Wrapper$Helper$List$.apply(\u001b[32mcmd0.sc\u001b[39m:\u001b[32m19\u001b[39m)",
      "  $sess.cmd0Wrapper$Helper$List$.apply(\u001b[32mcmd0.sc\u001b[39m:\u001b[32m19\u001b[39m)",
      "  $sess.cmd0Wrapper$Helper$List$.apply(\u001b[32mcmd0.sc\u001b[39m:\u001b[32m19\u001b[39m)",
      "  $sess.cmd0Wrapper$Helper$List$.apply(\u001b[32mcmd0.sc\u001b[39m:\u001b[32m19\u001b[39m)",
      "  $sess.cmd0Wrapper$Helper$List$.apply(\u001b[32mcmd0.sc\u001b[39m:\u001b[32m19\u001b[39m)",
      "  $sess.cmd0Wrapper$Helper$List$.apply(\u001b[32mcmd0.sc\u001b[39m:\u001b[32m19\u001b[39m)",
      "  $sess.cmd0Wrapper$Helper$List$.apply(\u001b[32mcmd0.sc\u001b[39m:\u001b[32m19\u001b[39m)",
      "  $sess.cmd0Wrapper$Helper$List$.apply(\u001b[32mcmd0.sc\u001b[39m:\u001b[32m19\u001b[39m)",
      "  $sess.cmd0Wrapper$Helper$List$.apply(\u001b[32mcmd0.sc\u001b[39m:\u001b[32m19\u001b[39m)",
      "  $sess.cmd0Wrapper$Helper$List$.apply(\u001b[32mcmd0.sc\u001b[39m:\u001b[32m19\u001b[39m)",
      "  $sess.cmd0Wrapper$Helper$List$.apply(\u001b[32mcmd0.sc\u001b[39m:\u001b[32m19\u001b[39m)",
      "  $sess.cmd0Wrapper$Helper$List$.apply(\u001b[32mcmd0.sc\u001b[39m:\u001b[32m19\u001b[39m)",
      "  $sess.cmd0Wrapper$Helper$List$.apply(\u001b[32mcmd0.sc\u001b[39m:\u001b[32m19\u001b[39m)",
      "  $sess.cmd0Wrapper$Helper$List$.apply(\u001b[32mcmd0.sc\u001b[39m:\u001b[32m19\u001b[39m)",
      "  $sess.cmd0Wrapper$Helper$List$.apply(\u001b[32mcmd0.sc\u001b[39m:\u001b[32m19\u001b[39m)",
      "  $sess.cmd0Wrapper$Helper$List$.apply(\u001b[32mcmd0.sc\u001b[39m:\u001b[32m19\u001b[39m)",
      "  $sess.cmd0Wrapper$Helper$List$.apply(\u001b[32mcmd0.sc\u001b[39m:\u001b[32m19\u001b[39m)",
      "  $sess.cmd0Wrapper$Helper$List$.apply(\u001b[32mcmd0.sc\u001b[39m:\u001b[32m19\u001b[39m)",
      "  $sess.cmd0Wrapper$Helper$List$.apply(\u001b[32mcmd0.sc\u001b[39m:\u001b[32m19\u001b[39m)",
      "  $sess.cmd0Wrapper$Helper$List$.apply(\u001b[32mcmd0.sc\u001b[39m:\u001b[32m19\u001b[39m)",
      "  $sess.cmd0Wrapper$Helper$List$.apply(\u001b[32mcmd0.sc\u001b[39m:\u001b[32m19\u001b[39m)",
      "  $sess.cmd0Wrapper$Helper$List$.apply(\u001b[32mcmd0.sc\u001b[39m:\u001b[32m19\u001b[39m)",
      "  $sess.cmd0Wrapper$Helper$List$.apply(\u001b[32mcmd0.sc\u001b[39m:\u001b[32m19\u001b[39m)",
      "  $sess.cmd0Wrapper$Helper$List$.apply(\u001b[32mcmd0.sc\u001b[39m:\u001b[32m19\u001b[39m)",
      "  $sess.cmd0Wrapper$Helper$List$.apply(\u001b[32mcmd0.sc\u001b[39m:\u001b[32m19\u001b[39m)",
      "  $sess.cmd0Wrapper$Helper$List$.apply(\u001b[32mcmd0.sc\u001b[39m:\u001b[32m19\u001b[39m)",
      "  $sess.cmd0Wrapper$Helper$List$.apply(\u001b[32mcmd0.sc\u001b[39m:\u001b[32m19\u001b[39m)",
      "  $sess.cmd0Wrapper$Helper$List$.apply(\u001b[32mcmd0.sc\u001b[39m:\u001b[32m19\u001b[39m)",
      "  $sess.cmd0Wrapper$Helper$List$.apply(\u001b[32mcmd0.sc\u001b[39m:\u001b[32m19\u001b[39m)",
      "  $sess.cmd0Wrapper$Helper$List$.apply(\u001b[32mcmd0.sc\u001b[39m:\u001b[32m19\u001b[39m)",
      "  $sess.cmd0Wrapper$Helper$List$.apply(\u001b[32mcmd0.sc\u001b[39m:\u001b[32m19\u001b[39m)",
      "  $sess.cmd0Wrapper$Helper$List$.apply(\u001b[32mcmd0.sc\u001b[39m:\u001b[32m19\u001b[39m)",
      "  $sess.cmd0Wrapper$Helper$List$.apply(\u001b[32mcmd0.sc\u001b[39m:\u001b[32m19\u001b[39m)",
      "  $sess.cmd0Wrapper$Helper$List$.apply(\u001b[32mcmd0.sc\u001b[39m:\u001b[32m19\u001b[39m)",
      "  $sess.cmd0Wrapper$Helper$List$.apply(\u001b[32mcmd0.sc\u001b[39m:\u001b[32m19\u001b[39m)",
      "  $sess.cmd0Wrapper$Helper$List$.apply(\u001b[32mcmd0.sc\u001b[39m:\u001b[32m19\u001b[39m)",
      "  $sess.cmd0Wrapper$Helper$List$.apply(\u001b[32mcmd0.sc\u001b[39m:\u001b[32m19\u001b[39m)",
      "  $sess.cmd0Wrapper$Helper$List$.apply(\u001b[32mcmd0.sc\u001b[39m:\u001b[32m19\u001b[39m)",
      "  $sess.cmd0Wrapper$Helper$List$.apply(\u001b[32mcmd0.sc\u001b[39m:\u001b[32m19\u001b[39m)",
      "  $sess.cmd0Wrapper$Helper$List$.apply(\u001b[32mcmd0.sc\u001b[39m:\u001b[32m19\u001b[39m)",
      "  $sess.cmd0Wrapper$Helper$List$.apply(\u001b[32mcmd0.sc\u001b[39m:\u001b[32m19\u001b[39m)",
      "  $sess.cmd0Wrapper$Helper$List$.apply(\u001b[32mcmd0.sc\u001b[39m:\u001b[32m19\u001b[39m)",
      "  $sess.cmd0Wrapper$Helper$List$.apply(\u001b[32mcmd0.sc\u001b[39m:\u001b[32m19\u001b[39m)",
      "  $sess.cmd0Wrapper$Helper$List$.apply(\u001b[32mcmd0.sc\u001b[39m:\u001b[32m19\u001b[39m)",
      "  $sess.cmd0Wrapper$Helper$List$.apply(\u001b[32mcmd0.sc\u001b[39m:\u001b[32m19\u001b[39m)",
      "  $sess.cmd0Wrapper$Helper$List$.apply(\u001b[32mcmd0.sc\u001b[39m:\u001b[32m19\u001b[39m)",
      "  $sess.cmd0Wrapper$Helper$List$.apply(\u001b[32mcmd0.sc\u001b[39m:\u001b[32m19\u001b[39m)",
      "  $sess.cmd0Wrapper$Helper$List$.apply(\u001b[32mcmd0.sc\u001b[39m:\u001b[32m19\u001b[39m)",
      "  $sess.cmd0Wrapper$Helper$List$.apply(\u001b[32mcmd0.sc\u001b[39m:\u001b[32m19\u001b[39m)",
      "  $sess.cmd0Wrapper$Helper$List$.apply(\u001b[32mcmd0.sc\u001b[39m:\u001b[32m19\u001b[39m)",
      "  $sess.cmd0Wrapper$Helper$List$.apply(\u001b[32mcmd0.sc\u001b[39m:\u001b[32m19\u001b[39m)",
      "  $sess.cmd0Wrapper$Helper$List$.apply(\u001b[32mcmd0.sc\u001b[39m:\u001b[32m19\u001b[39m)",
      "  $sess.cmd0Wrapper$Helper$List$.apply(\u001b[32mcmd0.sc\u001b[39m:\u001b[32m19\u001b[39m)",
      "  $sess.cmd0Wrapper$Helper$List$.apply(\u001b[32mcmd0.sc\u001b[39m:\u001b[32m19\u001b[39m)",
      "  $sess.cmd0Wrapper$Helper$List$.apply(\u001b[32mcmd0.sc\u001b[39m:\u001b[32m19\u001b[39m)",
      "  $sess.cmd0Wrapper$Helper$List$.apply(\u001b[32mcmd0.sc\u001b[39m:\u001b[32m19\u001b[39m)",
      "  $sess.cmd0Wrapper$Helper$List$.apply(\u001b[32mcmd0.sc\u001b[39m:\u001b[32m19\u001b[39m)",
      "  $sess.cmd0Wrapper$Helper$List$.apply(\u001b[32mcmd0.sc\u001b[39m:\u001b[32m19\u001b[39m)",
      "  $sess.cmd0Wrapper$Helper$List$.apply(\u001b[32mcmd0.sc\u001b[39m:\u001b[32m19\u001b[39m)",
      "  $sess.cmd0Wrapper$Helper$List$.apply(\u001b[32mcmd0.sc\u001b[39m:\u001b[32m19\u001b[39m)",
      "  $sess.cmd0Wrapper$Helper$List$.apply(\u001b[32mcmd0.sc\u001b[39m:\u001b[32m19\u001b[39m)",
      "  $sess.cmd0Wrapper$Helper$List$.apply(\u001b[32mcmd0.sc\u001b[39m:\u001b[32m19\u001b[39m)",
      "  $sess.cmd0Wrapper$Helper$List$.apply(\u001b[32mcmd0.sc\u001b[39m:\u001b[32m19\u001b[39m)",
      "  $sess.cmd0Wrapper$Helper$List$.apply(\u001b[32mcmd0.sc\u001b[39m:\u001b[32m19\u001b[39m)",
      "  $sess.cmd0Wrapper$Helper$List$.apply(\u001b[32mcmd0.sc\u001b[39m:\u001b[32m19\u001b[39m)",
      "  $sess.cmd0Wrapper$Helper$List$.apply(\u001b[32mcmd0.sc\u001b[39m:\u001b[32m19\u001b[39m)",
      "  $sess.cmd0Wrapper$Helper$List$.apply(\u001b[32mcmd0.sc\u001b[39m:\u001b[32m19\u001b[39m)",
      "  $sess.cmd0Wrapper$Helper$List$.apply(\u001b[32mcmd0.sc\u001b[39m:\u001b[32m19\u001b[39m)",
      "  $sess.cmd0Wrapper$Helper$List$.apply(\u001b[32mcmd0.sc\u001b[39m:\u001b[32m19\u001b[39m)",
      "  $sess.cmd0Wrapper$Helper$List$.apply(\u001b[32mcmd0.sc\u001b[39m:\u001b[32m19\u001b[39m)",
      "  $sess.cmd0Wrapper$Helper$List$.apply(\u001b[32mcmd0.sc\u001b[39m:\u001b[32m19\u001b[39m)",
      "  $sess.cmd0Wrapper$Helper$List$.apply(\u001b[32mcmd0.sc\u001b[39m:\u001b[32m19\u001b[39m)",
      "  $sess.cmd0Wrapper$Helper$List$.apply(\u001b[32mcmd0.sc\u001b[39m:\u001b[32m19\u001b[39m)",
      "  $sess.cmd0Wrapper$Helper$List$.apply(\u001b[32mcmd0.sc\u001b[39m:\u001b[32m19\u001b[39m)",
      "  $sess.cmd0Wrapper$Helper$List$.apply(\u001b[32mcmd0.sc\u001b[39m:\u001b[32m19\u001b[39m)",
      "  $sess.cmd0Wrapper$Helper$List$.apply(\u001b[32mcmd0.sc\u001b[39m:\u001b[32m19\u001b[39m)",
      "  $sess.cmd0Wrapper$Helper$List$.apply(\u001b[32mcmd0.sc\u001b[39m:\u001b[32m19\u001b[39m)",
      "  $sess.cmd0Wrapper$Helper$List$.apply(\u001b[32mcmd0.sc\u001b[39m:\u001b[32m19\u001b[39m)",
      "  $sess.cmd0Wrapper$Helper$List$.apply(\u001b[32mcmd0.sc\u001b[39m:\u001b[32m19\u001b[39m)",
      "  $sess.cmd0Wrapper$Helper$List$.apply(\u001b[32mcmd0.sc\u001b[39m:\u001b[32m19\u001b[39m)",
      "  $sess.cmd0Wrapper$Helper$List$.apply(\u001b[32mcmd0.sc\u001b[39m:\u001b[32m19\u001b[39m)",
      "  $sess.cmd0Wrapper$Helper$List$.apply(\u001b[32mcmd0.sc\u001b[39m:\u001b[32m19\u001b[39m)",
      "  $sess.cmd0Wrapper$Helper$List$.apply(\u001b[32mcmd0.sc\u001b[39m:\u001b[32m19\u001b[39m)",
      "  $sess.cmd0Wrapper$Helper$List$.apply(\u001b[32mcmd0.sc\u001b[39m:\u001b[32m19\u001b[39m)",
      "  $sess.cmd0Wrapper$Helper$List$.apply(\u001b[32mcmd0.sc\u001b[39m:\u001b[32m19\u001b[39m)",
      "  $sess.cmd0Wrapper$Helper$List$.apply(\u001b[32mcmd0.sc\u001b[39m:\u001b[32m19\u001b[39m)",
      "  $sess.cmd0Wrapper$Helper$List$.apply(\u001b[32mcmd0.sc\u001b[39m:\u001b[32m19\u001b[39m)",
      "  $sess.cmd0Wrapper$Helper$List$.apply(\u001b[32mcmd0.sc\u001b[39m:\u001b[32m19\u001b[39m)",
      "  $sess.cmd0Wrapper$Helper$List$.apply(\u001b[32mcmd0.sc\u001b[39m:\u001b[32m19\u001b[39m)",
      "  $sess.cmd0Wrapper$Helper$List$.apply(\u001b[32mcmd0.sc\u001b[39m:\u001b[32m19\u001b[39m)",
      "  $sess.cmd0Wrapper$Helper$List$.apply(\u001b[32mcmd0.sc\u001b[39m:\u001b[32m19\u001b[39m)",
      "  $sess.cmd0Wrapper$Helper$List$.apply(\u001b[32mcmd0.sc\u001b[39m:\u001b[32m19\u001b[39m)",
      "  $sess.cmd0Wrapper$Helper$List$.apply(\u001b[32mcmd0.sc\u001b[39m:\u001b[32m19\u001b[39m)",
      "  $sess.cmd0Wrapper$Helper$List$.apply(\u001b[32mcmd0.sc\u001b[39m:\u001b[32m19\u001b[39m)",
      "  $sess.cmd0Wrapper$Helper$List$.apply(\u001b[32mcmd0.sc\u001b[39m:\u001b[32m19\u001b[39m)",
      "  $sess.cmd0Wrapper$Helper$List$.apply(\u001b[32mcmd0.sc\u001b[39m:\u001b[32m19\u001b[39m)",
      "  $sess.cmd0Wrapper$Helper$List$.apply(\u001b[32mcmd0.sc\u001b[39m:\u001b[32m19\u001b[39m)",
      "  $sess.cmd0Wrapper$Helper$List$.apply(\u001b[32mcmd0.sc\u001b[39m:\u001b[32m19\u001b[39m)",
      "  $sess.cmd0Wrapper$Helper$List$.apply(\u001b[32mcmd0.sc\u001b[39m:\u001b[32m19\u001b[39m)",
      "  $sess.cmd0Wrapper$Helper$List$.apply(\u001b[32mcmd0.sc\u001b[39m:\u001b[32m19\u001b[39m)",
      "  $sess.cmd0Wrapper$Helper$List$.apply(\u001b[32mcmd0.sc\u001b[39m:\u001b[32m19\u001b[39m)",
      "  $sess.cmd0Wrapper$Helper$List$.apply(\u001b[32mcmd0.sc\u001b[39m:\u001b[32m19\u001b[39m)",
      "  $sess.cmd0Wrapper$Helper$List$.apply(\u001b[32mcmd0.sc\u001b[39m:\u001b[32m19\u001b[39m)",
      "  $sess.cmd0Wrapper$Helper$List$.apply(\u001b[32mcmd0.sc\u001b[39m:\u001b[32m19\u001b[39m)",
      "  $sess.cmd0Wrapper$Helper$List$.apply(\u001b[32mcmd0.sc\u001b[39m:\u001b[32m19\u001b[39m)",
      "  $sess.cmd0Wrapper$Helper$List$.apply(\u001b[32mcmd0.sc\u001b[39m:\u001b[32m19\u001b[39m)",
      "  $sess.cmd0Wrapper$Helper$List$.apply(\u001b[32mcmd0.sc\u001b[39m:\u001b[32m19\u001b[39m)",
      "  $sess.cmd0Wrapper$Helper$List$.apply(\u001b[32mcmd0.sc\u001b[39m:\u001b[32m19\u001b[39m)",
      "  $sess.cmd0Wrapper$Helper$List$.apply(\u001b[32mcmd0.sc\u001b[39m:\u001b[32m19\u001b[39m)",
      "  $sess.cmd0Wrapper$Helper$List$.apply(\u001b[32mcmd0.sc\u001b[39m:\u001b[32m19\u001b[39m)",
      "  $sess.cmd0Wrapper$Helper$List$.apply(\u001b[32mcmd0.sc\u001b[39m:\u001b[32m19\u001b[39m)",
      "  $sess.cmd0Wrapper$Helper$List$.apply(\u001b[32mcmd0.sc\u001b[39m:\u001b[32m19\u001b[39m)",
      "  $sess.cmd0Wrapper$Helper$List$.apply(\u001b[32mcmd0.sc\u001b[39m:\u001b[32m19\u001b[39m)",
      "  $sess.cmd0Wrapper$Helper$List$.apply(\u001b[32mcmd0.sc\u001b[39m:\u001b[32m19\u001b[39m)",
      "  $sess.cmd0Wrapper$Helper$List$.apply(\u001b[32mcmd0.sc\u001b[39m:\u001b[32m19\u001b[39m)",
      "  $sess.cmd0Wrapper$Helper$List$.apply(\u001b[32mcmd0.sc\u001b[39m:\u001b[32m19\u001b[39m)",
      "  $sess.cmd0Wrapper$Helper$List$.apply(\u001b[32mcmd0.sc\u001b[39m:\u001b[32m19\u001b[39m)",
      "  $sess.cmd0Wrapper$Helper$List$.apply(\u001b[32mcmd0.sc\u001b[39m:\u001b[32m19\u001b[39m)",
      "  $sess.cmd0Wrapper$Helper$List$.apply(\u001b[32mcmd0.sc\u001b[39m:\u001b[32m19\u001b[39m)",
      "  $sess.cmd0Wrapper$Helper$List$.apply(\u001b[32mcmd0.sc\u001b[39m:\u001b[32m19\u001b[39m)",
      "  $sess.cmd0Wrapper$Helper$List$.apply(\u001b[32mcmd0.sc\u001b[39m:\u001b[32m19\u001b[39m)",
      "  $sess.cmd0Wrapper$Helper$List$.apply(\u001b[32mcmd0.sc\u001b[39m:\u001b[32m19\u001b[39m)",
      "  $sess.cmd0Wrapper$Helper$List$.apply(\u001b[32mcmd0.sc\u001b[39m:\u001b[32m19\u001b[39m)",
      "  $sess.cmd0Wrapper$Helper$List$.apply(\u001b[32mcmd0.sc\u001b[39m:\u001b[32m19\u001b[39m)",
      "  $sess.cmd0Wrapper$Helper$List$.apply(\u001b[32mcmd0.sc\u001b[39m:\u001b[32m19\u001b[39m)",
      "  $sess.cmd0Wrapper$Helper$List$.apply(\u001b[32mcmd0.sc\u001b[39m:\u001b[32m19\u001b[39m)",
      "  $sess.cmd0Wrapper$Helper$List$.apply(\u001b[32mcmd0.sc\u001b[39m:\u001b[32m19\u001b[39m)",
      "  $sess.cmd0Wrapper$Helper$List$.apply(\u001b[32mcmd0.sc\u001b[39m:\u001b[32m19\u001b[39m)",
      "  $sess.cmd0Wrapper$Helper$List$.apply(\u001b[32mcmd0.sc\u001b[39m:\u001b[32m19\u001b[39m)",
      "  $sess.cmd0Wrapper$Helper$List$.apply(\u001b[32mcmd0.sc\u001b[39m:\u001b[32m19\u001b[39m)",
      "  $sess.cmd0Wrapper$Helper$List$.apply(\u001b[32mcmd0.sc\u001b[39m:\u001b[32m19\u001b[39m)",
      "  $sess.cmd0Wrapper$Helper$List$.apply(\u001b[32mcmd0.sc\u001b[39m:\u001b[32m19\u001b[39m)",
      "  $sess.cmd0Wrapper$Helper$List$.apply(\u001b[32mcmd0.sc\u001b[39m:\u001b[32m19\u001b[39m)",
      "  $sess.cmd0Wrapper$Helper$List$.apply(\u001b[32mcmd0.sc\u001b[39m:\u001b[32m19\u001b[39m)",
      "  $sess.cmd0Wrapper$Helper$List$.apply(\u001b[32mcmd0.sc\u001b[39m:\u001b[32m19\u001b[39m)",
      "  $sess.cmd0Wrapper$Helper$List$.apply(\u001b[32mcmd0.sc\u001b[39m:\u001b[32m19\u001b[39m)",
      "  $sess.cmd0Wrapper$Helper$List$.apply(\u001b[32mcmd0.sc\u001b[39m:\u001b[32m19\u001b[39m)",
      "  $sess.cmd0Wrapper$Helper$List$.apply(\u001b[32mcmd0.sc\u001b[39m:\u001b[32m19\u001b[39m)",
      "  $sess.cmd0Wrapper$Helper$List$.apply(\u001b[32mcmd0.sc\u001b[39m:\u001b[32m19\u001b[39m)",
      "  $sess.cmd0Wrapper$Helper$List$.apply(\u001b[32mcmd0.sc\u001b[39m:\u001b[32m19\u001b[39m)",
      "  $sess.cmd0Wrapper$Helper$List$.apply(\u001b[32mcmd0.sc\u001b[39m:\u001b[32m19\u001b[39m)",
      "  $sess.cmd0Wrapper$Helper$List$.apply(\u001b[32mcmd0.sc\u001b[39m:\u001b[32m19\u001b[39m)",
      "  $sess.cmd0Wrapper$Helper$List$.apply(\u001b[32mcmd0.sc\u001b[39m:\u001b[32m19\u001b[39m)",
      "  $sess.cmd0Wrapper$Helper$List$.apply(\u001b[32mcmd0.sc\u001b[39m:\u001b[32m19\u001b[39m)",
      "  $sess.cmd0Wrapper$Helper$List$.apply(\u001b[32mcmd0.sc\u001b[39m:\u001b[32m19\u001b[39m)",
      "  $sess.cmd0Wrapper$Helper$List$.apply(\u001b[32mcmd0.sc\u001b[39m:\u001b[32m19\u001b[39m)",
      "  $sess.cmd0Wrapper$Helper$List$.apply(\u001b[32mcmd0.sc\u001b[39m:\u001b[32m19\u001b[39m)",
      "  $sess.cmd0Wrapper$Helper$List$.apply(\u001b[32mcmd0.sc\u001b[39m:\u001b[32m19\u001b[39m)",
      "  $sess.cmd0Wrapper$Helper$List$.apply(\u001b[32mcmd0.sc\u001b[39m:\u001b[32m19\u001b[39m)",
      "  $sess.cmd0Wrapper$Helper$List$.apply(\u001b[32mcmd0.sc\u001b[39m:\u001b[32m19\u001b[39m)",
      "  $sess.cmd0Wrapper$Helper$List$.apply(\u001b[32mcmd0.sc\u001b[39m:\u001b[32m19\u001b[39m)",
      "  $sess.cmd0Wrapper$Helper$List$.apply(\u001b[32mcmd0.sc\u001b[39m:\u001b[32m19\u001b[39m)",
      "  $sess.cmd0Wrapper$Helper$List$.apply(\u001b[32mcmd0.sc\u001b[39m:\u001b[32m19\u001b[39m)",
      "  $sess.cmd0Wrapper$Helper$List$.apply(\u001b[32mcmd0.sc\u001b[39m:\u001b[32m19\u001b[39m)",
      "  $sess.cmd0Wrapper$Helper$List$.apply(\u001b[32mcmd0.sc\u001b[39m:\u001b[32m19\u001b[39m)",
      "  $sess.cmd0Wrapper$Helper$List$.apply(\u001b[32mcmd0.sc\u001b[39m:\u001b[32m19\u001b[39m)",
      "  $sess.cmd0Wrapper$Helper$List$.apply(\u001b[32mcmd0.sc\u001b[39m:\u001b[32m19\u001b[39m)",
      "  $sess.cmd0Wrapper$Helper$List$.apply(\u001b[32mcmd0.sc\u001b[39m:\u001b[32m19\u001b[39m)",
      "  $sess.cmd0Wrapper$Helper$List$.apply(\u001b[32mcmd0.sc\u001b[39m:\u001b[32m19\u001b[39m)",
      "  $sess.cmd0Wrapper$Helper$List$.apply(\u001b[32mcmd0.sc\u001b[39m:\u001b[32m19\u001b[39m)",
      "  $sess.cmd0Wrapper$Helper$List$.apply(\u001b[32mcmd0.sc\u001b[39m:\u001b[32m19\u001b[39m)",
      "  $sess.cmd0Wrapper$Helper$List$.apply(\u001b[32mcmd0.sc\u001b[39m:\u001b[32m19\u001b[39m)",
      "  $sess.cmd0Wrapper$Helper$List$.apply(\u001b[32mcmd0.sc\u001b[39m:\u001b[32m19\u001b[39m)",
      "  $sess.cmd0Wrapper$Helper$List$.apply(\u001b[32mcmd0.sc\u001b[39m:\u001b[32m19\u001b[39m)",
      "  $sess.cmd0Wrapper$Helper$List$.apply(\u001b[32mcmd0.sc\u001b[39m:\u001b[32m19\u001b[39m)",
      "  $sess.cmd0Wrapper$Helper$List$.apply(\u001b[32mcmd0.sc\u001b[39m:\u001b[32m19\u001b[39m)",
      "  $sess.cmd0Wrapper$Helper$List$.apply(\u001b[32mcmd0.sc\u001b[39m:\u001b[32m19\u001b[39m)",
      "  $sess.cmd0Wrapper$Helper$List$.apply(\u001b[32mcmd0.sc\u001b[39m:\u001b[32m19\u001b[39m)",
      "  $sess.cmd0Wrapper$Helper$List$.apply(\u001b[32mcmd0.sc\u001b[39m:\u001b[32m19\u001b[39m)",
      "  $sess.cmd0Wrapper$Helper$List$.apply(\u001b[32mcmd0.sc\u001b[39m:\u001b[32m19\u001b[39m)",
      "  $sess.cmd0Wrapper$Helper$List$.apply(\u001b[32mcmd0.sc\u001b[39m:\u001b[32m19\u001b[39m)",
      "  $sess.cmd0Wrapper$Helper$List$.apply(\u001b[32mcmd0.sc\u001b[39m:\u001b[32m19\u001b[39m)",
      "  $sess.cmd0Wrapper$Helper$List$.apply(\u001b[32mcmd0.sc\u001b[39m:\u001b[32m19\u001b[39m)",
      "  $sess.cmd0Wrapper$Helper$List$.apply(\u001b[32mcmd0.sc\u001b[39m:\u001b[32m19\u001b[39m)",
      "  $sess.cmd0Wrapper$Helper$List$.apply(\u001b[32mcmd0.sc\u001b[39m:\u001b[32m19\u001b[39m)",
      "  $sess.cmd0Wrapper$Helper$List$.apply(\u001b[32mcmd0.sc\u001b[39m:\u001b[32m19\u001b[39m)",
      "  $sess.cmd0Wrapper$Helper$List$.apply(\u001b[32mcmd0.sc\u001b[39m:\u001b[32m19\u001b[39m)",
      "  $sess.cmd0Wrapper$Helper$List$.apply(\u001b[32mcmd0.sc\u001b[39m:\u001b[32m19\u001b[39m)",
      "  $sess.cmd0Wrapper$Helper$List$.apply(\u001b[32mcmd0.sc\u001b[39m:\u001b[32m19\u001b[39m)",
      "  $sess.cmd0Wrapper$Helper$List$.apply(\u001b[32mcmd0.sc\u001b[39m:\u001b[32m19\u001b[39m)",
      "  $sess.cmd0Wrapper$Helper$List$.apply(\u001b[32mcmd0.sc\u001b[39m:\u001b[32m19\u001b[39m)",
      "  $sess.cmd0Wrapper$Helper$List$.apply(\u001b[32mcmd0.sc\u001b[39m:\u001b[32m19\u001b[39m)",
      "  $sess.cmd0Wrapper$Helper$List$.apply(\u001b[32mcmd0.sc\u001b[39m:\u001b[32m19\u001b[39m)",
      "  $sess.cmd0Wrapper$Helper$List$.apply(\u001b[32mcmd0.sc\u001b[39m:\u001b[32m19\u001b[39m)",
      "  $sess.cmd0Wrapper$Helper$List$.apply(\u001b[32mcmd0.sc\u001b[39m:\u001b[32m19\u001b[39m)",
      "  $sess.cmd0Wrapper$Helper$List$.apply(\u001b[32mcmd0.sc\u001b[39m:\u001b[32m19\u001b[39m)",
      "  $sess.cmd0Wrapper$Helper$List$.apply(\u001b[32mcmd0.sc\u001b[39m:\u001b[32m19\u001b[39m)",
      "  $sess.cmd0Wrapper$Helper$List$.apply(\u001b[32mcmd0.sc\u001b[39m:\u001b[32m19\u001b[39m)",
      "  $sess.cmd0Wrapper$Helper$List$.apply(\u001b[32mcmd0.sc\u001b[39m:\u001b[32m19\u001b[39m)",
      "  $sess.cmd0Wrapper$Helper$List$.apply(\u001b[32mcmd0.sc\u001b[39m:\u001b[32m19\u001b[39m)",
      "  $sess.cmd0Wrapper$Helper$List$.apply(\u001b[32mcmd0.sc\u001b[39m:\u001b[32m19\u001b[39m)",
      "  $sess.cmd0Wrapper$Helper$List$.apply(\u001b[32mcmd0.sc\u001b[39m:\u001b[32m19\u001b[39m)",
      "  $sess.cmd0Wrapper$Helper$List$.apply(\u001b[32mcmd0.sc\u001b[39m:\u001b[32m19\u001b[39m)",
      "  $sess.cmd0Wrapper$Helper$List$.apply(\u001b[32mcmd0.sc\u001b[39m:\u001b[32m19\u001b[39m)",
      "  $sess.cmd0Wrapper$Helper$List$.apply(\u001b[32mcmd0.sc\u001b[39m:\u001b[32m19\u001b[39m)",
      "  $sess.cmd0Wrapper$Helper$List$.apply(\u001b[32mcmd0.sc\u001b[39m:\u001b[32m19\u001b[39m)",
      "  $sess.cmd0Wrapper$Helper$List$.apply(\u001b[32mcmd0.sc\u001b[39m:\u001b[32m19\u001b[39m)",
      "  $sess.cmd0Wrapper$Helper$List$.apply(\u001b[32mcmd0.sc\u001b[39m:\u001b[32m19\u001b[39m)",
      "  $sess.cmd0Wrapper$Helper$List$.apply(\u001b[32mcmd0.sc\u001b[39m:\u001b[32m19\u001b[39m)",
      "  $sess.cmd0Wrapper$Helper$List$.apply(\u001b[32mcmd0.sc\u001b[39m:\u001b[32m19\u001b[39m)",
      "  $sess.cmd0Wrapper$Helper$List$.apply(\u001b[32mcmd0.sc\u001b[39m:\u001b[32m19\u001b[39m)",
      "  $sess.cmd0Wrapper$Helper$List$.apply(\u001b[32mcmd0.sc\u001b[39m:\u001b[32m19\u001b[39m)",
      "  $sess.cmd0Wrapper$Helper$List$.apply(\u001b[32mcmd0.sc\u001b[39m:\u001b[32m19\u001b[39m)",
      "  $sess.cmd0Wrapper$Helper$List$.apply(\u001b[32mcmd0.sc\u001b[39m:\u001b[32m19\u001b[39m)",
      "  $sess.cmd0Wrapper$Helper$List$.apply(\u001b[32mcmd0.sc\u001b[39m:\u001b[32m19\u001b[39m)",
      "  $sess.cmd0Wrapper$Helper$List$.apply(\u001b[32mcmd0.sc\u001b[39m:\u001b[32m19\u001b[39m)",
      "  $sess.cmd0Wrapper$Helper$List$.apply(\u001b[32mcmd0.sc\u001b[39m:\u001b[32m19\u001b[39m)",
      "  $sess.cmd0Wrapper$Helper$List$.apply(\u001b[32mcmd0.sc\u001b[39m:\u001b[32m19\u001b[39m)",
      "  $sess.cmd0Wrapper$Helper$List$.apply(\u001b[32mcmd0.sc\u001b[39m:\u001b[32m19\u001b[39m)",
      "  $sess.cmd0Wrapper$Helper$List$.apply(\u001b[32mcmd0.sc\u001b[39m:\u001b[32m19\u001b[39m)",
      "  $sess.cmd0Wrapper$Helper$List$.apply(\u001b[32mcmd0.sc\u001b[39m:\u001b[32m19\u001b[39m)",
      "  $sess.cmd0Wrapper$Helper$List$.apply(\u001b[32mcmd0.sc\u001b[39m:\u001b[32m19\u001b[39m)",
      "  $sess.cmd0Wrapper$Helper$List$.apply(\u001b[32mcmd0.sc\u001b[39m:\u001b[32m19\u001b[39m)",
      "  $sess.cmd0Wrapper$Helper$List$.apply(\u001b[32mcmd0.sc\u001b[39m:\u001b[32m19\u001b[39m)",
      "  $sess.cmd0Wrapper$Helper$List$.apply(\u001b[32mcmd0.sc\u001b[39m:\u001b[32m19\u001b[39m)",
      "  $sess.cmd0Wrapper$Helper$List$.apply(\u001b[32mcmd0.sc\u001b[39m:\u001b[32m19\u001b[39m)",
      "  $sess.cmd0Wrapper$Helper$List$.apply(\u001b[32mcmd0.sc\u001b[39m:\u001b[32m19\u001b[39m)",
      "  $sess.cmd0Wrapper$Helper$List$.apply(\u001b[32mcmd0.sc\u001b[39m:\u001b[32m19\u001b[39m)",
      "  $sess.cmd0Wrapper$Helper$List$.apply(\u001b[32mcmd0.sc\u001b[39m:\u001b[32m19\u001b[39m)",
      "  $sess.cmd0Wrapper$Helper$List$.apply(\u001b[32mcmd0.sc\u001b[39m:\u001b[32m19\u001b[39m)",
      "  $sess.cmd0Wrapper$Helper$List$.apply(\u001b[32mcmd0.sc\u001b[39m:\u001b[32m19\u001b[39m)",
      "  $sess.cmd0Wrapper$Helper$List$.apply(\u001b[32mcmd0.sc\u001b[39m:\u001b[32m19\u001b[39m)",
      "  $sess.cmd0Wrapper$Helper$List$.apply(\u001b[32mcmd0.sc\u001b[39m:\u001b[32m19\u001b[39m)",
      "  $sess.cmd0Wrapper$Helper$List$.apply(\u001b[32mcmd0.sc\u001b[39m:\u001b[32m19\u001b[39m)",
      "  $sess.cmd0Wrapper$Helper$List$.apply(\u001b[32mcmd0.sc\u001b[39m:\u001b[32m19\u001b[39m)",
      "  $sess.cmd0Wrapper$Helper$List$.apply(\u001b[32mcmd0.sc\u001b[39m:\u001b[32m19\u001b[39m)",
      "  $sess.cmd0Wrapper$Helper$List$.apply(\u001b[32mcmd0.sc\u001b[39m:\u001b[32m19\u001b[39m)",
      "  $sess.cmd0Wrapper$Helper$List$.apply(\u001b[32mcmd0.sc\u001b[39m:\u001b[32m19\u001b[39m)",
      "  $sess.cmd0Wrapper$Helper$List$.apply(\u001b[32mcmd0.sc\u001b[39m:\u001b[32m19\u001b[39m)",
      "  $sess.cmd0Wrapper$Helper$List$.apply(\u001b[32mcmd0.sc\u001b[39m:\u001b[32m19\u001b[39m)",
      "  $sess.cmd0Wrapper$Helper$List$.apply(\u001b[32mcmd0.sc\u001b[39m:\u001b[32m19\u001b[39m)",
      "  $sess.cmd0Wrapper$Helper$List$.apply(\u001b[32mcmd0.sc\u001b[39m:\u001b[32m19\u001b[39m)",
      "  $sess.cmd0Wrapper$Helper$List$.apply(\u001b[32mcmd0.sc\u001b[39m:\u001b[32m19\u001b[39m)",
      "  $sess.cmd0Wrapper$Helper$List$.apply(\u001b[32mcmd0.sc\u001b[39m:\u001b[32m19\u001b[39m)",
      "  $sess.cmd0Wrapper$Helper$List$.apply(\u001b[32mcmd0.sc\u001b[39m:\u001b[32m19\u001b[39m)",
      "  $sess.cmd0Wrapper$Helper$List$.apply(\u001b[32mcmd0.sc\u001b[39m:\u001b[32m19\u001b[39m)",
      "  $sess.cmd0Wrapper$Helper$List$.apply(\u001b[32mcmd0.sc\u001b[39m:\u001b[32m19\u001b[39m)",
      "  $sess.cmd0Wrapper$Helper$List$.apply(\u001b[32mcmd0.sc\u001b[39m:\u001b[32m19\u001b[39m)",
      "  $sess.cmd0Wrapper$Helper$List$.apply(\u001b[32mcmd0.sc\u001b[39m:\u001b[32m19\u001b[39m)",
      "  $sess.cmd0Wrapper$Helper$List$.apply(\u001b[32mcmd0.sc\u001b[39m:\u001b[32m19\u001b[39m)",
      "  $sess.cmd0Wrapper$Helper$List$.apply(\u001b[32mcmd0.sc\u001b[39m:\u001b[32m19\u001b[39m)",
      "  $sess.cmd0Wrapper$Helper$List$.apply(\u001b[32mcmd0.sc\u001b[39m:\u001b[32m19\u001b[39m)",
      "  $sess.cmd0Wrapper$Helper$List$.apply(\u001b[32mcmd0.sc\u001b[39m:\u001b[32m19\u001b[39m)",
      "  $sess.cmd0Wrapper$Helper$List$.apply(\u001b[32mcmd0.sc\u001b[39m:\u001b[32m19\u001b[39m)",
      "  $sess.cmd0Wrapper$Helper$List$.apply(\u001b[32mcmd0.sc\u001b[39m:\u001b[32m19\u001b[39m)",
      "  $sess.cmd0Wrapper$Helper$List$.apply(\u001b[32mcmd0.sc\u001b[39m:\u001b[32m19\u001b[39m)",
      "  $sess.cmd0Wrapper$Helper$List$.apply(\u001b[32mcmd0.sc\u001b[39m:\u001b[32m19\u001b[39m)",
      "  $sess.cmd0Wrapper$Helper$List$.apply(\u001b[32mcmd0.sc\u001b[39m:\u001b[32m19\u001b[39m)",
      "  $sess.cmd0Wrapper$Helper$List$.apply(\u001b[32mcmd0.sc\u001b[39m:\u001b[32m19\u001b[39m)",
      "  $sess.cmd0Wrapper$Helper$List$.apply(\u001b[32mcmd0.sc\u001b[39m:\u001b[32m19\u001b[39m)",
      "  $sess.cmd0Wrapper$Helper$List$.apply(\u001b[32mcmd0.sc\u001b[39m:\u001b[32m19\u001b[39m)",
      "  $sess.cmd0Wrapper$Helper$List$.apply(\u001b[32mcmd0.sc\u001b[39m:\u001b[32m19\u001b[39m)",
      "  $sess.cmd0Wrapper$Helper$List$.apply(\u001b[32mcmd0.sc\u001b[39m:\u001b[32m19\u001b[39m)",
      "  $sess.cmd0Wrapper$Helper$List$.apply(\u001b[32mcmd0.sc\u001b[39m:\u001b[32m19\u001b[39m)",
      "  $sess.cmd0Wrapper$Helper$List$.apply(\u001b[32mcmd0.sc\u001b[39m:\u001b[32m19\u001b[39m)",
      "  $sess.cmd0Wrapper$Helper$List$.apply(\u001b[32mcmd0.sc\u001b[39m:\u001b[32m19\u001b[39m)",
      "  $sess.cmd0Wrapper$Helper$List$.apply(\u001b[32mcmd0.sc\u001b[39m:\u001b[32m19\u001b[39m)",
      "  $sess.cmd0Wrapper$Helper$List$.apply(\u001b[32mcmd0.sc\u001b[39m:\u001b[32m19\u001b[39m)",
      "  $sess.cmd0Wrapper$Helper$List$.apply(\u001b[32mcmd0.sc\u001b[39m:\u001b[32m19\u001b[39m)",
      "  $sess.cmd0Wrapper$Helper$List$.apply(\u001b[32mcmd0.sc\u001b[39m:\u001b[32m19\u001b[39m)",
      "  $sess.cmd0Wrapper$Helper$List$.apply(\u001b[32mcmd0.sc\u001b[39m:\u001b[32m19\u001b[39m)",
      "  $sess.cmd0Wrapper$Helper$List$.apply(\u001b[32mcmd0.sc\u001b[39m:\u001b[32m19\u001b[39m)",
      "  $sess.cmd0Wrapper$Helper$List$.apply(\u001b[32mcmd0.sc\u001b[39m:\u001b[32m19\u001b[39m)",
      "  $sess.cmd0Wrapper$Helper$List$.apply(\u001b[32mcmd0.sc\u001b[39m:\u001b[32m19\u001b[39m)",
      "  $sess.cmd0Wrapper$Helper$List$.apply(\u001b[32mcmd0.sc\u001b[39m:\u001b[32m19\u001b[39m)",
      "  $sess.cmd0Wrapper$Helper$List$.apply(\u001b[32mcmd0.sc\u001b[39m:\u001b[32m19\u001b[39m)",
      "  $sess.cmd0Wrapper$Helper$List$.apply(\u001b[32mcmd0.sc\u001b[39m:\u001b[32m19\u001b[39m)",
      "  $sess.cmd0Wrapper$Helper$List$.apply(\u001b[32mcmd0.sc\u001b[39m:\u001b[32m19\u001b[39m)",
      "  $sess.cmd0Wrapper$Helper$List$.apply(\u001b[32mcmd0.sc\u001b[39m:\u001b[32m19\u001b[39m)",
      "  $sess.cmd0Wrapper$Helper$List$.apply(\u001b[32mcmd0.sc\u001b[39m:\u001b[32m19\u001b[39m)",
      "  $sess.cmd0Wrapper$Helper$List$.apply(\u001b[32mcmd0.sc\u001b[39m:\u001b[32m19\u001b[39m)",
      "  $sess.cmd0Wrapper$Helper$List$.apply(\u001b[32mcmd0.sc\u001b[39m:\u001b[32m19\u001b[39m)",
      "  $sess.cmd0Wrapper$Helper$List$.apply(\u001b[32mcmd0.sc\u001b[39m:\u001b[32m19\u001b[39m)",
      "  $sess.cmd0Wrapper$Helper$List$.apply(\u001b[32mcmd0.sc\u001b[39m:\u001b[32m19\u001b[39m)",
      "  $sess.cmd0Wrapper$Helper$List$.apply(\u001b[32mcmd0.sc\u001b[39m:\u001b[32m19\u001b[39m)",
      "  $sess.cmd0Wrapper$Helper$List$.apply(\u001b[32mcmd0.sc\u001b[39m:\u001b[32m19\u001b[39m)",
      "  $sess.cmd0Wrapper$Helper$List$.apply(\u001b[32mcmd0.sc\u001b[39m:\u001b[32m19\u001b[39m)",
      "  $sess.cmd0Wrapper$Helper$List$.apply(\u001b[32mcmd0.sc\u001b[39m:\u001b[32m19\u001b[39m)",
      "  $sess.cmd0Wrapper$Helper$List$.apply(\u001b[32mcmd0.sc\u001b[39m:\u001b[32m19\u001b[39m)",
      "  $sess.cmd0Wrapper$Helper$List$.apply(\u001b[32mcmd0.sc\u001b[39m:\u001b[32m19\u001b[39m)",
      "  $sess.cmd0Wrapper$Helper$List$.apply(\u001b[32mcmd0.sc\u001b[39m:\u001b[32m19\u001b[39m)",
      "  $sess.cmd0Wrapper$Helper$List$.apply(\u001b[32mcmd0.sc\u001b[39m:\u001b[32m19\u001b[39m)",
      "  $sess.cmd0Wrapper$Helper$List$.apply(\u001b[32mcmd0.sc\u001b[39m:\u001b[32m19\u001b[39m)",
      "  $sess.cmd0Wrapper$Helper$List$.apply(\u001b[32mcmd0.sc\u001b[39m:\u001b[32m19\u001b[39m)",
      "  $sess.cmd0Wrapper$Helper$List$.apply(\u001b[32mcmd0.sc\u001b[39m:\u001b[32m19\u001b[39m)",
      "  $sess.cmd0Wrapper$Helper$List$.apply(\u001b[32mcmd0.sc\u001b[39m:\u001b[32m19\u001b[39m)",
      "  $sess.cmd0Wrapper$Helper$List$.apply(\u001b[32mcmd0.sc\u001b[39m:\u001b[32m19\u001b[39m)",
      "  $sess.cmd0Wrapper$Helper$List$.apply(\u001b[32mcmd0.sc\u001b[39m:\u001b[32m19\u001b[39m)",
      "  $sess.cmd0Wrapper$Helper$List$.apply(\u001b[32mcmd0.sc\u001b[39m:\u001b[32m19\u001b[39m)",
      "  $sess.cmd0Wrapper$Helper$List$.apply(\u001b[32mcmd0.sc\u001b[39m:\u001b[32m19\u001b[39m)",
      "  $sess.cmd0Wrapper$Helper$List$.apply(\u001b[32mcmd0.sc\u001b[39m:\u001b[32m19\u001b[39m)",
      "  $sess.cmd0Wrapper$Helper$List$.apply(\u001b[32mcmd0.sc\u001b[39m:\u001b[32m19\u001b[39m)",
      "  $sess.cmd0Wrapper$Helper$List$.apply(\u001b[32mcmd0.sc\u001b[39m:\u001b[32m19\u001b[39m)",
      "  $sess.cmd0Wrapper$Helper$List$.apply(\u001b[32mcmd0.sc\u001b[39m:\u001b[32m19\u001b[39m)",
      "  $sess.cmd0Wrapper$Helper$List$.apply(\u001b[32mcmd0.sc\u001b[39m:\u001b[32m19\u001b[39m)",
      "  $sess.cmd0Wrapper$Helper$List$.apply(\u001b[32mcmd0.sc\u001b[39m:\u001b[32m19\u001b[39m)",
      "  $sess.cmd0Wrapper$Helper$List$.apply(\u001b[32mcmd0.sc\u001b[39m:\u001b[32m19\u001b[39m)",
      "  $sess.cmd0Wrapper$Helper$List$.apply(\u001b[32mcmd0.sc\u001b[39m:\u001b[32m19\u001b[39m)",
      "  $sess.cmd0Wrapper$Helper$List$.apply(\u001b[32mcmd0.sc\u001b[39m:\u001b[32m19\u001b[39m)",
      "  $sess.cmd0Wrapper$Helper$List$.apply(\u001b[32mcmd0.sc\u001b[39m:\u001b[32m19\u001b[39m)",
      "  $sess.cmd0Wrapper$Helper$List$.apply(\u001b[32mcmd0.sc\u001b[39m:\u001b[32m19\u001b[39m)",
      "  $sess.cmd0Wrapper$Helper$List$.apply(\u001b[32mcmd0.sc\u001b[39m:\u001b[32m19\u001b[39m)",
      "  $sess.cmd0Wrapper$Helper$List$.apply(\u001b[32mcmd0.sc\u001b[39m:\u001b[32m19\u001b[39m)",
      "  $sess.cmd0Wrapper$Helper$List$.apply(\u001b[32mcmd0.sc\u001b[39m:\u001b[32m19\u001b[39m)",
      "  $sess.cmd0Wrapper$Helper$List$.apply(\u001b[32mcmd0.sc\u001b[39m:\u001b[32m19\u001b[39m)",
      "  $sess.cmd0Wrapper$Helper$List$.apply(\u001b[32mcmd0.sc\u001b[39m:\u001b[32m19\u001b[39m)",
      "  $sess.cmd0Wrapper$Helper$List$.apply(\u001b[32mcmd0.sc\u001b[39m:\u001b[32m19\u001b[39m)",
      "  $sess.cmd0Wrapper$Helper$List$.apply(\u001b[32mcmd0.sc\u001b[39m:\u001b[32m19\u001b[39m)",
      "  $sess.cmd0Wrapper$Helper$List$.apply(\u001b[32mcmd0.sc\u001b[39m:\u001b[32m19\u001b[39m)",
      "  $sess.cmd0Wrapper$Helper$List$.apply(\u001b[32mcmd0.sc\u001b[39m:\u001b[32m19\u001b[39m)",
      "  $sess.cmd0Wrapper$Helper$List$.apply(\u001b[32mcmd0.sc\u001b[39m:\u001b[32m19\u001b[39m)",
      "  $sess.cmd0Wrapper$Helper$List$.apply(\u001b[32mcmd0.sc\u001b[39m:\u001b[32m19\u001b[39m)",
      "  $sess.cmd0Wrapper$Helper$List$.apply(\u001b[32mcmd0.sc\u001b[39m:\u001b[32m19\u001b[39m)",
      "  $sess.cmd0Wrapper$Helper$List$.apply(\u001b[32mcmd0.sc\u001b[39m:\u001b[32m19\u001b[39m)",
      "  $sess.cmd0Wrapper$Helper$List$.apply(\u001b[32mcmd0.sc\u001b[39m:\u001b[32m19\u001b[39m)",
      "  $sess.cmd0Wrapper$Helper$List$.apply(\u001b[32mcmd0.sc\u001b[39m:\u001b[32m19\u001b[39m)",
      "  $sess.cmd0Wrapper$Helper$List$.apply(\u001b[32mcmd0.sc\u001b[39m:\u001b[32m19\u001b[39m)",
      "  $sess.cmd0Wrapper$Helper$List$.apply(\u001b[32mcmd0.sc\u001b[39m:\u001b[32m19\u001b[39m)",
      "  $sess.cmd0Wrapper$Helper$List$.apply(\u001b[32mcmd0.sc\u001b[39m:\u001b[32m19\u001b[39m)",
      "  $sess.cmd0Wrapper$Helper$List$.apply(\u001b[32mcmd0.sc\u001b[39m:\u001b[32m19\u001b[39m)",
      "  $sess.cmd0Wrapper$Helper$List$.apply(\u001b[32mcmd0.sc\u001b[39m:\u001b[32m19\u001b[39m)",
      "  $sess.cmd0Wrapper$Helper$List$.apply(\u001b[32mcmd0.sc\u001b[39m:\u001b[32m19\u001b[39m)",
      "  $sess.cmd0Wrapper$Helper$List$.apply(\u001b[32mcmd0.sc\u001b[39m:\u001b[32m19\u001b[39m)",
      "  $sess.cmd0Wrapper$Helper$List$.apply(\u001b[32mcmd0.sc\u001b[39m:\u001b[32m19\u001b[39m)",
      "  $sess.cmd0Wrapper$Helper$List$.apply(\u001b[32mcmd0.sc\u001b[39m:\u001b[32m19\u001b[39m)",
      "  $sess.cmd0Wrapper$Helper$List$.apply(\u001b[32mcmd0.sc\u001b[39m:\u001b[32m19\u001b[39m)",
      "  $sess.cmd0Wrapper$Helper$List$.apply(\u001b[32mcmd0.sc\u001b[39m:\u001b[32m19\u001b[39m)",
      "  $sess.cmd0Wrapper$Helper$List$.apply(\u001b[32mcmd0.sc\u001b[39m:\u001b[32m19\u001b[39m)",
      "  $sess.cmd0Wrapper$Helper$List$.apply(\u001b[32mcmd0.sc\u001b[39m:\u001b[32m19\u001b[39m)",
      "  $sess.cmd0Wrapper$Helper$List$.apply(\u001b[32mcmd0.sc\u001b[39m:\u001b[32m19\u001b[39m)",
      "  $sess.cmd0Wrapper$Helper$List$.apply(\u001b[32mcmd0.sc\u001b[39m:\u001b[32m19\u001b[39m)",
      "  $sess.cmd0Wrapper$Helper$List$.apply(\u001b[32mcmd0.sc\u001b[39m:\u001b[32m19\u001b[39m)",
      "  $sess.cmd0Wrapper$Helper$List$.apply(\u001b[32mcmd0.sc\u001b[39m:\u001b[32m19\u001b[39m)",
      "  $sess.cmd0Wrapper$Helper$List$.apply(\u001b[32mcmd0.sc\u001b[39m:\u001b[32m19\u001b[39m)",
      "  $sess.cmd0Wrapper$Helper$List$.apply(\u001b[32mcmd0.sc\u001b[39m:\u001b[32m19\u001b[39m)",
      "  $sess.cmd0Wrapper$Helper$List$.apply(\u001b[32mcmd0.sc\u001b[39m:\u001b[32m19\u001b[39m)",
      "  $sess.cmd0Wrapper$Helper$List$.apply(\u001b[32mcmd0.sc\u001b[39m:\u001b[32m19\u001b[39m)",
      "  $sess.cmd0Wrapper$Helper$List$.apply(\u001b[32mcmd0.sc\u001b[39m:\u001b[32m19\u001b[39m)",
      "  $sess.cmd0Wrapper$Helper$List$.apply(\u001b[32mcmd0.sc\u001b[39m:\u001b[32m19\u001b[39m)",
      "  $sess.cmd0Wrapper$Helper$List$.apply(\u001b[32mcmd0.sc\u001b[39m:\u001b[32m19\u001b[39m)",
      "  $sess.cmd0Wrapper$Helper$List$.apply(\u001b[32mcmd0.sc\u001b[39m:\u001b[32m19\u001b[39m)",
      "  $sess.cmd0Wrapper$Helper$List$.apply(\u001b[32mcmd0.sc\u001b[39m:\u001b[32m19\u001b[39m)",
      "  $sess.cmd0Wrapper$Helper$List$.apply(\u001b[32mcmd0.sc\u001b[39m:\u001b[32m19\u001b[39m)",
      "  $sess.cmd0Wrapper$Helper$List$.apply(\u001b[32mcmd0.sc\u001b[39m:\u001b[32m19\u001b[39m)",
      "  $sess.cmd0Wrapper$Helper$List$.apply(\u001b[32mcmd0.sc\u001b[39m:\u001b[32m19\u001b[39m)",
      "  $sess.cmd0Wrapper$Helper$List$.apply(\u001b[32mcmd0.sc\u001b[39m:\u001b[32m19\u001b[39m)",
      "  $sess.cmd0Wrapper$Helper$List$.apply(\u001b[32mcmd0.sc\u001b[39m:\u001b[32m19\u001b[39m)",
      "  $sess.cmd0Wrapper$Helper$List$.apply(\u001b[32mcmd0.sc\u001b[39m:\u001b[32m19\u001b[39m)",
      "  $sess.cmd0Wrapper$Helper$List$.apply(\u001b[32mcmd0.sc\u001b[39m:\u001b[32m19\u001b[39m)",
      "  $sess.cmd0Wrapper$Helper$List$.apply(\u001b[32mcmd0.sc\u001b[39m:\u001b[32m19\u001b[39m)",
      "  $sess.cmd0Wrapper$Helper$List$.apply(\u001b[32mcmd0.sc\u001b[39m:\u001b[32m19\u001b[39m)",
      "  $sess.cmd0Wrapper$Helper$List$.apply(\u001b[32mcmd0.sc\u001b[39m:\u001b[32m19\u001b[39m)",
      "  $sess.cmd0Wrapper$Helper$List$.apply(\u001b[32mcmd0.sc\u001b[39m:\u001b[32m19\u001b[39m)",
      "  $sess.cmd0Wrapper$Helper$List$.apply(\u001b[32mcmd0.sc\u001b[39m:\u001b[32m19\u001b[39m)",
      "  $sess.cmd0Wrapper$Helper$List$.apply(\u001b[32mcmd0.sc\u001b[39m:\u001b[32m19\u001b[39m)",
      "  $sess.cmd0Wrapper$Helper$List$.apply(\u001b[32mcmd0.sc\u001b[39m:\u001b[32m19\u001b[39m)",
      "  $sess.cmd0Wrapper$Helper$List$.apply(\u001b[32mcmd0.sc\u001b[39m:\u001b[32m19\u001b[39m)",
      "  $sess.cmd0Wrapper$Helper$List$.apply(\u001b[32mcmd0.sc\u001b[39m:\u001b[32m19\u001b[39m)",
      "  $sess.cmd0Wrapper$Helper$List$.apply(\u001b[32mcmd0.sc\u001b[39m:\u001b[32m19\u001b[39m)",
      "  $sess.cmd0Wrapper$Helper$List$.apply(\u001b[32mcmd0.sc\u001b[39m:\u001b[32m19\u001b[39m)",
      "  $sess.cmd0Wrapper$Helper$List$.apply(\u001b[32mcmd0.sc\u001b[39m:\u001b[32m19\u001b[39m)",
      "  $sess.cmd0Wrapper$Helper$List$.apply(\u001b[32mcmd0.sc\u001b[39m:\u001b[32m19\u001b[39m)",
      "  $sess.cmd0Wrapper$Helper$List$.apply(\u001b[32mcmd0.sc\u001b[39m:\u001b[32m19\u001b[39m)",
      "  $sess.cmd0Wrapper$Helper$List$.apply(\u001b[32mcmd0.sc\u001b[39m:\u001b[32m19\u001b[39m)",
      "  $sess.cmd0Wrapper$Helper$List$.apply(\u001b[32mcmd0.sc\u001b[39m:\u001b[32m19\u001b[39m)",
      "  $sess.cmd0Wrapper$Helper$List$.apply(\u001b[32mcmd0.sc\u001b[39m:\u001b[32m19\u001b[39m)",
      "  $sess.cmd0Wrapper$Helper$List$.apply(\u001b[32mcmd0.sc\u001b[39m:\u001b[32m19\u001b[39m)",
      "  $sess.cmd0Wrapper$Helper$List$.apply(\u001b[32mcmd0.sc\u001b[39m:\u001b[32m19\u001b[39m)",
      "  $sess.cmd0Wrapper$Helper$List$.apply(\u001b[32mcmd0.sc\u001b[39m:\u001b[32m19\u001b[39m)",
      "  $sess.cmd0Wrapper$Helper$List$.apply(\u001b[32mcmd0.sc\u001b[39m:\u001b[32m19\u001b[39m)",
      "  $sess.cmd0Wrapper$Helper$List$.apply(\u001b[32mcmd0.sc\u001b[39m:\u001b[32m19\u001b[39m)",
      "  $sess.cmd0Wrapper$Helper$List$.apply(\u001b[32mcmd0.sc\u001b[39m:\u001b[32m19\u001b[39m)",
      "  $sess.cmd0Wrapper$Helper$List$.apply(\u001b[32mcmd0.sc\u001b[39m:\u001b[32m19\u001b[39m)",
      "  $sess.cmd0Wrapper$Helper$List$.apply(\u001b[32mcmd0.sc\u001b[39m:\u001b[32m19\u001b[39m)",
      "  $sess.cmd0Wrapper$Helper$List$.apply(\u001b[32mcmd0.sc\u001b[39m:\u001b[32m19\u001b[39m)",
      "  $sess.cmd0Wrapper$Helper$List$.apply(\u001b[32mcmd0.sc\u001b[39m:\u001b[32m19\u001b[39m)",
      "  $sess.cmd0Wrapper$Helper$List$.apply(\u001b[32mcmd0.sc\u001b[39m:\u001b[32m19\u001b[39m)",
      "  $sess.cmd0Wrapper$Helper$List$.apply(\u001b[32mcmd0.sc\u001b[39m:\u001b[32m19\u001b[39m)",
      "  $sess.cmd0Wrapper$Helper$List$.apply(\u001b[32mcmd0.sc\u001b[39m:\u001b[32m19\u001b[39m)",
      "  $sess.cmd0Wrapper$Helper$List$.apply(\u001b[32mcmd0.sc\u001b[39m:\u001b[32m19\u001b[39m)",
      "  $sess.cmd0Wrapper$Helper$List$.apply(\u001b[32mcmd0.sc\u001b[39m:\u001b[32m19\u001b[39m)",
      "  $sess.cmd0Wrapper$Helper$List$.apply(\u001b[32mcmd0.sc\u001b[39m:\u001b[32m19\u001b[39m)",
      "  $sess.cmd0Wrapper$Helper$List$.apply(\u001b[32mcmd0.sc\u001b[39m:\u001b[32m19\u001b[39m)",
      "  $sess.cmd0Wrapper$Helper$List$.apply(\u001b[32mcmd0.sc\u001b[39m:\u001b[32m19\u001b[39m)",
      "  $sess.cmd0Wrapper$Helper$List$.apply(\u001b[32mcmd0.sc\u001b[39m:\u001b[32m19\u001b[39m)",
      "  $sess.cmd0Wrapper$Helper$List$.apply(\u001b[32mcmd0.sc\u001b[39m:\u001b[32m19\u001b[39m)",
      "  $sess.cmd0Wrapper$Helper$List$.apply(\u001b[32mcmd0.sc\u001b[39m:\u001b[32m19\u001b[39m)",
      "  $sess.cmd0Wrapper$Helper$List$.apply(\u001b[32mcmd0.sc\u001b[39m:\u001b[32m19\u001b[39m)",
      "  $sess.cmd0Wrapper$Helper$List$.apply(\u001b[32mcmd0.sc\u001b[39m:\u001b[32m19\u001b[39m)",
      "  $sess.cmd0Wrapper$Helper$List$.apply(\u001b[32mcmd0.sc\u001b[39m:\u001b[32m19\u001b[39m)",
      "  $sess.cmd0Wrapper$Helper$List$.apply(\u001b[32mcmd0.sc\u001b[39m:\u001b[32m19\u001b[39m)",
      "  $sess.cmd0Wrapper$Helper$List$.apply(\u001b[32mcmd0.sc\u001b[39m:\u001b[32m19\u001b[39m)",
      "  $sess.cmd0Wrapper$Helper$List$.apply(\u001b[32mcmd0.sc\u001b[39m:\u001b[32m19\u001b[39m)",
      "  $sess.cmd0Wrapper$Helper$List$.apply(\u001b[32mcmd0.sc\u001b[39m:\u001b[32m19\u001b[39m)",
      "  $sess.cmd0Wrapper$Helper$List$.apply(\u001b[32mcmd0.sc\u001b[39m:\u001b[32m19\u001b[39m)",
      "  $sess.cmd0Wrapper$Helper$List$.apply(\u001b[32mcmd0.sc\u001b[39m:\u001b[32m19\u001b[39m)",
      "  $sess.cmd0Wrapper$Helper$List$.apply(\u001b[32mcmd0.sc\u001b[39m:\u001b[32m19\u001b[39m)",
      "  $sess.cmd0Wrapper$Helper$List$.apply(\u001b[32mcmd0.sc\u001b[39m:\u001b[32m19\u001b[39m)",
      "  $sess.cmd0Wrapper$Helper$List$.apply(\u001b[32mcmd0.sc\u001b[39m:\u001b[32m19\u001b[39m)",
      "  $sess.cmd0Wrapper$Helper$List$.apply(\u001b[32mcmd0.sc\u001b[39m:\u001b[32m19\u001b[39m)",
      "  $sess.cmd0Wrapper$Helper$List$.apply(\u001b[32mcmd0.sc\u001b[39m:\u001b[32m19\u001b[39m)",
      "  $sess.cmd0Wrapper$Helper$List$.apply(\u001b[32mcmd0.sc\u001b[39m:\u001b[32m19\u001b[39m)",
      "  $sess.cmd0Wrapper$Helper$List$.apply(\u001b[32mcmd0.sc\u001b[39m:\u001b[32m19\u001b[39m)",
      "  $sess.cmd0Wrapper$Helper$List$.apply(\u001b[32mcmd0.sc\u001b[39m:\u001b[32m19\u001b[39m)",
      "  $sess.cmd0Wrapper$Helper$List$.apply(\u001b[32mcmd0.sc\u001b[39m:\u001b[32m19\u001b[39m)",
      "  $sess.cmd0Wrapper$Helper$List$.apply(\u001b[32mcmd0.sc\u001b[39m:\u001b[32m19\u001b[39m)",
      "  $sess.cmd0Wrapper$Helper$List$.apply(\u001b[32mcmd0.sc\u001b[39m:\u001b[32m19\u001b[39m)",
      "  $sess.cmd0Wrapper$Helper$List$.apply(\u001b[32mcmd0.sc\u001b[39m:\u001b[32m19\u001b[39m)",
      "  $sess.cmd0Wrapper$Helper$List$.apply(\u001b[32mcmd0.sc\u001b[39m:\u001b[32m19\u001b[39m)",
      "  $sess.cmd0Wrapper$Helper$List$.apply(\u001b[32mcmd0.sc\u001b[39m:\u001b[32m19\u001b[39m)",
      "  $sess.cmd0Wrapper$Helper$List$.apply(\u001b[32mcmd0.sc\u001b[39m:\u001b[32m19\u001b[39m)",
      "  $sess.cmd0Wrapper$Helper$List$.apply(\u001b[32mcmd0.sc\u001b[39m:\u001b[32m19\u001b[39m)",
      "  $sess.cmd0Wrapper$Helper$List$.apply(\u001b[32mcmd0.sc\u001b[39m:\u001b[32m19\u001b[39m)",
      "  $sess.cmd0Wrapper$Helper$List$.apply(\u001b[32mcmd0.sc\u001b[39m:\u001b[32m19\u001b[39m)",
      "  $sess.cmd0Wrapper$Helper$List$.apply(\u001b[32mcmd0.sc\u001b[39m:\u001b[32m19\u001b[39m)",
      "  $sess.cmd0Wrapper$Helper$List$.apply(\u001b[32mcmd0.sc\u001b[39m:\u001b[32m19\u001b[39m)",
      "  $sess.cmd0Wrapper$Helper$List$.apply(\u001b[32mcmd0.sc\u001b[39m:\u001b[32m19\u001b[39m)",
      "  $sess.cmd0Wrapper$Helper$List$.apply(\u001b[32mcmd0.sc\u001b[39m:\u001b[32m19\u001b[39m)",
      "  $sess.cmd0Wrapper$Helper$List$.apply(\u001b[32mcmd0.sc\u001b[39m:\u001b[32m19\u001b[39m)",
      "  $sess.cmd0Wrapper$Helper$List$.apply(\u001b[32mcmd0.sc\u001b[39m:\u001b[32m19\u001b[39m)",
      "  $sess.cmd0Wrapper$Helper$List$.apply(\u001b[32mcmd0.sc\u001b[39m:\u001b[32m19\u001b[39m)",
      "  $sess.cmd0Wrapper$Helper$List$.apply(\u001b[32mcmd0.sc\u001b[39m:\u001b[32m19\u001b[39m)",
      "  $sess.cmd0Wrapper$Helper$List$.apply(\u001b[32mcmd0.sc\u001b[39m:\u001b[32m19\u001b[39m)",
      "  $sess.cmd0Wrapper$Helper$List$.apply(\u001b[32mcmd0.sc\u001b[39m:\u001b[32m19\u001b[39m)",
      "  $sess.cmd0Wrapper$Helper$List$.apply(\u001b[32mcmd0.sc\u001b[39m:\u001b[32m19\u001b[39m)",
      "  $sess.cmd0Wrapper$Helper$List$.apply(\u001b[32mcmd0.sc\u001b[39m:\u001b[32m19\u001b[39m)",
      "  $sess.cmd0Wrapper$Helper$List$.apply(\u001b[32mcmd0.sc\u001b[39m:\u001b[32m19\u001b[39m)",
      "  $sess.cmd0Wrapper$Helper$List$.apply(\u001b[32mcmd0.sc\u001b[39m:\u001b[32m19\u001b[39m)",
      "  $sess.cmd0Wrapper$Helper$List$.apply(\u001b[32mcmd0.sc\u001b[39m:\u001b[32m19\u001b[39m)",
      "  $sess.cmd0Wrapper$Helper$List$.apply(\u001b[32mcmd0.sc\u001b[39m:\u001b[32m19\u001b[39m)",
      "  $sess.cmd0Wrapper$Helper$List$.apply(\u001b[32mcmd0.sc\u001b[39m:\u001b[32m19\u001b[39m)",
      "  $sess.cmd0Wrapper$Helper$List$.apply(\u001b[32mcmd0.sc\u001b[39m:\u001b[32m19\u001b[39m)",
      "  $sess.cmd0Wrapper$Helper$List$.apply(\u001b[32mcmd0.sc\u001b[39m:\u001b[32m19\u001b[39m)",
      "  $sess.cmd0Wrapper$Helper$List$.apply(\u001b[32mcmd0.sc\u001b[39m:\u001b[32m19\u001b[39m)",
      "  $sess.cmd0Wrapper$Helper$List$.apply(\u001b[32mcmd0.sc\u001b[39m:\u001b[32m19\u001b[39m)",
      "  $sess.cmd0Wrapper$Helper$List$.apply(\u001b[32mcmd0.sc\u001b[39m:\u001b[32m19\u001b[39m)",
      "  $sess.cmd0Wrapper$Helper$List$.apply(\u001b[32mcmd0.sc\u001b[39m:\u001b[32m19\u001b[39m)",
      "  $sess.cmd0Wrapper$Helper$List$.apply(\u001b[32mcmd0.sc\u001b[39m:\u001b[32m19\u001b[39m)",
      "  $sess.cmd0Wrapper$Helper$List$.apply(\u001b[32mcmd0.sc\u001b[39m:\u001b[32m19\u001b[39m)",
      "  $sess.cmd0Wrapper$Helper$List$.apply(\u001b[32mcmd0.sc\u001b[39m:\u001b[32m19\u001b[39m)",
      "  $sess.cmd0Wrapper$Helper$List$.apply(\u001b[32mcmd0.sc\u001b[39m:\u001b[32m19\u001b[39m)",
      "  $sess.cmd0Wrapper$Helper$List$.apply(\u001b[32mcmd0.sc\u001b[39m:\u001b[32m19\u001b[39m)",
      "  $sess.cmd0Wrapper$Helper$List$.apply(\u001b[32mcmd0.sc\u001b[39m:\u001b[32m19\u001b[39m)",
      "  $sess.cmd0Wrapper$Helper$List$.apply(\u001b[32mcmd0.sc\u001b[39m:\u001b[32m19\u001b[39m)",
      "  $sess.cmd0Wrapper$Helper$List$.apply(\u001b[32mcmd0.sc\u001b[39m:\u001b[32m19\u001b[39m)",
      "  $sess.cmd0Wrapper$Helper$List$.apply(\u001b[32mcmd0.sc\u001b[39m:\u001b[32m19\u001b[39m)",
      "  $sess.cmd0Wrapper$Helper$List$.apply(\u001b[32mcmd0.sc\u001b[39m:\u001b[32m19\u001b[39m)",
      "  $sess.cmd0Wrapper$Helper$List$.apply(\u001b[32mcmd0.sc\u001b[39m:\u001b[32m19\u001b[39m)",
      "  $sess.cmd0Wrapper$Helper$List$.apply(\u001b[32mcmd0.sc\u001b[39m:\u001b[32m19\u001b[39m)",
      "  $sess.cmd0Wrapper$Helper$List$.apply(\u001b[32mcmd0.sc\u001b[39m:\u001b[32m19\u001b[39m)",
      "  $sess.cmd0Wrapper$Helper$List$.apply(\u001b[32mcmd0.sc\u001b[39m:\u001b[32m19\u001b[39m)",
      "  $sess.cmd0Wrapper$Helper$List$.apply(\u001b[32mcmd0.sc\u001b[39m:\u001b[32m19\u001b[39m)",
      "  $sess.cmd0Wrapper$Helper$List$.apply(\u001b[32mcmd0.sc\u001b[39m:\u001b[32m19\u001b[39m)",
      "  $sess.cmd0Wrapper$Helper$List$.apply(\u001b[32mcmd0.sc\u001b[39m:\u001b[32m19\u001b[39m)",
      "  $sess.cmd0Wrapper$Helper$List$.apply(\u001b[32mcmd0.sc\u001b[39m:\u001b[32m19\u001b[39m)",
      "  $sess.cmd0Wrapper$Helper$List$.apply(\u001b[32mcmd0.sc\u001b[39m:\u001b[32m19\u001b[39m)",
      "  $sess.cmd0Wrapper$Helper$List$.apply(\u001b[32mcmd0.sc\u001b[39m:\u001b[32m19\u001b[39m)",
      "  $sess.cmd0Wrapper$Helper$List$.apply(\u001b[32mcmd0.sc\u001b[39m:\u001b[32m19\u001b[39m)",
      "  $sess.cmd0Wrapper$Helper$List$.apply(\u001b[32mcmd0.sc\u001b[39m:\u001b[32m19\u001b[39m)",
      "  $sess.cmd0Wrapper$Helper$List$.apply(\u001b[32mcmd0.sc\u001b[39m:\u001b[32m19\u001b[39m)",
      "  $sess.cmd0Wrapper$Helper$List$.apply(\u001b[32mcmd0.sc\u001b[39m:\u001b[32m19\u001b[39m)",
      "  $sess.cmd0Wrapper$Helper$List$.apply(\u001b[32mcmd0.sc\u001b[39m:\u001b[32m19\u001b[39m)",
      "  $sess.cmd0Wrapper$Helper$List$.apply(\u001b[32mcmd0.sc\u001b[39m:\u001b[32m19\u001b[39m)",
      "  $sess.cmd0Wrapper$Helper$List$.apply(\u001b[32mcmd0.sc\u001b[39m:\u001b[32m19\u001b[39m)",
      "  $sess.cmd0Wrapper$Helper$List$.apply(\u001b[32mcmd0.sc\u001b[39m:\u001b[32m19\u001b[39m)",
      "  $sess.cmd0Wrapper$Helper$List$.apply(\u001b[32mcmd0.sc\u001b[39m:\u001b[32m19\u001b[39m)",
      "  $sess.cmd0Wrapper$Helper$List$.apply(\u001b[32mcmd0.sc\u001b[39m:\u001b[32m19\u001b[39m)",
      "  $sess.cmd0Wrapper$Helper$List$.apply(\u001b[32mcmd0.sc\u001b[39m:\u001b[32m19\u001b[39m)",
      "  $sess.cmd0Wrapper$Helper$List$.apply(\u001b[32mcmd0.sc\u001b[39m:\u001b[32m19\u001b[39m)",
      "  $sess.cmd0Wrapper$Helper$List$.apply(\u001b[32mcmd0.sc\u001b[39m:\u001b[32m19\u001b[39m)",
      "  $sess.cmd0Wrapper$Helper$List$.apply(\u001b[32mcmd0.sc\u001b[39m:\u001b[32m19\u001b[39m)",
      "  $sess.cmd0Wrapper$Helper$List$.apply(\u001b[32mcmd0.sc\u001b[39m:\u001b[32m19\u001b[39m)",
      "  $sess.cmd0Wrapper$Helper$List$.apply(\u001b[32mcmd0.sc\u001b[39m:\u001b[32m19\u001b[39m)",
      "  $sess.cmd0Wrapper$Helper$List$.apply(\u001b[32mcmd0.sc\u001b[39m:\u001b[32m19\u001b[39m)",
      "  $sess.cmd0Wrapper$Helper$List$.apply(\u001b[32mcmd0.sc\u001b[39m:\u001b[32m19\u001b[39m)",
      "  $sess.cmd0Wrapper$Helper$List$.apply(\u001b[32mcmd0.sc\u001b[39m:\u001b[32m19\u001b[39m)",
      "  $sess.cmd0Wrapper$Helper$List$.apply(\u001b[32mcmd0.sc\u001b[39m:\u001b[32m19\u001b[39m)",
      "  $sess.cmd0Wrapper$Helper$List$.apply(\u001b[32mcmd0.sc\u001b[39m:\u001b[32m19\u001b[39m)",
      "  $sess.cmd0Wrapper$Helper$List$.apply(\u001b[32mcmd0.sc\u001b[39m:\u001b[32m19\u001b[39m)",
      "  $sess.cmd0Wrapper$Helper$List$.apply(\u001b[32mcmd0.sc\u001b[39m:\u001b[32m19\u001b[39m)",
      "  $sess.cmd0Wrapper$Helper$List$.apply(\u001b[32mcmd0.sc\u001b[39m:\u001b[32m19\u001b[39m)",
      "  $sess.cmd0Wrapper$Helper$List$.apply(\u001b[32mcmd0.sc\u001b[39m:\u001b[32m19\u001b[39m)",
      "  $sess.cmd0Wrapper$Helper$List$.apply(\u001b[32mcmd0.sc\u001b[39m:\u001b[32m19\u001b[39m)",
      "  $sess.cmd0Wrapper$Helper$List$.apply(\u001b[32mcmd0.sc\u001b[39m:\u001b[32m19\u001b[39m)",
      "  $sess.cmd0Wrapper$Helper$List$.apply(\u001b[32mcmd0.sc\u001b[39m:\u001b[32m19\u001b[39m)",
      "  $sess.cmd0Wrapper$Helper$List$.apply(\u001b[32mcmd0.sc\u001b[39m:\u001b[32m19\u001b[39m)",
      "  $sess.cmd0Wrapper$Helper$List$.apply(\u001b[32mcmd0.sc\u001b[39m:\u001b[32m19\u001b[39m)",
      "  $sess.cmd0Wrapper$Helper$List$.apply(\u001b[32mcmd0.sc\u001b[39m:\u001b[32m19\u001b[39m)",
      "  $sess.cmd0Wrapper$Helper$List$.apply(\u001b[32mcmd0.sc\u001b[39m:\u001b[32m19\u001b[39m)",
      "  $sess.cmd0Wrapper$Helper$List$.apply(\u001b[32mcmd0.sc\u001b[39m:\u001b[32m19\u001b[39m)",
      "  $sess.cmd0Wrapper$Helper$List$.apply(\u001b[32mcmd0.sc\u001b[39m:\u001b[32m19\u001b[39m)",
      "  $sess.cmd0Wrapper$Helper$List$.apply(\u001b[32mcmd0.sc\u001b[39m:\u001b[32m19\u001b[39m)",
      "  $sess.cmd0Wrapper$Helper$List$.apply(\u001b[32mcmd0.sc\u001b[39m:\u001b[32m19\u001b[39m)",
      "  $sess.cmd0Wrapper$Helper$List$.apply(\u001b[32mcmd0.sc\u001b[39m:\u001b[32m19\u001b[39m)",
      "  $sess.cmd0Wrapper$Helper$List$.apply(\u001b[32mcmd0.sc\u001b[39m:\u001b[32m19\u001b[39m)",
      "  $sess.cmd0Wrapper$Helper$List$.apply(\u001b[32mcmd0.sc\u001b[39m:\u001b[32m19\u001b[39m)",
      "  $sess.cmd0Wrapper$Helper$List$.apply(\u001b[32mcmd0.sc\u001b[39m:\u001b[32m19\u001b[39m)",
      "  $sess.cmd0Wrapper$Helper$List$.apply(\u001b[32mcmd0.sc\u001b[39m:\u001b[32m19\u001b[39m)",
      "  $sess.cmd0Wrapper$Helper$List$.apply(\u001b[32mcmd0.sc\u001b[39m:\u001b[32m19\u001b[39m)",
      "  $sess.cmd0Wrapper$Helper$List$.apply(\u001b[32mcmd0.sc\u001b[39m:\u001b[32m19\u001b[39m)",
      "  $sess.cmd0Wrapper$Helper$List$.apply(\u001b[32mcmd0.sc\u001b[39m:\u001b[32m19\u001b[39m)",
      "  $sess.cmd0Wrapper$Helper$List$.apply(\u001b[32mcmd0.sc\u001b[39m:\u001b[32m19\u001b[39m)",
      "  $sess.cmd0Wrapper$Helper$List$.apply(\u001b[32mcmd0.sc\u001b[39m:\u001b[32m19\u001b[39m)",
      "  $sess.cmd0Wrapper$Helper$List$.apply(\u001b[32mcmd0.sc\u001b[39m:\u001b[32m19\u001b[39m)",
      "  $sess.cmd0Wrapper$Helper$List$.apply(\u001b[32mcmd0.sc\u001b[39m:\u001b[32m19\u001b[39m)",
      "  $sess.cmd0Wrapper$Helper$List$.apply(\u001b[32mcmd0.sc\u001b[39m:\u001b[32m19\u001b[39m)",
      "  $sess.cmd0Wrapper$Helper$List$.apply(\u001b[32mcmd0.sc\u001b[39m:\u001b[32m19\u001b[39m)",
      "  $sess.cmd0Wrapper$Helper$List$.apply(\u001b[32mcmd0.sc\u001b[39m:\u001b[32m19\u001b[39m)",
      "  $sess.cmd0Wrapper$Helper$List$.apply(\u001b[32mcmd0.sc\u001b[39m:\u001b[32m19\u001b[39m)",
      "  $sess.cmd0Wrapper$Helper$List$.apply(\u001b[32mcmd0.sc\u001b[39m:\u001b[32m19\u001b[39m)",
      "  $sess.cmd0Wrapper$Helper$List$.apply(\u001b[32mcmd0.sc\u001b[39m:\u001b[32m19\u001b[39m)",
      "  $sess.cmd0Wrapper$Helper$List$.apply(\u001b[32mcmd0.sc\u001b[39m:\u001b[32m19\u001b[39m)",
      "  $sess.cmd0Wrapper$Helper$List$.apply(\u001b[32mcmd0.sc\u001b[39m:\u001b[32m19\u001b[39m)",
      "  $sess.cmd0Wrapper$Helper$List$.apply(\u001b[32mcmd0.sc\u001b[39m:\u001b[32m19\u001b[39m)",
      "  $sess.cmd0Wrapper$Helper$List$.apply(\u001b[32mcmd0.sc\u001b[39m:\u001b[32m19\u001b[39m)",
      "  $sess.cmd0Wrapper$Helper$List$.apply(\u001b[32mcmd0.sc\u001b[39m:\u001b[32m19\u001b[39m)",
      "  $sess.cmd0Wrapper$Helper$List$.apply(\u001b[32mcmd0.sc\u001b[39m:\u001b[32m19\u001b[39m)",
      "  $sess.cmd0Wrapper$Helper$List$.apply(\u001b[32mcmd0.sc\u001b[39m:\u001b[32m19\u001b[39m)",
      "  $sess.cmd0Wrapper$Helper$List$.apply(\u001b[32mcmd0.sc\u001b[39m:\u001b[32m19\u001b[39m)",
      "  $sess.cmd0Wrapper$Helper$List$.apply(\u001b[32mcmd0.sc\u001b[39m:\u001b[32m19\u001b[39m)",
      "  $sess.cmd0Wrapper$Helper$List$.apply(\u001b[32mcmd0.sc\u001b[39m:\u001b[32m19\u001b[39m)",
      "  $sess.cmd0Wrapper$Helper$List$.apply(\u001b[32mcmd0.sc\u001b[39m:\u001b[32m19\u001b[39m)",
      "  $sess.cmd0Wrapper$Helper$List$.apply(\u001b[32mcmd0.sc\u001b[39m:\u001b[32m19\u001b[39m)",
      "  $sess.cmd0Wrapper$Helper$List$.apply(\u001b[32mcmd0.sc\u001b[39m:\u001b[32m19\u001b[39m)",
      "  $sess.cmd0Wrapper$Helper$List$.apply(\u001b[32mcmd0.sc\u001b[39m:\u001b[32m19\u001b[39m)",
      "  $sess.cmd0Wrapper$Helper$List$.apply(\u001b[32mcmd0.sc\u001b[39m:\u001b[32m19\u001b[39m)",
      "  $sess.cmd0Wrapper$Helper$List$.apply(\u001b[32mcmd0.sc\u001b[39m:\u001b[32m19\u001b[39m)",
      "  $sess.cmd0Wrapper$Helper$List$.apply(\u001b[32mcmd0.sc\u001b[39m:\u001b[32m19\u001b[39m)",
      "  $sess.cmd0Wrapper$Helper$List$.apply(\u001b[32mcmd0.sc\u001b[39m:\u001b[32m19\u001b[39m)",
      "  $sess.cmd0Wrapper$Helper$List$.apply(\u001b[32mcmd0.sc\u001b[39m:\u001b[32m19\u001b[39m)",
      "  $sess.cmd0Wrapper$Helper$List$.apply(\u001b[32mcmd0.sc\u001b[39m:\u001b[32m19\u001b[39m)",
      "  $sess.cmd0Wrapper$Helper$List$.apply(\u001b[32mcmd0.sc\u001b[39m:\u001b[32m19\u001b[39m)",
      "  $sess.cmd0Wrapper$Helper$List$.apply(\u001b[32mcmd0.sc\u001b[39m:\u001b[32m19\u001b[39m)",
      "  $sess.cmd0Wrapper$Helper$List$.apply(\u001b[32mcmd0.sc\u001b[39m:\u001b[32m19\u001b[39m)",
      "  $sess.cmd0Wrapper$Helper$List$.apply(\u001b[32mcmd0.sc\u001b[39m:\u001b[32m19\u001b[39m)",
      "  $sess.cmd0Wrapper$Helper$List$.apply(\u001b[32mcmd0.sc\u001b[39m:\u001b[32m19\u001b[39m)",
      "  $sess.cmd0Wrapper$Helper$List$.apply(\u001b[32mcmd0.sc\u001b[39m:\u001b[32m19\u001b[39m)",
      "  $sess.cmd0Wrapper$Helper$List$.apply(\u001b[32mcmd0.sc\u001b[39m:\u001b[32m19\u001b[39m)",
      "  $sess.cmd0Wrapper$Helper$List$.apply(\u001b[32mcmd0.sc\u001b[39m:\u001b[32m19\u001b[39m)",
      "  $sess.cmd0Wrapper$Helper$List$.apply(\u001b[32mcmd0.sc\u001b[39m:\u001b[32m19\u001b[39m)",
      "  $sess.cmd0Wrapper$Helper$List$.apply(\u001b[32mcmd0.sc\u001b[39m:\u001b[32m19\u001b[39m)",
      "  $sess.cmd0Wrapper$Helper$List$.apply(\u001b[32mcmd0.sc\u001b[39m:\u001b[32m19\u001b[39m)",
      "  $sess.cmd0Wrapper$Helper$List$.apply(\u001b[32mcmd0.sc\u001b[39m:\u001b[32m19\u001b[39m)",
      "  $sess.cmd0Wrapper$Helper$List$.apply(\u001b[32mcmd0.sc\u001b[39m:\u001b[32m19\u001b[39m)",
      "  $sess.cmd0Wrapper$Helper$List$.apply(\u001b[32mcmd0.sc\u001b[39m:\u001b[32m19\u001b[39m)",
      "  $sess.cmd0Wrapper$Helper$List$.apply(\u001b[32mcmd0.sc\u001b[39m:\u001b[32m19\u001b[39m)",
      "  $sess.cmd0Wrapper$Helper$List$.apply(\u001b[32mcmd0.sc\u001b[39m:\u001b[32m19\u001b[39m)",
      "  $sess.cmd0Wrapper$Helper$List$.apply(\u001b[32mcmd0.sc\u001b[39m:\u001b[32m19\u001b[39m)",
      "  $sess.cmd0Wrapper$Helper$List$.apply(\u001b[32mcmd0.sc\u001b[39m:\u001b[32m19\u001b[39m)",
      "  $sess.cmd0Wrapper$Helper$List$.apply(\u001b[32mcmd0.sc\u001b[39m:\u001b[32m19\u001b[39m)",
      "  $sess.cmd0Wrapper$Helper$List$.apply(\u001b[32mcmd0.sc\u001b[39m:\u001b[32m19\u001b[39m)",
      "  $sess.cmd0Wrapper$Helper$List$.apply(\u001b[32mcmd0.sc\u001b[39m:\u001b[32m19\u001b[39m)",
      "  $sess.cmd0Wrapper$Helper$List$.apply(\u001b[32mcmd0.sc\u001b[39m:\u001b[32m19\u001b[39m)",
      "  $sess.cmd0Wrapper$Helper$List$.apply(\u001b[32mcmd0.sc\u001b[39m:\u001b[32m19\u001b[39m)",
      "  $sess.cmd0Wrapper$Helper$List$.apply(\u001b[32mcmd0.sc\u001b[39m:\u001b[32m19\u001b[39m)",
      "  $sess.cmd0Wrapper$Helper$List$.apply(\u001b[32mcmd0.sc\u001b[39m:\u001b[32m19\u001b[39m)",
      "  $sess.cmd0Wrapper$Helper$List$.apply(\u001b[32mcmd0.sc\u001b[39m:\u001b[32m19\u001b[39m)",
      "  $sess.cmd0Wrapper$Helper$List$.apply(\u001b[32mcmd0.sc\u001b[39m:\u001b[32m19\u001b[39m)",
      "  $sess.cmd0Wrapper$Helper$List$.apply(\u001b[32mcmd0.sc\u001b[39m:\u001b[32m19\u001b[39m)",
      "  $sess.cmd0Wrapper$Helper$List$.apply(\u001b[32mcmd0.sc\u001b[39m:\u001b[32m19\u001b[39m)",
      "  $sess.cmd0Wrapper$Helper$List$.apply(\u001b[32mcmd0.sc\u001b[39m:\u001b[32m19\u001b[39m)",
      "  $sess.cmd0Wrapper$Helper$List$.apply(\u001b[32mcmd0.sc\u001b[39m:\u001b[32m19\u001b[39m)",
      "  $sess.cmd0Wrapper$Helper$List$.apply(\u001b[32mcmd0.sc\u001b[39m:\u001b[32m19\u001b[39m)",
      "  $sess.cmd0Wrapper$Helper$List$.apply(\u001b[32mcmd0.sc\u001b[39m:\u001b[32m19\u001b[39m)",
      "  $sess.cmd0Wrapper$Helper$List$.apply(\u001b[32mcmd0.sc\u001b[39m:\u001b[32m19\u001b[39m)",
      "  $sess.cmd0Wrapper$Helper$List$.apply(\u001b[32mcmd0.sc\u001b[39m:\u001b[32m19\u001b[39m)",
      "  $sess.cmd0Wrapper$Helper$List$.apply(\u001b[32mcmd0.sc\u001b[39m:\u001b[32m19\u001b[39m)",
      "  $sess.cmd0Wrapper$Helper$List$.apply(\u001b[32mcmd0.sc\u001b[39m:\u001b[32m19\u001b[39m)",
      "  $sess.cmd0Wrapper$Helper$List$.apply(\u001b[32mcmd0.sc\u001b[39m:\u001b[32m19\u001b[39m)",
      "  $sess.cmd0Wrapper$Helper$List$.apply(\u001b[32mcmd0.sc\u001b[39m:\u001b[32m19\u001b[39m)",
      "  $sess.cmd0Wrapper$Helper$List$.apply(\u001b[32mcmd0.sc\u001b[39m:\u001b[32m19\u001b[39m)",
      "  $sess.cmd0Wrapper$Helper$List$.apply(\u001b[32mcmd0.sc\u001b[39m:\u001b[32m19\u001b[39m)",
      "  $sess.cmd0Wrapper$Helper$List$.apply(\u001b[32mcmd0.sc\u001b[39m:\u001b[32m19\u001b[39m)",
      "  $sess.cmd0Wrapper$Helper$List$.apply(\u001b[32mcmd0.sc\u001b[39m:\u001b[32m19\u001b[39m)",
      "  $sess.cmd0Wrapper$Helper$List$.apply(\u001b[32mcmd0.sc\u001b[39m:\u001b[32m19\u001b[39m)",
      "  $sess.cmd0Wrapper$Helper$List$.apply(\u001b[32mcmd0.sc\u001b[39m:\u001b[32m19\u001b[39m)",
      "  $sess.cmd0Wrapper$Helper$List$.apply(\u001b[32mcmd0.sc\u001b[39m:\u001b[32m19\u001b[39m)",
      "  $sess.cmd0Wrapper$Helper$List$.apply(\u001b[32mcmd0.sc\u001b[39m:\u001b[32m19\u001b[39m)",
      "  $sess.cmd0Wrapper$Helper$List$.apply(\u001b[32mcmd0.sc\u001b[39m:\u001b[32m19\u001b[39m)",
      "  $sess.cmd0Wrapper$Helper$List$.apply(\u001b[32mcmd0.sc\u001b[39m:\u001b[32m19\u001b[39m)",
      "  $sess.cmd0Wrapper$Helper$List$.apply(\u001b[32mcmd0.sc\u001b[39m:\u001b[32m19\u001b[39m)",
      "  $sess.cmd0Wrapper$Helper$List$.apply(\u001b[32mcmd0.sc\u001b[39m:\u001b[32m19\u001b[39m)",
      "  $sess.cmd0Wrapper$Helper$List$.apply(\u001b[32mcmd0.sc\u001b[39m:\u001b[32m19\u001b[39m)",
      "  $sess.cmd0Wrapper$Helper$List$.apply(\u001b[32mcmd0.sc\u001b[39m:\u001b[32m19\u001b[39m)",
      "  $sess.cmd0Wrapper$Helper$List$.apply(\u001b[32mcmd0.sc\u001b[39m:\u001b[32m19\u001b[39m)",
      "  $sess.cmd0Wrapper$Helper$List$.apply(\u001b[32mcmd0.sc\u001b[39m:\u001b[32m19\u001b[39m)",
      "  $sess.cmd0Wrapper$Helper$List$.apply(\u001b[32mcmd0.sc\u001b[39m:\u001b[32m19\u001b[39m)",
      "  $sess.cmd0Wrapper$Helper$List$.apply(\u001b[32mcmd0.sc\u001b[39m:\u001b[32m19\u001b[39m)",
      "  $sess.cmd0Wrapper$Helper$List$.apply(\u001b[32mcmd0.sc\u001b[39m:\u001b[32m19\u001b[39m)",
      "  $sess.cmd0Wrapper$Helper$List$.apply(\u001b[32mcmd0.sc\u001b[39m:\u001b[32m19\u001b[39m)",
      "  $sess.cmd0Wrapper$Helper$List$.apply(\u001b[32mcmd0.sc\u001b[39m:\u001b[32m19\u001b[39m)",
      "  $sess.cmd0Wrapper$Helper$List$.apply(\u001b[32mcmd0.sc\u001b[39m:\u001b[32m19\u001b[39m)",
      "  $sess.cmd0Wrapper$Helper$List$.apply(\u001b[32mcmd0.sc\u001b[39m:\u001b[32m19\u001b[39m)",
      "  $sess.cmd0Wrapper$Helper$List$.apply(\u001b[32mcmd0.sc\u001b[39m:\u001b[32m19\u001b[39m)",
      "  $sess.cmd0Wrapper$Helper$List$.apply(\u001b[32mcmd0.sc\u001b[39m:\u001b[32m19\u001b[39m)",
      "  $sess.cmd0Wrapper$Helper$List$.apply(\u001b[32mcmd0.sc\u001b[39m:\u001b[32m19\u001b[39m)",
      "  $sess.cmd0Wrapper$Helper$List$.apply(\u001b[32mcmd0.sc\u001b[39m:\u001b[32m19\u001b[39m)",
      "  $sess.cmd0Wrapper$Helper$List$.apply(\u001b[32mcmd0.sc\u001b[39m:\u001b[32m19\u001b[39m)",
      "  $sess.cmd0Wrapper$Helper$List$.apply(\u001b[32mcmd0.sc\u001b[39m:\u001b[32m19\u001b[39m)",
      "  $sess.cmd0Wrapper$Helper$List$.apply(\u001b[32mcmd0.sc\u001b[39m:\u001b[32m19\u001b[39m)",
      "  $sess.cmd0Wrapper$Helper$List$.apply(\u001b[32mcmd0.sc\u001b[39m:\u001b[32m19\u001b[39m)",
      "  $sess.cmd0Wrapper$Helper$List$.apply(\u001b[32mcmd0.sc\u001b[39m:\u001b[32m19\u001b[39m)",
      "  $sess.cmd0Wrapper$Helper$List$.apply(\u001b[32mcmd0.sc\u001b[39m:\u001b[32m19\u001b[39m)",
      "  $sess.cmd0Wrapper$Helper$List$.apply(\u001b[32mcmd0.sc\u001b[39m:\u001b[32m19\u001b[39m)",
      "  $sess.cmd0Wrapper$Helper$List$.apply(\u001b[32mcmd0.sc\u001b[39m:\u001b[32m19\u001b[39m)",
      "  $sess.cmd0Wrapper$Helper$List$.apply(\u001b[32mcmd0.sc\u001b[39m:\u001b[32m19\u001b[39m)",
      "  $sess.cmd0Wrapper$Helper$List$.apply(\u001b[32mcmd0.sc\u001b[39m:\u001b[32m19\u001b[39m)",
      "  $sess.cmd0Wrapper$Helper$List$.apply(\u001b[32mcmd0.sc\u001b[39m:\u001b[32m19\u001b[39m)",
      "  $sess.cmd0Wrapper$Helper$List$.apply(\u001b[32mcmd0.sc\u001b[39m:\u001b[32m19\u001b[39m)",
      "  $sess.cmd0Wrapper$Helper$List$.apply(\u001b[32mcmd0.sc\u001b[39m:\u001b[32m19\u001b[39m)",
      "  $sess.cmd0Wrapper$Helper$List$.apply(\u001b[32mcmd0.sc\u001b[39m:\u001b[32m19\u001b[39m)",
      "  $sess.cmd0Wrapper$Helper$List$.apply(\u001b[32mcmd0.sc\u001b[39m:\u001b[32m19\u001b[39m)",
      "  $sess.cmd0Wrapper$Helper$List$.apply(\u001b[32mcmd0.sc\u001b[39m:\u001b[32m19\u001b[39m)",
      "  $sess.cmd0Wrapper$Helper$List$.apply(\u001b[32mcmd0.sc\u001b[39m:\u001b[32m19\u001b[39m)",
      "  $sess.cmd0Wrapper$Helper$List$.apply(\u001b[32mcmd0.sc\u001b[39m:\u001b[32m19\u001b[39m)",
      "  $sess.cmd0Wrapper$Helper$List$.apply(\u001b[32mcmd0.sc\u001b[39m:\u001b[32m19\u001b[39m)",
      "  $sess.cmd0Wrapper$Helper$List$.apply(\u001b[32mcmd0.sc\u001b[39m:\u001b[32m19\u001b[39m)",
      "  $sess.cmd0Wrapper$Helper$List$.apply(\u001b[32mcmd0.sc\u001b[39m:\u001b[32m19\u001b[39m)",
      "  $sess.cmd0Wrapper$Helper$List$.apply(\u001b[32mcmd0.sc\u001b[39m:\u001b[32m19\u001b[39m)",
      "  $sess.cmd0Wrapper$Helper$List$.apply(\u001b[32mcmd0.sc\u001b[39m:\u001b[32m19\u001b[39m)",
      "  $sess.cmd0Wrapper$Helper$List$.apply(\u001b[32mcmd0.sc\u001b[39m:\u001b[32m19\u001b[39m)",
      "  $sess.cmd0Wrapper$Helper$List$.apply(\u001b[32mcmd0.sc\u001b[39m:\u001b[32m19\u001b[39m)",
      "  $sess.cmd0Wrapper$Helper$List$.apply(\u001b[32mcmd0.sc\u001b[39m:\u001b[32m19\u001b[39m)",
      "  $sess.cmd0Wrapper$Helper$List$.apply(\u001b[32mcmd0.sc\u001b[39m:\u001b[32m19\u001b[39m)",
      "  $sess.cmd0Wrapper$Helper$List$.apply(\u001b[32mcmd0.sc\u001b[39m:\u001b[32m19\u001b[39m)",
      "  $sess.cmd0Wrapper$Helper$List$.apply(\u001b[32mcmd0.sc\u001b[39m:\u001b[32m19\u001b[39m)",
      "  $sess.cmd0Wrapper$Helper$List$.apply(\u001b[32mcmd0.sc\u001b[39m:\u001b[32m19\u001b[39m)",
      "  $sess.cmd0Wrapper$Helper$List$.apply(\u001b[32mcmd0.sc\u001b[39m:\u001b[32m19\u001b[39m)",
      "  $sess.cmd0Wrapper$Helper$List$.apply(\u001b[32mcmd0.sc\u001b[39m:\u001b[32m19\u001b[39m)",
      "  $sess.cmd0Wrapper$Helper$List$.apply(\u001b[32mcmd0.sc\u001b[39m:\u001b[32m19\u001b[39m)",
      "  $sess.cmd0Wrapper$Helper$List$.apply(\u001b[32mcmd0.sc\u001b[39m:\u001b[32m19\u001b[39m)",
      "  $sess.cmd0Wrapper$Helper$List$.apply(\u001b[32mcmd0.sc\u001b[39m:\u001b[32m19\u001b[39m)",
      "  $sess.cmd0Wrapper$Helper$List$.apply(\u001b[32mcmd0.sc\u001b[39m:\u001b[32m19\u001b[39m)",
      "  $sess.cmd0Wrapper$Helper$List$.apply(\u001b[32mcmd0.sc\u001b[39m:\u001b[32m19\u001b[39m)",
      "  $sess.cmd0Wrapper$Helper$List$.apply(\u001b[32mcmd0.sc\u001b[39m:\u001b[32m19\u001b[39m)",
      "  $sess.cmd0Wrapper$Helper$List$.apply(\u001b[32mcmd0.sc\u001b[39m:\u001b[32m19\u001b[39m)",
      "  $sess.cmd0Wrapper$Helper$List$.apply(\u001b[32mcmd0.sc\u001b[39m:\u001b[32m19\u001b[39m)",
      "  $sess.cmd0Wrapper$Helper$List$.apply(\u001b[32mcmd0.sc\u001b[39m:\u001b[32m19\u001b[39m)",
      "  $sess.cmd0Wrapper$Helper$List$.apply(\u001b[32mcmd0.sc\u001b[39m:\u001b[32m19\u001b[39m)",
      "  $sess.cmd0Wrapper$Helper$List$.apply(\u001b[32mcmd0.sc\u001b[39m:\u001b[32m19\u001b[39m)",
      "  $sess.cmd0Wrapper$Helper$List$.apply(\u001b[32mcmd0.sc\u001b[39m:\u001b[32m19\u001b[39m)",
      "  $sess.cmd0Wrapper$Helper$List$.apply(\u001b[32mcmd0.sc\u001b[39m:\u001b[32m19\u001b[39m)",
      "  $sess.cmd0Wrapper$Helper$List$.apply(\u001b[32mcmd0.sc\u001b[39m:\u001b[32m19\u001b[39m)",
      "  $sess.cmd0Wrapper$Helper$List$.apply(\u001b[32mcmd0.sc\u001b[39m:\u001b[32m19\u001b[39m)",
      "  $sess.cmd0Wrapper$Helper$List$.apply(\u001b[32mcmd0.sc\u001b[39m:\u001b[32m19\u001b[39m)",
      "  $sess.cmd0Wrapper$Helper$List$.apply(\u001b[32mcmd0.sc\u001b[39m:\u001b[32m19\u001b[39m)",
      "  $sess.cmd0Wrapper$Helper$List$.apply(\u001b[32mcmd0.sc\u001b[39m:\u001b[32m19\u001b[39m)",
      "  $sess.cmd0Wrapper$Helper$List$.apply(\u001b[32mcmd0.sc\u001b[39m:\u001b[32m19\u001b[39m)",
      "  $sess.cmd0Wrapper$Helper$List$.apply(\u001b[32mcmd0.sc\u001b[39m:\u001b[32m19\u001b[39m)",
      "  $sess.cmd0Wrapper$Helper$List$.apply(\u001b[32mcmd0.sc\u001b[39m:\u001b[32m19\u001b[39m)",
      "  $sess.cmd0Wrapper$Helper$List$.apply(\u001b[32mcmd0.sc\u001b[39m:\u001b[32m19\u001b[39m)",
      "  $sess.cmd0Wrapper$Helper$List$.apply(\u001b[32mcmd0.sc\u001b[39m:\u001b[32m19\u001b[39m)",
      "  $sess.cmd0Wrapper$Helper$List$.apply(\u001b[32mcmd0.sc\u001b[39m:\u001b[32m19\u001b[39m)",
      "  $sess.cmd0Wrapper$Helper$List$.apply(\u001b[32mcmd0.sc\u001b[39m:\u001b[32m19\u001b[39m)",
      "  $sess.cmd0Wrapper$Helper$List$.apply(\u001b[32mcmd0.sc\u001b[39m:\u001b[32m19\u001b[39m)",
      "  $sess.cmd0Wrapper$Helper$List$.apply(\u001b[32mcmd0.sc\u001b[39m:\u001b[32m19\u001b[39m)",
      "  $sess.cmd0Wrapper$Helper$List$.apply(\u001b[32mcmd0.sc\u001b[39m:\u001b[32m19\u001b[39m)",
      "  $sess.cmd0Wrapper$Helper$List$.apply(\u001b[32mcmd0.sc\u001b[39m:\u001b[32m19\u001b[39m)",
      "  $sess.cmd0Wrapper$Helper$List$.apply(\u001b[32mcmd0.sc\u001b[39m:\u001b[32m19\u001b[39m)",
      "  $sess.cmd0Wrapper$Helper$List$.apply(\u001b[32mcmd0.sc\u001b[39m:\u001b[32m19\u001b[39m)",
      "  $sess.cmd0Wrapper$Helper$List$.apply(\u001b[32mcmd0.sc\u001b[39m:\u001b[32m19\u001b[39m)",
      "  $sess.cmd0Wrapper$Helper$List$.apply(\u001b[32mcmd0.sc\u001b[39m:\u001b[32m19\u001b[39m)",
      "  $sess.cmd0Wrapper$Helper$List$.apply(\u001b[32mcmd0.sc\u001b[39m:\u001b[32m19\u001b[39m)",
      "  $sess.cmd0Wrapper$Helper$List$.apply(\u001b[32mcmd0.sc\u001b[39m:\u001b[32m19\u001b[39m)",
      "  $sess.cmd0Wrapper$Helper$List$.apply(\u001b[32mcmd0.sc\u001b[39m:\u001b[32m19\u001b[39m)",
      "  $sess.cmd0Wrapper$Helper$List$.apply(\u001b[32mcmd0.sc\u001b[39m:\u001b[32m19\u001b[39m)",
      "  $sess.cmd0Wrapper$Helper$List$.apply(\u001b[32mcmd0.sc\u001b[39m:\u001b[32m19\u001b[39m)",
      "  $sess.cmd0Wrapper$Helper$List$.apply(\u001b[32mcmd0.sc\u001b[39m:\u001b[32m19\u001b[39m)",
      "  $sess.cmd0Wrapper$Helper$List$.apply(\u001b[32mcmd0.sc\u001b[39m:\u001b[32m19\u001b[39m)",
      "  $sess.cmd0Wrapper$Helper$List$.apply(\u001b[32mcmd0.sc\u001b[39m:\u001b[32m19\u001b[39m)",
      "  $sess.cmd0Wrapper$Helper$List$.apply(\u001b[32mcmd0.sc\u001b[39m:\u001b[32m19\u001b[39m)",
      "  $sess.cmd0Wrapper$Helper$List$.apply(\u001b[32mcmd0.sc\u001b[39m:\u001b[32m19\u001b[39m)",
      "  $sess.cmd0Wrapper$Helper$List$.apply(\u001b[32mcmd0.sc\u001b[39m:\u001b[32m19\u001b[39m)",
      "  $sess.cmd0Wrapper$Helper$List$.apply(\u001b[32mcmd0.sc\u001b[39m:\u001b[32m19\u001b[39m)",
      "  $sess.cmd0Wrapper$Helper$List$.apply(\u001b[32mcmd0.sc\u001b[39m:\u001b[32m19\u001b[39m)",
      "  $sess.cmd0Wrapper$Helper$List$.apply(\u001b[32mcmd0.sc\u001b[39m:\u001b[32m19\u001b[39m)",
      "  $sess.cmd0Wrapper$Helper$List$.apply(\u001b[32mcmd0.sc\u001b[39m:\u001b[32m19\u001b[39m)",
      "  $sess.cmd0Wrapper$Helper$List$.apply(\u001b[32mcmd0.sc\u001b[39m:\u001b[32m19\u001b[39m)",
      "  $sess.cmd0Wrapper$Helper$List$.apply(\u001b[32mcmd0.sc\u001b[39m:\u001b[32m19\u001b[39m)",
      "  $sess.cmd0Wrapper$Helper$List$.apply(\u001b[32mcmd0.sc\u001b[39m:\u001b[32m19\u001b[39m)",
      "  $sess.cmd0Wrapper$Helper$List$.apply(\u001b[32mcmd0.sc\u001b[39m:\u001b[32m19\u001b[39m)",
      "  $sess.cmd0Wrapper$Helper$List$.apply(\u001b[32mcmd0.sc\u001b[39m:\u001b[32m19\u001b[39m)",
      "  $sess.cmd0Wrapper$Helper$List$.apply(\u001b[32mcmd0.sc\u001b[39m:\u001b[32m19\u001b[39m)",
      "  $sess.cmd0Wrapper$Helper$List$.apply(\u001b[32mcmd0.sc\u001b[39m:\u001b[32m19\u001b[39m)",
      "  $sess.cmd0Wrapper$Helper$List$.apply(\u001b[32mcmd0.sc\u001b[39m:\u001b[32m19\u001b[39m)",
      "  $sess.cmd0Wrapper$Helper$List$.apply(\u001b[32mcmd0.sc\u001b[39m:\u001b[32m19\u001b[39m)",
      "  $sess.cmd0Wrapper$Helper$List$.apply(\u001b[32mcmd0.sc\u001b[39m:\u001b[32m19\u001b[39m)",
      "  $sess.cmd0Wrapper$Helper$List$.apply(\u001b[32mcmd0.sc\u001b[39m:\u001b[32m19\u001b[39m)",
      "  $sess.cmd0Wrapper$Helper$List$.apply(\u001b[32mcmd0.sc\u001b[39m:\u001b[32m19\u001b[39m)",
      "  $sess.cmd0Wrapper$Helper$List$.apply(\u001b[32mcmd0.sc\u001b[39m:\u001b[32m19\u001b[39m)",
      "  $sess.cmd0Wrapper$Helper$List$.apply(\u001b[32mcmd0.sc\u001b[39m:\u001b[32m19\u001b[39m)",
      "  $sess.cmd0Wrapper$Helper$List$.apply(\u001b[32mcmd0.sc\u001b[39m:\u001b[32m19\u001b[39m)",
      "  $sess.cmd0Wrapper$Helper$List$.apply(\u001b[32mcmd0.sc\u001b[39m:\u001b[32m19\u001b[39m)",
      "  $sess.cmd0Wrapper$Helper$List$.apply(\u001b[32mcmd0.sc\u001b[39m:\u001b[32m19\u001b[39m)",
      "  $sess.cmd0Wrapper$Helper$List$.apply(\u001b[32mcmd0.sc\u001b[39m:\u001b[32m19\u001b[39m)",
      "  $sess.cmd0Wrapper$Helper$List$.apply(\u001b[32mcmd0.sc\u001b[39m:\u001b[32m19\u001b[39m)",
      "  $sess.cmd0Wrapper$Helper$List$.apply(\u001b[32mcmd0.sc\u001b[39m:\u001b[32m19\u001b[39m)",
      "  $sess.cmd0Wrapper$Helper$List$.apply(\u001b[32mcmd0.sc\u001b[39m:\u001b[32m19\u001b[39m)",
      "  $sess.cmd0Wrapper$Helper$List$.apply(\u001b[32mcmd0.sc\u001b[39m:\u001b[32m19\u001b[39m)",
      "  $sess.cmd0Wrapper$Helper$List$.apply(\u001b[32mcmd0.sc\u001b[39m:\u001b[32m19\u001b[39m)",
      "  $sess.cmd0Wrapper$Helper$List$.apply(\u001b[32mcmd0.sc\u001b[39m:\u001b[32m19\u001b[39m)",
      "  $sess.cmd0Wrapper$Helper$List$.apply(\u001b[32mcmd0.sc\u001b[39m:\u001b[32m19\u001b[39m)",
      "  $sess.cmd0Wrapper$Helper$List$.apply(\u001b[32mcmd0.sc\u001b[39m:\u001b[32m19\u001b[39m)",
      "  $sess.cmd0Wrapper$Helper$List$.apply(\u001b[32mcmd0.sc\u001b[39m:\u001b[32m19\u001b[39m)",
      "  $sess.cmd0Wrapper$Helper$List$.apply(\u001b[32mcmd0.sc\u001b[39m:\u001b[32m19\u001b[39m)",
      "  $sess.cmd0Wrapper$Helper$List$.apply(\u001b[32mcmd0.sc\u001b[39m:\u001b[32m19\u001b[39m)",
      "  $sess.cmd0Wrapper$Helper$List$.apply(\u001b[32mcmd0.sc\u001b[39m:\u001b[32m19\u001b[39m)",
      "  $sess.cmd0Wrapper$Helper$List$.apply(\u001b[32mcmd0.sc\u001b[39m:\u001b[32m19\u001b[39m)",
      "  $sess.cmd0Wrapper$Helper$List$.apply(\u001b[32mcmd0.sc\u001b[39m:\u001b[32m19\u001b[39m)",
      "  $sess.cmd0Wrapper$Helper$List$.apply(\u001b[32mcmd0.sc\u001b[39m:\u001b[32m19\u001b[39m)",
      "  $sess.cmd0Wrapper$Helper$List$.apply(\u001b[32mcmd0.sc\u001b[39m:\u001b[32m19\u001b[39m)",
      "  $sess.cmd0Wrapper$Helper$List$.apply(\u001b[32mcmd0.sc\u001b[39m:\u001b[32m19\u001b[39m)",
      "  $sess.cmd0Wrapper$Helper$List$.apply(\u001b[32mcmd0.sc\u001b[39m:\u001b[32m19\u001b[39m)",
      "  $sess.cmd0Wrapper$Helper$List$.apply(\u001b[32mcmd0.sc\u001b[39m:\u001b[32m19\u001b[39m)",
      "  $sess.cmd0Wrapper$Helper$List$.apply(\u001b[32mcmd0.sc\u001b[39m:\u001b[32m19\u001b[39m)",
      "  $sess.cmd0Wrapper$Helper$List$.apply(\u001b[32mcmd0.sc\u001b[39m:\u001b[32m19\u001b[39m)",
      "  $sess.cmd0Wrapper$Helper$List$.apply(\u001b[32mcmd0.sc\u001b[39m:\u001b[32m19\u001b[39m)",
      "  $sess.cmd0Wrapper$Helper$List$.apply(\u001b[32mcmd0.sc\u001b[39m:\u001b[32m19\u001b[39m)",
      "  $sess.cmd0Wrapper$Helper$List$.apply(\u001b[32mcmd0.sc\u001b[39m:\u001b[32m19\u001b[39m)",
      "  $sess.cmd0Wrapper$Helper$List$.apply(\u001b[32mcmd0.sc\u001b[39m:\u001b[32m19\u001b[39m)",
      "  $sess.cmd0Wrapper$Helper$List$.apply(\u001b[32mcmd0.sc\u001b[39m:\u001b[32m19\u001b[39m)",
      "  $sess.cmd0Wrapper$Helper$List$.apply(\u001b[32mcmd0.sc\u001b[39m:\u001b[32m19\u001b[39m)",
      "  $sess.cmd0Wrapper$Helper$List$.apply(\u001b[32mcmd0.sc\u001b[39m:\u001b[32m19\u001b[39m)",
      "  $sess.cmd0Wrapper$Helper$List$.apply(\u001b[32mcmd0.sc\u001b[39m:\u001b[32m19\u001b[39m)",
      "  $sess.cmd0Wrapper$Helper$List$.apply(\u001b[32mcmd0.sc\u001b[39m:\u001b[32m19\u001b[39m)",
      "  $sess.cmd0Wrapper$Helper$List$.apply(\u001b[32mcmd0.sc\u001b[39m:\u001b[32m19\u001b[39m)",
      "  $sess.cmd0Wrapper$Helper$List$.apply(\u001b[32mcmd0.sc\u001b[39m:\u001b[32m19\u001b[39m)",
      "  $sess.cmd0Wrapper$Helper$List$.apply(\u001b[32mcmd0.sc\u001b[39m:\u001b[32m19\u001b[39m)",
      "  $sess.cmd0Wrapper$Helper$List$.apply(\u001b[32mcmd0.sc\u001b[39m:\u001b[32m19\u001b[39m)",
      "  $sess.cmd0Wrapper$Helper$List$.apply(\u001b[32mcmd0.sc\u001b[39m:\u001b[32m19\u001b[39m)",
      "  $sess.cmd0Wrapper$Helper$List$.apply(\u001b[32mcmd0.sc\u001b[39m:\u001b[32m19\u001b[39m)",
      "  $sess.cmd0Wrapper$Helper$List$.apply(\u001b[32mcmd0.sc\u001b[39m:\u001b[32m19\u001b[39m)",
      "  $sess.cmd0Wrapper$Helper$List$.apply(\u001b[32mcmd0.sc\u001b[39m:\u001b[32m19\u001b[39m)",
      "  $sess.cmd0Wrapper$Helper$List$.apply(\u001b[32mcmd0.sc\u001b[39m:\u001b[32m19\u001b[39m)",
      "  $sess.cmd0Wrapper$Helper$List$.apply(\u001b[32mcmd0.sc\u001b[39m:\u001b[32m19\u001b[39m)",
      "  $sess.cmd0Wrapper$Helper$List$.apply(\u001b[32mcmd0.sc\u001b[39m:\u001b[32m19\u001b[39m)",
      "  $sess.cmd0Wrapper$Helper$List$.apply(\u001b[32mcmd0.sc\u001b[39m:\u001b[32m19\u001b[39m)",
      "  $sess.cmd0Wrapper$Helper$List$.apply(\u001b[32mcmd0.sc\u001b[39m:\u001b[32m19\u001b[39m)",
      "  $sess.cmd0Wrapper$Helper$List$.apply(\u001b[32mcmd0.sc\u001b[39m:\u001b[32m19\u001b[39m)",
      "  $sess.cmd0Wrapper$Helper$List$.apply(\u001b[32mcmd0.sc\u001b[39m:\u001b[32m19\u001b[39m)",
      "  $sess.cmd0Wrapper$Helper$List$.apply(\u001b[32mcmd0.sc\u001b[39m:\u001b[32m19\u001b[39m)",
      "  $sess.cmd0Wrapper$Helper$List$.apply(\u001b[32mcmd0.sc\u001b[39m:\u001b[32m19\u001b[39m)",
      "  $sess.cmd0Wrapper$Helper$List$.apply(\u001b[32mcmd0.sc\u001b[39m:\u001b[32m19\u001b[39m)",
      "  $sess.cmd0Wrapper$Helper$List$.apply(\u001b[32mcmd0.sc\u001b[39m:\u001b[32m19\u001b[39m)",
      "  $sess.cmd0Wrapper$Helper$List$.apply(\u001b[32mcmd0.sc\u001b[39m:\u001b[32m19\u001b[39m)",
      "  $sess.cmd0Wrapper$Helper$List$.apply(\u001b[32mcmd0.sc\u001b[39m:\u001b[32m19\u001b[39m)",
      "  $sess.cmd0Wrapper$Helper$List$.apply(\u001b[32mcmd0.sc\u001b[39m:\u001b[32m19\u001b[39m)",
      "  $sess.cmd0Wrapper$Helper$List$.apply(\u001b[32mcmd0.sc\u001b[39m:\u001b[32m19\u001b[39m)",
      "  $sess.cmd0Wrapper$Helper$List$.apply(\u001b[32mcmd0.sc\u001b[39m:\u001b[32m19\u001b[39m)",
      "  $sess.cmd0Wrapper$Helper$List$.apply(\u001b[32mcmd0.sc\u001b[39m:\u001b[32m19\u001b[39m)",
      "  $sess.cmd0Wrapper$Helper$List$.apply(\u001b[32mcmd0.sc\u001b[39m:\u001b[32m19\u001b[39m)",
      "  $sess.cmd0Wrapper$Helper$List$.apply(\u001b[32mcmd0.sc\u001b[39m:\u001b[32m19\u001b[39m)",
      "  $sess.cmd0Wrapper$Helper$List$.apply(\u001b[32mcmd0.sc\u001b[39m:\u001b[32m19\u001b[39m)",
      "  $sess.cmd0Wrapper$Helper$List$.apply(\u001b[32mcmd0.sc\u001b[39m:\u001b[32m19\u001b[39m)",
      "  $sess.cmd0Wrapper$Helper$List$.apply(\u001b[32mcmd0.sc\u001b[39m:\u001b[32m19\u001b[39m)",
      "  $sess.cmd0Wrapper$Helper$List$.apply(\u001b[32mcmd0.sc\u001b[39m:\u001b[32m19\u001b[39m)",
      "  $sess.cmd0Wrapper$Helper$List$.apply(\u001b[32mcmd0.sc\u001b[39m:\u001b[32m19\u001b[39m)",
      "  $sess.cmd0Wrapper$Helper$List$.apply(\u001b[32mcmd0.sc\u001b[39m:\u001b[32m19\u001b[39m)",
      "  $sess.cmd0Wrapper$Helper$List$.apply(\u001b[32mcmd0.sc\u001b[39m:\u001b[32m19\u001b[39m)",
      "  $sess.cmd0Wrapper$Helper$List$.apply(\u001b[32mcmd0.sc\u001b[39m:\u001b[32m19\u001b[39m)",
      "  $sess.cmd0Wrapper$Helper$List$.apply(\u001b[32mcmd0.sc\u001b[39m:\u001b[32m19\u001b[39m)",
      "  $sess.cmd0Wrapper$Helper$List$.apply(\u001b[32mcmd0.sc\u001b[39m:\u001b[32m19\u001b[39m)",
      "  $sess.cmd0Wrapper$Helper$List$.apply(\u001b[32mcmd0.sc\u001b[39m:\u001b[32m19\u001b[39m)",
      "  $sess.cmd0Wrapper$Helper$List$.apply(\u001b[32mcmd0.sc\u001b[39m:\u001b[32m19\u001b[39m)",
      "  $sess.cmd0Wrapper$Helper$List$.apply(\u001b[32mcmd0.sc\u001b[39m:\u001b[32m19\u001b[39m)",
      "  $sess.cmd0Wrapper$Helper$List$.apply(\u001b[32mcmd0.sc\u001b[39m:\u001b[32m19\u001b[39m)",
      "  $sess.cmd0Wrapper$Helper$List$.apply(\u001b[32mcmd0.sc\u001b[39m:\u001b[32m19\u001b[39m)",
      "  $sess.cmd0Wrapper$Helper$List$.apply(\u001b[32mcmd0.sc\u001b[39m:\u001b[32m19\u001b[39m)",
      "  $sess.cmd0Wrapper$Helper$List$.apply(\u001b[32mcmd0.sc\u001b[39m:\u001b[32m19\u001b[39m)",
      "  $sess.cmd0Wrapper$Helper$List$.apply(\u001b[32mcmd0.sc\u001b[39m:\u001b[32m19\u001b[39m)",
      "  $sess.cmd0Wrapper$Helper$List$.apply(\u001b[32mcmd0.sc\u001b[39m:\u001b[32m19\u001b[39m)",
      "  $sess.cmd0Wrapper$Helper$List$.apply(\u001b[32mcmd0.sc\u001b[39m:\u001b[32m19\u001b[39m)",
      "  $sess.cmd0Wrapper$Helper$List$.apply(\u001b[32mcmd0.sc\u001b[39m:\u001b[32m19\u001b[39m)",
      "  $sess.cmd0Wrapper$Helper$List$.apply(\u001b[32mcmd0.sc\u001b[39m:\u001b[32m19\u001b[39m)",
      "  $sess.cmd0Wrapper$Helper$List$.apply(\u001b[32mcmd0.sc\u001b[39m:\u001b[32m19\u001b[39m)",
      "  $sess.cmd0Wrapper$Helper$List$.apply(\u001b[32mcmd0.sc\u001b[39m:\u001b[32m19\u001b[39m)",
      "  $sess.cmd0Wrapper$Helper$List$.apply(\u001b[32mcmd0.sc\u001b[39m:\u001b[32m19\u001b[39m)",
      "  $sess.cmd0Wrapper$Helper$List$.apply(\u001b[32mcmd0.sc\u001b[39m:\u001b[32m19\u001b[39m)",
      "  $sess.cmd0Wrapper$Helper$List$.apply(\u001b[32mcmd0.sc\u001b[39m:\u001b[32m19\u001b[39m)",
      "  $sess.cmd0Wrapper$Helper$List$.apply(\u001b[32mcmd0.sc\u001b[39m:\u001b[32m19\u001b[39m)",
      "  $sess.cmd0Wrapper$Helper$List$.apply(\u001b[32mcmd0.sc\u001b[39m:\u001b[32m19\u001b[39m)",
      "  $sess.cmd0Wrapper$Helper$List$.apply(\u001b[32mcmd0.sc\u001b[39m:\u001b[32m19\u001b[39m)",
      "  $sess.cmd0Wrapper$Helper$List$.apply(\u001b[32mcmd0.sc\u001b[39m:\u001b[32m19\u001b[39m)",
      "  $sess.cmd0Wrapper$Helper$List$.apply(\u001b[32mcmd0.sc\u001b[39m:\u001b[32m19\u001b[39m)",
      "  $sess.cmd0Wrapper$Helper$List$.apply(\u001b[32mcmd0.sc\u001b[39m:\u001b[32m19\u001b[39m)",
      "  $sess.cmd0Wrapper$Helper$List$.apply(\u001b[32mcmd0.sc\u001b[39m:\u001b[32m19\u001b[39m)",
      "  $sess.cmd0Wrapper$Helper$List$.apply(\u001b[32mcmd0.sc\u001b[39m:\u001b[32m19\u001b[39m)",
      "  $sess.cmd0Wrapper$Helper$List$.apply(\u001b[32mcmd0.sc\u001b[39m:\u001b[32m19\u001b[39m)",
      "  $sess.cmd0Wrapper$Helper$List$.apply(\u001b[32mcmd0.sc\u001b[39m:\u001b[32m19\u001b[39m)",
      "  $sess.cmd0Wrapper$Helper$List$.apply(\u001b[32mcmd0.sc\u001b[39m:\u001b[32m19\u001b[39m)",
      "  $sess.cmd0Wrapper$Helper$List$.apply(\u001b[32mcmd0.sc\u001b[39m:\u001b[32m19\u001b[39m)",
      "  $sess.cmd0Wrapper$Helper$List$.apply(\u001b[32mcmd0.sc\u001b[39m:\u001b[32m19\u001b[39m)",
      "  $sess.cmd0Wrapper$Helper$List$.apply(\u001b[32mcmd0.sc\u001b[39m:\u001b[32m19\u001b[39m)",
      "  $sess.cmd0Wrapper$Helper$List$.apply(\u001b[32mcmd0.sc\u001b[39m:\u001b[32m19\u001b[39m)",
      "  $sess.cmd0Wrapper$Helper$List$.apply(\u001b[32mcmd0.sc\u001b[39m:\u001b[32m19\u001b[39m)",
      "  $sess.cmd0Wrapper$Helper$List$.apply(\u001b[32mcmd0.sc\u001b[39m:\u001b[32m19\u001b[39m)",
      "  $sess.cmd0Wrapper$Helper$List$.apply(\u001b[32mcmd0.sc\u001b[39m:\u001b[32m19\u001b[39m)",
      "  $sess.cmd0Wrapper$Helper$List$.apply(\u001b[32mcmd0.sc\u001b[39m:\u001b[32m19\u001b[39m)",
      "  $sess.cmd0Wrapper$Helper$List$.apply(\u001b[32mcmd0.sc\u001b[39m:\u001b[32m19\u001b[39m)",
      "  $sess.cmd0Wrapper$Helper$List$.apply(\u001b[32mcmd0.sc\u001b[39m:\u001b[32m19\u001b[39m)",
      "  $sess.cmd0Wrapper$Helper$List$.apply(\u001b[32mcmd0.sc\u001b[39m:\u001b[32m19\u001b[39m)",
      "  $sess.cmd0Wrapper$Helper$List$.apply(\u001b[32mcmd0.sc\u001b[39m:\u001b[32m19\u001b[39m)",
      "  $sess.cmd0Wrapper$Helper$List$.apply(\u001b[32mcmd0.sc\u001b[39m:\u001b[32m19\u001b[39m)",
      "  $sess.cmd0Wrapper$Helper$List$.apply(\u001b[32mcmd0.sc\u001b[39m:\u001b[32m19\u001b[39m)",
      "  $sess.cmd0Wrapper$Helper$List$.apply(\u001b[32mcmd0.sc\u001b[39m:\u001b[32m19\u001b[39m)",
      "  $sess.cmd0Wrapper$Helper$List$.apply(\u001b[32mcmd0.sc\u001b[39m:\u001b[32m19\u001b[39m)",
      "  $sess.cmd0Wrapper$Helper$List$.apply(\u001b[32mcmd0.sc\u001b[39m:\u001b[32m19\u001b[39m)",
      "  $sess.cmd0Wrapper$Helper$List$.apply(\u001b[32mcmd0.sc\u001b[39m:\u001b[32m19\u001b[39m)",
      "  $sess.cmd0Wrapper$Helper$List$.apply(\u001b[32mcmd0.sc\u001b[39m:\u001b[32m19\u001b[39m)",
      "  $sess.cmd0Wrapper$Helper$List$.apply(\u001b[32mcmd0.sc\u001b[39m:\u001b[32m19\u001b[39m)",
      "  $sess.cmd0Wrapper$Helper$List$.apply(\u001b[32mcmd0.sc\u001b[39m:\u001b[32m19\u001b[39m)",
      "  $sess.cmd0Wrapper$Helper$List$.apply(\u001b[32mcmd0.sc\u001b[39m:\u001b[32m19\u001b[39m)",
      "  $sess.cmd0Wrapper$Helper$List$.apply(\u001b[32mcmd0.sc\u001b[39m:\u001b[32m19\u001b[39m)",
      "  $sess.cmd0Wrapper$Helper$List$.apply(\u001b[32mcmd0.sc\u001b[39m:\u001b[32m19\u001b[39m)",
      "  $sess.cmd0Wrapper$Helper$List$.apply(\u001b[32mcmd0.sc\u001b[39m:\u001b[32m19\u001b[39m)",
      "  $sess.cmd0Wrapper$Helper$List$.apply(\u001b[32mcmd0.sc\u001b[39m:\u001b[32m19\u001b[39m)",
      "  $sess.cmd0Wrapper$Helper$List$.apply(\u001b[32mcmd0.sc\u001b[39m:\u001b[32m19\u001b[39m)",
      "  $sess.cmd0Wrapper$Helper$List$.apply(\u001b[32mcmd0.sc\u001b[39m:\u001b[32m19\u001b[39m)",
      "  $sess.cmd0Wrapper$Helper$List$.apply(\u001b[32mcmd0.sc\u001b[39m:\u001b[32m19\u001b[39m)",
      "  $sess.cmd0Wrapper$Helper$List$.apply(\u001b[32mcmd0.sc\u001b[39m:\u001b[32m19\u001b[39m)",
      "  $sess.cmd0Wrapper$Helper$List$.apply(\u001b[32mcmd0.sc\u001b[39m:\u001b[32m19\u001b[39m)",
      "  $sess.cmd0Wrapper$Helper$List$.apply(\u001b[32mcmd0.sc\u001b[39m:\u001b[32m19\u001b[39m)",
      "  $sess.cmd0Wrapper$Helper$List$.apply(\u001b[32mcmd0.sc\u001b[39m:\u001b[32m19\u001b[39m)",
      "  $sess.cmd0Wrapper$Helper$List$.apply(\u001b[32mcmd0.sc\u001b[39m:\u001b[32m19\u001b[39m)",
      "  $sess.cmd0Wrapper$Helper$List$.apply(\u001b[32mcmd0.sc\u001b[39m:\u001b[32m19\u001b[39m)",
      "  $sess.cmd0Wrapper$Helper$List$.apply(\u001b[32mcmd0.sc\u001b[39m:\u001b[32m19\u001b[39m)",
      "  $sess.cmd0Wrapper$Helper$List$.apply(\u001b[32mcmd0.sc\u001b[39m:\u001b[32m19\u001b[39m)",
      "  $sess.cmd0Wrapper$Helper$List$.apply(\u001b[32mcmd0.sc\u001b[39m:\u001b[32m19\u001b[39m)",
      "  $sess.cmd0Wrapper$Helper$List$.apply(\u001b[32mcmd0.sc\u001b[39m:\u001b[32m19\u001b[39m)",
      "  $sess.cmd0Wrapper$Helper$List$.apply(\u001b[32mcmd0.sc\u001b[39m:\u001b[32m19\u001b[39m)",
      "  $sess.cmd0Wrapper$Helper$List$.apply(\u001b[32mcmd0.sc\u001b[39m:\u001b[32m19\u001b[39m)",
      "  $sess.cmd0Wrapper$Helper$List$.apply(\u001b[32mcmd0.sc\u001b[39m:\u001b[32m19\u001b[39m)",
      "  $sess.cmd0Wrapper$Helper$List$.apply(\u001b[32mcmd0.sc\u001b[39m:\u001b[32m19\u001b[39m)",
      "  $sess.cmd0Wrapper$Helper$List$.apply(\u001b[32mcmd0.sc\u001b[39m:\u001b[32m19\u001b[39m)",
      "  $sess.cmd0Wrapper$Helper$List$.apply(\u001b[32mcmd0.sc\u001b[39m:\u001b[32m19\u001b[39m)",
      "  $sess.cmd0Wrapper$Helper$List$.apply(\u001b[32mcmd0.sc\u001b[39m:\u001b[32m19\u001b[39m)",
      "  $sess.cmd0Wrapper$Helper$List$.apply(\u001b[32mcmd0.sc\u001b[39m:\u001b[32m19\u001b[39m)",
      "  $sess.cmd0Wrapper$Helper$List$.apply(\u001b[32mcmd0.sc\u001b[39m:\u001b[32m19\u001b[39m)",
      "  $sess.cmd0Wrapper$Helper$List$.apply(\u001b[32mcmd0.sc\u001b[39m:\u001b[32m19\u001b[39m)",
      "  $sess.cmd0Wrapper$Helper$List$.apply(\u001b[32mcmd0.sc\u001b[39m:\u001b[32m19\u001b[39m)",
      "  $sess.cmd0Wrapper$Helper$List$.apply(\u001b[32mcmd0.sc\u001b[39m:\u001b[32m19\u001b[39m)",
      "  $sess.cmd0Wrapper$Helper$List$.apply(\u001b[32mcmd0.sc\u001b[39m:\u001b[32m19\u001b[39m)",
      "  $sess.cmd0Wrapper$Helper$List$.apply(\u001b[32mcmd0.sc\u001b[39m:\u001b[32m19\u001b[39m)",
      "  $sess.cmd0Wrapper$Helper$List$.apply(\u001b[32mcmd0.sc\u001b[39m:\u001b[32m19\u001b[39m)",
      "  $sess.cmd0Wrapper$Helper$List$.apply(\u001b[32mcmd0.sc\u001b[39m:\u001b[32m19\u001b[39m)",
      "  $sess.cmd0Wrapper$Helper$List$.apply(\u001b[32mcmd0.sc\u001b[39m:\u001b[32m19\u001b[39m)",
      "  $sess.cmd0Wrapper$Helper$List$.apply(\u001b[32mcmd0.sc\u001b[39m:\u001b[32m19\u001b[39m)",
      "  $sess.cmd0Wrapper$Helper$List$.apply(\u001b[32mcmd0.sc\u001b[39m:\u001b[32m19\u001b[39m)",
      "  $sess.cmd0Wrapper$Helper$List$.apply(\u001b[32mcmd0.sc\u001b[39m:\u001b[32m19\u001b[39m)",
      "  $sess.cmd0Wrapper$Helper$List$.apply(\u001b[32mcmd0.sc\u001b[39m:\u001b[32m19\u001b[39m)",
      "  $sess.cmd0Wrapper$Helper$List$.apply(\u001b[32mcmd0.sc\u001b[39m:\u001b[32m19\u001b[39m)",
      "  $sess.cmd0Wrapper$Helper$List$.apply(\u001b[32mcmd0.sc\u001b[39m:\u001b[32m19\u001b[39m)",
      "  $sess.cmd0Wrapper$Helper$List$.apply(\u001b[32mcmd0.sc\u001b[39m:\u001b[32m19\u001b[39m)",
      "  $sess.cmd0Wrapper$Helper$List$.apply(\u001b[32mcmd0.sc\u001b[39m:\u001b[32m19\u001b[39m)",
      "  $sess.cmd0Wrapper$Helper$List$.apply(\u001b[32mcmd0.sc\u001b[39m:\u001b[32m19\u001b[39m)",
      "  $sess.cmd0Wrapper$Helper$List$.apply(\u001b[32mcmd0.sc\u001b[39m:\u001b[32m19\u001b[39m)",
      "  $sess.cmd0Wrapper$Helper$List$.apply(\u001b[32mcmd0.sc\u001b[39m:\u001b[32m19\u001b[39m)",
      "  $sess.cmd0Wrapper$Helper$List$.apply(\u001b[32mcmd0.sc\u001b[39m:\u001b[32m19\u001b[39m)",
      "  $sess.cmd0Wrapper$Helper$List$.apply(\u001b[32mcmd0.sc\u001b[39m:\u001b[32m19\u001b[39m)",
      "  $sess.cmd0Wrapper$Helper$List$.apply(\u001b[32mcmd0.sc\u001b[39m:\u001b[32m19\u001b[39m)",
      "  $sess.cmd0Wrapper$Helper$List$.apply(\u001b[32mcmd0.sc\u001b[39m:\u001b[32m19\u001b[39m)",
      "  $sess.cmd0Wrapper$Helper$List$.apply(\u001b[32mcmd0.sc\u001b[39m:\u001b[32m19\u001b[39m)",
      "  $sess.cmd0Wrapper$Helper$List$.apply(\u001b[32mcmd0.sc\u001b[39m:\u001b[32m19\u001b[39m)",
      "  $sess.cmd0Wrapper$Helper$List$.apply(\u001b[32mcmd0.sc\u001b[39m:\u001b[32m19\u001b[39m)",
      "  $sess.cmd0Wrapper$Helper$List$.apply(\u001b[32mcmd0.sc\u001b[39m:\u001b[32m19\u001b[39m)",
      "  $sess.cmd0Wrapper$Helper$List$.apply(\u001b[32mcmd0.sc\u001b[39m:\u001b[32m19\u001b[39m)",
      "  $sess.cmd0Wrapper$Helper$List$.apply(\u001b[32mcmd0.sc\u001b[39m:\u001b[32m19\u001b[39m)",
      "  $sess.cmd0Wrapper$Helper$List$.apply(\u001b[32mcmd0.sc\u001b[39m:\u001b[32m19\u001b[39m)",
      "  $sess.cmd0Wrapper$Helper$List$.apply(\u001b[32mcmd0.sc\u001b[39m:\u001b[32m19\u001b[39m)",
      "  $sess.cmd0Wrapper$Helper$List$.apply(\u001b[32mcmd0.sc\u001b[39m:\u001b[32m19\u001b[39m)",
      "  $sess.cmd0Wrapper$Helper$List$.apply(\u001b[32mcmd0.sc\u001b[39m:\u001b[32m19\u001b[39m)",
      "  $sess.cmd0Wrapper$Helper$List$.apply(\u001b[32mcmd0.sc\u001b[39m:\u001b[32m19\u001b[39m)",
      "  $sess.cmd0Wrapper$Helper$List$.apply(\u001b[32mcmd0.sc\u001b[39m:\u001b[32m19\u001b[39m)",
      "  $sess.cmd0Wrapper$Helper$List$.apply(\u001b[32mcmd0.sc\u001b[39m:\u001b[32m19\u001b[39m)",
      "  $sess.cmd0Wrapper$Helper$List$.apply(\u001b[32mcmd0.sc\u001b[39m:\u001b[32m19\u001b[39m)",
      "  $sess.cmd0Wrapper$Helper$List$.apply(\u001b[32mcmd0.sc\u001b[39m:\u001b[32m19\u001b[39m)",
      "  $sess.cmd0Wrapper$Helper$List$.apply(\u001b[32mcmd0.sc\u001b[39m:\u001b[32m19\u001b[39m)",
      "  $sess.cmd0Wrapper$Helper$List$.apply(\u001b[32mcmd0.sc\u001b[39m:\u001b[32m19\u001b[39m)",
      "  $sess.cmd0Wrapper$Helper$List$.apply(\u001b[32mcmd0.sc\u001b[39m:\u001b[32m19\u001b[39m)",
      "  $sess.cmd0Wrapper$Helper$List$.apply(\u001b[32mcmd0.sc\u001b[39m:\u001b[32m19\u001b[39m)",
      "  $sess.cmd0Wrapper$Helper$List$.apply(\u001b[32mcmd0.sc\u001b[39m:\u001b[32m19\u001b[39m)",
      "  $sess.cmd0Wrapper$Helper$List$.apply(\u001b[32mcmd0.sc\u001b[39m:\u001b[32m19\u001b[39m)",
      "  $sess.cmd0Wrapper$Helper$List$.apply(\u001b[32mcmd0.sc\u001b[39m:\u001b[32m19\u001b[39m)",
      "  $sess.cmd0Wrapper$Helper$List$.apply(\u001b[32mcmd0.sc\u001b[39m:\u001b[32m19\u001b[39m)",
      "  $sess.cmd0Wrapper$Helper$List$.apply(\u001b[32mcmd0.sc\u001b[39m:\u001b[32m19\u001b[39m)",
      "  $sess.cmd0Wrapper$Helper$List$.apply(\u001b[32mcmd0.sc\u001b[39m:\u001b[32m19\u001b[39m)",
      "  $sess.cmd0Wrapper$Helper$List$.apply(\u001b[32mcmd0.sc\u001b[39m:\u001b[32m19\u001b[39m)",
      "  $sess.cmd0Wrapper$Helper$List$.apply(\u001b[32mcmd0.sc\u001b[39m:\u001b[32m19\u001b[39m)",
      "  $sess.cmd0Wrapper$Helper$List$.apply(\u001b[32mcmd0.sc\u001b[39m:\u001b[32m19\u001b[39m)",
      "  $sess.cmd0Wrapper$Helper$List$.apply(\u001b[32mcmd0.sc\u001b[39m:\u001b[32m19\u001b[39m)",
      "  $sess.cmd0Wrapper$Helper$List$.apply(\u001b[32mcmd0.sc\u001b[39m:\u001b[32m19\u001b[39m)",
      "  $sess.cmd0Wrapper$Helper$List$.apply(\u001b[32mcmd0.sc\u001b[39m:\u001b[32m19\u001b[39m)",
      "  $sess.cmd0Wrapper$Helper$List$.apply(\u001b[32mcmd0.sc\u001b[39m:\u001b[32m19\u001b[39m)",
      "  $sess.cmd0Wrapper$Helper$List$.apply(\u001b[32mcmd0.sc\u001b[39m:\u001b[32m19\u001b[39m)",
      "  $sess.cmd0Wrapper$Helper$List$.apply(\u001b[32mcmd0.sc\u001b[39m:\u001b[32m19\u001b[39m)",
      "  $sess.cmd0Wrapper$Helper$List$.apply(\u001b[32mcmd0.sc\u001b[39m:\u001b[32m19\u001b[39m)",
      "  $sess.cmd0Wrapper$Helper$List$.apply(\u001b[32mcmd0.sc\u001b[39m:\u001b[32m19\u001b[39m)",
      "  $sess.cmd0Wrapper$Helper$List$.apply(\u001b[32mcmd0.sc\u001b[39m:\u001b[32m19\u001b[39m)",
      "  $sess.cmd0Wrapper$Helper$List$.apply(\u001b[32mcmd0.sc\u001b[39m:\u001b[32m19\u001b[39m)",
      "  $sess.cmd0Wrapper$Helper$List$.apply(\u001b[32mcmd0.sc\u001b[39m:\u001b[32m19\u001b[39m)",
      "  $sess.cmd0Wrapper$Helper$List$.apply(\u001b[32mcmd0.sc\u001b[39m:\u001b[32m19\u001b[39m)",
      "  $sess.cmd0Wrapper$Helper$List$.apply(\u001b[32mcmd0.sc\u001b[39m:\u001b[32m19\u001b[39m)",
      "  $sess.cmd0Wrapper$Helper$List$.apply(\u001b[32mcmd0.sc\u001b[39m:\u001b[32m19\u001b[39m)",
      "  $sess.cmd0Wrapper$Helper$List$.apply(\u001b[32mcmd0.sc\u001b[39m:\u001b[32m19\u001b[39m)",
      "  $sess.cmd0Wrapper$Helper$List$.apply(\u001b[32mcmd0.sc\u001b[39m:\u001b[32m19\u001b[39m)",
      "  $sess.cmd0Wrapper$Helper$List$.apply(\u001b[32mcmd0.sc\u001b[39m:\u001b[32m19\u001b[39m)",
      "  $sess.cmd0Wrapper$Helper$List$.apply(\u001b[32mcmd0.sc\u001b[39m:\u001b[32m19\u001b[39m)",
      "  $sess.cmd0Wrapper$Helper$List$.apply(\u001b[32mcmd0.sc\u001b[39m:\u001b[32m19\u001b[39m)",
      "  $sess.cmd0Wrapper$Helper$List$.apply(\u001b[32mcmd0.sc\u001b[39m:\u001b[32m19\u001b[39m)",
      "  $sess.cmd0Wrapper$Helper$List$.apply(\u001b[32mcmd0.sc\u001b[39m:\u001b[32m19\u001b[39m)",
      "  $sess.cmd0Wrapper$Helper$List$.apply(\u001b[32mcmd0.sc\u001b[39m:\u001b[32m19\u001b[39m)",
      "  $sess.cmd0Wrapper$Helper$List$.apply(\u001b[32mcmd0.sc\u001b[39m:\u001b[32m19\u001b[39m)",
      "  $sess.cmd0Wrapper$Helper$List$.apply(\u001b[32mcmd0.sc\u001b[39m:\u001b[32m19\u001b[39m)",
      "  $sess.cmd0Wrapper$Helper$List$.apply(\u001b[32mcmd0.sc\u001b[39m:\u001b[32m19\u001b[39m)",
      "  $sess.cmd0Wrapper$Helper$List$.apply(\u001b[32mcmd0.sc\u001b[39m:\u001b[32m19\u001b[39m)",
      "  $sess.cmd0Wrapper$Helper$List$.apply(\u001b[32mcmd0.sc\u001b[39m:\u001b[32m19\u001b[39m)",
      "  $sess.cmd0Wrapper$Helper$List$.apply(\u001b[32mcmd0.sc\u001b[39m:\u001b[32m19\u001b[39m)",
      "  $sess.cmd0Wrapper$Helper$List$.apply(\u001b[32mcmd0.sc\u001b[39m:\u001b[32m19\u001b[39m)",
      "  $sess.cmd0Wrapper$Helper$List$.apply(\u001b[32mcmd0.sc\u001b[39m:\u001b[32m19\u001b[39m)",
      "  $sess.cmd0Wrapper$Helper$List$.apply(\u001b[32mcmd0.sc\u001b[39m:\u001b[32m19\u001b[39m)",
      "  $sess.cmd0Wrapper$Helper$List$.apply(\u001b[32mcmd0.sc\u001b[39m:\u001b[32m19\u001b[39m)",
      "  $sess.cmd0Wrapper$Helper$List$.apply(\u001b[32mcmd0.sc\u001b[39m:\u001b[32m19\u001b[39m)",
      "  $sess.cmd0Wrapper$Helper$List$.apply(\u001b[32mcmd0.sc\u001b[39m:\u001b[32m19\u001b[39m)",
      "  $sess.cmd0Wrapper$Helper$List$.apply(\u001b[32mcmd0.sc\u001b[39m:\u001b[32m19\u001b[39m)",
      "  $sess.cmd0Wrapper$Helper$List$.apply(\u001b[32mcmd0.sc\u001b[39m:\u001b[32m19\u001b[39m)",
      "  $sess.cmd0Wrapper$Helper$List$.apply(\u001b[32mcmd0.sc\u001b[39m:\u001b[32m19\u001b[39m)",
      "  $sess.cmd0Wrapper$Helper$List$.apply(\u001b[32mcmd0.sc\u001b[39m:\u001b[32m19\u001b[39m)",
      "  $sess.cmd0Wrapper$Helper$List$.apply(\u001b[32mcmd0.sc\u001b[39m:\u001b[32m19\u001b[39m)",
      "  $sess.cmd0Wrapper$Helper$List$.apply(\u001b[32mcmd0.sc\u001b[39m:\u001b[32m19\u001b[39m)",
      "  $sess.cmd0Wrapper$Helper$List$.apply(\u001b[32mcmd0.sc\u001b[39m:\u001b[32m19\u001b[39m)",
      "  $sess.cmd0Wrapper$Helper$List$.apply(\u001b[32mcmd0.sc\u001b[39m:\u001b[32m19\u001b[39m)",
      "  $sess.cmd0Wrapper$Helper$List$.apply(\u001b[32mcmd0.sc\u001b[39m:\u001b[32m19\u001b[39m)",
      "  $sess.cmd0Wrapper$Helper$List$.apply(\u001b[32mcmd0.sc\u001b[39m:\u001b[32m19\u001b[39m)",
      "  $sess.cmd0Wrapper$Helper$List$.apply(\u001b[32mcmd0.sc\u001b[39m:\u001b[32m19\u001b[39m)",
      "  $sess.cmd0Wrapper$Helper$List$.apply(\u001b[32mcmd0.sc\u001b[39m:\u001b[32m19\u001b[39m)",
      "  $sess.cmd0Wrapper$Helper$List$.apply(\u001b[32mcmd0.sc\u001b[39m:\u001b[32m19\u001b[39m)",
      "  $sess.cmd0Wrapper$Helper$List$.apply(\u001b[32mcmd0.sc\u001b[39m:\u001b[32m19\u001b[39m)",
      "  $sess.cmd0Wrapper$Helper$List$.apply(\u001b[32mcmd0.sc\u001b[39m:\u001b[32m19\u001b[39m)",
      "  $sess.cmd0Wrapper$Helper$List$.apply(\u001b[32mcmd0.sc\u001b[39m:\u001b[32m19\u001b[39m)",
      "  $sess.cmd0Wrapper$Helper$List$.apply(\u001b[32mcmd0.sc\u001b[39m:\u001b[32m19\u001b[39m)",
      "  $sess.cmd0Wrapper$Helper$List$.apply(\u001b[32mcmd0.sc\u001b[39m:\u001b[32m19\u001b[39m)",
      "  $sess.cmd0Wrapper$Helper$List$.apply(\u001b[32mcmd0.sc\u001b[39m:\u001b[32m19\u001b[39m)",
      "  $sess.cmd0Wrapper$Helper$List$.apply(\u001b[32mcmd0.sc\u001b[39m:\u001b[32m19\u001b[39m)",
      "  $sess.cmd0Wrapper$Helper$List$.apply(\u001b[32mcmd0.sc\u001b[39m:\u001b[32m19\u001b[39m)",
      "  $sess.cmd0Wrapper$Helper$List$.apply(\u001b[32mcmd0.sc\u001b[39m:\u001b[32m19\u001b[39m)",
      "  $sess.cmd0Wrapper$Helper$List$.apply(\u001b[32mcmd0.sc\u001b[39m:\u001b[32m19\u001b[39m)",
      "  $sess.cmd0Wrapper$Helper$List$.apply(\u001b[32mcmd0.sc\u001b[39m:\u001b[32m19\u001b[39m)",
      "  $sess.cmd0Wrapper$Helper$List$.apply(\u001b[32mcmd0.sc\u001b[39m:\u001b[32m19\u001b[39m)",
      "  $sess.cmd0Wrapper$Helper$List$.apply(\u001b[32mcmd0.sc\u001b[39m:\u001b[32m19\u001b[39m)",
      "  $sess.cmd0Wrapper$Helper$List$.apply(\u001b[32mcmd0.sc\u001b[39m:\u001b[32m19\u001b[39m)",
      "  $sess.cmd0Wrapper$Helper$List$.apply(\u001b[32mcmd0.sc\u001b[39m:\u001b[32m19\u001b[39m)",
      "  $sess.cmd0Wrapper$Helper$List$.apply(\u001b[32mcmd0.sc\u001b[39m:\u001b[32m19\u001b[39m)"
     ]
    }
   ],
   "source": [
    "length(List(1,2,3,1,1,2,3,1,1,2,3,1,1,2,3,1,1,2,3,1,1,2,3,1,1,2,3,1,1,2,3,1,1,2,3,1,1,2,3,1,1,2,3,1,1,2,3,1,1,2,3,1,1,2,3,1,1,2,3,1,1,2,3,1,1,2,3,1,1,2,3,1,1,2,3,1,1,2,3,1,1,2,2,3,1,1,2,3,1,1,2,3,1,1,2,3,1,1,2,3,1,1,2,3,1,1,2,3,1,1,2,3,1,1,2,3,1,1,2,3,1,1,2,3,1,1,2,3,1,1,2,3,1,1,2,2,3,1,1,2,3,1,1,2,3,1,1,2,3,1,1,2,3,1,1,2,3,1,1,2,3,1,1,2,3,1,1,2,3,1,1,2,3,1,1,2,3,1,1,2,3,1,1,2,3,1,1,2,3,1,1,2,3,1,1,2,3,1,1,2,3,1,1,2,3,1,1,2,3,1,1,2,3,1,1,2,2,3,1,1,2,3,1,1,2,3,1,1,2,3,1,1,2,3,1,1,2,3,1,1,2,3,1,1,2,3,1,1,2,3,1,1,2,3,1,1,2,3,1,1,2,3,1,1,2,3,1,1,2,3,1,1,2,3,1,1,2,3,1,1,2,3,1,1,2,3,1,1,2,3,1,1,2,3,1,1,2,2,3,1,1,2,3,1,1,2,3,1,1,2,3,1,1,2,3,1,1,2,3,1,1,2,3,1,1,2,3,1,1,2,3,1,1,2,3,1,1,2,3,1,1,2,3,1,1,2,3,1,1,2,3,1,2,3,1,1,2,3,1,1,2,3,1,1,2,3,1,1,2,3,1,1,2,3,1,1,2,3,1,1,2,3,1,1,2,3,1,1,2,3,1,1,2,3,1,1,2,3,1,1,2,3,1,1,2,3,1,1,2,3,1,1,2,3,1,1,2,3,1,1,2,3,1,1,2,3,1,1,2,3,1,1,2,2,3,1,1,2,3,1,1,2,3,1,1,2,3,1,1,2,3,1,1,2,3,1,1,2,3,1,1,2,3,1,1,2,3,1,1,2,3,1,1,2,3,1,1,2,3,1,1,2,3,1,1,2,3,1,1,2,3,1,1,2,3,1,1,2,3,1,1,2,3,1,1,2,3,1,1,2,3,1,1,2,2,3,1,1,2,3,1,1,2,3,1,1,2,3,1,1,2,3,1,1,2,3,1,1,2,3,1,1,2,3,1,1,2,3,1,1,2,3,1,1,2,3,1,1,2,3,1,1,2,3,1,1,2,3,1,1,2,3,1,1,2,3,1,1,2,3,1,1,2,3,1,1,2,3,1,1,2,3,1,1,2,2,3,1,1,2,3,1,1,2,3,1,1,2,3,1,1,2,3,1,1,2,3,1,1,2,3,1,1,2,3,1,1,2,3,1,1,2,3,1,1,2,3,1,1,2,3,1,1,2,3,1,1,2,3,1,1,2,3,1,1,2,3,1,1,2,3,1,1,2,3,1,1,2,3,1,1,2,3,1,1,2,2,3,1,1,2,3,1,1,2,3,1,1,2,3,1,1,2,3,1,1,2,3,1,1,2,3,1,1,2,3,1,1,2,3,1,1,2,3,1,1,2,3,1,1,2,3,1,1,2,3,1,1,2,3,1,1,2,3,1,1,2,3,1,1,2,3,1,1,2,3,1,1,2,3,1,1,2,3,1,1,2,2,3,1,1,2,3,1,1,2,3,1,1,2,3,1,1,2,3,1,1,2,3,1,1,2,3,1,1,2,3,1,1,2,3,1,1,2,3,1,1,2,3,1,1,2,3,1,1,2,3,1,1,2,3,1,1,2,3,1,1,2,3,1,1,2,3,1,1,2,3,1,1,2,3,1,1,2,3,1,1,2,2,3,1,1,2,3,1,1,2,3,1,1,2,3,1,1,2,3,1,1,2,3,1,1,2,3,1,1,2,3,1,1,2,3,1,1,2,3,1,1,2,3,1,1,2,3,1,1,2,3,1,1,2,3,1,1,2,3,1,1,2,3,1,1,2,3,1,1,2,3,1,1,2,3,1,1,2,3,1,1,2,2,3,1,1,2,3,1,1,2,3,1,1,2,3,1,1,2,3,1,1,2,3,1,1,2,3,1,1,2,3,1,1,2,3,1,1,2,3,1,1,2,3,1,1,2,3,1,1,2,3,1,1,2,3,1,1,2,3,1,1,2,2,3,1,1,2,3,1,1,2,3,1,1,2,3,1,1,2,3,1,1,2,3,1,1,2,3,1,1,2,3,1,1,2,3,1,1,2,3,1,1,2,3,1,1,2,3,1,1,2,3,1,1,2,3,1,1,2,3,1,1,2,3,1,1,2,3,1,1,2,3,1,1,2,3,1,1,2,3,1,1,2,2,3,1,1,2,3,1,1,2,3,1,1,2,3,1,1,2,3,1,1,2,3,1,1,2,3,1,1,2,3,1,1,2,3,1,1,2,3,1,1,2,3,1,1,2,3,1,1,2,3,1,1,2,3,1,1,2,3,1,1,2,3,1,1,2,3,1,1,2,3,1,1,2,3,1,1,2,3,1,1,2,2,3,1,1,2,3,1,1,2,3,1,1,2,3,1,1,2,3,1,1,2,3,1,1,2,3,1,1,2,3,1,1,2,3,1,1,2,3,1,1,2,3,1,1,2,3,1,1,2,3,1,1,2,3,1,1,2,3,1,1,2,3,1,1,2,3,1,1,2,3,1,1,2,3,1,1,2,3,1,1,2,2,3,1,1,2,3,1,1,2,3,1,1,2,3,1,1,2,3,1,1,2,3,1,1,2,3,1,1,2,3,1,1,2,3,1,1,2,3,1,1,2,3,1,1,2,3,1,1,2,3,1,1,2,3,1,1,2,3,1,1,2,3,1,1,2,3,1,1,2,3,1,1,2,3,1,1,2,3,1,1,2,2,3,1,1,2,3,1,1,2,3,1,1,2,3,1,1,2,3,1,1,2,3,1,1,2,3,1,1,2,3,1,1,2,3,1,1,2,3,1,1,2,3,1,1,2,3,1,1,2,3,1,1,2,3,1,1,2,3,1,1,2,3,1,1,2,3,1,1,2,3,1,1,2,3,1,1,2,3,1,1,2,2,3,1,1,2,3,1,1,2,3,1,1,2,3,1,1,2,3,1,1,2,3,1,1,2,3,1,1,2,3,1,1,2,3,1,1,2,3,1,1,2,3,1,1,2,3,1,1,2,3,1,1,2,3,1,1,2,3,1,1,2,3,1,1,2,3,1,1,2,3,1,1,2,3,1,1,2,3,1,1,2,2,3,1,1,2,3,1,1,2,3,1,1,2,3,1,1,2,3,1,1,2,3,1,1,2,3,1,1,2,3,1,1,2,3,1,1,2,3,1,1,2,3,1,1,2,3,1,1,2,3,1,1,2,3,1,1,2,3,1,1,2,3,1,1,2,3,1,1,2,3,1,1,2,3,1,1,2,3,1,1,2,2,3,1,1,2,3,1,1,2,3,1,1,2,3,1,1,2,3,1,1,2,3,1,1,2,3,1,1,2,3,1,1,2,3,1,1,2,3,1,1,2,3,1,1,2,3,1,1,2,3,1,1,2,3,1,1,2,3,1,1,2,3,1,1,2,3,1,1,2,3,1,1,2,3,1,1,2,3,1,1,2,2,3,1,1,2,3,1,1,2,3,1,1,2,3,1,1,2,3,1,1,2,3,1,1,2,3,1,1,2,3,1,1,2,3,1,1,2,3,1,1,2,3,1,1,2,3,1,1,2,3,1,1,2,3,1,1,2,3,1,1,2,3,1,1,2,3,1,1,2,3,1,1,2,3,1,1,2,3,1,1,2,2,3,1,1,2,3,1,1,2,3,1,1,2,3,1,1,2,3,1,1,2,3,1,1,2,3,1,1,2,3,1,1,2,3,1,1,2,3,1,1,2,3,1,1,2,3,1,1,2,3,1,1,2,3,1,1,2,3,1,1,2,3,1,1,2,3,1,1,2,3,1,1,2,3,1,1,2,3,1,1,2,2,3,1,1,2,3,1,1,2,3,1,1,2,3,1,1,2,3,1,1,2,3,1,1,2,3,1,1,2,3,1,1,2,3,1,1,2,3,1,1,2,3,1,1,2,3,1,1,2,3,1,1,2,3,1,1,2,3,1,1,2,3,1,1,2,3,1,1,2,3,1,1,2,3,1,1,2,3,1,1,2,2,3,1,1,2,3,1,1,2,3,1,1,2,3,1,1,2,3,1,1,2,3,1,1,2,3,1,1,2,3,1,1,2,3,1,1,2,3,1,1,2,3,1,1,2,3,1,1,2,3,1,1,2,3,1,1,2,3,1,1,2,3,1,1,2,3,1,1,2,3,1,1,2,3,1,1,2,3,1,1,2,2,3,1,1,2,3,1,1,2,3,1,1,2,3,1,1,2,3,1,1,2,3,1,1,2,3,1,1,2,3,1,1,2,3,1,1,2,3,1,1,2,3,1,1,2,3,1,1,2,3,1,1,2,3,1,1,2,3,1,1,2,3,1,1,2,3,1,1,2,3,1,1,2,3,1,1,2,3,1,1,2,2,3,1,1,2,3,1,1,2,3,1,1,2,3,1,1,2,3,1,1,2,3,1,1,2,3,1,1,2,3,1,1,2,3,1,1,2,3,1,1,2,3,1,1,2,3,1,1,2,3,1,1,2,3,1,1,2,3,1,1,2,3,1,1,2,3,1,1,2,3,1,1,2,3,1,1,2,3,1,1,2,2,3,1,1,2,3,1,1,2,3,1,1,2,3,1,1,2,3,1,1,2,3,1,1,2,3,1,1,2,3,1,1,2,3,1,1,2,3,1,1,2,3,1,1,2,3,1,1,2,3,1,1,2,3,1,1,2,3,1,1,2,3,1,1,2,3,1,1,2,3,1,1,2,3,1,1,2,3,1,1,2,2,3,1,1,2,3,1,1,2,3,1,1,2,3,1,1,2,3,1,1,2,3,1,1,2,3,1,1,2,3,1,1,2,3,1,1,2,3,1,1,2,3,1,1,2,3,1,1,2,3,1,1,2,3,1,1,2,3,1,1,2,3,1,1,2,3,1,1,2,3,1,1,2,3,1,1,2,3,1,1,2,2,3,1,1,2,3,1,1,2,3,1,1,2,3,1,1,2,3,1,1,2,3,1,1,2,3,1,1,2,3,1,1,2,3,1,1,2,3,1,1,2,3,1,1,2,3,1,1,2,3,1,1,2,3,1,1,2,3,1,1,2,3,1,1,2,3,1,1,2,3,1,1,2,3,1,1,2,3,1,1,2,2,3,1,1,2,3,1,1,2,3,1,1,2,3,1,1,2,3,1,1,2,3,1,1,2,3,1,1,2,3,1,1,2,3,1,1,2,3,1,1,2,3,1,1,2,3,1,1,2,3,1,1,2,3,1,1,2,3,1,1,2,3,1,1,2,3,1,1,2,3,1,1,2,3,1,1,2,3,1,1,2,2,3,1,1,2,3,1,1,2,3,1,1,2,3,1,1,2,3,1,1,2,3,1,1,2,3,1,1,2,3,1,1,2,3,1,1,2,3,1,1,2,3,1,1,2,3,1,1,2,3,1,1,2,3,1,1,2,3,1,1,2,3,1,1,2,3,1,1,2,3,1,1,2,3,1,1,2,3,1,1,2,2,3,1,1,2,3,1,1,2,3,1,1,2,3,1,1,2,3,1,1,2,3,1,1,2,3,1,1,2,3,1,1,2,3,1,1,2,3,1,1,2,3,1,1,2,3,1,1,2,3,1,1,2,3,1,1,2,3,1,1,2,3,1,1,2,3,1,1,2,3,1,1,2,3,1,1,2,3,1,1,2,2,3,1,1,2,3,1,1,2,3,1,1,2,3,1,1,2,3,1,1,2,3,1,1,2,3,1,1,2,3,1,1,2,3,1,1,2,3,1,1,2,3,1,1,2,3,1,1,2,3,1,1,2,3,1,1,2,3,1,1,2,3,1,1,2,3,1,1,2,3,1,1,2,3,1,1,2,3,1,1,2,2,3,1,1,2,3,1,1,2,3,1,1,2,3,1,1,2,3,1,1,2,3,1,1,2,3,1,1,2,3,1,1,2,3,1,1,2,3,1,1,2,3,1,1,2,3,1,1,2,3,1,1,2,3,1,1,2,3,1,1,2,3,1,1,2,3,1,1,2,3,1,1,2,3,1,1,2,3,1,1,2,2,3,1,1,2,3,1,1,2,3,1,1,2,3,1,1,2,3,1,1,2,3,1,1,2,3,1,1,2,3,1,1,2,3,1,1,2,3,1,1,2,3,1,1,2,3,1,1,2,3,1,1,2,3,1,1,2,3,1,1,2,3,1,1,2,3,1,1,2,3,1,1,2,3,1,1,2,3,1,1,2,2,3,1,1,2,3,1,1,2,3,1,1,2,3,1,1,2,3,1,1,2,3,1,1,2,3,1,1,2,3,1,1,2,3,1,1,2,3,1,1,2,3,1,1,2,3,1,1,2,3,1,1,2,3,1,1,2,3,1,1,2,3,1,1,2,3,1,1,2,3,1,1,2,3,1,1,2,3,1,1,2,2,3,1,1,2,3,1,1,2,3,1,1,2,3,1,1,2,3,1,1,2,3,1,1,2,3,1,1,2,3,1,1,2,3,1,1,2,3,1,1,2,3,1,1,2,3,1,1,2,3,1,1,2,3,1,1,2,3,1,1,2,3,1,1,2,3,1,1,2,3,1,1,2,3,1,1,2,3,1,1,2,2,3,1,1,2,3,1,1,2,3,1,1,2,3,1,1,2,3,1,1,2,3,1,1,2,3,1,1,2,3,1,1,2,3,1,1,2,3,1,1,2,3,1,1,2,3,1,1,2,3,1,1,2,3,1,1,2,3,1,1,2,3,1,1,2,3,1,1,2,3,1,1,2,3,1,1,2,3,1,1,2,2,3,1,1,2,3,1,1,2,3,1,1,2,3,1,1,2,3,1,1,2,3,1,1,2,3,1,1,2,3,1,1,2,3,1,1,2,3,1,1,2,3,1,1,2,3,1,1,2,3,1,1,2,3,1,1,2,3,1,1,2,3,1,1,2,3,1,1,2,3,1,1,2,3,1,1,2,3,1,1,2,2,3,1,1,2,3,1,1,2,3,1,1,2,3,1,1,2,3,1,1,2,3,1,1,2,3,1,1,2,3,1,1,2,3,1,1,2,3,1,1,2,3,1,1,2,3,1,1,2,3,1,1,2,3,1,1,2,3,1,1,2,3,1,1,2,3,1,1,2,3,1,1,2,3,1,1,2,3,1,1,2,2,3,1,1,2,3,1,1,2,3,1,1,2,3,1,1,2,3,1,1,2,3,1,1,2,3,1,1,2,3,1,1,2,3,1,1,2,3,1,1,2,3,1,1,2,3,1,1,2,3,1,1,2,3,1,1,2,3,1,1,2,3,1,1,2,3,1,1,2,3,1,1,2,3,1,1,2,3,1,1,2,2,3,1,1,2,3,1,1,2,3,1,1,2,3,1,1,2,3,1,1,2,3,1,1,2,3,1,1,2,3,1,1,2,3,1,1,2,3,1,1,2,3,1,1,2,3,1,1,2,3,1,1,2,3,1,1,2,3,1,1,2,3,1,1,2,3,1,1,2,3,1,1,2,3,1,1,2,3,1,1,2,2,3,1,1,2,3,1,1,2,3,1,1,2,3,1,1,2,3,1,1,2,3,1,1,2,3,1,1,2,3,1,1,2,3,1,1,2,3,1,1,2,3,1,1,2,3,1,1,2,3,1,1,2,3,1,1,2,3,1,1,2,3,1,1,2,3,1,1,2,3,1,1,2,3,1,1,2,3,1,1,2,2,3,1,1,2,3,1,1,2,3,1,1,2,3,1,1,2,3,1,1,2,3,1,1,2,3,1,1,2,3,1,1,2,3,1,1,2,3,1,1,2,3,1,1,2,3,1,1,2,3,1,1,2,3,1,1,2,3,1,1,2,3,1,1,2,3,1,1,2,3,1,1,2,3,1,1,2,3,1,1,2,2,3,1,1,2,3,1,1,2,3,1,1,2,3,1,1,2,3,1,1,2,3,1,1,2,3,1,1,2,3,1,1,2,3,1,1,2,3,1,1,2,3,1,1,2,3,1,1,2,3,1,1,2,3,1,1,2,3,1,1,2,3,1,1,2,3,1,1,2,3,1,1,2,3,1,1,2,3,1,1,2,2,3,1,1,2,3,1,1,2,3,1,1,2,3,1,1,2,3,1,1,2,3,1,1,2,3,1,1,2,3,1,1,2,3,1,1,2,3,1,1,2,3,1,1,2,3,1,1,2,3,1,1,2,3,1,1,2,2,3,1,1,2,3,1,1,2,3,1,1,2,3,1,1,2,3,1,1,2,3,1,1,2,3,1,1,2,3,1,1,2,3,1,1,2,3,1,1,2,3,1,1,2,3,1,1,2,3,1,1,2,3,1,1,2,3,1,1,2,3,1,1,2,3,1,1,2,3,1,1,2,3,1,1,2,3,1,1,2,2,3,1,1,2,3,1,1,2,3,1,1,2,3,1,1,2,3,1,1,2,3,1,1,2,3,1,1,2,3,1,1,2,3,1,1,2,3,1,1,2,3,1,1,2,3,1,1,2,3,1,1,2,3,1,1,2,3,1,1,2,3,1,1,2,3,1,1,2,3,1,1,2,3,1,1,2,3,1,1,2,2,3,1,1,2,3,1,1,2,3,1,1,2,3,1,1,2,3,1,1,2,3,1,1,2,3,1,1,2,3,1,1,2,3,1,1,2,3,1,1,2,3,1,1,2,3,1,1,2,3,1,1,2,3,1,1,2,3,1,1,2,3,1,1,2,3,1,1,2,3,1,1,2,3,1,1,2,3,1,1,2,2,3,1,1,2,3,1,1,2,3,1,1,2,3,1,1,2,3,1,1,2,3,1,1,2,3,1,1,2,3,1,1,2,3,1,1,2,3,1,1,2,3,1,1,2,3,1,1,2,3,1,1,2,3,1,1,2,3,1,1,2,3,1,1,2,3,1,1,2,3,1,1,2,3,1,1,2,3,1,1,2,2,3,1,1,2,3,1,1,2,3,1,1,2,3,1,1,2,3,1,1,2,3,1,1,2,3,1,1,2,3,1,1,2,3,1,1,2,3,1,1,2,3,1,1,2,3,1,1,2,3,1,1,2,3,1,1,2,3,1,1,2,3,1,1,2,3,1,1,2,3,1,1,2,3,1,1,2,3,1,1,2,2,3,1,1,2,3,1,1,2,3,1,1,2,3,1,1,2,3,1,1,2,3,1,1,2,3,1,1,2,3,1,1,2,3,1,1,2,3,1,1,2,3,1,1,2,3,1,1,2,3,1,1,2,3,1,1,2,3,1,1,2,3,1,1,2,3,1,1,2,3,1,1,2,3,1,1,2,3,1,1,2,2,3,1,1,2,3,1,1,2,3,1,1,2,3,1,1,2,3,1,1,2,3,1,1,2,3,1,1,2,3,1,1,2,3,1,1,2,3,1,1,2,3,1,1,2,3,1,1,2,3,1,1,2,3,1,1,2,3,1,1,2,3,1,1,2,3,1,1,2,3,1,1,2,3,1,1,2,3,1,1,2,3,1,1,2,3,1,1,2,3,1,1,2,3,1,1,2,3,1,1,2,3,1,1,2,3,1,1,2,3,1,1,2,3,1,1,2,3,1,1,2,3,1,1,2,1,2,3,1,1,2,3,1,1,2,3,1,1,2,3,1,1,2,3,1,1,2,3,1,1,2,3,1,1,2,3,1,1,2,3,1,1,2,3,1,1,2,3,1,1,2,3,1,1,2,3,1,1,2,3,1,1,2,3,1,1,2,3,1,1,2,3,1,1,2,3,1,1,2,3,1,1,2,3,1,1,2,3,1,1,2,3,1,1,2,3,1,1,2,3,1,1,2,3,1,1,2,3,1,1,2,3,1,1,2,3,1,1,2,3,1,1,2,3,1,1,2,3,1,1,2,3,1,1,2,3,1,1,2,3,1,1,2,3,1,1,2,3,1,1,2,3,1,1,2,3,1,1,2,3,1,1,2,3,1,1,2,3,1,1,2,3,1,1,2,3,1,1,2,3,1,1,2,3,1,1,2,3,1,1,2,3,1,1,2,3,1,1,2,3,1,1,2,3,1,1,2,3,1,1,2,3,1,1,2,3,1,1,2,3,1,1,2,3,1,1,2,3,1,1,2,3,1,1,2,3,1,1,2,3,1,1,2,3,1,1,2,3,1,1,2,3,1,1,2,3,1,1,2,3,1,1,2,3,1,1,2,3,1,1,2,3,1,1,2,3,1,1,2,3,1,1,2,3,1,1,2,3,1,1,2,3,1,1,2,3,1,1,2,3,1,1,2,3,1,1,2,3,1,1,2,3,1,1,2,3,1,1,2,3,1,1,2,3,1,1,2,3,1,1,2,3,1,1,2,3,1,1,2,3,1,1,2,3,1,1,2,3,1,1,2,3,1,1,2,3,1,1,2,3,1,1,2,3,1,1,2,3,1,1,2,3,1,1,2,3,1,1,2,3,1,1,2,3,1,1,2,3,1,1,2,3,1,1,2,3,1,1,2,3,1,1,2,3,1,1,2,3,1,1,2,3,1,1,2,3,1,1,2,3,1,1,2,3,1,1,2,3,1,1,2,3,1,1,2,3,1,1,2,3,1,1,2,3,1,1,2,3,1,1,2,3,1,1,2,3,1,1,2,3,1,1,2,3,1,1,2,3,1,1,2,3,1,1,2,3,1,1,2,3,1,1,2,3,1,1,2,3,1,1,2,3,1,1,2,3,1,1,2,3,1,1,2,3,1,1,2,3,1,1,2,3,1,1,2,3,1,1,2,3,1,1,2,3,1,1,2,3,1,1,2,3,1,1,2,3,1,1,2,3,1,1,2,3,1,1,2,3,1,1,2,3,1,1,2,3,1,1,2,3,1,1,2,3,1,1,2,3,1,1,2,3,1,1,2,3,1,1,2,3,1,1,2,3,1,1,2,3,1,1,2,3,1,1,2,3,1,1,2,3,1,1,2,3,1,1,2,3,1,1,2,3,1,1,2,3,1,1,2,3,1,1,2,3,1,1,2,3,1,1,2,3,1,1,2,3,1,1,2,3,1,1,2,3,1,1,2,3,1,1,2,3,1,1,2,3,1,1,2,3,1,1,2,3,1,1,2,3,1,1,2,3,1,1,2,3,1,1,2,3,1,1,2,3,1,1,2,3,1,1,2,3,1,1,2,3,1,1,2,3,1,1,2,3,1,1,2,3,1,1,2,3,1,1,2,3,1,1,2,3,1,1,2,3,1,1,2,3,1,1,2,3,1,1,2,3,1,1,2,3,1,1,2,3,1,1,2,3,1,1,2,3,1,1,2,3,1,1,2,3,1,1,2,3,1,1,2,3,1,1,2,3,2,3,1,1,2,3,1,1,2,3,1,1,2,3,1,1,2,3,1,1,2,3,1,1,2,3,1,1,2,3,1,1,2,3,1,1,2,3,1,1,2,3,1,1,2,3,1,1,2,3,1,1,2,3,1,1,2,3,1,1,2,3,1,1,2,3,1,1,2,3,1,1,2,3,1,1,2,3,1,1,2,2,3,1,1,2,3,1,1,2,3,1,1,2,3,1,1,2,3,1,1,2,3,1,1,2,3,1,1,2,3,1,1,2,3,1,1,2,3,1,1,2,3,1,1,2,3,1,1,2,3,1,1,2,2,3,1,1,2,3,1,1,2,3,1,1,2,3,1,1,2,3,1,1,2,3,1,1,2,3,1,1,2,3,1,1,2,3,1,1,2,3,1,1,2,3,1,1,2,3,1,1,2,3,1,1,2,3,1,1,2,3,1,1,2,3,1,1,2,3,1,1,2,3,1,1,2,3,1,1,2,3,1,1,2,2,3,1,1,2,3,1,1,2,3,1,1,2,3,1,1,2,3,1,1,2,3,1,1,2,3,1,1,2,3,1,1,2,3,1,1,2,3,1,1,2,3,1,1,2,3,1,1,2,3,1,1,2,3,1,1,2,3,1,1,2,3,1,1,2,3,1,1,2,3,1,1,2,3,1,1,2,3,1,1,2,2,3,1,1,2,3,1,1,2,3,1,1,2,3,1,1,2,3,1,1,2,3,1,1,2,3,1,1,2,3,1,1,2,3,1,1,2,3,1,1,2,3,1,1,2,3,1,1,2,3,1,1,2,3,1,2,3,1,1,2,3,1,1,2,3,1,1,2,3,1,1,2,3,1,1,2,3,1,1,2,3,1,1,2,3,1,1,2,3,1,1,2,3,1,1,2,3,1,1,2,3,1,1,2,3,1,1,2,3,1,1,2,3,1,1,2,3,1,1,2,3,1,1,2,3,1,1,2,3,1,1,2,3,1,1,2,2,3,1,1,2,3,1,1,2,3,1,1,2,3,1,1,2,3,1,1,2,3,1,1,2,3,1,1,2,3,1,1,2,3,1,1,2,3,1,1,2,3,1,1,2,3,1,1,2,3,1,1,2,3,1,1,2,3,1,1,2,3,1,1,2,3,1,1,2,3,1,1,2,3,1,1,2,3,1,1,2,2,3,1,1,2,3,1,1,2,3,1,1,2,3,1,1,2,3,1,1,2,3,1,1,2,3,1,1,2,3,1,1,2,3,1,1,2,3,1,1,2,3,1,1,2,3,1,1,2,3,1,1,2,3,1,1,2,3,1,1,2,3,1,1,2,3,1,1,2,3,1,1,2,3,1,1,2,3,1,1,2,2,3,1,1,2,3,1,1,2,3,1,1,2,3,1,1,2,3,1,1,2,3,1,1,2,3,1,1,2,3,1,1,2,3,1,1,2,3,1,1,2,3,1,1,2,3,1,1,2,3,1,1,2,3,1,1,2,3,1,1,2,3,1,1,2,3,1,1,2,3,1,1,2,3,1,1,2,3,1,1,2,2,3,1,1,2,3,1,1,2,3,1,1,2,3,1,1,2,3,1,1,2,3,1,1,2,3,1,1,2,3,1,1,2,3,1,1,2,3,1,1,2,3,1,1,2,3,1,1,2,3,1,1,2,3,1,1,2,3,1,1,2,3,1,1,2,3,1,1,2,3,1,1,2,3,1,1,2,3,1,1,2,2,3,1,1,2,3,1,1,2,3,1,1,2,3,1,1,2,3,1,1,2,3,1,1,2,3,1,1,2,3,1,1,2,3,1,1,2,3,1,1,2,3,1,1,2,3,1,1,2,3,1,1,2,3,1,1,2,3,1,1,2,3,1,1,2,3,1,1,2,3,1,1,2,3,1,1,2,3,1,1,2,2,3,1,1,2,3,1,1,2,3,1,1,2,3,1,1,2,3,1,1,2,3,1,1,2,3,1,1,2,3,1,1,2,3,1,1,2,3,1,1,2,3,1,1,2,3,1,1,2,3,1,1,2,3,1,1,2,3,1,1,2,3,1,1,2,3,1,1,2,3,1,1,2,3,1,1,2,3,1,1,2,2,3,1,1,2,3,1,1,2,3,1,1,2,3,1,1,2,3,1,1,2,3,1,1,2,3,1,1,2,3,1,1,2,3,1,1,2,3,1,1,2,3,1,1,2,3,1,1,2,3,1,1,2,3,1,1,2,3,1,1,2,2,3,1,1,2,3,1,1,2,3,1,1,2,3,1,1,2,3,1,1,2,3,1,1,2,3,1,1,2,3,1,1,2,3,1,1,2,3,1,1,2,3,1,1,2,3,1,1,2,3,1,1,2,3,1,1,2,3,1,1,2,3,1,1,2,3,1,1,2,3,1,1,2,3,1,1,2,3,1,1,2,2,3,1,1,2,3,1,1,2,3,1,1,2,3,1,1,2,3,1,1,2,3,1,1,2,3,1,1,2,3,1,1,2,3,1,1,2,3,1,1,2,3,1,1,2,3,1,1,2,3,1,1,2,3,1,1,2,3,1,1,2,3,1,1,2,3,1,1,2,3,1,1,2,3,1,1,2,3,1,1,2,2,3,1,1,2,3,1,1,2,3,1,1,2,3,1,1,2,3,1,1,2,3,1,1,2,3,1,1,2,3,1,1,2,3,1,1,2,3,1,1,2,3,1,1,2,3,1,1,2,3,1,1,2,3,1,1,2,3,1,1,2,3,1,1,2,3,1,1,2,3,1,1,2,3,1,1,2,3,1,1,2,2,3,1,1,2,3,1,1,2,3,1,1,2,3,1,1,2,3,1,1,2,3,1,1,2,3,1,1,2,3,1,1,2,3,1,1,2,3,1,1,2,3,1,1,2,3,1,1,2,3,1,1,2,3,1,1,2,3,1,1,2,3,1,1,2,3,1,1,2,3,1,1,2,3,1,1,2,3,1,1,2,2,3,1,1,2,3,1,1,2,3,1,1,2,3,1,1,2,3,1,1,2,3,1,1,2,3,1,1,2,3,1,1,2,3,1,1,2,3,1,1,2,3,1,1,2,3,1,1,2,3,1,1,2,3,1,1,2,3,1,1,2,3,1,1,2,3,1,1,2,3,1,1,2,3,1,1,2,3,1,1,2,2,3,1,1,2,3,1,1,2,3,1,1,2,3,1,1,2,3,1,1,2,3,1,1,2,3,1,1,2,3,1,1,2,3,1,1,2,3,1,1,2,3,1,1,2,3,1,1,2,3,1,1,2,3,1,1,2,3,1,1,2,3,1,1,2,3,1,1,2,3,1,1,2,3,1,1,2,3,1,1,2,2,3,1,1,2,3,1,1,2,3,1,1,2,3,1,1,2,3,1,1,2,3,1,1,2,3,1,1,2,3,1,1,2,3,1,1,2,3,1,1,2,3,1,1,2,3,1,1,2,3,1,1,2,3,1,1,2,3,1,1,2,3,1,1,2,3,1,1,2,3,1,1,2,3,1,1,2,3,1,1,2,2,3,1,1,2,3,1,1,2,3,1,1,2,3,1,1,2,3,1,1,2,3,1,1,2,3,1,1,2,3,1,1,2,3,1,1,2,3,1,1,2,3,1,1,2,3,1,1,2,3,1,1,2,3,1,1,2,3,1,1,2,3,1,1,2,3,1,1,2,3,1,1,2,3,1,1,2,3,1,1,2,2,3,1,1,2,3,1,1,2,3,1,1,2,3,1,1,2,3,1,1,2,3,1,1,2,3,1,1,2,3,1,1,2,3,1,1,2,3,1,1,2,3,1,1,2,3,1,1,2,3,1,1,2,3,1,1,2,3,1,1,2,3,1,1,2,3,1,1,2,3,1,1,2,3,1,1,2,3,1,1,2,2,3,1,1,2,3,1,1,2,3,1,1,2,3,1,1,2,3,1,1,2,3,1,1,2,3,1,1,2,3,1,1,2,3,1,1,2,3,1,1,2,3,1,1,2,3,1,1,2,3,1,1,2,3,1,1,2,3,1,1,2,3,1,1,2,3,1,1,2,3,1,1,2,3,1,1,2,3,1,1,2,2,3,1,1,2,3,1,1,2,3,1,1,2,3,1,1,2,3,1,1,2,3,1,1,2,3,1,1,2,3,1,1,2,3,1,1,2,3,1,1,2,3,1,1,2,3,1,1,2,3,1,1,2,3,1,1,2,3,1,1,2,3,1,1,2,3,1,1,2,3,1,1,2,3,1,1,2,3,1,1,2,2,3,1,1,2,3,1,1,2,3,1,1,2,3,1,1,2,3,1,1,2,3,1,1,2,3,1,1,2,3,1,1,2,3,1,1,2,3,1,1,2,3,1,1,2,3,1,1,2,3,1,1,2,3,1,1,2,3,1,1,2,3,1,1,2,3,1,1,2,3,1,1,2,3,1,1,2,3,1,1,2,2,3,1,1,2,3,1,1,2,3,1,1,2,3,1,1,2,3,1,1,2,3,1,1,2,3,1,1,2,3,1,1,2,3,1,1,2,3,1,1,2,3,1,1,2,3,1,1,2,3,1,1,2,3,1,1,2,3,1,1,2,3,1,1,2,3,1,1,2,3,1,1,2,3,1,1,2,3,1,1,2,2,3,1,1,2,3,1,1,2,3,1,1,2,3,1,1,2,3,1,1,2,3,1,1,2,3,1,1,2,3,1,1,2,3,1,1,2,3,1,1,2,3,1,1,2,3,1,1,2,3,1,1,2,3,1,1,2,3,1,1,2,3,1,1,2,3,1,1,2,3,1,1,2,3,1,1,2,3,1,1,2,2,3,1,1,2,3,1,1,2,3,1,1,2,3,1,1,2,3,1,1,2,3,1,1,2,3,1,1,2,3,1,1,2,3,1,1,2,3,1,1,2,3,1,1,2,3,1,1,2,3,1,1,2,3,1,1,2,3,1,1,2,3,1,1,2,3,1,1,2,3,1,1,2,3,1,1,2,3,1,1,2,2,3,1,1,2,3,1,1,2,3,1,1,2,3,1,1,2,3,1,1,2,3,1,1,2,3,1,1,2,3,1,1,2,3,1,1,2,3,1,1,2,3,1,1,2,3,1,1,2,3,1,1,2,3,1,1,2,3,1,1,2,3,1,1,2,3,1,1,2,3,1,1,2,3,1,1,2,3,1,1,2,2,3,1,1,2,3,1,1,2,3,1,1,2,3,1,1,2,3,1,1,2,3,1,1,2,3,1,1,2,3,1,1,2,3,1,1,2,3,1,1,2,3,1,1,2,3,1,1,2,3,1,1,2,3,1,1,2,3,1,1,2,3,1,1,2,3,1,1,2,3,1,1,2,3,1,1,2,3,1,1,2,2,3,1,1,2,3,1,1,2,3,1,1,2,3,1,1,2,3,1,1,2,3,1,1,2,3,1,1,2,3,1,1,2,3,1,1,2,3,1,1,2,3,1,1,2,3,1,1,2,3,1,1,2,3,1,1,2,3,1,1,2,3,1,1,2,3,1,1,2,3,1,1,2,3,1,1,2,3,1,1,2,2,3,1,1,2,3,1,1,2,3,1,1,2,3,1,1,2,3,1,1,2,3,1,1,2,3,1,1,2,3,1,1,2,3,1,1,2,3,1,1,2,3,1,1,2,3,1,1,2,3,1,1,2,3,1,1,2,3,1,1,2,3,1,1,2,3,1,1,2,3,1,1,2,3,1,1,2,3,1,1,2,2,3,1,1,2,3,1,1,2,3,1,1,2,3,1,1,2,3,1,1,2,3,1,1,2,3,1,1,2,3,1,1,2,3,1,1,2,3,1,1,2,3,1,1,2,3,1,1,2,3,1,1,2,3,1,1,2,3,1,1,2,3,1,1,2,3,1,1,2,3,1,1,2,3,1,1,2,3,1,1,2,2,3,1,1,2,3,1,1,2,3,1,1,2,3,1,1,2,3,1,1,2,3,1,1,2,3,1,1,2,3,1,1,2,3,1,1,2,3,1,1,2,3,1,1,2,3,1,1,2,3,1,1,2,3,1,1,2,3,1,1,2,3,1,1,2,3,1,1,2,3,1,1,2,3,1,1,2,3,1,1,2,2,3,1,1,2,3,1,1,2,3,1,1,2,3,1,1,2,3,1,1,2,3,1,1,2,3,1,1,2,3,1,1,2,3,1,1,2,3,1,1,2,3,1,1,2,3,1,1,2,3,1,1,2,3,1,1,2,3,1,1,2,3,1,1,2,3,1,1,2,3,1,1,2,3,1,1,2,3,1,1,2,2,3,1,1,2,3,1,1,2,3,1,1,2,3,1,1,2,3,1,1,2,3,1,1,2,3,1,1,2,3,1,1,2,3,1,1,2,3,1,1,2,3,1,1,2,3,1,1,2,3,1,1,2,3,1,1,2,3,1,1,2,3,1,1,2,3,1,1,2,3,1,1,2,3,1,1,2,3,1,1,2,2,3,1,1,2,3,1,1,2,3,1,1,2,3,1,1,2,3,1,1,2,3,1,1,2,3,1,1,2,3,1,1,2,3,1,1,2,3,1,1,2,3,1,1,2,3,1,1,2,3,1,1,2,3,1,1,2,3,1,1,2,3,1,1,2,3,1,1,2,3,1,1,2,3,1,1,2,3,1,1,2,2,3,1,1,2,3,1,1,2,3,1,1,2,3,1,1,2,3,1,1,2,3,1,1,2,3,1,1,2,3,1,1,2,3,1,1,2,3,1,1,2,3,1,1,2,3,1,1,2,3,1,1,2,3,1,1,2,3,1,1,2,3,1,1,2,3,1,1,2,3,1,1,2,3,1,1,2,3,1,1,2,2,3,1,1,2,3,1,1,2,3,1,1,2,3,1,1,2,3,1,1,2,3,1,1,2,3,1,1,2,3,1,1,2,3,1,1,2,3,1,1,2,3,1,1,2,3,1,1,2,3,1,1,2,3,1,1,2,3,1,1,2,3,1,1,2,3,1,1,2,3,1,1,2,3,1,1,2,3,1,1,2,2,3,1,1,2,3,1,1,2,3,1,1,2,3,1,1,2,3,1,1,2,3,1,1,2,3,1,1,2,3,1,1,2,3,1,1,2,3,1,1,2,3,1,1,2,3,1,1,2,3,1,1,2,3,1,1,2,3,1,1,2,3,1,1,2,3,1,1,2,3,1,1,2,3,1,1,2,3,1,1,2,2,3,1,1,2,3,1,1,2,3,1,1,2,3,1,1,2,3,1,1,2,3,1,1,2,3,1,1,2,3,1,1,2,3,1,1,2,3,1,1,2,3,1,1,2,3,1,1,2,3,1,1,2,3,1,1,2,3,1,1,2,3,1,1,2,3,1,1,2,3,1,1,2,3,1,1,2,3,1,1,2,2,3,1,1,2,3,1,1,2,3,1,1,2,3,1,1,2,3,1,1,2,3,1,1,2,3,1,1,2,3,1,1,2,3,1,1,2,3,1,1,2,3,1,1,2,3,1,1,2,3,1,1,2,3,1,1,2,3,1,1,2,3,1,1,2,3,1,1,2,3,1,1,2,3,1,1,2,3,1,1,2,2,3,1,1,2,3,1,1,2,3,1,1,2,3,1,1,2,3,1,1,2,3,1,1,2,3,1,1,2,3,1,1,2,3,1,1,2,3,1,1,2,3,1,1,2,3,1,1,2,3,1,1,2,3,1,1,2,3,1,1,2,3,1,1,2,3,1,1,2,3,1,1,2,3,1,1,2,3,1,1,2,2,3,1,1,2,3,1,1,2,3,1,1,2,3,1,1,2,3,1,1,2,3,1,1,2,3,1,1,2,3,1,1,2,3,1,1,2,3,1,1,2,3,1,1,2,3,1,1,2,3,1,1,2,3,1,1,2,3,1,1,2,3,1,1,2,3,1,1,2,3,1,1,2,3,1,1,2,3,1,1,2,2,3,1,1,2,3,1,1,2,3,1,1,2,3,1,1,2,3,1,1,2,3,1,1,2,3,1,1,2,3,1,1,2,3,1,1,2,3,1,1,2,3,1,1,2,3,1,1,2,3,1,1,2,3,1,1,2,3,1,1,2,3,1,1,2,3,1,1,2,3,1,1,2,3,1,1,2,3,1,1,2,2,3,1,1,2,3,1,1,2,3,1,1,2,3,1,1,2,3,1,1,2,3,1,1,2,3,1,1,2,3,1,1,2,3,1,1,2,3,1,1,2,3,1,1,2,3,1,1,2,3,1,1,2,3,1,1,2,3,1,1,2,3,1,1,2,3,1,1,2,3,1,1,2,3,1,1,2,3,1,1,2,2,3,1,1,2,3,1,1,2,3,1,1,2,3,1,1,2,3,1,1,2,3,1,1,2,3,1,1,2,3,1,1,2,3,1,1,2,3,1,1,2,3,1,1,2,3,1,1,2,3,1,1,2,3,1,1,2,2,3,1,1,2,3,1,1,2,3,1,1,2,3,1,1,2,3,1,1,2,3,1,1,2,3,1,1,2,3,1,1,2,3,1,1,2,3,1,1,2,3,1,1,2,3,1,1,2,3,1,1,2,3,1,1,2,3,1,1,2,3,1,1,2,3,1,1,2,3,1,1,2,3,1,1,2,3,1,1,2,2,3,1,1,2,3,1,1,2,3,1,1,2,3,1,1,2,3,1,1,2,3,1,1,2,3,1,1,2,3,1,1,2,3,1,1,2,3,1,1,2,3,1,1,2,3,1,1,2,3,1,1,2,3,1,1,2,3,1,1,2,3,1,1,2,3,1,1,2,3,1,1,2,3,1,1,2,3,1,1,2,2,3,1,1,2,3,1,1,2,3,1,1,2,3,1,1,2,3,1,1,2,3,1,1,2,3,1,1,2,3,1,1,2,3,1,1,2,3,1,1,2,3,1,1,2,3,1,1,2,3,1,1,2,3,1,1,2,3,1,1,2,3,1,1,2,3,1,1,2,3,1,1,2,3,1,1,2,3,1,1,2,2,3,1,1,2,3,1,1,2,3,1,1,2,3,1,1,2,3,1,1,2,3,1,1,2,3,1,1,2,3,1,1,2,3,1,1,2,3,1,1,2,3,1,1,2,3,1,1,2,3,1,1,2,3,1,1,2,3,1,1,2,3,1,1,2,3,1,1,2,3,1,1,2,3,1,1,2,3,1,1,2,2,3,1,1,2,3,1,1,2,3,1,1,2,3,1,1,2,3,1,1,2,3,1,1,2,3,1,1,2,3,1,1,2,3,1,1,2,3,1,1,2,3,1,1,2,3,1,1,2,3,1,1,2,3,1,1,2,3,1,1,2,3,1,1,2,3,1,1,2,3,1,1,2,3,1,1,2,3,1,1,2,2,3,1,1,2,3,1,1,2,3,1,1,2,3,1,1,2,3,1,1,2,3,1,1,2,3,1,1,2,3,1,1,2,3,1,1,2,3,1,1,2,3,1,1,2,3,1,1,2,3,1,1,2,3,1,1,2,3,1,1,2,3,1,1,2,3,1,1,2,3,1,1,2,3,1,1,2,3,1,1,2,2,3,1,1,2,3,1,1,2,3,1,1,2,3,1,1,2,3,1,1,2,3,1,1,2,3,1,1,2,3,1,1,2,3,1,1,2,3,1,1,2,3,1,1,2,3,1,1,2,3,1,1,2,3,1,1,2,3,1,1,2,3,1,1,2,3,1,1,2,3,1,1,2,3,1,1,2,3,1,1,2,3,1,1,2,3,1,1,2,3,1,1,2,3,1,1,2,3,1,1,2,3,1,1,2,3,1,1,2,3,1,1,2,3,1,1,2,3,1,1,2,3,1,1,2,1,2,3,1,1,2,3,1,1,2,3,1,1,2,3,1,1,2,3,1,1,2,3,1,1,2,3,1,1,2,3,1,1,2,3,1,1,2,3,1,1,2,3,1,1,2,3,1,1,2,3,1,1,2,3,1,1,2,3,1,1,2,3,1,1,2,3,1,1,2,3,1,1,2,3,1,1,2,3,1,1,2,3,1,1,2,3,1,1,2,3,1,1,2,3,1,1,2,3,1,1,2,3,1,1,2,3,1,1,2,3,1,1,2,3,1,1,2,3,1,1,2,3,1,1,2,3,1,1,2,3,1,1,2,3,1,1,2,3,1,1,2,3,1,1,2,3,1,1,2,3,1,1,2,3,1,1,2,3,1,1,2,3,1,1,2,3,1,1,2,3,1,1,2,3,1,1,2,3,1,1,2,3,1,1,2,3,1,1,2,3,1,1,2,3,1,1,2,3,1,1,2,3,1,1,2,3,1,1,2,3,1,1,2,3,1,1,2,3,1,1,2,3,1,1,2,3,1,1,2,3,1,1,2,3,1,1,2,3,1,1,2,3,1,1,2,3,1,1,2,3,1,1,2,3,1,1,2,3,1,1,2,3,1,1,2,3,1,1,2,3,1,1,2,3,1,1,2,3,1,1,2,3,1,1,2,3,1,1,2,3,1,1,2,3,1,1,2,3,1,1,2,3,1,1,2,3,1,1,2,3,1,1,2,3,1,1,2,3,1,1,2,3,1,1,2,3,1,1,2,3,1,1,2,3,1,1,2,3,1,1,2,3,1,1,2,3,1,1,2,3,1,1,2,3,1,1,2,3,1,1,2,3,1,1,2,3,1,1,2,3,1,1,2,3,1,1,2,3,1,1,2,3,1,1,2,3,1,1,2,3,1,1,2,3,1,1,2,3,1,1,2,3,1,1,2,3,1,1,2,3,1,1,2,3,1,1,2,3,1,1,2,3,1,1,2,3,1,1,2,3,1,1,2,3,1,1,2,3,1,1,2,3,1,1,2,3,1,1,2,3,1,1,2,3,1,1,2,3,1,1,2,3,1,1,2,3,1,1,2,3,1,1,2,3,1,1,2,3,1,1,2,3,1,1,2,3,1,1,2,3,1,1,2,3,1,1,2,3,1,1,2,3,1,1,2,3,1,1,2,3,1,1,2,3,1,1,2,3,1,1,2,3,1,1,2,3,1,1,2,3,1,1,2,3,1,1,2,3,1,1,2,3,1,1,2,3,1,1,2,3,1,1,2,3,1,1,2,3,1,1,2,3,1,1,2,3,1,1,2,3,1,1,2,3,1,1,2,3,1,1,2,3,1,1,2,3,1,1,2,3,1,1,2,3,1,1,2,3,1,1,2,3,1,1,2,3,1,1,2,3,1,1,2,3,1,1,2,3,1,1,2,3,1,1,2,3,1,1,2,3,1,1,2,3,1,1,2,3,1,1,2,3,1,1,2,3,1,1,2,3,1,1,2,3,1,1,2,3,1,1,2,3,1,1,2,3,1,1,2,3,1,1,2,3,1,1,2,3,1,1,2,3,1,1,2,3,1,1,2,3,1,1,2,3,1,1,2,3,1,1,2,3,1,1,2,3,1,1,2,3,1,1,2,3,1,1,2,3,1,1,2,3,1,1,2,3,1,1,2,3,1,1,2,3,1,1,2,3,1,1,2,3,1,1,2,3,1,1,2,3,1,1,2,3,1,1,2,3,1,1,2,3,1,1,2,3,1,1,2,3,1,1,2,3,1,1,2,3,1,1,2,3,1,1,2,3,1,1,2,3,1,1,1,2,3,1,1,2,3,1,1,2,3,1,1,2,3,1,1,2,3,1,1,2,3,1,4))"
   ]
  },
  {
   "cell_type": "code",
   "execution_count": 27,
   "metadata": {},
   "outputs": [
    {
     "data": {
      "text/plain": [
       "defined \u001b[32mfunction\u001b[39m \u001b[36mfoldLeft\u001b[39m"
      ]
     },
     "execution_count": 27,
     "metadata": {},
     "output_type": "execute_result"
    }
   ],
   "source": [
    "def foldLeft[A,B](as: List[A], z: B)(f: (B, A) => B): B = as match {\n",
    "  case Nil => z\n",
    "  case Cons(x, xs) => foldLeft(xs, f(z, x))(f)\n",
    "}"
   ]
  },
  {
   "cell_type": "markdown",
   "metadata": {
    "collapsed": true
   },
   "source": [
    "## 연습문제 3.11\n",
    "sum, product와 목록의 길이를 계산하는 함수를 foldLeft를 이용해서 작성하라."
   ]
  },
  {
   "cell_type": "code",
   "execution_count": 15,
   "metadata": {},
   "outputs": [
    {
     "data": {
      "text/plain": [
       "defined \u001b[32mfunction\u001b[39m \u001b[36msum3\u001b[39m\n",
       "defined \u001b[32mfunction\u001b[39m \u001b[36mproduct3\u001b[39m"
      ]
     },
     "execution_count": 15,
     "metadata": {},
     "output_type": "execute_result"
    }
   ],
   "source": [
    "def sum3(l: List[Int]): Int = \n",
    "  foldLeft(l, 0)(_ + _)\n",
    "\n",
    "def product3(l: List[Double]): Double = \n",
    "  foldLeft(l, 1.0)(_ * _)"
   ]
  },
  {
   "cell_type": "code",
   "execution_count": 16,
   "metadata": {},
   "outputs": [
    {
     "data": {
      "text/plain": [
       "\u001b[36mres15_0\u001b[39m: \u001b[32mInt\u001b[39m = \u001b[32m10\u001b[39m\n",
       "\u001b[36mres15_1\u001b[39m: \u001b[32mDouble\u001b[39m = \u001b[32m24.0\u001b[39m"
      ]
     },
     "execution_count": 16,
     "metadata": {},
     "output_type": "execute_result"
    }
   ],
   "source": [
    "sum3(List(1,2,3,4))\n",
    "product(List(1,2,3,4))"
   ]
  },
  {
   "cell_type": "markdown",
   "metadata": {},
   "source": [
    "## 연습문제 3.12\n",
    "목록의 역을 돌려주는(이를테면 List(1,2,3)에 대해 List(3,2,1)을 돌려주는) 함수를 작성하라. 접기(fold) 함수를 이용해서 작성할 수 있는지 시도해 볼 것."
   ]
  },
  {
   "cell_type": "code",
   "execution_count": 28,
   "metadata": {},
   "outputs": [
    {
     "data": {
      "text/plain": [
       "defined \u001b[32mfunction\u001b[39m \u001b[36mreverse\u001b[39m"
      ]
     },
     "execution_count": 28,
     "metadata": {},
     "output_type": "execute_result"
    }
   ],
   "source": [
    "def reverse[A](l: List[A]): List[A] = \n",
    "  foldLeft(l, Nil: List[A])((x,y) => Cons(y,x))"
   ]
  },
  {
   "cell_type": "code",
   "execution_count": 19,
   "metadata": {},
   "outputs": [
    {
     "data": {
      "text/plain": [
       "\u001b[36mres18\u001b[39m: \u001b[32mList\u001b[39m[\u001b[32mInt\u001b[39m] = Cons(1,Cons(2,Cons(3,Nil)))"
      ]
     },
     "execution_count": 19,
     "metadata": {},
     "output_type": "execute_result"
    }
   ],
   "source": [
    "reverse(List(3,2,1))"
   ]
  },
  {
   "cell_type": "markdown",
   "metadata": {},
   "source": [
    "## 연습문제 3.13 (Hard)\n",
    "foldLeft를 foldRight를 이용해서 구현할 수 있을까? 그 반대 방향은 어떨까? foldLeft를 이용하면 foldRight를 꼬리 재귀적으로 구현할 수 있으므로 긴 목록에 대해서도 스택이 넘치지 않는다는 장점이 생긴다."
   ]
  },
  {
   "cell_type": "code",
   "execution_count": 20,
   "metadata": {},
   "outputs": [
    {
     "data": {
      "text/plain": [
       "defined \u001b[32mfunction\u001b[39m \u001b[36mfoldLeft2\u001b[39m\n",
       "defined \u001b[32mfunction\u001b[39m \u001b[36mfoldRight2\u001b[39m"
      ]
     },
     "execution_count": 20,
     "metadata": {},
     "output_type": "execute_result"
    }
   ],
   "source": [
    "def foldLeft2[A,B](as: List[A], z: B)(f: (B, A) => B): B =\n",
    "  foldRight(as, (b:B) => b)((a, g) => b => g(f(b,a)))(z)\n",
    "\n",
    "def foldRight2[A,B](as: List[A], z:B)(f: (A, B) => B): B =\n",
    "  foldLeft(as, (b:B) => b)((g, a) => b => g(f(a,b)))(z)"
   ]
  },
  {
   "cell_type": "markdown",
   "metadata": {},
   "source": [
    "## 연습문제 3.14\n",
    "append를 foldLeft나 foldRight를 이용해서 구현하라."
   ]
  },
  {
   "cell_type": "code",
   "execution_count": 38,
   "metadata": {},
   "outputs": [
    {
     "data": {
      "text/plain": [
       "defined \u001b[32mfunction\u001b[39m \u001b[36mappend\u001b[39m"
      ]
     },
     "execution_count": 38,
     "metadata": {},
     "output_type": "execute_result"
    }
   ],
   "source": [
    "// def reverse[A](a1: List[A]): List[A] = \n",
    "//   foldLeft(a1, Nil: List[A])((x,y) => Cons(y, x))\n",
    "def append[A](a1: List[A], a2: List[A]): List[A] =\n",
    "  foldRight(a1, a2)(Cons(_,_))"
   ]
  },
  {
   "cell_type": "code",
   "execution_count": 39,
   "metadata": {},
   "outputs": [
    {
     "data": {
      "text/plain": [
       "\u001b[36mres38\u001b[39m: \u001b[32mList\u001b[39m[\u001b[32mInt\u001b[39m] = Cons(1,Cons(2,Cons(3,Cons(2,Cons(4,Cons(6,Nil))))))"
      ]
     },
     "execution_count": 39,
     "metadata": {},
     "output_type": "execute_result"
    }
   ],
   "source": [
    "append(List(1,2,3), List(2,4,6))"
   ]
  },
  {
   "cell_type": "markdown",
   "metadata": {},
   "source": [
    "## 연습문제 3.15 (Hard)\n",
    "목록들의 목록을 하나의 목록으로 연결하는 함수를 작성하라. 실행 시간은 반드시 모든 목록의 전체 길이에 선형으로 비례해야한다. 이미 정의한 함수들을 활용하도록 노력할 것."
   ]
  },
  {
   "cell_type": "code",
   "execution_count": 40,
   "metadata": {},
   "outputs": [
    {
     "data": {
      "text/plain": [
       "defined \u001b[32mfunction\u001b[39m \u001b[36mconcat\u001b[39m"
      ]
     },
     "execution_count": 40,
     "metadata": {},
     "output_type": "execute_result"
    }
   ],
   "source": [
    "def concat[A](ll: List[List[A]]): List[A] = \n",
    "  foldLeft(ll, Nil: List[A])(append(_,_))"
   ]
  },
  {
   "cell_type": "code",
   "execution_count": 43,
   "metadata": {},
   "outputs": [
    {
     "data": {
      "text/plain": [
       "\u001b[36mres42_0\u001b[39m: \u001b[32mList\u001b[39m[\u001b[32mInt\u001b[39m] = Cons(1,Cons(3,Cons(5,Cons(2,Cons(4,Cons(6,Nil))))))\n",
       "\u001b[36mres42_1\u001b[39m: \u001b[32mString\u001b[39m = \u001b[32m\"List(1,3,5,2,4,6)\"\u001b[39m"
      ]
     },
     "execution_count": 43,
     "metadata": {},
     "output_type": "execute_result"
    }
   ],
   "source": [
    "concat(List(List(1,3,5), List(2,4,6)))\n",
    "List.show(concat(List(List(1,3,5), List(2,4,6))))"
   ]
  },
  {
   "cell_type": "markdown",
   "metadata": {},
   "source": [
    "## 연습문제 3.16\n",
    "정수 목록의 각 요소에 1을 더해서 목록을 변환하는 함수를 작성하라. (주의 새 List를 돌려주는 순수 함수이어야 한다.)"
   ]
  },
  {
   "cell_type": "code",
   "execution_count": 47,
   "metadata": {},
   "outputs": [
    {
     "data": {
      "text/plain": [
       "defined \u001b[32mfunction\u001b[39m \u001b[36minc\u001b[39m"
      ]
     },
     "execution_count": 47,
     "metadata": {},
     "output_type": "execute_result"
    }
   ],
   "source": [
    "def inc(l: List[Int], n: Int): List[Int] = {\n",
    "  foldRight(l, Nil: List[Int])((x,y) => Cons(x+n, y))\n",
    "}"
   ]
  },
  {
   "cell_type": "code",
   "execution_count": 48,
   "metadata": {},
   "outputs": [
    {
     "data": {
      "text/plain": [
       "\u001b[36mres47_0\u001b[39m: \u001b[32mList\u001b[39m[\u001b[32mInt\u001b[39m] = Cons(2,Cons(3,Cons(4,Cons(5,Nil))))\n",
       "\u001b[36mres47_1\u001b[39m: \u001b[32mList\u001b[39m[\u001b[32mInt\u001b[39m] = Cons(3,Cons(4,Cons(5,Cons(6,Nil))))"
      ]
     },
     "execution_count": 48,
     "metadata": {},
     "output_type": "execute_result"
    }
   ],
   "source": [
    "inc(List(1,2,3,4),1)\n",
    "inc(List(1,2,3,4),2)"
   ]
  },
  {
   "cell_type": "markdown",
   "metadata": {},
   "source": [
    "## 연습문제 3.17\n",
    "List[Double]의 각 값을 String으로 변환하는 함수를 작성하라. d: Double을 String으로 변환할 때에는 d.toString이라는 표현식을 사용하면 된다."
   ]
  },
  {
   "cell_type": "code",
   "execution_count": 49,
   "metadata": {},
   "outputs": [
    {
     "data": {
      "text/plain": [
       "defined \u001b[32mfunction\u001b[39m \u001b[36mdoubleToString\u001b[39m"
      ]
     },
     "execution_count": 49,
     "metadata": {},
     "output_type": "execute_result"
    }
   ],
   "source": [
    "def doubleToString(l: List[Double]): List[String] = \n",
    "  foldRight(l, Nil: List[String])((x,y) => Cons(x.toString, y))"
   ]
  },
  {
   "cell_type": "code",
   "execution_count": 50,
   "metadata": {},
   "outputs": [
    {
     "data": {
      "text/plain": [
       "\u001b[36mres49\u001b[39m: \u001b[32mList\u001b[39m[\u001b[32mString\u001b[39m] = Cons(1.0,Cons(2.2,Cons(3.3,Nil)))"
      ]
     },
     "execution_count": 50,
     "metadata": {},
     "output_type": "execute_result"
    }
   ],
   "source": [
    "doubleToString(List(1.0, 2.2, 3.3))"
   ]
  },
  {
   "cell_type": "markdown",
   "metadata": {},
   "source": [
    "## 연습문제 3.18\n",
    "List의 구조를 유지하면서 List의 각 요소를 수정하는 작업을 일반화한 함수 map을 작성하라. 서명은 다음과 같다.\n",
    "```scala\n",
    "def map[A,B](as: List[A])(f: A => B): List[B]\n",
    "```"
   ]
  },
  {
   "cell_type": "code",
   "execution_count": 51,
   "metadata": {},
   "outputs": [
    {
     "data": {
      "text/plain": [
       "defined \u001b[32mfunction\u001b[39m \u001b[36mmap\u001b[39m"
      ]
     },
     "execution_count": 51,
     "metadata": {},
     "output_type": "execute_result"
    }
   ],
   "source": [
    "def map[A,B](as: List[A])(f: A => B): List[B] = \n",
    "  foldRight(as, Nil: List[B])((x,y) => Cons(f(x), y))"
   ]
  },
  {
   "cell_type": "markdown",
   "metadata": {},
   "source": [
    "## 연습문제 3.19\n",
    "List에서 주어진 술어를 만족하지 않는 요소들을 제거하는 함수 filter를 작성하라. 그리고 그 함수를 이용해서 List[Int]에서 모든 홀수를 제거하라.\n",
    "```scala\n",
    "def filter[A](as: List[A])(f: A => Boolean): List[A]\n",
    "```"
   ]
  },
  {
   "cell_type": "code",
   "execution_count": 52,
   "metadata": {},
   "outputs": [
    {
     "data": {
      "text/plain": [
       "defined \u001b[32mfunction\u001b[39m \u001b[36mfilter\u001b[39m"
      ]
     },
     "execution_count": 52,
     "metadata": {},
     "output_type": "execute_result"
    }
   ],
   "source": [
    "def filter[A](as: List[A])(f: A => Boolean): List[A] =\n",
    "  foldRight(as, Nil: List[A])((x, y) => if(f(x)) Cons(x, y) else y)"
   ]
  },
  {
   "cell_type": "code",
   "execution_count": 54,
   "metadata": {},
   "outputs": [
    {
     "data": {
      "text/plain": [
       "\u001b[36mres53\u001b[39m: \u001b[32mList\u001b[39m[\u001b[32mInt\u001b[39m] = Cons(2,Cons(4,Cons(6,Nil)))"
      ]
     },
     "execution_count": 54,
     "metadata": {},
     "output_type": "execute_result"
    }
   ],
   "source": [
    "filter(List(1,2,3,4,5,6,7))(_ % 2 == 0)"
   ]
  },
  {
   "cell_type": "markdown",
   "metadata": {},
   "source": [
    "## 연습문제 3.20\n",
    "map과 비슷하되 하나의 요소가 아니라 List를 최종 결과 List에 삽입하는 함수 flatMap을 작성하라. 서명은 다음과 같다.\n",
    "```scala\n",
    "def flatMap[A,B](as: List[A])(f: A => List[B]): List[B]\n",
    "```\n",
    "예를 들어 flatMap(List(1,2,3))(i => List(i,i))는 List(1,1,2,2,3,3)이 되어야 한다."
   ]
  },
  {
   "cell_type": "code",
   "execution_count": 57,
   "metadata": {},
   "outputs": [
    {
     "data": {
      "text/plain": [
       "defined \u001b[32mfunction\u001b[39m \u001b[36mflatMap\u001b[39m\n",
       "defined \u001b[32mfunction\u001b[39m \u001b[36mflatMap2\u001b[39m"
      ]
     },
     "execution_count": 57,
     "metadata": {},
     "output_type": "execute_result"
    }
   ],
   "source": [
    "def flatMap[A,B](as: List[A])(f: A => List[B]): List[B] =\n",
    "  concat(map(as)(f))\n",
    "\n",
    "def flatMap2[A,B](as: List[A])(f: A => List[B]): List[B] =\n",
    "  foldRight(as, Nil: List[B])((x, y) => append(f(x), y))"
   ]
  },
  {
   "cell_type": "code",
   "execution_count": 58,
   "metadata": {},
   "outputs": [
    {
     "data": {
      "text/plain": [
       "\u001b[36mres57\u001b[39m: \u001b[32mList\u001b[39m[\u001b[32mInt\u001b[39m] = Cons(1,Cons(1,Cons(2,Cons(2,Cons(3,Cons(3,Nil))))))"
      ]
     },
     "execution_count": 58,
     "metadata": {},
     "output_type": "execute_result"
    }
   ],
   "source": [
    "flatMap(List(1,2,3))(i => List(i,i))"
   ]
  },
  {
   "cell_type": "markdown",
   "metadata": {},
   "source": [
    "## 연습문제 3.21\n",
    "flatMap을 이용해서 filter를 구현하라."
   ]
  },
  {
   "cell_type": "markdown",
   "metadata": {},
   "source": [
    "## 연습문제 3.22\n",
    "List 두 개를 받아서 대응되는 요소들을 더한 값들로 이루어진 새 List를 구축하는 함수를 작성하라. 예를 들어 List(1,2,3)과 List(4,5,6)은 List(5,7,9)가 되어야 한다."
   ]
  },
  {
   "cell_type": "markdown",
   "metadata": {},
   "source": [
    "## 연습문제 3.23\n",
    "연습문제 3.22의 함수를 정수나 덧셈에 국한되지 않도록 일반화하라. 함수의 이름은 zipWith로 할 것."
   ]
  },
  {
   "cell_type": "markdown",
   "metadata": {},
   "source": [
    "## 연습문제 3.24 (Hard)\n",
    "효율성 손실의 한 예로, List가 또 다른 List를 부분 순차열로서 담고 있는지 점검하는 hasSubsequence 함수를 구현하라. 예를 들어 List(1,2)나 List(2,3), List(4)는 List(1,2,3,4)의 부분 순차열이다. 간결하고 순수 함수로만 이루어진, 그러면서도 효율적인 구현을 고안하기가 어려울 수 있겠지만, 그래도 개의치 말고 일단은 가장 자연스러운 방식으로 함수를 구현할 것. 나중에 제5장에서 이 함수를 좀 더 개선해 볼 것이다. 참고: 스칼라에서 임의의 두 값x와 y의 상등(equality)을 비교하는 표현식은 x == y이다.\n",
    "```scala\n",
    "def hasSubsequence[A](sup: List[A], sub: List[A]): Boolean\n",
    "```"
   ]
  },
  {
   "cell_type": "code",
   "execution_count": null,
   "metadata": {
    "collapsed": true
   },
   "outputs": [],
   "source": []
  }
 ],
 "metadata": {
  "kernelspec": {
   "display_name": "Scala",
   "language": "scala",
   "name": "scala"
  },
  "language_info": {
   "codemirror_mode": "text/x-scala",
   "file_extension": ".scala",
   "mimetype": "text/x-scala",
   "name": "scala211",
   "nbconvert_exporter": "script",
   "pygments_lexer": "scala",
   "version": "2.11.8"
  }
 },
 "nbformat": 4,
 "nbformat_minor": 2
}
