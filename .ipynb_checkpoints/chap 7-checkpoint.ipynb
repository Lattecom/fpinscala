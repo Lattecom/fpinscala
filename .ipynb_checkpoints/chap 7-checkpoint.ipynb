{
 "cells": [
  {
   "cell_type": "code",
   "execution_count": 1,
   "metadata": {},
   "outputs": [
    {
     "data": {
      "text/plain": [
       "defined \u001b[32mfunction\u001b[39m \u001b[36msum\u001b[39m"
      ]
     },
     "execution_count": 1,
     "metadata": {},
     "output_type": "execute_result"
    }
   ],
   "source": [
    "def sum(ints: Seq[Int]): Int =\n",
    "    ints.foldLeft(0)(_ + _)"
   ]
  },
  {
   "cell_type": "code",
   "execution_count": 2,
   "metadata": {},
   "outputs": [
    {
     "data": {
      "text/plain": [
       "\u001b[36ma\u001b[39m: (\u001b[32mInt\u001b[39m, \u001b[32mInt\u001b[39m, \u001b[32mInt\u001b[39m, \u001b[32mInt\u001b[39m) = (\u001b[32m1\u001b[39m, \u001b[32m2\u001b[39m, \u001b[32m3\u001b[39m, \u001b[32m4\u001b[39m)"
      ]
     },
     "execution_count": 2,
     "metadata": {},
     "output_type": "execute_result"
    }
   ],
   "source": [
    "val a = (1,2,3,4)"
   ]
  },
  {
   "cell_type": "code",
   "execution_count": 3,
   "metadata": {},
   "outputs": [
    {
     "data": {
      "text/plain": [
       "defined \u001b[32mfunction\u001b[39m \u001b[36msum\u001b[39m"
      ]
     },
     "execution_count": 3,
     "metadata": {},
     "output_type": "execute_result"
    }
   ],
   "source": [
    "// divide-and-conquer\n",
    "def sum(ints: IndexedSeq[Int]): Int =\n",
    "    if(ints.size <= 1)\n",
    "        ints.headOption getOrElse 0\n",
    "    else {\n",
    "        val (l,r) = ints.splitAt(ints.length/2)\n",
    "        sum(l) + sum(r) // sum을 분할 호출함으로써 병렬 처리할 수 있는 형태로 바꿈 \n",
    "    }"
   ]
  },
  {
   "cell_type": "markdown",
   "metadata": {},
   "source": [
    "```scala\n",
    "def unit[A](a: => A): Par[A] // 평가되지 않은 a를 받고, 그거을 개별적인 스레드에서 평가할 수 있는 계산을 돌려줌\n",
    "def get[a](: Par[A]): A // 병렬 계산에서 결과 값을 추출한다.\n",
    "```"
   ]
  },
  {
   "cell_type": "code",
   "execution_count": 7,
   "metadata": {},
   "outputs": [
    {
     "data": {
      "text/plain": [
       "defined \u001b[32mtrait\u001b[39m \u001b[36mPar\u001b[39m\n",
       "defined \u001b[32mobject\u001b[39m \u001b[36mPar\u001b[39m"
      ]
     },
     "execution_count": 7,
     "metadata": {},
     "output_type": "execute_result"
    }
   ],
   "source": [
    "trait Par[A]{\n",
    "    def unit[A](a: => A): Par[A] // 평가되지 않은 a를 받고, 그거을 개별적인 스레드에서 평가할 수 있는 계산을 돌려줌\n",
    "    def get[A](a: Par[A]): A // 병렬 계산에서 결과 값을 추출한다.\n",
    "    def map2[A](p1: Par[A], p2: Par[A])(f: (A, A) => A): A\n",
    "    def fork[A](a: => Par[A]): Par[A]\n",
    "    def lazyUnit[A](a: => A): Par[A] = fork(unit(a))\n",
    "}\n",
    "object Par{\n",
    "    \n",
    "}"
   ]
  },
  {
   "cell_type": "code",
   "execution_count": null,
   "metadata": {},
   "outputs": [],
   "source": []
  },
  {
   "cell_type": "code",
   "execution_count": 6,
   "metadata": {},
   "outputs": [
    {
     "name": "stderr",
     "output_type": "stream",
     "text": [
      "cmd6.sc:6: value unit is not a member of object cmd6Wrapper.this.cmd5.wrapper.Par\n",
      "        val sumL : Par[Int] = Par.unit(sum(l)) // 왼쪽을 병렬 계산\n",
      "                                  ^cmd6.sc:7: value unit is not a member of object cmd6Wrapper.this.cmd5.wrapper.Par\n",
      "        val sumR : Par[Int] = Par.unit(sum(r)) // 오른쪽을 병렬 계산\n",
      "                                  ^cmd6.sc:8: value get is not a member of object cmd6Wrapper.this.cmd5.wrapper.Par\n",
      "        Par.get(sumL) + Par.get(sumR) // 두 결과를 추출해서 합함.\n",
      "            ^cmd6.sc:8: value get is not a member of object cmd6Wrapper.this.cmd5.wrapper.Par\n",
      "        Par.get(sumL) + Par.get(sumR) // 두 결과를 추출해서 합함.\n",
      "                            ^"
     ]
    },
    {
     "ename": "",
     "evalue": "",
     "output_type": "error",
     "traceback": [
      "Compilation Failed"
     ]
    }
   ],
   "source": [
    "// divide-and-conquer\n",
    "def sum(ints: IndexedSeq[Int]): Int =\n",
    "    if(ints.size <= 1)\n",
    "        ints.headOption getOrElse 0\n",
    "    else {\n",
    "        val (l,r) = ints.splitAt(ints.length/2)\n",
    "        val sumL : Par[Int] = Par.unit(sum(l)) // 왼쪽을 병렬 계산\n",
    "        val sumR : Par[Int] = Par.unit(sum(r)) // 오른쪽을 병렬 계산\n",
    "        Par.get(sumL) + Par.get(sumR) // 두 결과를 추출해서 합함.\n",
    "    }"
   ]
  },
  {
   "cell_type": "markdown",
   "metadata": {},
   "source": [
    "```scala\n",
    "def sum(ints: IndexedSeq[Int]): Par[Int] =\n",
    "    if (ints.size <= 1)\n",
    "        Par.unit(ints.headOption getOrElse 0)\n",
    "    else {\n",
    "        val (l, r) = ints.splitAt(ints.length/2)\n",
    "        Par.map2(sum(l), sum(r))(_ + _)\n",
    "     }\n",
    "```"
   ]
  },
  {
   "cell_type": "code",
   "execution_count": 4,
   "metadata": {},
   "outputs": [
    {
     "name": "stderr",
     "output_type": "stream",
     "text": [
      "cmd4.sc:3: not found: value Par\n",
      "        Par.unit(ints.headOption getOrElse 0)\n",
      "        ^cmd4.sc:6: not found: value Par\n",
      "        Par.map2(sum(l), sum(r))(_ + _)\n",
      "        ^"
     ]
    },
    {
     "ename": "",
     "evalue": "",
     "output_type": "error",
     "traceback": [
      "Compilation Failed"
     ]
    }
   ],
   "source": [
    "def sum(ints: IndexedSeq[Int]): Par[Int] =\n",
    "    if (ints.size <= 1)\n",
    "        Par.unit(ints.headOption getOrElse 0)\n",
    "    else {\n",
    "        val (l, r) = ints.splitAt(ints.length/2)\n",
    "        Par.map2(sum(l), sum(r))(_ + _)\n",
    "     }"
   ]
  },
  {
   "cell_type": "code",
   "execution_count": null,
   "metadata": {},
   "outputs": [],
   "source": []
  }
 ],
 "metadata": {
  "kernelspec": {
   "display_name": "Scala",
   "language": "scala",
   "name": "scala"
  },
  "language_info": {
   "codemirror_mode": "text/x-scala",
   "file_extension": ".scala",
   "mimetype": "text/x-scala",
   "name": "scala211",
   "nbconvert_exporter": "script",
   "pygments_lexer": "scala",
   "version": "2.11.11"
  }
 },
 "nbformat": 4,
 "nbformat_minor": 2
}
