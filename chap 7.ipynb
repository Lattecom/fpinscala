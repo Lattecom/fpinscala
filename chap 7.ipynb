{
 "cells": [
  {
   "cell_type": "code",
   "execution_count": 1,
   "metadata": {},
   "outputs": [
    {
     "data": {
      "text/plain": [
       "defined \u001b[32mfunction\u001b[39m \u001b[36msum\u001b[39m"
      ]
     },
     "execution_count": 1,
     "metadata": {},
     "output_type": "execute_result"
    }
   ],
   "source": [
    "def sum(ints: Seq[Int]): Int =\n",
    "    ints.foldLeft(0)(_ + _)"
   ]
  },
  {
   "cell_type": "code",
   "execution_count": 2,
   "metadata": {},
   "outputs": [
    {
     "data": {
      "text/plain": [
       "\u001b[36ma\u001b[39m: (\u001b[32mInt\u001b[39m, \u001b[32mInt\u001b[39m, \u001b[32mInt\u001b[39m, \u001b[32mInt\u001b[39m) = (\u001b[32m1\u001b[39m, \u001b[32m2\u001b[39m, \u001b[32m3\u001b[39m, \u001b[32m4\u001b[39m)"
      ]
     },
     "execution_count": 2,
     "metadata": {},
     "output_type": "execute_result"
    }
   ],
   "source": [
    "val a = (1,2,3,4)"
   ]
  },
  {
   "cell_type": "code",
   "execution_count": 3,
   "metadata": {},
   "outputs": [
    {
     "data": {
      "text/plain": [
       "defined \u001b[32mfunction\u001b[39m \u001b[36msum\u001b[39m"
      ]
     },
     "execution_count": 3,
     "metadata": {},
     "output_type": "execute_result"
    }
   ],
   "source": [
    "// divide-and-conquer\n",
    "def sum(ints: IndexedSeq[Int]): Int =\n",
    "    if(ints.size <= 1)\n",
    "        ints.headOption getOrElse 0\n",
    "    else {\n",
    "        val (l,r) = ints.splitAt(ints.length/2)\n",
    "        sum(l) + sum(r) // sum을 분할 호출함으로써 병렬 처리할 수 있는 형태로 바꿈 \n",
    "    }"
   ]
  },
  {
   "cell_type": "markdown",
   "metadata": {},
   "source": [
    "```scala\n",
    "def unit[A](a: => A): Par[A] // 평가되지 않은 a를 받고, 그거을 개별적인 스레드에서 평가할 수 있는 계산을 돌려줌\n",
    "def get[a](: Par[A]): A // 병렬 계산에서 결과 값을 추출한다.\n",
    "```"
   ]
  },
  {
   "cell_type": "markdown",
   "metadata": {},
   "source": [
    "```scala\n",
    "def sum(ints: IndexedSeq[Int]): Par[Int] =\n",
    "    if (ints.size <= 1)\n",
    "        Par.unit(ints.headOption getOrElse 0)\n",
    "    else {\n",
    "        val (l, r) = ints.splitAt(ints.length/2)\n",
    "        Par.map2(sum(l), sum(r))(_ + _)\n",
    "     }\n",
    "```"
   ]
  },
  {
   "cell_type": "code",
   "execution_count": 1,
   "metadata": {},
   "outputs": [
    {
     "name": "stdout",
     "output_type": "stream",
     "text": [
      "fin.\n"
     ]
    },
    {
     "data": {
      "text/plain": [
       "\u001b[32mimport \u001b[39m\u001b[36mscala.concurrent.duration.TimeUnit\n",
       "\n",
       "\u001b[39m\n",
       "defined \u001b[32mtype\u001b[39m \u001b[36mPar\u001b[39m\n",
       "defined \u001b[32mobject\u001b[39m \u001b[36mPar\u001b[39m\n",
       "defined \u001b[32mclass\u001b[39m \u001b[36mExecutorService\u001b[39m\n",
       "defined \u001b[32mtrait\u001b[39m \u001b[36mCallable\u001b[39m\n",
       "defined \u001b[32mtrait\u001b[39m \u001b[36mFuture\u001b[39m\n",
       "defined \u001b[32mfunction\u001b[39m \u001b[36msum\u001b[39m"
      ]
     },
     "execution_count": 1,
     "metadata": {},
     "output_type": "execute_result"
    }
   ],
   "source": [
    "\n",
    "import scala.concurrent.duration.TimeUnit\n",
    "\n",
    "type Par[A] = ExecutorService => Future[A]\n",
    "\n",
    "object Par {\n",
    "  def unit[A](a: A): Par[A] = (es: ExecutorService) => UnitFuture(a)\n",
    "\n",
    "  private case class UnitFuture[A](get: A) extends Future[A] {\n",
    "    def isDone = true\n",
    "    def get(timeout: Long, units: TimeUnit) = get\n",
    "    def isCancelled = false\n",
    "    def cancel(evenIfRunning: Boolean): Boolean = false\n",
    "  }\n",
    "\n",
    "  def map2[A,B,C](a: Par[A], b: Par[B])(f: (A, B) => C): Par[C] =\n",
    "    (es: ExecutorService) => unit(f(a(es).get, b(es).get))(es)\n",
    "    // 위 처럼 구현하면 아래의 구현과 달라지는지\n",
    "//    (es: ExecutorService) => {\n",
    "//      val as = a(es)\n",
    "//      val bs = b(es)\n",
    "//      UnitFuture(f(as.get, bs.get))\n",
    "//    }\n",
    "\n",
    "\n",
    "  def fork[A](a: => Par[A]): Par[A] =\n",
    "    es => es.submit(new Callable[A] {\n",
    "      def call = a(es).get\n",
    "    })\n",
    "  def lazyUnit[A](a: => A): Par[A] = fork(unit(a))\n",
    "  def run[A](s: ExecutorService)(a: Par[A]): Future[A] = a(s)\n",
    "\n",
    "  // exercise 7.3(hard)\n",
    "  def map2_[A,B,C](a: Par[A], b: Par[B])(f: (A, B) => C): Par[C] = ???\n",
    "\n",
    "  // exercise 7.4\n",
    "  def asyncF[A,B](f: A => B): A => Par[B] =\n",
    "    a => lazyUnit(f(a))\n",
    "\n",
    "  def sortPar(parList: Par[List[Int]]): Par[List[Int]] = {\n",
    "    map(parList)(_.sorted)\n",
    "  }\n",
    "\n",
    "  def map[A,B](pa: Par[A])(f: A => B): Par[B] =\n",
    "    map2(pa, unit())((a, _) => f(a))\n",
    "\n",
    "  def parMap[A,B](ps: List[A])(f: A => B): Par[List[B]] = {\n",
    "    val fbs: List[Par[B]] = ps.map(asyncF(f))\n",
    "    sequence(fbs)\n",
    "  }\n",
    "  // exercise 7.5(hard)\n",
    "  def sequence[A](ps: List[Par[A]]): Par[List[A]] =\n",
    "  es => {\n",
    "    unit(ps.map(_(es).get))(es)\n",
    "  }\n",
    "}\n",
    "\n",
    "class ExecutorService {\n",
    "  def submit[A](a: Callable[A]): Future[A] = ???\n",
    "}\n",
    "trait Callable[A] { def call: A }\n",
    "trait Future[A] {\n",
    "  def get: A\n",
    "  def get(timeout: Long, unit: TimeUnit): A\n",
    "  def cancel(evenIfRunning: Boolean): Boolean\n",
    "  def isDone: Boolean\n",
    "  def isCancelled: Boolean\n",
    "}\n",
    "\n",
    "\n",
    "// #2\n",
    "def sum(ints: IndexedSeq[Int]): Par[Int] =\n",
    "  if(ints.size <= 1)\n",
    "    Par.unit(ints.headOption getOrElse 0)\n",
    "  else {\n",
    "    val (l, r) = ints.splitAt(ints.length/2)\n",
    "    Par.map2(Par.fork(sum(l)), Par.fork(sum(r)))(_ + _)\n",
    "  }\n",
    "println(\"fin.\")\n"
   ]
  },
  {
   "cell_type": "code",
   "execution_count": 2,
   "metadata": {},
   "outputs": [
    {
     "data": {
      "text/plain": [
       "\u001b[36mres1\u001b[39m: \u001b[32mList\u001b[39m[\u001b[32mString\u001b[39m] = \u001b[33mList\u001b[39m(\u001b[32m\"a\"\u001b[39m, \u001b[32m\"b\"\u001b[39m, \u001b[32m\"c\"\u001b[39m, \u001b[32m\"d\"\u001b[39m)"
      ]
     },
     "execution_count": 2,
     "metadata": {},
     "output_type": "execute_result"
    }
   ],
   "source": [
    "List(\"a\", \"b\", \"c\", \"d\")"
   ]
  },
  {
   "cell_type": "code",
   "execution_count": 3,
   "metadata": {},
   "outputs": [
    {
     "data": {
      "text/plain": [
       "\u001b[36mres2\u001b[39m: \u001b[32mString\u001b[39m = \u001b[32m\"abcd\"\u001b[39m"
      ]
     },
     "execution_count": 3,
     "metadata": {},
     "output_type": "execute_result"
    }
   ],
   "source": [
    "res1.foldRight(\"\")(_ + _)"
   ]
  },
  {
   "cell_type": "code",
   "execution_count": 4,
   "metadata": {},
   "outputs": [
    {
     "data": {
      "text/plain": [
       "\u001b[36mres3\u001b[39m: \u001b[32mString\u001b[39m = \u001b[32m\"abcd\"\u001b[39m"
      ]
     },
     "execution_count": 4,
     "metadata": {},
     "output_type": "execute_result"
    }
   ],
   "source": [
    "res1.foldLeft(\"\")(_ + _)"
   ]
  },
  {
   "cell_type": "code",
   "execution_count": null,
   "metadata": {
    "collapsed": true
   },
   "outputs": [],
   "source": []
  }
 ],
 "metadata": {
  "kernelspec": {
   "display_name": "Scala",
   "language": "scala",
   "name": "scala"
  },
  "language_info": {
   "codemirror_mode": "text/x-scala",
   "file_extension": ".scala",
   "mimetype": "text/x-scala",
   "name": "scala211",
   "nbconvert_exporter": "script",
   "pygments_lexer": "scala",
   "version": "2.11.11"
  }
 },
 "nbformat": 4,
 "nbformat_minor": 2
}
