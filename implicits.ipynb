{
 "cells": [
  {
   "cell_type": "code",
   "execution_count": 1,
   "metadata": {},
   "outputs": [
    {
     "name": "stderr",
     "output_type": "stream",
     "text": [
      "cmd1.sc:1: type mismatch;\n",
      " found   : Double(3.5)\n",
      " required: Int\n",
      "val i: Int = 3.5\n",
      "             ^"
     ]
    },
    {
     "ename": "",
     "evalue": "",
     "output_type": "error",
     "traceback": [
      "Compilation Failed"
     ]
    }
   ],
   "source": [
    "val i: Int = 3.5"
   ]
  },
  {
   "cell_type": "code",
   "execution_count": 2,
   "metadata": {},
   "outputs": [
    {
     "data": {
      "text/plain": [
       "defined \u001b[32mfunction\u001b[39m \u001b[36mdouble2Int\u001b[39m\n",
       "\u001b[36mi\u001b[39m: \u001b[32mInt\u001b[39m = \u001b[32m3\u001b[39m"
      ]
     },
     "execution_count": 2,
     "metadata": {},
     "output_type": "execute_result"
    }
   ],
   "source": [
    "implicit def double2Int(d: Double) = d.toInt\n",
    "\n",
    "val i: Int = 3.5"
   ]
  },
  {
   "cell_type": "code",
   "execution_count": 3,
   "metadata": {},
   "outputs": [
    {
     "data": {
      "text/plain": [
       "\u001b[36md\u001b[39m: \u001b[32mDouble\u001b[39m = \u001b[32m3.0\u001b[39m"
      ]
     },
     "execution_count": 3,
     "metadata": {},
     "output_type": "execute_result"
    }
   ],
   "source": [
    "val d: Double = 3"
   ]
  },
  {
   "cell_type": "code",
   "execution_count": 4,
   "metadata": {},
   "outputs": [
    {
     "data": {
      "text/plain": [
       "defined \u001b[32mclass\u001b[39m \u001b[36mRational\u001b[39m"
      ]
     },
     "execution_count": 4,
     "metadata": {},
     "output_type": "execute_result"
    }
   ],
   "source": [
    "case class Rational(n: Int, d: Int) {\n",
    "    def +(other: Rational) = Rational(n + other.n, d + other.d)\n",
    "    def +(other: Int) = Rational(n + other, d)\n",
    "}"
   ]
  },
  {
   "cell_type": "code",
   "execution_count": 5,
   "metadata": {},
   "outputs": [
    {
     "data": {
      "text/plain": [
       "\u001b[36moneHalf\u001b[39m: \u001b[32mRational\u001b[39m = \u001b[33mRational\u001b[39m(\u001b[32m1\u001b[39m, \u001b[32m2\u001b[39m)\n",
       "\u001b[36mres4_1\u001b[39m: \u001b[32mRational\u001b[39m = \u001b[33mRational\u001b[39m(\u001b[32m2\u001b[39m, \u001b[32m4\u001b[39m)\n",
       "\u001b[36mres4_2\u001b[39m: \u001b[32mRational\u001b[39m = \u001b[33mRational\u001b[39m(\u001b[32m2\u001b[39m, \u001b[32m2\u001b[39m)"
      ]
     },
     "execution_count": 5,
     "metadata": {},
     "output_type": "execute_result"
    }
   ],
   "source": [
    "val oneHalf = Rational(1, 2)\n",
    "\n",
    "oneHalf + oneHalf\n",
    "oneHalf + 1"
   ]
  },
  {
   "cell_type": "code",
   "execution_count": 6,
   "metadata": {},
   "outputs": [
    {
     "data": {
      "text/plain": [
       "defined \u001b[32mfunction\u001b[39m \u001b[36mintToRational\u001b[39m"
      ]
     },
     "execution_count": 6,
     "metadata": {},
     "output_type": "execute_result"
    }
   ],
   "source": [
    "implicit def intToRational(x: Int) = Rational(x, 0)"
   ]
  },
  {
   "cell_type": "code",
   "execution_count": 7,
   "metadata": {
    "scrolled": true
   },
   "outputs": [
    {
     "data": {
      "text/plain": [
       "\u001b[36mres6\u001b[39m: \u001b[32mRational\u001b[39m = \u001b[33mRational\u001b[39m(\u001b[32m2\u001b[39m, \u001b[32m2\u001b[39m)"
      ]
     },
     "execution_count": 7,
     "metadata": {},
     "output_type": "execute_result"
    }
   ],
   "source": [
    "1 + oneHalf"
   ]
  },
  {
   "cell_type": "code",
   "execution_count": 8,
   "metadata": {},
   "outputs": [
    {
     "data": {
      "text/plain": [
       "\u001b[36mmap\u001b[39m: \u001b[32mMap\u001b[39m[\u001b[32mInt\u001b[39m, \u001b[32mString\u001b[39m] = \u001b[33mMap\u001b[39m(\u001b[32m1\u001b[39m -> \u001b[32m\"one\"\u001b[39m, \u001b[32m2\u001b[39m -> \u001b[32m\"two\"\u001b[39m, \u001b[32m3\u001b[39m -> \u001b[32m\"three\"\u001b[39m)"
      ]
     },
     "execution_count": 8,
     "metadata": {},
     "output_type": "execute_result"
    }
   ],
   "source": [
    "val map = Map(1 -> \"one\", 2 -> \"two\", 3 -> \"three\")"
   ]
  },
  {
   "cell_type": "code",
   "execution_count": 9,
   "metadata": {},
   "outputs": [
    {
     "data": {
      "text/plain": [
       "\u001b[36mtu\u001b[39m: (\u001b[32mInt\u001b[39m, \u001b[32mInt\u001b[39m) = (\u001b[32m1\u001b[39m, \u001b[32m3\u001b[39m)"
      ]
     },
     "execution_count": 9,
     "metadata": {},
     "output_type": "execute_result"
    }
   ],
   "source": [
    "val tu = Tuple2(1, 3)"
   ]
  },
  {
   "cell_type": "code",
   "execution_count": 10,
   "metadata": {},
   "outputs": [
    {
     "data": {
      "text/plain": [
       "defined \u001b[32mobject\u001b[39m \u001b[36mHelpers\u001b[39m"
      ]
     },
     "execution_count": 10,
     "metadata": {},
     "output_type": "execute_result"
    }
   ],
   "source": [
    "object Helpers {\n",
    "    implicit class IntWithTimes(x: Int) {\n",
    "        def times[A](f: => A): Unit = {\n",
    "            def loop(current: Int): Unit = \n",
    "                if(current > 0) {\n",
    "                    f\n",
    "                    loop(current - 1)\n",
    "                }\n",
    "            loop(x)\n",
    "        }\n",
    "    }\n",
    "}"
   ]
  },
  {
   "cell_type": "code",
   "execution_count": 11,
   "metadata": {},
   "outputs": [
    {
     "name": "stdout",
     "output_type": "stream",
     "text": [
      "Hi\n",
      "Hi\n",
      "Hi\n",
      "Hi\n",
      "Hi\n"
     ]
    },
    {
     "data": {
      "text/plain": [
       "\u001b[32mimport \u001b[39m\u001b[36mHelpers._\n",
       "\u001b[39m"
      ]
     },
     "execution_count": 11,
     "metadata": {},
     "output_type": "execute_result"
    }
   ],
   "source": [
    "import Helpers._\n",
    "5 times println(\"Hi\")"
   ]
  },
  {
   "cell_type": "code",
   "execution_count": 12,
   "metadata": {},
   "outputs": [
    {
     "data": {
      "text/plain": [
       "defined \u001b[32mfunction\u001b[39m \u001b[36mcalcTax\u001b[39m"
      ]
     },
     "execution_count": 12,
     "metadata": {},
     "output_type": "execute_result"
    }
   ],
   "source": [
    "def calcTax(amount: Float)(implicit rate: Float): Float =\n",
    "    amount * rate"
   ]
  },
  {
   "cell_type": "code",
   "execution_count": 13,
   "metadata": {},
   "outputs": [
    {
     "data": {
      "text/plain": [
       "\u001b[36mcurrentTaxRate\u001b[39m: \u001b[32mFloat\u001b[39m = \u001b[32m0.08F\u001b[39m"
      ]
     },
     "execution_count": 13,
     "metadata": {},
     "output_type": "execute_result"
    }
   ],
   "source": [
    "implicit val currentTaxRate = 0.08F"
   ]
  },
  {
   "cell_type": "code",
   "execution_count": 14,
   "metadata": {},
   "outputs": [
    {
     "data": {
      "text/plain": [
       "\u001b[36mtax\u001b[39m: \u001b[32mFloat\u001b[39m = \u001b[32m4000.0F\u001b[39m"
      ]
     },
     "execution_count": 14,
     "metadata": {},
     "output_type": "execute_result"
    }
   ],
   "source": [
    "val tax = calcTax(50000)"
   ]
  },
  {
   "cell_type": "code",
   "execution_count": 15,
   "metadata": {},
   "outputs": [
    {
     "data": {
      "text/plain": [
       "defined \u001b[32mfunction\u001b[39m \u001b[36mmaxList\u001b[39m"
      ]
     },
     "execution_count": 15,
     "metadata": {},
     "output_type": "execute_result"
    }
   ],
   "source": [
    "def maxList[T](elements: List[T])(implicit ordering: Ordering[T]): T = \n",
    "    elements match {\n",
    "        case List() => throw new IllegalArgumentException(\"empty list!\")\n",
    "        case List(x) => x\n",
    "        case x :: rest => \n",
    "            val maxRest = maxList(rest)\n",
    "            if (ordering.gt(x, maxRest)) x\n",
    "            else maxRest\n",
    "    }"
   ]
  },
  {
   "cell_type": "code",
   "execution_count": 16,
   "metadata": {},
   "outputs": [
    {
     "data": {
      "text/plain": [
       "defined \u001b[32mfunction\u001b[39m \u001b[36mmaxList\u001b[39m"
      ]
     },
     "execution_count": 16,
     "metadata": {},
     "output_type": "execute_result"
    }
   ],
   "source": [
    "def maxList[T : Ordering](elements: List[T]): T = elements match {\n",
    "    case List() => throw new IllegalArgumentException(\"empty list!\")\n",
    "    case List(x) => x\n",
    "    case x :: rest => \n",
    "        val maxRest = maxList(rest)\n",
    "        if (implicitly[Ordering[T]].gt(x, maxRest)) x\n",
    "        else maxRest\n",
    "}"
   ]
  },
  {
   "cell_type": "code",
   "execution_count": 17,
   "metadata": {},
   "outputs": [
    {
     "data": {
      "text/plain": [
       "\u001b[36mres16\u001b[39m: \u001b[32mInt\u001b[39m = \u001b[32m5\u001b[39m"
      ]
     },
     "execution_count": 17,
     "metadata": {},
     "output_type": "execute_result"
    }
   ],
   "source": [
    "maxList(List(3,2,4,1,2,5))"
   ]
  },
  {
   "cell_type": "code",
   "execution_count": 18,
   "metadata": {},
   "outputs": [
    {
     "data": {
      "text/plain": [
       "defined \u001b[32mclass\u001b[39m \u001b[36mAddress\u001b[39m\n",
       "defined \u001b[32mclass\u001b[39m \u001b[36mPerson\u001b[39m"
      ]
     },
     "execution_count": 18,
     "metadata": {},
     "output_type": "execute_result"
    }
   ],
   "source": [
    "case class Address(street: String, city: String)\n",
    "case class Person(name: String, address: Address)"
   ]
  },
  {
   "cell_type": "code",
   "execution_count": 19,
   "metadata": {},
   "outputs": [
    {
     "data": {
      "text/plain": [
       "\u001b[36maddress\u001b[39m: \u001b[32mAddress\u001b[39m = \u001b[33mAddress\u001b[39m(\u001b[32m\"15th duff\"\u001b[39m, \u001b[32m\"Ames\"\u001b[39m)\n",
       "\u001b[36mperson\u001b[39m: \u001b[32mPerson\u001b[39m = Person(Peter,Address(15th duff,Ames))"
      ]
     },
     "execution_count": 19,
     "metadata": {},
     "output_type": "execute_result"
    }
   ],
   "source": [
    "val address = Address(\"15th duff\", \"Ames\")\n",
    "val person = Person(\"Peter\", address)"
   ]
  },
  {
   "cell_type": "code",
   "execution_count": 19,
   "metadata": {},
   "outputs": [
    {
     "name": "stderr",
     "output_type": "stream",
     "text": [
      "cmd19.sc:1: value toJSON is not a member of cmd19Wrapper.this.cmd18.cmd17.wrapper.Address\n",
      "val res19 = println(address.toJSON())\n",
      "                            ^"
     ]
    },
    {
     "ename": "",
     "evalue": "",
     "output_type": "error",
     "traceback": [
      "Compilation Failed"
     ]
    }
   ],
   "source": [
    "println(address.toJSON())"
   ]
  },
  {
   "cell_type": "code",
   "execution_count": 20,
   "metadata": {},
   "outputs": [
    {
     "data": {
      "text/plain": [
       "defined \u001b[32mtrait\u001b[39m \u001b[36mToJSON\u001b[39m"
      ]
     },
     "execution_count": 20,
     "metadata": {},
     "output_type": "execute_result"
    }
   ],
   "source": [
    "trait ToJSON {\n",
    "    def toJSON(level: Int = 0): String\n",
    "    \n",
    "    val INDENTATION = \" \"\n",
    "    def indentation(level: Int = 0): (String, String) =\n",
    "        (INDENTATION * level, INDENTATION * (level + 1))\n",
    "}"
   ]
  },
  {
   "cell_type": "code",
   "execution_count": 21,
   "metadata": {},
   "outputs": [
    {
     "data": {
      "text/plain": [
       "defined \u001b[32mobject\u001b[39m \u001b[36mDefaultImplicits\u001b[39m"
      ]
     },
     "execution_count": 21,
     "metadata": {},
     "output_type": "execute_result"
    }
   ],
   "source": [
    "object DefaultImplicits {\n",
    "    implicit class AddressToJSON(address: Address) extends ToJSON {\n",
    "        def toJSON(level: Int = 0): String = {\n",
    "            val (outdent, indent) = indentation(level)\n",
    "            s\"\"\"{\n",
    "            |${indent}\"street\": \"${address.street}\",\n",
    "            |${indent}\"city\": \"${address.city}\"\n",
    "            |${outdent}} \"\"\".stripMargin\n",
    "        }\n",
    "    }\n",
    "}"
   ]
  },
  {
   "cell_type": "code",
   "execution_count": 22,
   "metadata": {},
   "outputs": [
    {
     "name": "stdout",
     "output_type": "stream",
     "text": [
      "{\n",
      " \"street\": \"15th duff\",\n",
      " \"city\": \"Ames\"\n",
      "} \n"
     ]
    },
    {
     "data": {
      "text/plain": [
       "\u001b[32mimport \u001b[39m\u001b[36mDefaultImplicits._\n",
       "\u001b[39m"
      ]
     },
     "execution_count": 22,
     "metadata": {},
     "output_type": "execute_result"
    }
   ],
   "source": [
    "import DefaultImplicits._\n",
    "println(address.toJSON())"
   ]
  },
  {
   "cell_type": "code",
   "execution_count": null,
   "metadata": {
    "collapsed": true
   },
   "outputs": [],
   "source": []
  },
  {
   "cell_type": "markdown",
   "metadata": {},
   "source": [
    "# Type Class"
   ]
  },
  {
   "cell_type": "code",
   "execution_count": 23,
   "metadata": {},
   "outputs": [
    {
     "data": {
      "text/plain": [
       "defined \u001b[32mtrait\u001b[39m \u001b[36mInfoPrinter\u001b[39m"
      ]
     },
     "execution_count": 23,
     "metadata": {},
     "output_type": "execute_result"
    }
   ],
   "source": [
    "trait InfoPrinter[A] {\n",
    "    def toInfo(value: A): String\n",
    "}"
   ]
  },
  {
   "cell_type": "markdown",
   "metadata": {},
   "source": [
    "## Type Class Instances"
   ]
  },
  {
   "cell_type": "code",
   "execution_count": 24,
   "metadata": {},
   "outputs": [
    {
     "data": {
      "text/plain": [
       "defined \u001b[32mobject\u001b[39m \u001b[36mInfoPrinterInstances\u001b[39m"
      ]
     },
     "execution_count": 24,
     "metadata": {},
     "output_type": "execute_result"
    }
   ],
   "source": [
    "object InfoPrinterInstances {\n",
    "    implicit val stringPrinter = new InfoPrinter[String] {\n",
    "        def toInfo(value: String): String = s\"[String] $value\"\n",
    "    }\n",
    "    implicit val intPrinter = new InfoPrinter[Int] {\n",
    "        def toInfo(value: Int): String = s\"[Int] $value\"\n",
    "    }\n",
    "}"
   ]
  },
  {
   "cell_type": "code",
   "execution_count": 25,
   "metadata": {},
   "outputs": [
    {
     "data": {
      "text/plain": [
       "\u001b[32mimport \u001b[39m\u001b[36mInfoPrinterInstances._\u001b[39m"
      ]
     },
     "execution_count": 25,
     "metadata": {},
     "output_type": "execute_result"
    }
   ],
   "source": [
    "import InfoPrinterInstances._"
   ]
  },
  {
   "cell_type": "markdown",
   "metadata": {},
   "source": [
    "## Interface Objects"
   ]
  },
  {
   "cell_type": "code",
   "execution_count": 26,
   "metadata": {},
   "outputs": [
    {
     "data": {
      "text/plain": [
       "defined \u001b[32mobject\u001b[39m \u001b[36mPrintInfo\u001b[39m"
      ]
     },
     "execution_count": 26,
     "metadata": {},
     "output_type": "execute_result"
    }
   ],
   "source": [
    "object PrintInfo {\n",
    "    def toInfo[A](value: A)(implicit printer: InfoPrinter[A]): String =\n",
    "        printer.toInfo(value)\n",
    "}"
   ]
  },
  {
   "cell_type": "code",
   "execution_count": 27,
   "metadata": {
    "scrolled": true
   },
   "outputs": [
    {
     "data": {
      "text/plain": [
       "\u001b[36mmsg\u001b[39m: \u001b[32mInt\u001b[39m = \u001b[32m3\u001b[39m\n",
       "\u001b[36mresult\u001b[39m: \u001b[32mString\u001b[39m = \u001b[32m\"[Int] 3\"\u001b[39m"
      ]
     },
     "execution_count": 27,
     "metadata": {},
     "output_type": "execute_result"
    }
   ],
   "source": [
    "val msg = 3\n",
    "val result = PrintInfo.toInfo(msg)"
   ]
  },
  {
   "cell_type": "markdown",
   "metadata": {},
   "source": [
    "## Interface syntax"
   ]
  },
  {
   "cell_type": "code",
   "execution_count": 28,
   "metadata": {},
   "outputs": [
    {
     "data": {
      "text/plain": [
       "defined \u001b[32mobject\u001b[39m \u001b[36mPrintInfoSyntax\u001b[39m"
      ]
     },
     "execution_count": 28,
     "metadata": {},
     "output_type": "execute_result"
    }
   ],
   "source": [
    "object PrintInfoSyntax {\n",
    "    implicit class PrintInfoOps[A](value: A) {\n",
    "        def toInfo(implicit printer: InfoPrinter[A]): String =\n",
    "            printer.toInfo(value)\n",
    "    }\n",
    "}"
   ]
  },
  {
   "cell_type": "code",
   "execution_count": 29,
   "metadata": {},
   "outputs": [
    {
     "data": {
      "text/plain": [
       "\u001b[32mimport \u001b[39m\u001b[36mPrintInfoSyntax._\u001b[39m"
      ]
     },
     "execution_count": 29,
     "metadata": {},
     "output_type": "execute_result"
    }
   ],
   "source": [
    "import PrintInfoSyntax._"
   ]
  },
  {
   "cell_type": "code",
   "execution_count": 30,
   "metadata": {},
   "outputs": [
    {
     "data": {
      "text/plain": [
       "\u001b[36mres29\u001b[39m: \u001b[32mString\u001b[39m = \u001b[32m\"[Int] 3\"\u001b[39m"
      ]
     },
     "execution_count": 30,
     "metadata": {},
     "output_type": "execute_result"
    }
   ],
   "source": [
    "msg.toInfo"
   ]
  },
  {
   "cell_type": "code",
   "execution_count": 31,
   "metadata": {},
   "outputs": [
    {
     "data": {
      "text/plain": [
       "defined \u001b[32mclass\u001b[39m \u001b[36mUser\u001b[39m\n",
       "defined \u001b[32mobject\u001b[39m \u001b[36mUser\u001b[39m"
      ]
     },
     "execution_count": 31,
     "metadata": {},
     "output_type": "execute_result"
    }
   ],
   "source": [
    "case class User(name: String, age: Int)\n",
    "\n",
    "object User {\n",
    "    implicit val userPrinter = new InfoPrinter[User] {\n",
    "        override def toInfo(value: User): String =\n",
    "            s\"[User] (${value.name}, ${value.age})\"\n",
    "    }\n",
    "}"
   ]
  },
  {
   "cell_type": "code",
   "execution_count": 32,
   "metadata": {},
   "outputs": [
    {
     "data": {
      "text/plain": [
       "\u001b[32mimport \u001b[39m\u001b[36mUser._\u001b[39m"
      ]
     },
     "execution_count": 32,
     "metadata": {},
     "output_type": "execute_result"
    }
   ],
   "source": [
    "import User._"
   ]
  },
  {
   "cell_type": "code",
   "execution_count": 33,
   "metadata": {},
   "outputs": [
    {
     "data": {
      "text/plain": [
       "\u001b[36muser\u001b[39m: \u001b[32mUser\u001b[39m = \u001b[33mUser\u001b[39m(\u001b[32m\"Peter\"\u001b[39m, \u001b[32m18\u001b[39m)"
      ]
     },
     "execution_count": 33,
     "metadata": {},
     "output_type": "execute_result"
    }
   ],
   "source": [
    "val user = User(\"Peter\", 18)"
   ]
  },
  {
   "cell_type": "code",
   "execution_count": 34,
   "metadata": {},
   "outputs": [
    {
     "data": {
      "text/plain": [
       "\u001b[36mres33\u001b[39m: \u001b[32mString\u001b[39m = \u001b[32m\"[User] (Peter, 18)\"\u001b[39m"
      ]
     },
     "execution_count": 34,
     "metadata": {},
     "output_type": "execute_result"
    }
   ],
   "source": [
    "user.toInfo"
   ]
  },
  {
   "cell_type": "markdown",
   "metadata": {},
   "source": [
    "## Another Variation (old style)"
   ]
  },
  {
   "cell_type": "code",
   "execution_count": 36,
   "metadata": {},
   "outputs": [
    {
     "data": {
      "text/plain": [
       "defined \u001b[32mtrait\u001b[39m \u001b[36mPrintInfoOps\u001b[39m\n",
       "defined \u001b[32mobject\u001b[39m \u001b[36mPrintInfoSyntax\u001b[39m"
      ]
     },
     "execution_count": 36,
     "metadata": {},
     "output_type": "execute_result"
    }
   ],
   "source": [
    "trait PrintInfoOps[A] {\n",
    "    def a: A\n",
    "    implicit def F: InfoPrinter[A]\n",
    "    \n",
    "    def toInfo: String = F.toInfo(a)\n",
    "}\n",
    "\n",
    "object PrintInfoSyntax {\n",
    "    import scala.language.implicitConversions\n",
    "    \n",
    "    implicit def toPrintInfoOps[A : InfoPrinter](value: A): \n",
    "        PrintInfoOps[A] = new PrintInfoOps[A] {\n",
    "            val a: A = value\n",
    "            val F: InfoPrinter[A] = implicitly\n",
    "        }\n",
    "}"
   ]
  },
  {
   "cell_type": "markdown",
   "metadata": {},
   "source": [
    "## Example: Disambiguating"
   ]
  },
  {
   "cell_type": "code",
   "execution_count": 37,
   "metadata": {},
   "outputs": [
    {
     "data": {
      "text/plain": [
       "defined \u001b[32mclass\u001b[39m \u001b[36mPerson\u001b[39m\n",
       "\u001b[36mpeople\u001b[39m: \u001b[32mList\u001b[39m[\u001b[32mwrapper\u001b[39m.\u001b[32mwrapper\u001b[39m.\u001b[32mPerson\u001b[39m] = \u001b[33mList\u001b[39m(\u001b[33mPerson\u001b[39m(\u001b[32m\"Harry\"\u001b[39m, \u001b[32m30\u001b[39m), \u001b[33mPerson\u001b[39m(\u001b[32m\"Sally\"\u001b[39m, \u001b[32m25\u001b[39m))\n",
       "\u001b[32mimport \u001b[39m\u001b[36mscala.math.Ordering\n",
       "\u001b[39m\n",
       "\u001b[36mbyName\u001b[39m: \u001b[32mOrdering\u001b[39m[\u001b[32mwrapper\u001b[39m.\u001b[32mwrapper\u001b[39m.\u001b[32mPerson\u001b[39m] = scala.math.Ordering$$anon$9@c9005e1\n",
       "\u001b[36mres36_4\u001b[39m: \u001b[32mList\u001b[39m[\u001b[32mwrapper\u001b[39m.\u001b[32mwrapper\u001b[39m.\u001b[32mPerson\u001b[39m] = \u001b[33mList\u001b[39m(\u001b[33mPerson\u001b[39m(\u001b[32m\"Harry\"\u001b[39m, \u001b[32m30\u001b[39m), \u001b[33mPerson\u001b[39m(\u001b[32m\"Sally\"\u001b[39m, \u001b[32m25\u001b[39m))"
      ]
     },
     "execution_count": 37,
     "metadata": {},
     "output_type": "execute_result"
    }
   ],
   "source": [
    "case class Person(name: String, age: Int)\n",
    "val people = List(Person(\"Harry\", 30), Person(\"Sally\", 25))\n",
    "\n",
    "import scala.math.Ordering\n",
    "implicit val byName: Ordering[Person] = Ordering.by(_.name)\n",
    "\n",
    "people.sorted"
   ]
  },
  {
   "cell_type": "code",
   "execution_count": 38,
   "metadata": {},
   "outputs": [
    {
     "data": {
      "text/plain": [
       "\u001b[36mbyAge\u001b[39m: \u001b[32mOrdering\u001b[39m[\u001b[32mPerson\u001b[39m] = scala.math.Ordering$$anon$9@b99e74a"
      ]
     },
     "execution_count": 38,
     "metadata": {},
     "output_type": "execute_result"
    }
   ],
   "source": [
    "implicit val byAge: Ordering[Person] = Ordering.by(_.age)\n",
    "// people.sorted    // -> Error! ambiguo"
   ]
  },
  {
   "cell_type": "code",
   "execution_count": 39,
   "metadata": {},
   "outputs": [
    {
     "data": {
      "text/plain": [
       "\u001b[36mres38_0\u001b[39m: \u001b[32mList\u001b[39m[\u001b[32mPerson\u001b[39m] = \u001b[33mList\u001b[39m(\u001b[33mPerson\u001b[39m(\u001b[32m\"Harry\"\u001b[39m, \u001b[32m30\u001b[39m), \u001b[33mPerson\u001b[39m(\u001b[32m\"Sally\"\u001b[39m, \u001b[32m25\u001b[39m))\n",
       "\u001b[36mres38_1\u001b[39m: \u001b[32mList\u001b[39m[\u001b[32mPerson\u001b[39m] = \u001b[33mList\u001b[39m(\u001b[33mPerson\u001b[39m(\u001b[32m\"Sally\"\u001b[39m, \u001b[32m25\u001b[39m), \u001b[33mPerson\u001b[39m(\u001b[32m\"Harry\"\u001b[39m, \u001b[32m30\u001b[39m))"
      ]
     },
     "execution_count": 39,
     "metadata": {},
     "output_type": "execute_result"
    }
   ],
   "source": [
    "people.sorted(byName)\n",
    "people.sorted(byAge)"
   ]
  },
  {
   "cell_type": "code",
   "execution_count": null,
   "metadata": {
    "collapsed": true
   },
   "outputs": [],
   "source": []
  }
 ],
 "metadata": {
  "kernelspec": {
   "display_name": "Scala",
   "language": "scala",
   "name": "scala"
  },
  "language_info": {
   "codemirror_mode": "text/x-scala",
   "file_extension": ".scala",
   "mimetype": "text/x-scala",
   "name": "scala211",
   "nbconvert_exporter": "script",
   "pygments_lexer": "scala",
   "version": "2.11.11"
  }
 },
 "nbformat": 4,
 "nbformat_minor": 2
}
