{
 "cells": [
  {
   "cell_type": "markdown",
   "metadata": {},
   "source": [
    "# purely functional parallelism\n",
    "\n",
    "interpreter pattern 중요!"
   ]
  },
  {
   "cell_type": "markdown",
   "metadata": {},
   "source": [
    "## motivation"
   ]
  },
  {
   "cell_type": "markdown",
   "metadata": {},
   "source": [
    "### c.f. monoid 조건\n",
    "- binary operation\n",
    "- 결합법칙\n",
    "- 항등원 존재"
   ]
  },
  {
   "cell_type": "code",
   "execution_count": 1,
   "metadata": {},
   "outputs": [
    {
     "data": {
      "text/plain": [
       "defined \u001b[32mtrait\u001b[39m \u001b[36mPar\u001b[39m"
      ]
     },
     "execution_count": 1,
     "metadata": {},
     "output_type": "execute_result"
    }
   ],
   "source": [
    "trait Par[A]"
   ]
  },
  {
   "cell_type": "code",
   "execution_count": 1,
   "metadata": {},
   "outputs": [
    {
     "name": "stderr",
     "output_type": "stream",
     "text": [
      "cmd1.sc:6: not found: value Par\n",
      "        val sumL: Par[Int] = Par.unit(sum(l)) // 요기서 계산되야 함\n",
      "                             ^cmd1.sc:7: not found: type par\n",
      "        val sumR: par[Int] = Par.unit(sum(r)) // \n",
      "                  ^cmd1.sc:7: not found: value Par\n",
      "        val sumR: par[Int] = Par.unit(sum(r)) // \n",
      "                             ^cmd1.sc:8: not found: value Par\n",
      "        Par.get(sumL) + Par.get(sumR)  // 여기서 계산되면 안됨\n",
      "        ^cmd1.sc:8: not found: value Par\n",
      "        Par.get(sumL) + Par.get(sumR)  // 여기서 계산되면 안됨\n",
      "                        ^"
     ]
    },
    {
     "ename": "",
     "evalue": "",
     "output_type": "error",
     "traceback": [
      "Compilation Failed"
     ]
    }
   ],
   "source": [
    "def sum(ints: IndexedSeq[Int]): Int = \n",
    "    if(ints.size <= 1)\n",
    "        ints.headOption getOrElse 0\n",
    "    else {\n",
    "        val (l,r) = ints.splitAt(ints.length/2)\n",
    "        val sumL: Par[Int] = Par.unit(sum(l)) // 요기서 계산되야 함\n",
    "        val sumR: par[Int] = Par.unit(sum(r)) // \n",
    "        Par.get(sumL) + Par.get(sumR)  // 여기서 계산되면 안됨\n",
    "    }"
   ]
  },
  {
   "cell_type": "code",
   "execution_count": 2,
   "metadata": {},
   "outputs": [
    {
     "data": {
      "text/plain": [
       "defined \u001b[32mfunction\u001b[39m \u001b[36mmap2\u001b[39m"
      ]
     },
     "execution_count": 2,
     "metadata": {},
     "output_type": "execute_result"
    }
   ],
   "source": [
    "def map2[A,B,C](a: Par[A], b: Par[B])(f: (A,B) => C): Par[C] = ???"
   ]
  },
  {
   "cell_type": "markdown",
   "metadata": {},
   "source": [
    "ExecutorService\n",
    "fork join pull? java 7 부터 적용\n",
    "\n",
    "complitable future\n",
    "\n",
    "\n",
    "non-blocking API 구현이 가능한가?"
   ]
  },
  {
   "cell_type": "code",
   "execution_count": null,
   "metadata": {
    "collapsed": true
   },
   "outputs": [],
   "source": [
    "class ExecutorService {\n",
    "  def submit[A](a: Callable[A]): Future[A] // non-blocking 이어야해서 Future를 넘겨줌\n",
    "}\n",
    "\n",
    "trait Callable[A] { def call: A } // 사실상 그냥 lazy A임\n",
    "\n",
    "trait Future[A] {\n",
    "  def get: A\n",
    "  def get(timeout: Long, unit: TimeUnit): A\n",
    "  def cancel(evenIfRunning: Boolean): Boolean\n",
    "  def isDone: Boolean\n",
    "  def isCancelled: Boolean\n",
    "}"
   ]
  }
 ],
 "metadata": {
  "kernelspec": {
   "display_name": "Scala",
   "language": "scala",
   "name": "scala"
  },
  "language_info": {
   "codemirror_mode": "text/x-scala",
   "file_extension": ".scala",
   "mimetype": "text/x-scala",
   "name": "scala211",
   "nbconvert_exporter": "script",
   "pygments_lexer": "scala",
   "version": "2.11.11"
  }
 },
 "nbformat": 4,
 "nbformat_minor": 2
}
