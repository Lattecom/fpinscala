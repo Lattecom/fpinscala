{
 "cells": [
  {
   "cell_type": "markdown",
   "metadata": {
    "deletable": true,
    "editable": true
   },
   "source": [
    "# Chapter 2\n",
    "## Tail Recursion"
   ]
  },
  {
   "cell_type": "code",
   "execution_count": 1,
   "metadata": {
    "collapsed": false,
    "deletable": true,
    "editable": true
   },
   "outputs": [
    {
     "data": {
      "text/plain": [
       "defined \u001b[32mfunction\u001b[39m \u001b[36mfactorial\u001b[39m"
      ]
     },
     "execution_count": 1,
     "metadata": {},
     "output_type": "execute_result"
    }
   ],
   "source": [
    "// Factorial\n",
    "def factorial(n:Int): BigInt = {\n",
    "  @annotation.tailrec //이거 표시 하면 컴파일러가 tailrec인지 확인해주고 아니면 에러내고 맞으면 반복문으로 최적화 등등\n",
    "  def go(n: Int, acc: BigInt): BigInt = {\n",
    "    if (n<=0) acc\n",
    "    else go(n-1, n *acc)\n",
    "  }\n",
    "  go(n, 1)\n",
    "}"
   ]
  },
  {
   "cell_type": "code",
   "execution_count": 3,
   "metadata": {
    "collapsed": false,
    "deletable": true,
    "editable": true
   },
   "outputs": [
    {
     "data": {
      "text/plain": [
       "\u001b[36mres2\u001b[39m: \u001b[32mBigInt\u001b[39m = 334732050959714483691547609407148647791277322381045480773010032199016802214436564169738123107191693087984804381902082998936163847430666937426305728453637840383257562821233599872682440782359723560408538544413733837535685655363711683274051660761551659214061560754612942017905674796654986292422200225415535107181598016154764518106166749702179965374749725411393381916388235006303076442568748572713946510819098749096434862685892298078700310310089628611545539799116129406523273969714972110312611428607337935096878373558118306095517289066038335925328516359617308852798119573994952994503063544424784926410289900695596348835299005576765509291754759207880448076225624151651304590463180685174067663600123295564540657242251754734281831210291957155937874236411171945138385930380064131329763125089806239538698453528362674590973925187347791738698054874418218564843850349196433374384607147670018127809768669571553722962855502892722067813944384180192842621504107232838331803147\u001b[33m...\u001b[39m"
      ]
     },
     "execution_count": 3,
     "metadata": {},
     "output_type": "execute_result"
    }
   ],
   "source": [
    "factorial(50000)"
   ]
  },
  {
   "cell_type": "markdown",
   "metadata": {
    "deletable": true,
    "editable": true
   },
   "source": [
    "피보나치 psuedo code\n",
    "```\n",
    "def fib(n): (i,j) =\n",
    "  if(n<2) (n, 0)\n",
    "  else {\n",
    "    val (i, j) = fib(n-1)\n",
    "    (i+j, i)\n",
    "  }\n",
    "```"
   ]
  },
  {
   "cell_type": "code",
   "execution_count": 4,
   "metadata": {
    "collapsed": false,
    "deletable": true,
    "editable": true
   },
   "outputs": [
    {
     "data": {
      "text/plain": [
       "defined \u001b[32mfunction\u001b[39m \u001b[36mfib\u001b[39m"
      ]
     },
     "execution_count": 4,
     "metadata": {},
     "output_type": "execute_result"
    }
   ],
   "source": [
    "def fib(n:Int): Int ={\n",
    "  @annotation.tailrec\n",
    "  def go(a: Int, b: Int, n: Int): Int = {\n",
    "    if (n == 0) a\n",
    "    else if (n == 1) b\n",
    "    else\n",
    "      go(b, a+b, n-1)\n",
    "  }\n",
    "  go(0, 1, n)\n",
    "}"
   ]
  },
  {
   "cell_type": "code",
   "execution_count": 5,
   "metadata": {
    "collapsed": false,
    "deletable": true,
    "editable": true
   },
   "outputs": [
    {
     "data": {
      "text/plain": [
       "\u001b[36mres4\u001b[39m: \u001b[32mInt\u001b[39m = \u001b[32m1556111435\u001b[39m"
      ]
     },
     "execution_count": 5,
     "metadata": {},
     "output_type": "execute_result"
    }
   ],
   "source": [
    "fib(1000)"
   ]
  },
  {
   "cell_type": "markdown",
   "metadata": {
    "deletable": true,
    "editable": true
   },
   "source": [
    "- KUTGW : Kepp Up The Good \n",
    "- AGKWE : And God Knows What Else?\n",
    "- WTHIN : What The Hell Is In Next?\n",
    "- IITYWIMWYBMAD? : If I Tell You What It Means, Will You\n",
    "\n",
    "## DRY(Don't Repeat Yourself)\n",
    "<-> Write Everything Twice\n",
    "\n",
    "Keep it Simple Stupid\n",
    "\n",
    "YAGNI(You Ain't Gonna Need It) ... Yet"
   ]
  },
  {
   "cell_type": "code",
   "execution_count": 5,
   "metadata": {
    "collapsed": false,
    "deletable": true,
    "editable": true
   },
   "outputs": [
    {
     "name": "stderr",
     "output_type": "stream",
     "text": [
      "cmd5.sc:5: missing argument list for method format in trait StringLike\n",
      "Unapplied methods are only converted to functions when a function type is expected.\n",
      "You can make this conversion explicit by writing `format _` or `format(_)` instead of `format`.\n",
      "    msg.format\n",
      "        ^"
     ]
    },
    {
     "ename": "",
     "evalue": "",
     "output_type": "error",
     "traceback": [
      "Compilation Failed"
     ]
    }
   ],
   "source": [
    "// Any Duplication?\n",
    "def abs(n: Int): Int = if (n < 0) -n else n\n",
    "\n",
    "def formatAbs(x: Int) = {\n",
    "    val msg = \"THe absolute value of %d is %d\"\n",
    "    msg.format()\n",
    "}\n",
    "\n",
    "// DRY\n",
    "def formatResult(name: String, n: Int, f: Int => Int) = {\n",
    "    val msg = \"The %s of %d is %d\"\n",
    "    msg.format(name, n, f(n))\n",
    "}"
   ]
  },
  {
   "cell_type": "markdown",
   "metadata": {
    "deletable": true,
    "editable": true
   },
   "source": [
    "**Higer-Order Functions(HOFs)**\n",
    "\n",
    "Functions are *values*."
   ]
  },
  {
   "cell_type": "code",
   "execution_count": 6,
   "metadata": {
    "collapsed": false,
    "deletable": true,
    "editable": true
   },
   "outputs": [
    {
     "name": "stderr",
     "output_type": "stream",
     "text": [
      "cmd6.sc:13: not found: value Foo\n",
      "val res6_3 = Foo.total(as,isOdd)\n",
      "             ^cmd6.sc:13: missing argument list for method isOdd in object HighOrder\n",
      "Unapplied methods are only converted to functions when a function type is expected.\n",
      "You can make this conversion explicit by writing `isOdd _` or `isOdd(_)` instead of `isOdd`.\n",
      "val res6_3 = Foo.total(as,isOdd)\n",
      "                          ^"
     ]
    },
    {
     "ename": "",
     "evalue": "",
     "output_type": "error",
     "traceback": [
      "Compilation Failed"
     ]
    }
   ],
   "source": [
    "object HighOrder extends App {\n",
    "    def isOdd(n: Int) = n % 2 == 1\n",
    "    \n",
    "    class Foo{\n",
    "        def total(as: Array[Int], p: Int=>Boolean) =\n",
    "            as.filter(p(_)).sum\n",
    "\n",
    "        def isEven(n: Int) = n % 2 == 0        \n",
    "    }\n",
    "}\n",
    "import HighOrder._\n",
    "val as = (1 to 10).toArray\n",
    "Foo.total(as,isOdd)\n"
   ]
  },
  {
   "cell_type": "markdown",
   "metadata": {
    "deletable": true,
    "editable": true
   },
   "source": [
    "**Monomorphic Functions**\n",
    "\n"
   ]
  },
  {
   "cell_type": "code",
   "execution_count": 7,
   "metadata": {
    "collapsed": false,
    "deletable": true,
    "editable": true
   },
   "outputs": [
    {
     "data": {
      "text/plain": [
       "defined \u001b[32mfunction\u001b[39m \u001b[36mfindFirst\u001b[39m"
      ]
     },
     "execution_count": 7,
     "metadata": {},
     "output_type": "execute_result"
    }
   ],
   "source": [
    "def findFirst(ss: Array[String], key:String) = {\n",
    "    @annotation.tailrec\n",
    "    def loop(n: Int): Int = \n",
    "        if (n >= ss.length) -1\n",
    "        else if (ss(n) == key) n\n",
    "        else loop(n+1)\n",
    "    \n",
    "    loop(0)\n",
    "}"
   ]
  },
  {
   "cell_type": "markdown",
   "metadata": {
    "deletable": true,
    "editable": true
   },
   "source": [
    "**Polymorphic Functions (aka, Generic Functions)**"
   ]
  },
  {
   "cell_type": "code",
   "execution_count": 8,
   "metadata": {
    "collapsed": false,
    "deletable": true,
    "editable": true
   },
   "outputs": [
    {
     "data": {
      "text/plain": [
       "defined \u001b[32mfunction\u001b[39m \u001b[36mfindFirst\u001b[39m"
      ]
     },
     "execution_count": 8,
     "metadata": {},
     "output_type": "execute_result"
    }
   ],
   "source": [
    "def findFirst[A](as: Array[A], p: A => Boolean): Int = ???"
   ]
  },
  {
   "cell_type": "markdown",
   "metadata": {
    "deletable": true,
    "editable": true
   },
   "source": [
    "Abstracting over the type\n",
    "\n",
    "Parametic Polymorphism"
   ]
  },
  {
   "cell_type": "markdown",
   "metadata": {
    "deletable": true,
    "editable": true
   },
   "source": [
    "## Exercise\n",
    "Implement isSorted, Which checks whether an Array[A] is sorted according to a given comparison functions:\n",
    "\n",
    "------\n",
    "``` scala\n",
    "def isSorted[A](as: Array[A], ordered: (A,A) => Boolean): Boolean = ???\n",
    "```\n",
    "------"
   ]
  },
  {
   "cell_type": "code",
   "execution_count": null,
   "metadata": {
    "collapsed": true,
    "deletable": true,
    "editable": true
   },
   "outputs": [],
   "source": [
    "def isSorted[A](as: Array[A], ordered: (A,A) => Boolean): Boolean = {\n",
    "    def go()\n",
    "}"
   ]
  },
  {
   "cell_type": "markdown",
   "metadata": {
    "deletable": true,
    "editable": true
   },
   "source": [
    "**Anonymous Functions(aka Function Literals)**\n",
    "\n"
   ]
  },
  {
   "cell_type": "markdown",
   "metadata": {
    "deletable": true,
    "editable": true
   },
   "source": [
    "**Functions as Values in Scala**\n",
    "\n",
    "When we define `(a, b) => a < b`, this is really\n",
    "\n",
    "syntactic sugar:\n",
    "``` scala\n",
    "val lessTan = new Functions2[Int, Int, Boolean] {\n",
    "def apply(a: Int, b:Int) = a < b\n",
    "}\n",
    "```"
   ]
  },
  {
   "cell_type": "code",
   "execution_count": 9,
   "metadata": {
    "collapsed": false,
    "deletable": true,
    "editable": true
   },
   "outputs": [
    {
     "data": {
      "text/plain": [
       "defined \u001b[32mclass\u001b[39m \u001b[36mFoo\u001b[39m\n",
       "\u001b[36mres8_1\u001b[39m: \u001b[32mFoo\u001b[39m = $sess.cmd8Wrapper$Helper$Foo@29a53856\n",
       "defined \u001b[32mclass\u001b[39m \u001b[36mBar\u001b[39m\n",
       "\u001b[36mres8_3\u001b[39m: \u001b[32mBar\u001b[39m.type = Bar"
      ]
     },
     "execution_count": 9,
     "metadata": {},
     "output_type": "execute_result"
    }
   ],
   "source": [
    "class Foo\n",
    "new Foo\n",
    "case class Bar()\n",
    "Bar"
   ]
  },
  {
   "cell_type": "markdown",
   "metadata": {
    "deletable": true,
    "editable": true
   },
   "source": [
    "**Following Types to Implementations**"
   ]
  },
  {
   "cell_type": "code",
   "execution_count": 10,
   "metadata": {
    "collapsed": false,
    "deletable": true,
    "editable": true
   },
   "outputs": [
    {
     "data": {
      "text/plain": [
       "defined \u001b[32mfunction\u001b[39m \u001b[36mfoo\u001b[39m"
      ]
     },
     "execution_count": 10,
     "metadata": {},
     "output_type": "execute_result"
    }
   ],
   "source": [
    "def foo[A](a: A):A = ???"
   ]
  },
  {
   "cell_type": "markdown",
   "metadata": {
    "deletable": true,
    "editable": true
   },
   "source": [
    "** Following Types to Implementation**\n",
    "\n",
    "Example partial applications\n",
    "\n",
    "------\n",
    "``` scala\n",
    "def partial1[A. B. C](a: A, f: (A, B) => c): B => C =???\n",
    "```\n",
    "------"
   ]
  },
  {
   "cell_type": "code",
   "execution_count": 14,
   "metadata": {
    "collapsed": false,
    "deletable": true,
    "editable": true
   },
   "outputs": [
    {
     "data": {
      "text/plain": [
       "defined \u001b[32mfunction\u001b[39m \u001b[36mpartial1\u001b[39m\n",
       "defined \u001b[32mfunction\u001b[39m \u001b[36madd\u001b[39m\n",
       "\u001b[36mres13_2\u001b[39m: \u001b[32mInt\u001b[39m => \u001b[32mInt\u001b[39m = <function1>"
      ]
     },
     "execution_count": 14,
     "metadata": {},
     "output_type": "execute_result"
    }
   ],
   "source": [
    "def partial1[A, B, C](a: A, f: (A, B) => C): B => C = {\n",
    "    (b: B) => f(a,b)\n",
    "}\n",
    "\n",
    "def add(a: Int, b: Int) = a+b\n",
    "partial1(10, add _)"
   ]
  },
  {
   "cell_type": "code",
   "execution_count": 15,
   "metadata": {
    "collapsed": false,
    "deletable": true,
    "editable": true
   },
   "outputs": [
    {
     "data": {
      "text/plain": [
       "\u001b[36mres14\u001b[39m: \u001b[32mInt\u001b[39m = \u001b[32m30\u001b[39m"
      ]
     },
     "execution_count": 15,
     "metadata": {},
     "output_type": "execute_result"
    }
   ],
   "source": [
    "res13_2(20)"
   ]
  },
  {
   "cell_type": "markdown",
   "metadata": {
    "deletable": true,
    "editable": true
   },
   "source": [
    "Exercises\n",
    "\n",
    "Currying converts a function f of two arguments into a function of one argument that partially applies f.\n",
    "\n",
    "``` scala\n",
    "def curry[A, B, C](f:(A, B) => C): A => (B => C) = ???\n",
    "```"
   ]
  },
  {
   "cell_type": "code",
   "execution_count": 18,
   "metadata": {
    "collapsed": false,
    "deletable": true,
    "editable": true
   },
   "outputs": [
    {
     "data": {
      "text/plain": [
       "defined \u001b[32mfunction\u001b[39m \u001b[36mcurry\u001b[39m"
      ]
     },
     "execution_count": 18,
     "metadata": {},
     "output_type": "execute_result"
    }
   ],
   "source": [
    "def curry[A, B, C](f:(A, B) => C): A => (B => C) ={\n",
    "    (a: A) => f(a, _: B)\n",
    "    // or\n",
    "    // (a: A) => (b: B) => f(a, b)\n",
    "}"
   ]
  },
  {
   "cell_type": "code",
   "execution_count": 21,
   "metadata": {
    "collapsed": false,
    "deletable": true,
    "editable": true
   },
   "outputs": [
    {
     "data": {
      "text/plain": [
       "\u001b[36mf\u001b[39m: \u001b[32mInt\u001b[39m => \u001b[32mInt\u001b[39m => \u001b[32mInt\u001b[39m = <function1>\n",
       "\u001b[36mres20_1\u001b[39m: \u001b[32mInt\u001b[39m => \u001b[32mInt\u001b[39m = <function1>\n",
       "\u001b[36mres20_2\u001b[39m: \u001b[32mInt\u001b[39m = \u001b[32m12\u001b[39m"
      ]
     },
     "execution_count": 21,
     "metadata": {},
     "output_type": "execute_result"
    }
   ],
   "source": [
    "val f = curry(add _)\n",
    "f(10)\n",
    "f(10)(2)"
   ]
  },
  {
   "cell_type": "markdown",
   "metadata": {
    "deletable": true,
    "editable": true
   },
   "source": [
    "### Exercises\n",
    "\n",
    "Uncurrying\n",
    "\n",
    "---\n",
    "``` scala\n",
    "def uncurry[A, B, C](f: A => B => C): (A, B) => C = ???\n",
    "```\n",
    "---"
   ]
  },
  {
   "cell_type": "code",
   "execution_count": 23,
   "metadata": {
    "collapsed": false,
    "deletable": true,
    "editable": true
   },
   "outputs": [
    {
     "data": {
      "text/plain": [
       "defined \u001b[32mfunction\u001b[39m \u001b[36muncurry\u001b[39m"
      ]
     },
     "execution_count": 23,
     "metadata": {},
     "output_type": "execute_result"
    }
   ],
   "source": [
    "def uncurry[A, B, C](f: A => B => C): (A, B) => C = \n",
    "    f(_: A)(_: B)\n",
    "    // or\n",
    "    // (a: A, b: B) => f(a)(b)"
   ]
  },
  {
   "cell_type": "code",
   "execution_count": 25,
   "metadata": {
    "collapsed": false,
    "deletable": true,
    "editable": true
   },
   "outputs": [
    {
     "data": {
      "text/plain": [
       "\u001b[36mg\u001b[39m: (\u001b[32mInt\u001b[39m, \u001b[32mInt\u001b[39m) => \u001b[32mInt\u001b[39m = <function2>"
      ]
     },
     "execution_count": 25,
     "metadata": {},
     "output_type": "execute_result"
    }
   ],
   "source": [
    "val g = uncurry(f)"
   ]
  },
  {
   "cell_type": "markdown",
   "metadata": {
    "deletable": true,
    "editable": true
   },
   "source": [
    "참고\n",
    "\n",
    "val f = (add _).curried\n",
    "\n",
    "Fuction.uncurried(f)"
   ]
  },
  {
   "cell_type": "code",
   "execution_count": 26,
   "metadata": {
    "collapsed": false,
    "deletable": true,
    "editable": true
   },
   "outputs": [
    {
     "data": {
      "text/plain": [
       "defined \u001b[32mfunction\u001b[39m \u001b[36mcompose\u001b[39m"
      ]
     },
     "execution_count": 26,
     "metadata": {},
     "output_type": "execute_result"
    }
   ],
   "source": [
    "def compose[A, B, C](f: B => C, g: A => B): A => C = \n",
    "    (a: A) => f(g(a))"
   ]
  },
  {
   "cell_type": "code",
   "execution_count": 30,
   "metadata": {
    "collapsed": false,
    "deletable": true,
    "editable": true
   },
   "outputs": [
    {
     "data": {
      "text/plain": [
       "\u001b[36maa\u001b[39m: \u001b[32mInt\u001b[39m => \u001b[32mString\u001b[39m = <function1>\n",
       "\u001b[36mbb\u001b[39m: \u001b[32mString\u001b[39m => \u001b[32mDouble\u001b[39m = <function1>\n",
       "\u001b[36mres29_2\u001b[39m: \u001b[32mString\u001b[39m = \u001b[32m\"100\"\u001b[39m\n",
       "\u001b[36mres29_3\u001b[39m: \u001b[32mDouble\u001b[39m = \u001b[32m200.0\u001b[39m\n",
       "\u001b[36mdou\u001b[39m: \u001b[32mDouble\u001b[39m = \u001b[32m200.0\u001b[39m"
      ]
     },
     "execution_count": 30,
     "metadata": {},
     "output_type": "execute_result"
    }
   ],
   "source": [
    "val aa: Int => String = _.toString\n",
    "val bb: String => Double = _.toDouble * 2\n",
    "\n",
    "aa(100)\n",
    "bb(aa(100))\n",
    "\n",
    "val dou = compose(bb, aa)(100)"
   ]
  },
  {
   "cell_type": "markdown",
   "metadata": {
    "deletable": true,
    "editable": true
   },
   "source": [
    "``` scala\n",
    "def compose[A, B, C](f: B => C, g: A => B): A => C = \n",
    "    (a: A) => (f compose g)(a)\n",
    "    \n",
    "def compose[A, B, C](f: B => C, g: A => B): A => C = \n",
    "    f compose g\n",
    "\n",
    "def compose[A, B, C](f: B => C, g: A => B): A => C = \n",
    "    g andThen F\n",
    "```"
   ]
  }
 ],
 "metadata": {
  "kernelspec": {
   "display_name": "Scala",
   "language": "scala",
   "name": "scala"
  },
  "language_info": {
   "codemirror_mode": "text/x-scala",
   "file_extension": ".scala",
   "mimetype": "text/x-scala",
   "name": "scala211",
   "nbconvert_exporter": "script",
   "pygments_lexer": "scala",
   "version": "2.11.8"
  }
 },
 "nbformat": 4,
 "nbformat_minor": 2
}
