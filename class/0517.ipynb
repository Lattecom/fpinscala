{
 "cells": [
  {
   "cell_type": "code",
   "execution_count": null,
   "metadata": {
    "collapsed": true
   },
   "outputs": [],
   "source": [
    "# Chap 4\n",
    "(exception handling)\n",
    "\n",
    "## Goals\n",
    "learn the basic principles for *raising and handling errors functionally*.\n",
    "\n",
    "The big idea is\n",
    "- we can represent failures and excetipons with *ordinary values*, and\n",
    "- we can write *higher-order functions* that abstract out common patterns of error handling and recovery,\n",
    "- while preserving the benefit of consolidation of error-handling logic.\n",
    "\n",
    "Recreate *Option* and *Either* to enhance your understading of how these types can be ..."
   ]
  },
  {
   "cell_type": "markdown",
   "metadata": {},
   "source": [
    "## Non-RT Expression\n",
    "---\n",
    "```scala\n",
    "def failingFn(i: Int): Int = {\n",
    "  val y: Int = throw new Exception(\"fail!\")\n",
    "  try {\n",
    "    val x = 42 + 5\n",
    "    x+y\n",
    "  }\n",
    "  catch { case e: Exception => 43 }\n",
    "}\n",
    "```\n",
    "---\n"
   ]
  },
  {
   "cell_type": "markdown",
   "metadata": {},
   "source": [
    "The Good and The Bad of Exceptions\n",
    "- Exceptions break RT and introduce context dependence, requiring non-local ..."
   ]
  },
  {
   "cell_type": "markdown",
   "metadata": {},
   "source": [
    "## Option Type\n",
    "Represent explicityly in the return type that a function may not always have an answer.\n",
    "- deferring to the caller for the error-handling strategy.\n",
    "\n",
    "---\n",
    "```scala\n",
    "sealed trait Option[+A]\n",
    "\n",
    "case class Some[+A](get: A) extends Option[A]\n",
    "case object None extends Option[Nothing]\n",
    "```\n",
    "---"
   ]
  },
  {
   "cell_type": "code",
   "execution_count": 2,
   "metadata": {},
   "outputs": [
    {
     "data": {
      "text/plain": [
       "defined \u001b[32mfunction\u001b[39m \u001b[36mmean\u001b[39m"
      ]
     },
     "execution_count": 2,
     "metadata": {},
     "output_type": "execute_result"
    }
   ],
   "source": [
    "def mean(xs: Seq[Double]): Option[Double] =\n",
    "  if (xs.isEmpty) None\n",
    "  else Some(xs.sum / xs.length)"
   ]
  },
  {
   "cell_type": "markdown",
   "metadata": {},
   "source": [
    "## Partial function vs Total function\n",
    "\n",
    "### Partial function\n",
    "```scala\n",
    "def mean(xs: Seq[Double]): Double =\n",
    "  if (xs.isEmpty) throw ArithmeticException\n",
    "  else xs.sum / xs.length\n",
    "```\n",
    "---\n",
    "### Total function\n",
    "```scala\n",
    "def mean(xs: Seq[Double]): Option[Double] =\n",
    "  if (xs.isEmpty) None\n",
    "  else Some(xs.sum / xs.length)\n",
    "```"
   ]
  },
  {
   "cell_type": "markdown",
   "metadata": {},
   "source": [
    "## 참고 reftree"
   ]
  },
  {
   "cell_type": "code",
   "execution_count": 11,
   "metadata": {},
   "outputs": [
    {
     "data": {
      "text/plain": [
       "defined \u001b[32mtrait\u001b[39m \u001b[36mOption\u001b[39m\n",
       "defined \u001b[32mclass\u001b[39m \u001b[36mSome\u001b[39m\n",
       "defined \u001b[32mobject\u001b[39m \u001b[36mNone\u001b[39m\n",
       "defined \u001b[32mobject\u001b[39m \u001b[36mOption\u001b[39m"
      ]
     },
     "execution_count": 11,
     "metadata": {},
     "output_type": "execute_result"
    }
   ],
   "source": [
    "sealed trait Option[+A]{\n",
    "  def map[B](f: A => B): Option[B] = this match {\n",
    "    case Some(v) => Some(f(v))\n",
    "    case None => None\n",
    "  }\n",
    "  \n",
    "//  def getOrElse(default: A): A = ???  // default 파라미터에 타입 A를 쓸 수 없음 에러남, \n",
    "                                      // contravariant자리에 covariant가 나와서\n",
    "  def getOrElse[B >: A](default: => B): B = this match {\n",
    "    case Some(v) => v\n",
    "    case None => default\n",
    "  }\n",
    "  \n",
    "  def flatMap[B](f: A => Option[B]): Option[B] = this match {\n",
    "    case Some(v) => f(v)\n",
    "    case None => None\n",
    "  }\n",
    "  \n",
    "  def flatMap_[B](f: A => Option[B]): Option[B] = \n",
    "    map(f).getOrElse(None)\n",
    "    \n",
    "  def orElse[B >: A](default: =>Option[B]): Option[B] = \n",
    "    map(Option(_)) getOrElse default\n",
    "  \n",
    "  def filter(f: A => Boolean): Option[A] =\n",
    "    flatMap(a => if(f(a)) this else None) \n",
    "}\n",
    "\n",
    "case class Some[+A](get: A) extends Option[A]\n",
    "case object None extends Option[Nothing]\n",
    "\n",
    "object Option {\n",
    "  def none[A]: Option[A] = None\n",
    "  def some[A](a: A): Option[A] = Some(a)\n",
    "  def apply[A](a: A): Option[A] = Some(a)\n",
    "  def map[A, B](fa: Option[A])(f: A => B): Option[B] = \n",
    "    fa map f\n",
    "  def lift[A, B](f: A => B): Option[A] => Option[B] =\n",
    "    map(_)(f)\n",
    "//     (a: Option[A]) =>map(a)(f)\n",
    "}"
   ]
  },
  {
   "cell_type": "code",
   "execution_count": 4,
   "metadata": {},
   "outputs": [
    {
     "data": {
      "text/plain": [
       "\u001b[36mres3\u001b[39m: \u001b[32mOption\u001b[39m[\u001b[32mInt\u001b[39m] = Some(30)"
      ]
     },
     "execution_count": 4,
     "metadata": {},
     "output_type": "execute_result"
    }
   ],
   "source": [
    "Some(10).map(_ + 20)"
   ]
  },
  {
   "cell_type": "markdown",
   "metadata": {},
   "source": [
    "## Lifting\n",
    "``` scala\n",
    "def lift[A,B](f: A => B): Option[A] => Option[B] =???\n",
    "```"
   ]
  },
  {
   "cell_type": "code",
   "execution_count": null,
   "metadata": {
    "collapsed": true
   },
   "outputs": [],
   "source": []
  }
 ],
 "metadata": {
  "kernelspec": {
   "display_name": "Scala",
   "language": "scala",
   "name": "scala"
  },
  "language_info": {
   "codemirror_mode": "text/x-scala",
   "file_extension": ".scala",
   "mimetype": "text/x-scala",
   "name": "scala211",
   "nbconvert_exporter": "script",
   "pygments_lexer": "scala",
   "version": "2.11.8"
  }
 },
 "nbformat": 4,
 "nbformat_minor": 2
}
