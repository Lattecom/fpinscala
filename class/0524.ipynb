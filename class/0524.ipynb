{
 "cells": [
  {
   "cell_type": "markdown",
   "metadata": {
    "collapsed": true
   },
   "source": [
    "# chap 4\n",
    "## Limitations of Option\n",
    "*Option* doesn't tell us anything about what went wrong in the case of an exceptional condition.\n",
    "\n",
    "A simple extension to Option is the Either data type, which let us track ..."
   ]
  },
  {
   "cell_type": "markdown",
   "metadata": {},
   "source": [
    "## Either Type\n",
    "---\n",
    "```scala\n",
    "sealed trait Either[+E, +A]\n",
    "case class Left[+E] (value: E) extends Either[E, Nothing]\n",
    "case class Right[+A](value: A) extends Either[Nothing, A]\n",
    "```\n",
    "---\n",
    "\n",
    "By convention\n",
    "- *Right* constructor is reserved for the success case(a pun on \"right,\" meaning correct), and\n",
    "- *Left* is used for failure. Note the suggestive name **E** (for Error)"
   ]
  },
  {
   "cell_type": "markdown",
   "metadata": {},
   "source": [
    "### Usage Example of Either\n",
    "```scala\n",
    "def mean(xs: Seq[Double]): Either[String, Double] =\n",
    "  if (xs.isEmpty)\n",
    "    Left(\"mean of empty list!\")\n",
    "  else\n",
    "    Right(xs.sum / xs.length)\n",
    "    \n",
    "def safeDiv(x: Int, y: Int): Either[Exception, Int] =\n",
    "  try Right(x/y)\n",
    "  catch{ case e: Exception => Left(e) }\n",
    "  \n",
    "def Try[A](a: => A) : Either[Exception, A] =\n",
    "  try Right(a)\n",
    "  catch { catch e => Left(e) }"
   ]
  },
  {
   "cell_type": "code",
   "execution_count": 10,
   "metadata": {},
   "outputs": [
    {
     "data": {
      "text/plain": [
       "defined \u001b[32mtrait\u001b[39m \u001b[36mEither\u001b[39m\n",
       "defined \u001b[32mclass\u001b[39m \u001b[36mLeft\u001b[39m\n",
       "defined \u001b[32mclass\u001b[39m \u001b[36mRight\u001b[39m"
      ]
     },
     "execution_count": 10,
     "metadata": {},
     "output_type": "execute_result"
    }
   ],
   "source": [
    "sealed trait Either[+E, +A] {\n",
    "  def pure[E,A](a: A): Either[E,A] = Right(a)\n",
    "  \n",
    "  def map[B](f: A => B): Either[E, B] = this match {\n",
    "    case Right(v) => Right(f(v))\n",
    "    case l @ Left(_) => l\n",
    "  }\n",
    "  \n",
    "  def flatMap[EE >: E, B](f: A => Either[EE, B]): Either[EE, B] = this match {\n",
    "    case Right(v) => f(v)\n",
    "    case l @ Left(_) => l\n",
    "  }\n",
    "  \n",
    "  def orElse[EE >: E, B >: A](default: => Either[EE, B]): Either[EE, B] = this match {\n",
    "    case Right(v) => this\n",
    "    case _ => default\n",
    "  }\n",
    "  \n",
    "//   def map2[EE >: E, B, C](fa: Either[E, A], fb: Either[E, B])(f: (A, B) => C) : Either[EE, C] = \n",
    "//     flatMap(a => fb.map(b => f(a, b)))\n",
    "  def map2[EE >: E, B, C](fb: Either[EE, B])(f: (A, B) => C) : Either[EE, C] = \n",
    "    (this, fb) match {\n",
    "      case (Right(a), Right(b)) => Right(f(a,b))\n",
    "      case (Right(_), l @ Left(m)) => l\n",
    "      case (l @ Left(m), _) => l\n",
    "    }\n",
    "           \n",
    "  def sequence[E, A](es: List[Either[E, A]]): Either[E, List[A]] = \n",
    "    // traverse(es)(a => a)\n",
    "    traverse(es)(identity)\n",
    "  \n",
    "//   def foldRight[A, B](z: B)(f: (A, B) => B): B = ???\n",
    "  def traverse[E, A, B](as: List[A])(f: A => Either[E, B]): Either[E, List[B]] = ???\n",
    "//     as.foldRight(pure[E,List[B]](List.empty[B]))((a: A, acc: Either[E, List[B]]) => map2(f(a),acc)(_ :: _))\n",
    "//       as.foldRight(pure[E,List[B]](List.empty[B]): Either[E, List[B]])((a: A, acc: Either[E, List[b]]) => map2(f(a),acc)(_ :: _))\n",
    "//       as.foldRight[Either[E, List[B]](pure[E,List[B]](List.empty[B]))((a: A, acc: Either[E, List[b]]) => map2(f(a),acc)(_ :: _))\n",
    "}\n",
    "case class Left[+E] (value: E) extends Either[E, Nothing]\n",
    "case class Right[+A](value: A) extends Either[Nothing, A]"
   ]
  },
  {
   "cell_type": "code",
   "execution_count": 8,
   "metadata": {},
   "outputs": [
    {
     "data": {
      "text/plain": [
       "\u001b[36me1\u001b[39m: \u001b[32mEither\u001b[39m[\u001b[32mString\u001b[39m, \u001b[32mInt\u001b[39m] = Right(5)\n",
       "\u001b[36mr1\u001b[39m: \u001b[32mEither\u001b[39m[\u001b[32mString\u001b[39m, \u001b[32mInt\u001b[39m] = Right(6)\n",
       "\u001b[36me2\u001b[39m: \u001b[32mEither\u001b[39m[\u001b[32mString\u001b[39m, \u001b[32mInt\u001b[39m] = Left(hello)\n",
       "\u001b[36mr2\u001b[39m: \u001b[32mEither\u001b[39m[\u001b[32mString\u001b[39m, \u001b[32mInt\u001b[39m] = Left(hello)"
      ]
     },
     "execution_count": 8,
     "metadata": {},
     "output_type": "execute_result"
    }
   ],
   "source": [
    "val e1: Either[String, Int] = Right(5)\n",
    "val r1 = e1.map(_ + 1)\n",
    "val e2: Either[String, Int] = Left(\"hello\")\n",
    "val r2 = e2.map(_ + 2)"
   ]
  },
  {
   "cell_type": "code",
   "execution_count": null,
   "metadata": {
    "collapsed": true
   },
   "outputs": [],
   "source": [
    "def parseInsuranceRateQuote( age: )"
   ]
  },
  {
   "cell_type": "code",
   "execution_count": null,
   "metadata": {
    "collapsed": true
   },
   "outputs": [],
   "source": [
    "def sequence[E, A](es: List[Either[E, A]]): Either[E, List[A]] = ???\n",
    "\n",
    "def traverse[E, A, B](as: List[A])(f: A => Either[E, B]): Either[E, List[B]] = ???"
   ]
  },
  {
   "cell_type": "code",
   "execution_count": null,
   "metadata": {
    "collapsed": true
   },
   "outputs": [],
   "source": []
  },
  {
   "cell_type": "code",
   "execution_count": null,
   "metadata": {
    "collapsed": true
   },
   "outputs": [],
   "source": []
  },
  {
   "cell_type": "code",
   "execution_count": 4,
   "metadata": {},
   "outputs": [
    {
     "name": "stderr",
     "output_type": "stream",
     "text": [
      "cmd4.sc:1: value + is not a member of Nothing\n",
      "val res4 = Left(\"abc\").map(_ + 1)\n",
      "                             ^"
     ]
    },
    {
     "ename": "",
     "evalue": "",
     "output_type": "error",
     "traceback": [
      "Compilation Failed"
     ]
    }
   ],
   "source": [
    "Left(\"abc\").map(_ + 1)"
   ]
  },
  {
   "cell_type": "code",
   "execution_count": 6,
   "metadata": {},
   "outputs": [
    {
     "data": {
      "text/plain": [
       "\u001b[36mres5\u001b[39m: \u001b[32mEither\u001b[39m[\u001b[32mNothing\u001b[39m, \u001b[32mInt\u001b[39m] = Right(11)"
      ]
     },
     "execution_count": 6,
     "metadata": {},
     "output_type": "execute_result"
    }
   ],
   "source": [
    "Right(1).flatMap(a => Right(a + 10))"
   ]
  },
  {
   "cell_type": "markdown",
   "metadata": {},
   "source": [
    "# Homework\n",
    "In this implementation, map2 is only able to report one error,\n",
    "even if both the name and the age are invalid.\n",
    "What would you need"
   ]
  },
  {
   "cell_type": "markdown",
   "metadata": {},
   "source": [
    "# Strictness and Laziness\n",
    "**Non-strictness** is a fundamental technique for improving on\n",
    "- efficiency\n",
    "- modularrity\n",
    "\n",
    "of functional programs in general."
   ]
  },
  {
   "cell_type": "markdown",
   "metadata": {},
   "source": [
    "## Motivating Example\n",
    "```scala\n",
    "List(1,2,3,4).map(_ + 10).filter(_ % 2 == 0).map(_ * 3)\n",
    "```"
   ]
  }
 ],
 "metadata": {
  "kernelspec": {
   "display_name": "Scala",
   "language": "scala",
   "name": "scala"
  },
  "language_info": {
   "codemirror_mode": "text/x-scala",
   "file_extension": ".scala",
   "mimetype": "text/x-scala",
   "name": "scala211",
   "nbconvert_exporter": "script",
   "pygments_lexer": "scala",
   "version": "2.11.8"
  }
 },
 "nbformat": 4,
 "nbformat_minor": 2
}
