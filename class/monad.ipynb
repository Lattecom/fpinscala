{
 "cells": [
  {
   "cell_type": "code",
   "execution_count": null,
   "metadata": {
    "collapsed": true
   },
   "outputs": [],
   "source": [
    "import cats.instances.function._\n",
    "import cats.syntax.functor._"
   ]
  },
  {
   "cell_type": "code",
   "execution_count": null,
   "metadata": {
    "collapsed": true
   },
   "outputs": [],
   "source": [
    "implicit def function1Functor[M] = new Functor[ ({ type l[k] = Function1[M, k]})#l1 ] {\n",
    "    def map[A, B](fa: M => A)(f: A => B) =\n",
    "        fa andThen f\n",
    "}"
   ]
  },
  {
   "cell_type": "code",
   "execution_count": 2,
   "metadata": {},
   "outputs": [
    {
     "data": {
      "text/plain": [
       "\u001b[36mlog\u001b[39m: \u001b[32mString\u001b[39m = \u001b[32m\"\"\u001b[39m"
      ]
     },
     "execution_count": 2,
     "metadata": {},
     "output_type": "execute_result"
    }
   ],
   "source": []
  },
  {
   "cell_type": "code",
   "execution_count": 7,
   "metadata": {},
   "outputs": [
    {
     "data": {
      "text/plain": [
       "\u001b[36mlog\u001b[39m: \u001b[32mString\u001b[39m = \u001b[32m\"\"\u001b[39m\n",
       "defined \u001b[32mfunction\u001b[39m \u001b[36madd1\u001b[39m\n",
       "defined \u001b[32mfunction\u001b[39m \u001b[36mmult5\u001b[39m"
      ]
     },
     "execution_count": 7,
     "metadata": {},
     "output_type": "execute_result"
    }
   ],
   "source": [
    "var log: String = \"\"\n",
    "\n",
    "def add1(n: Int) = {\n",
    "    log += s\"add 1 to $n;\\n\"\n",
    "    n + 1\n",
    "}\n",
    "def mult5(n: Int): Double = {\n",
    "    log += s\"mult 3 to $n;\\n\"\n",
    "    n * 5.0\n",
    "}"
   ]
  },
  {
   "cell_type": "code",
   "execution_count": 11,
   "metadata": {},
   "outputs": [
    {
     "data": {
      "text/plain": [
       "defined \u001b[32mfunction\u001b[39m \u001b[36madd1\u001b[39m\n",
       "defined \u001b[32mfunction\u001b[39m \u001b[36mmult5\u001b[39m"
      ]
     },
     "execution_count": 11,
     "metadata": {},
     "output_type": "execute_result"
    }
   ],
   "source": [
    "def add1(n: Int): (Int, String) = {\n",
    "    (n + 1, s\"add 1 to $n;\\n\")\n",
    "}\n",
    "def mult5(n: Int): (Double, String) = {\n",
    "    (n * 5.0, s\"mult 3 to $n;\\n\")\n",
    "}"
   ]
  },
  {
   "cell_type": "code",
   "execution_count": 14,
   "metadata": {},
   "outputs": [
    {
     "data": {
      "text/plain": [
       "defined \u001b[32mfunction\u001b[39m \u001b[36mcompose\u001b[39m\n",
       "defined \u001b[32mfunction\u001b[39m \u001b[36mkompose\u001b[39m\n",
       "defined \u001b[32mfunction\u001b[39m \u001b[36mflatMap\u001b[39m"
      ]
     },
     "execution_count": 14,
     "metadata": {},
     "output_type": "execute_result"
    }
   ],
   "source": [
    "// string도 제너릭 하게 하려면 semigroup으로\n",
    "def compose[A,B](f: A => (A, String), g: A => (B, String)):\n",
    "    A => (B, String) = {\n",
    "        a: A => \n",
    "        val (r1, l1) = f(a)\n",
    "        val (r2, l2) = g(r1)\n",
    "        (r2, l1 + l2)\n",
    "    }\n",
    "\n",
    "// kleisli arrow(compose) or fish operator\n",
    "def kompose[A,B,C,F[_]](f: A => F[B], g: B => F[C]): A => F[C] = {\n",
    "    a: A =>\n",
    "    flatMap(f(a))(g): F[C]\n",
    "}\n",
    "\n",
    "// flatMap :: F[A] => (A => F[B]) => F[B]\n",
    "def flatMap[A,B,F[_]](fa: F[A])(f: A => F[B]): F[B] = ???"
   ]
  },
  {
   "cell_type": "code",
   "execution_count": 36,
   "metadata": {},
   "outputs": [
    {
     "name": "stderr",
     "output_type": "stream",
     "text": [
      "cmd36.sc:45: object creation impossible, since method join in trait Monad of type [A](ffa: Option[Option[A]])Option[A] is not defined\n",
      "    implicit val optionMonad: Monad[Option] = new Monad[Option] {\n",
      "                                                  ^cmd36.sc:53: object creation impossible, since method join in trait Monad of type [A](ffa: List[List[A]])List[A] is not defined\n",
      "    implicit val listMonad: Monad[List] = new Monad[List] {\n",
      "                                              ^"
     ]
    },
    {
     "ename": "",
     "evalue": "",
     "output_type": "error",
     "traceback": [
      "Compilation Failed"
     ]
    }
   ],
   "source": [
    "import scala.language.higherKinds\n",
    "\n",
    "trait Functor[F[_]] {\n",
    "    def map[A,B](fa: F[A])(f: A => B): F[B]\n",
    "}\n",
    "// Monad type Class\n",
    "/*\n",
    "    Monad primitive combinators\n",
    "    1. flatMap + pure\n",
    "    2. join + map + pure\n",
    "    3. compose + pure\n",
    "*/\n",
    "trait Monad[F[_]] extends Functor[F]{\n",
    "    // primitive operations\n",
    "    def flatMap[A,B](fa: F[A])(f: A => F[B]): F[B]\n",
    "    def pure[A](a: A): F[A]\n",
    "    \n",
    "    def join[A](ffa: F[F[A]]): F[A] // flatten\n",
    "    \n",
    "    \n",
    "    // derived operations\n",
    "    override def map[A,B](fa: F[A])(f: A => B): F[B] =\n",
    "        flatMap(fa)(a => pure(f(a)))\n",
    "    \n",
    "    def map2[A,B,Z](fa: F[A], fb: F[B])(f: (A, B) => Z): F[Z] =\n",
    "        flatMap(fa)(a => map(fb)(b => f(a,b)))\n",
    "    \n",
    "    \n",
    "    def product_[A,B](fa: F[A], fb: F[B]): F[(A,B)] =\n",
    "        map2(fa, fb)((_, _))\n",
    "    \n",
    "    def product[A,B](fa: F[A], fb: F[B]): F[(A,B)] =\n",
    "        flatMap(fa)(a => map(fb)(b => (a,b)))\n",
    "    \n",
    "    def traverse[A,B](as: List[A])(f: A => F[B]): F[List[B]] = \n",
    "        as.foldRight(pure(List.empty[B])){ (a, acc) => \n",
    "            map2(f(a), acc)(_ :: _)\n",
    "        }\n",
    "    \n",
    "    def sequence[A](as: List[F[A]]): F[List[A]] = \n",
    "        traverse(as)(identity)\n",
    "    \n",
    "    def filter[A](as: List[A])(f: A => Boolean): List[A] = ??? //foldRight 사용해보기\n",
    "\n",
    "    def filterM[A](as: List[A])(f: A => F[Boolean]): F[List[A]] = ???\n",
    "}\n",
    "\n",
    "object Monad {\n",
    "    def apply[F[_]: Monad] = implicitly[Monad[F]]\n",
    "    \n",
    "    implicit val optionMonad: Monad[Option] = new Monad[Option] {\n",
    "        override def flatMap[A,B](fa: Option[A])(f: A => Option[B]): Option[B] = fa match {\n",
    "            case None => None\n",
    "            case Some(v) => f(v)\n",
    "        } // Option에는 이미 flatMap이 있으니, fa.flatMap(f) 로 해도됨\n",
    "        override def pure[A](a: A): Option[A] = Some(a)\n",
    "    }\n",
    "    \n",
    "    implicit val listMonad: Monad[List] = new Monad[List] {\n",
    "        def flatMap[A,B](fa: List[A])(f: A => List[B]): List[B] = fa match {\n",
    "            case Nil => Nil\n",
    "            case h :: t => f(h) ++ flatMap(t)(f)\n",
    "        } // Option에는 이미 flatMap이 있으니, fa.flatMap(f) 로 해도됨\n",
    "        def pure[A](a: A): List[A] = List(a)\n",
    "    }\n",
    "}\n",
    "\n",
    "/** Monad Laws\n",
    "    1. left identity\n",
    "        compose(pure, f) == f\n",
    "        F.pure(a).flatMap(f) == f(a)  // a: A\n",
    "        \n",
    "    2. right identity\n",
    "        compose(f, pure) == f\n",
    "        F.flatMap(fa)(F.pure) = fa   // fa: F[A]\n",
    "    \n",
    "    3. associativity\n",
    "        compose(compose(f, g), h) == compose(f, compose(g, h))\n",
    "        m.flatMap(f).flatMap(g) == m.flatMap(x => f(x).glatMap(g)) // m: F[A] \n",
    "        \n",
    "*/"
   ]
  },
  {
   "cell_type": "code",
   "execution_count": 20,
   "metadata": {},
   "outputs": [
    {
     "data": {
      "text/plain": [
       "defined \u001b[32mobject\u001b[39m \u001b[36mMonad\u001b[39m"
      ]
     },
     "execution_count": 20,
     "metadata": {},
     "output_type": "execute_result"
    }
   ],
   "source": [
    "Monad[List]"
   ]
  },
  {
   "cell_type": "code",
   "execution_count": 34,
   "metadata": {},
   "outputs": [
    {
     "data": {
      "text/plain": [
       "\u001b[36mres33_0\u001b[39m: \u001b[32mOption\u001b[39m[\u001b[32mList\u001b[39m[\u001b[32mInt\u001b[39m]] = \u001b[33mSome\u001b[39m(\u001b[33mList\u001b[39m(\u001b[32m1\u001b[39m, \u001b[32m4\u001b[39m, \u001b[32m9\u001b[39m, \u001b[32m16\u001b[39m))\n",
       "\u001b[36mres33_1\u001b[39m: \u001b[32mList\u001b[39m[\u001b[32mList\u001b[39m[\u001b[32mInt\u001b[39m]] = \u001b[33mList\u001b[39m(\n",
       "  \u001b[33mList\u001b[39m(\u001b[32m1\u001b[39m, \u001b[32m2\u001b[39m),\n",
       "  \u001b[33mList\u001b[39m(\u001b[32m1\u001b[39m, \u001b[32m4\u001b[39m),\n",
       "  \u001b[33mList\u001b[39m(\u001b[32m1\u001b[39m, \u001b[32m4\u001b[39m),\n",
       "  \u001b[33mList\u001b[39m(\u001b[32m1\u001b[39m, \u001b[32m2\u001b[39m),\n",
       "  \u001b[33mList\u001b[39m(\u001b[32m1\u001b[39m, \u001b[32m4\u001b[39m),\n",
       "  \u001b[33mList\u001b[39m(\u001b[32m1\u001b[39m, \u001b[32m4\u001b[39m),\n",
       "  \u001b[33mList\u001b[39m(\u001b[32m2\u001b[39m, \u001b[32m2\u001b[39m),\n",
       "  \u001b[33mList\u001b[39m(\u001b[32m2\u001b[39m, \u001b[32m4\u001b[39m),\n",
       "  \u001b[33mList\u001b[39m(\u001b[32m2\u001b[39m, \u001b[32m4\u001b[39m)\n",
       ")"
      ]
     },
     "execution_count": 34,
     "metadata": {},
     "output_type": "execute_result"
    }
   ],
   "source": [
    "// traverse\n",
    "Monad[Option].traverse(List(1,2,3,4))(a => Option(a * a))\n",
    "\n",
    "Monad[List].traverse(List(1,2))(a => List(a, a*a, a*2))"
   ]
  },
  {
   "cell_type": "code",
   "execution_count": 8,
   "metadata": {},
   "outputs": [
    {
     "data": {
      "text/plain": [
       "\u001b[36mres7\u001b[39m: \u001b[32mInt\u001b[39m = \u001b[32m11\u001b[39m"
      ]
     },
     "execution_count": 8,
     "metadata": {},
     "output_type": "execute_result"
    }
   ],
   "source": [
    "add1(10)"
   ]
  },
  {
   "cell_type": "code",
   "execution_count": 9,
   "metadata": {},
   "outputs": [
    {
     "data": {
      "text/plain": [
       "\u001b[36mres8\u001b[39m: \u001b[32mDouble\u001b[39m = \u001b[32m15.0\u001b[39m"
      ]
     },
     "execution_count": 9,
     "metadata": {},
     "output_type": "execute_result"
    }
   ],
   "source": [
    "mult5(3)"
   ]
  },
  {
   "cell_type": "code",
   "execution_count": 10,
   "metadata": {},
   "outputs": [
    {
     "data": {
      "text/plain": [
       "\u001b[36mres9\u001b[39m: \u001b[32mString\u001b[39m = \u001b[32m\"\"\"\n",
       "add 1 to 10;\n",
       "mult 3 to 3;\n",
       "\n",
       "\"\"\"\u001b[39m"
      ]
     },
     "execution_count": 10,
     "metadata": {},
     "output_type": "execute_result"
    }
   ],
   "source": [
    "log"
   ]
  },
  {
   "cell_type": "code",
   "execution_count": null,
   "metadata": {
    "collapsed": true
   },
   "outputs": [],
   "source": []
  }
 ],
 "metadata": {
  "kernelspec": {
   "display_name": "Scala",
   "language": "scala",
   "name": "scala"
  },
  "language_info": {
   "codemirror_mode": "text/x-scala",
   "file_extension": ".scala",
   "mimetype": "text/x-scala",
   "name": "scala211",
   "nbconvert_exporter": "script",
   "pygments_lexer": "scala",
   "version": "2.11.11"
  }
 },
 "nbformat": 4,
 "nbformat_minor": 2
}
