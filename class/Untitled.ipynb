{
 "cells": [
  {
   "cell_type": "markdown",
   "metadata": {},
   "source": [
    "## Agenda\n",
    "\n",
    "- case classeson is similar to a normal class definition,\n",
    "- Kinds of Patterns\n",
    "- pattern guard\n",
    "- pattern overlap"
   ]
  },
  {
   "cell_type": "markdown",
   "metadata": {},
   "source": [
    "## Case Classes \n",
    "\n",
    "A *Case class* definition is similar to a normal class definition,\n",
    "\n",
    "- for example\n",
    "\n",
    "- Scala Compiler add some *syntatctic conveniences* to case"
   ]
  }
 ],
 "metadata": {
  "kernelspec": {
   "display_name": "Scala",
   "language": "scala",
   "name": "scala"
  },
  "language_info": {
   "codemirror_mode": "text/x-scala",
   "file_extension": ".scala",
   "mimetype": "text/x-scala",
   "name": "scala211",
   "nbconvert_exporter": "script",
   "pygments_lexer": "scala",
   "version": "2.11.8"
  }
 },
 "nbformat": 4,
 "nbformat_minor": 2
}
