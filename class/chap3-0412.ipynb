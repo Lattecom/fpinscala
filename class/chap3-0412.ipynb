{
 "cells": [
  {
   "cell_type": "markdown",
   "metadata": {},
   "source": [
    "# Functional Data Structures\n",
    "\n",
    "A **Functional data structure** is operated on using only **pure functions**.\n",
    "Therefore, functional data structures are by definition **immutable**.\n",
    "\n",
    "Example:\n",
    "\n",
    "The empty list (List() or Nil) is as eternal and immutable as the integer values 3 or 4.\n"
   ]
  },
  {
   "cell_type": "markdown",
   "metadata": {},
   "source": [
    "## singly linked list"
   ]
  },
  {
   "cell_type": "code",
   "execution_count": 2,
   "metadata": {},
   "outputs": [
    {
     "data": {
      "text/plain": [
       "defined \u001b[32mtrait\u001b[39m \u001b[36mList\u001b[39m\n",
       "defined \u001b[32mobject\u001b[39m \u001b[36mNil\u001b[39m\n",
       "defined \u001b[32mclass\u001b[39m \u001b[36mCons\u001b[39m\n",
       "defined \u001b[32mobject\u001b[39m \u001b[36mList\u001b[39m"
      ]
     },
     "execution_count": 2,
     "metadata": {},
     "output_type": "execute_result"
    }
   ],
   "source": [
    "\n",
    "sealed trait List[+A] //형식 A에 대해 매개변수화된 List자료형식\n",
    "case object Nil extends List[Nothing]\n",
    "case class Cons[+A](head: A, tail: List[A]) extends List[A]\n",
    "\n",
    "object List {\n",
    "    def sum(ints: List[Int]): Int = ints match {\n",
    "        case Nil => 0\n",
    "        case Cons(x,xs) => x + sum(xs)\n",
    "    }\n",
    "    \n",
    "    def product(ds: List[Double]): Double = ds match {\n",
    "        case Nil => 1.0\n",
    "        case Cons(0.0, _) => 0.0\n",
    "        case Cons(x,xs) => x * product(xs)\n",
    "    }\n",
    "    \n",
    "    def apply[A](as: A*): List[A] = {\n",
    "        if(as.isEmpty) Nil\n",
    "        else Cons(as.head, apply(as.tail: _*))\n",
    "    }\n",
    "}"
   ]
  },
  {
   "cell_type": "code",
   "execution_count": 4,
   "metadata": {},
   "outputs": [
    {
     "data": {
      "text/plain": [
       "defined \u001b[32mtrait\u001b[39m \u001b[36mList\u001b[39m\n",
       "defined \u001b[32mobject\u001b[39m \u001b[36mNil\u001b[39m\n",
       "defined \u001b[32mclass\u001b[39m \u001b[36mCons\u001b[39m\n",
       "defined \u001b[32mobject\u001b[39m \u001b[36mList\u001b[39m"
      ]
     },
     "execution_count": 4,
     "metadata": {},
     "output_type": "execute_result"
    }
   ],
   "source": [
    "sealed trait List[+A] //sealed trait 인터페이스처럼 타입정의?\n",
    "                      //sealed 하나의 파일안에 모든 차일드(상속받아 생성되는)가 정의되고 더 상속받을 수 없음\n",
    "\n",
    "final case object Nil extends List[Nothing]\n",
    "final case class Cons[+A](head: A, tail: List[A]) extends List[A]\n",
    "\n",
    "object List {   //companion object \n",
    "    def apply[A](as: A*): List[A] = {\n",
    "        if(as.isEmpty) Nil\n",
    "        else Cons(as.head, apply(as.tail: _*))\n",
    "    }\n",
    "}"
   ]
  },
  {
   "cell_type": "code",
   "execution_count": 5,
   "metadata": {},
   "outputs": [
    {
     "data": {
      "text/plain": [
       "\u001b[36mex1\u001b[39m: \u001b[32mList\u001b[39m[\u001b[32mDouble\u001b[39m] = Nil\n",
       "\u001b[36mex2\u001b[39m: \u001b[32mList\u001b[39m[\u001b[32mInt\u001b[39m] = Cons(1,Nil)\n",
       "\u001b[36mex3\u001b[39m: \u001b[32mList\u001b[39m[\u001b[32mString\u001b[39m] = Cons(a,Cons(b,Nil))"
      ]
     },
     "execution_count": 5,
     "metadata": {},
     "output_type": "execute_result"
    }
   ],
   "source": [
    "val ex1: List[Double] = Nil\n",
    "val ex2: List[Int] = Cons(1, Nil)\n",
    "val ex3: List[String] = Cons(\"a\", Cons(\"b\", Nil))"
   ]
  },
  {
   "cell_type": "markdown",
   "metadata": {},
   "source": [
    "### Variance Annotation\n",
    "\n",
    "In trait List[+A],\n",
    "              ^\n",
    "              variance  annotation indicating that A is a covariant.\n",
    "              \n",
    "Covariant: For all types X and Y,\n",
    " - if X <: Y, hen List[X] <: List[Y].\n",
    " \n",
    "If not annotated, parameter is *invariant*, meaning there is no subtyping relationship List[X] and List[Y].\n",
    "\n",
    "Nil extends List[Nothing]. Since Nothing is a subtype of all types, in conjunction with the variance annotation,\n",
    " - Nil can be considered a sub type of any List[XXX]"
   ]
  },
  {
   "cell_type": "markdown",
   "metadata": {},
   "source": [
    "### Companion Object\n",
    "We'll often declare a companion object in addition to our data type and its data constructors.\n",
    "\n",
    "The companion object is the one with *the same name* as the data type(in this case List) where we put various convenience functions for creating or working with values of the data type.\n",
    "\n",
    "```scala\n",
    "object List {\n",
    "    def sum(xs: List[Int]): Int = ???\n",
    "    def product(xs: List[Double]): Double = ???\n",
    "    def apply[A](as: A*): List[A] = ???\n",
    "    ...\n",
    "}\n",
    "```"
   ]
  },
  {
   "cell_type": "markdown",
   "metadata": {},
   "source": [
    "### Pattern Matching\n",
    "\n",
    "```scala\n",
    "def sum(xs: List[Int]): Int = xs match {\n",
    "    case Nil => 0\n",
    "    case Cons(x, xsl) => x + sum(xsl)\n",
    "}\n",
    "```\n",
    "\n",
    "Pattern mathcing descends into the structure of the expression it examinges and extract subexpressions of that structure.\n",
    "```scala\n",
    "target match { pattern => result; ...}\n",
    "```\n",
    "If the target matches the pattern in a case, the result of that case becomes the result of the entire match expression.\n",
    "\n",
    "If multiple patterns match the target, Scala chooses the first matching case."
   ]
  },
  {
   "cell_type": "code",
   "execution_count": 9,
   "metadata": {},
   "outputs": [
    {
     "ename": "",
     "evalue": "",
     "output_type": "error",
     "traceback": [
      "\u001b[31mscala.MatchError: Cons(1,Cons(2,Cons(3,Nil))) (of class $sess.cmd3Wrapper$Helper$Cons)\u001b[39m",
      "  $sess.cmd8Wrapper$Helper.<init>(\u001b[32mcmd8.sc\u001b[39m:\u001b[32m10\u001b[39m)",
      "  $sess.cmd8Wrapper.<init>(\u001b[32mcmd8.sc\u001b[39m:\u001b[32m138\u001b[39m)",
      "  $sess.cmd8$.<init>(\u001b[32mcmd8.sc\u001b[39m:\u001b[32m85\u001b[39m)",
      "  $sess.cmd8$.<clinit>(\u001b[32mcmd8.sc\u001b[39m:\u001b[32m-1\u001b[39m)"
     ]
    }
   ],
   "source": [
    "// Pattern Matching Example\n",
    "List(1,2,3) match { case Cons(h, _) => h}\n",
    "\n",
    "// Variable pattern, _, matches any expression.\n",
    "List(1,2,3) match { case _ => 42}\n",
    "\n",
    "// Data constructor pattern in conjunction with variables to capture \n",
    "// or bind a subexpression of the target\n",
    "List(1,2,3) match { case Cons(_, t) => t}\n",
    "\n",
    "// List(1,2,3) match { case Nil => 42} \n",
    "// scala.MatchError"
   ]
  },
  {
   "cell_type": "code",
   "execution_count": null,
   "metadata": {
    "collapsed": true
   },
   "outputs": [],
   "source": [
    "// Exercise\n",
    "what will be "
   ]
  },
  {
   "cell_type": "markdown",
   "metadata": {},
   "source": [
    "### Variadic functions\n",
    "\n",
    "The function apply in the comanion object List is a variadic function, meaning it accepts zero or more arguments of type A:\n",
    "\n",
    "---\n",
    "```scala\n",
    "def apply[A](as: A*): List[A] = \n",
    "    if (as.isEmpty) Nil\n",
    "    else Cons(as.head, apply(as.tail: _*)) // _ 뒤에 *는 시퀀스 타입인 _을 분해해주는 것을 뜻함 \n",
    "```\n",
    "---\n",
    "\n",
    "Variadic functions provides alittle *syntatic sugar* for creating and passing a `Seq` of elemnts explicitly."
   ]
  },
  {
   "cell_type": "markdown",
   "metadata": {},
   "source": [
    "## Data Sharing and Persistent Data Structures\n",
    "\n",
    "```scala\n",
    "def tail[A](as: List[A]): List[A] = as match {\n",
    "    case Cons(h, t) => t\n",
    "    case Nil => throw new UnsupportedOperationException;\n",
    "}\n",
    "```\n",
    "\n",
    "### Efficiency of Data Sharing\n",
    "\n",
    "**Vector** in Scla standard library is a purely functional sequence implementation\n",
    "벡터는 각종 오퍼레이션의 시간복잡도가 상수임\n",
    "\n",
    "\n",
    "append adds all the elements of one list to the end of another:\n",
    "```scala\n",
    "def append[A](a1: List[A], a2: List[A]): List[A] = a1 match {\n",
    "    case Nil => a2\n",
    "    case Cons(h, t) => Cons(h, append(t, a2))\n",
    "}\n",
    "```"
   ]
  },
  {
   "cell_type": "code",
   "execution_count": 10,
   "metadata": {},
   "outputs": [
    {
     "data": {
      "text/plain": [
       "defined \u001b[32mfunction\u001b[39m \u001b[36mappend\u001b[39m"
      ]
     },
     "execution_count": 10,
     "metadata": {},
     "output_type": "execute_result"
    }
   ],
   "source": [
    "def append[A](a1: List[A], a2: List[A]): List[A] = a1 match {\n",
    "    case Nil => a2\n",
    "    case Cons(h, t) => Cons(h, append(t, a2))\n",
    "}"
   ]
  },
  {
   "cell_type": "code",
   "execution_count": 11,
   "metadata": {},
   "outputs": [
    {
     "data": {
      "text/plain": [
       "\u001b[36mres10\u001b[39m: \u001b[32mList\u001b[39m[\u001b[32mInt\u001b[39m] = Cons(1,Cons(2,Cons(3,Cons(4,Cons(5,Nil)))))"
      ]
     },
     "execution_count": 11,
     "metadata": {},
     "output_type": "execute_result"
    }
   ],
   "source": [
    "append(List(1,2,3), List(4,5))"
   ]
  },
  {
   "cell_type": "markdown",
   "metadata": {},
   "source": [
    "Exercise\n",
    "\n",
    "Implement a function, *init*, htat returns a List consisting of all but the last element of a List.\n",
    "```scala\n",
    "init(list(1,2,3,4)) == List(1,2,3)\n",
    "```"
   ]
  },
  {
   "cell_type": "code",
   "execution_count": 12,
   "metadata": {},
   "outputs": [
    {
     "data": {
      "text/plain": [
       "defined \u001b[32mfunction\u001b[39m \u001b[36minit\u001b[39m"
      ]
     },
     "execution_count": 12,
     "metadata": {},
     "output_type": "execute_result"
    }
   ],
   "source": [
    "def init[A](as: List[A]): List[A] = as match {\n",
    "    case Cons(_, Nil) => Nil\n",
    "    case Cons(h, t) => Cons(h, init(t))\n",
    "    case Nil => throw new UnsupportedOperationException;\n",
    "}"
   ]
  },
  {
   "cell_type": "code",
   "execution_count": 14,
   "metadata": {},
   "outputs": [
    {
     "data": {
      "text/plain": [
       "defined \u001b[32mfunction\u001b[39m \u001b[36mdropWhile_\u001b[39m"
      ]
     },
     "execution_count": 14,
     "metadata": {},
     "output_type": "execute_result"
    }
   ],
   "source": [
    "def dropWhile_[A](l: List[A], f: A => Boolean): List[A] = l match {\n",
    "    case Cons(h, t) if (f(h)) => dropWhile_(t, f)\n",
    "    case e @ Cons(h, t) => e\n",
    "    case _ => Nil\n",
    "}"
   ]
  },
  {
   "cell_type": "markdown",
   "metadata": {},
   "source": [
    "Improving Type inference for HOFs\n",
    "\n",
    "Use curried form to maximize type inference."
   ]
  },
  {
   "cell_type": "code",
   "execution_count": 15,
   "metadata": {},
   "outputs": [
    {
     "data": {
      "text/plain": [
       "defined \u001b[32mfunction\u001b[39m \u001b[36mdropWhile\u001b[39m"
      ]
     },
     "execution_count": 15,
     "metadata": {},
     "output_type": "execute_result"
    }
   ],
   "source": [
    "def dropWhile[A](l: List[A])(f: A => Boolean): List[A] = l match {\n",
    "    case Cons(h, t) if (f(h)) => dropWhile(t)(f)\n",
    "    case e @ Cons(h, t) => e\n",
    "    case _ => Nil\n",
    "}"
   ]
  },
  {
   "cell_type": "markdown",
   "metadata": {},
   "source": [
    "Don't Repeat Yourself (DRY)\n",
    "\n",
    "``` scala\n",
    "def sum(ints: List[Int]): Int = ints match {\n",
    "    case Nil => 0\n",
    "    case Cons(x,xs) => x + sum(xs)\n",
    "}\n",
    "    \n",
    "def product(ds: List[Double]): Double = ds match {\n",
    "    case Nil => 1.0\n",
    "    case Cons(x,xs) => x * product(xs)\n",
    "}\n",
    "```"
   ]
  },
  {
   "cell_type": "markdown",
   "metadata": {},
   "source": [
    "### foldRight"
   ]
  },
  {
   "cell_type": "code",
   "execution_count": 16,
   "metadata": {},
   "outputs": [
    {
     "data": {
      "text/plain": [
       "defined \u001b[32mfunction\u001b[39m \u001b[36mfoldRight\u001b[39m"
      ]
     },
     "execution_count": 16,
     "metadata": {},
     "output_type": "execute_result"
    }
   ],
   "source": [
    "def foldRight[A,B](as: List[A], z: B)(f: (A, B) => B): B = as match {\n",
    "    case Nil => z\n",
    "    case Cons(h,t) => f(h, foldRight(t,z)(f))\n",
    "}"
   ]
  },
  {
   "cell_type": "code",
   "execution_count": 17,
   "metadata": {},
   "outputs": [
    {
     "data": {
      "text/plain": [
       "defined \u001b[32mfunction\u001b[39m \u001b[36msum\u001b[39m\n",
       "defined \u001b[32mfunction\u001b[39m \u001b[36mproduct\u001b[39m"
      ]
     },
     "execution_count": 17,
     "metadata": {},
     "output_type": "execute_result"
    }
   ],
   "source": [
    "def sum(ns: List[Int]) = \n",
    "    foldRight(ns, 0)((x,y) => x+y)\n",
    "def product(ns: List[Double]) = \n",
    "    foldRight(ns, 1.0)(_ * _)"
   ]
  },
  {
   "cell_type": "markdown",
   "metadata": {},
   "source": [
    "### foldLeft"
   ]
  },
  {
   "cell_type": "code",
   "execution_count": 18,
   "metadata": {},
   "outputs": [
    {
     "data": {
      "text/plain": [
       "defined \u001b[32mfunction\u001b[39m \u001b[36mfoldLeft\u001b[39m"
      ]
     },
     "execution_count": 18,
     "metadata": {},
     "output_type": "execute_result"
    }
   ],
   "source": [
    "def foldLeft[A,B](as: List[A], z: B)(f: (B, A) => B): B = as match {\n",
    "    case Cons(h,t) => foldLeft(t, f(z, h))(f)\n",
    "    case Nil => z\n",
    "}"
   ]
  },
  {
   "cell_type": "markdown",
   "metadata": {},
   "source": [
    "### Exercise"
   ]
  },
  {
   "cell_type": "code",
   "execution_count": 19,
   "metadata": {},
   "outputs": [
    {
     "data": {
      "text/plain": [
       "defined \u001b[32mfunction\u001b[39m \u001b[36mlength\u001b[39m"
      ]
     },
     "execution_count": 19,
     "metadata": {},
     "output_type": "execute_result"
    }
   ],
   "source": [
    "def length[A](as: List[A]): Int = \n",
    "    foldRight(as, 0)((_, acc) => 1 + acc)"
   ]
  },
  {
   "cell_type": "code",
   "execution_count": 21,
   "metadata": {},
   "outputs": [
    {
     "data": {
      "text/plain": [
       "defined \u001b[32mfunction\u001b[39m \u001b[36mreverse\u001b[39m"
      ]
     },
     "execution_count": 21,
     "metadata": {},
     "output_type": "execute_result"
    }
   ],
   "source": [
    "// 요거는 안뒤집힘 그대로임 foldRight로 넘겨준 f가 맨끝원소부터 적용되기 때문에 그대로 쌓임\n",
    "def reverse[A](as: List[A]): List[A] =\n",
    "    foldRight(as, Nil: List[A])((a, acc) => Cons(a, acc))\n",
    "// or foldRight(as, List[A]())((a, acc) => Cons(a, acc))\n",
    "// or foldRight(as, List.empty[A])((a, acc) => Cons(a, acc))"
   ]
  },
  {
   "cell_type": "code",
   "execution_count": 22,
   "metadata": {},
   "outputs": [
    {
     "data": {
      "text/plain": [
       "defined \u001b[32mfunction\u001b[39m \u001b[36mreverse\u001b[39m"
      ]
     },
     "execution_count": 22,
     "metadata": {},
     "output_type": "execute_result"
    }
   ],
   "source": [
    "def reverse[A](as: List[A]): List[A] =\n",
    "    foldLeft(as, Nil: List[A])((acc, a) => Cons(a, acc))\n",
    "// or foldLeft(as, List[A]())((acc, a) => Cons(a, acc))\n",
    "// or foldLeft(as, List.empty[A])((acc, a) => Cons(a, acc))"
   ]
  },
  {
   "cell_type": "code",
   "execution_count": null,
   "metadata": {
    "collapsed": true
   },
   "outputs": [],
   "source": []
  }
 ],
 "metadata": {
  "kernelspec": {
   "display_name": "Scala",
   "language": "scala",
   "name": "scala"
  },
  "language_info": {
   "codemirror_mode": "text/x-scala",
   "file_extension": ".scala",
   "mimetype": "text/x-scala",
   "name": "scala211",
   "nbconvert_exporter": "script",
   "pygments_lexer": "scala",
   "version": "2.11.8"
  }
 },
 "nbformat": 4,
 "nbformat_minor": 2
}
