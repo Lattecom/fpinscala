{
 "cells": [
  {
   "cell_type": "markdown",
   "metadata": {},
   "source": [
    "# Functional Data Structures\n",
    "\n",
    "A **Functional data structure** is operated on using only **pure functions**.\n",
    "Therefore, functional data structures are by definition **immutable**.\n",
    "\n",
    "Example:\n",
    "\n",
    "The empty list (List() or Nil) is as eternal and immutable as the integer values 3 or 4.\n"
   ]
  },
  {
   "cell_type": "markdown",
   "metadata": {},
   "source": [
    "## singly linked list"
   ]
  },
  {
   "cell_type": "code",
   "execution_count": 1,
   "metadata": {},
   "outputs": [
    {
     "data": {
      "text/plain": [
       "defined \u001b[32mtrait\u001b[39m \u001b[36mList\u001b[39m\n",
       "defined \u001b[32mobject\u001b[39m \u001b[36mNil\u001b[39m\n",
       "defined \u001b[32mclass\u001b[39m \u001b[36mCons\u001b[39m\n",
       "defined \u001b[32mobject\u001b[39m \u001b[36mList\u001b[39m"
      ]
     },
     "execution_count": 1,
     "metadata": {},
     "output_type": "execute_result"
    }
   ],
   "source": [
    "\n",
    "sealed trait List[+A] //형식 A에 대해 매개변수화된 List자료형식\n",
    "case object Nil extends List[Nothing]\n",
    "case class Cons[+A](head: A, tail: List[A]) extends List[A]\n",
    "\n",
    "object List {\n",
    "    def sum(ints: List[Int]): Int = ints match {\n",
    "        case Nil => 0\n",
    "        case Cons(x,xs) => x + sum(xs)\n",
    "    }\n",
    "    \n",
    "    def product(ds: List[Double]): Double = ds match {\n",
    "        case Nil => 1.0\n",
    "        case Cons(0.0, _) => 0.0\n",
    "        case Cons(x,xs) => x * product(xs)\n",
    "    }\n",
    "    \n",
    "    def apply[A](as: A*): List[A] = {\n",
    "        if(as.isEmpty) Nil\n",
    "        else Cons(as.head, apply(as.tail: _*))\n",
    "    }\n",
    "//     def empty[A](): List[A] =\n",
    "//         Nil\n",
    "    \n",
    "//     def isEmpty[A](l: List[A]): Boolean = l match {\n",
    "//         case Nil => true\n",
    "//         case _ => false\n",
    "//     }\n",
    "}"
   ]
  },
  {
   "cell_type": "code",
   "execution_count": 2,
   "metadata": {},
   "outputs": [
    {
     "data": {
      "text/plain": [
       "defined \u001b[32mtrait\u001b[39m \u001b[36mList\u001b[39m\n",
       "defined \u001b[32mobject\u001b[39m \u001b[36mNil\u001b[39m\n",
       "defined \u001b[32mclass\u001b[39m \u001b[36mCons\u001b[39m\n",
       "defined \u001b[32mobject\u001b[39m \u001b[36mList\u001b[39m"
      ]
     },
     "execution_count": 2,
     "metadata": {},
     "output_type": "execute_result"
    }
   ],
   "source": [
    "sealed trait List[+A] //sealed trait 인터페이스처럼 타입정의?\n",
    "                      //sealed 하나의 파일안에 모든 차일드(상속받아 생성되는)가 정의되고 더 상속받을 수 없음\n",
    "\n",
    "final case object Nil extends List[Nothing]\n",
    "final case class Cons[+A](head: A, tail: List[A]) extends List[A]\n",
    "\n",
    "object List {   //companion object \n",
    "    def apply[A](as: A*): List[A] = {\n",
    "        if(as.isEmpty) Nil\n",
    "        else Cons(as.head, apply(as.tail: _*))\n",
    "    }\n",
    "}"
   ]
  },
  {
   "cell_type": "code",
   "execution_count": 3,
   "metadata": {},
   "outputs": [
    {
     "data": {
      "text/plain": [
       "\u001b[36mex1\u001b[39m: \u001b[32mList\u001b[39m[\u001b[32mDouble\u001b[39m] = Nil\n",
       "\u001b[36mex2\u001b[39m: \u001b[32mList\u001b[39m[\u001b[32mInt\u001b[39m] = Cons(1,Nil)\n",
       "\u001b[36mex3\u001b[39m: \u001b[32mList\u001b[39m[\u001b[32mString\u001b[39m] = Cons(a,Cons(b,Nil))"
      ]
     },
     "execution_count": 3,
     "metadata": {},
     "output_type": "execute_result"
    }
   ],
   "source": [
    "val ex1: List[Double] = Nil\n",
    "val ex2: List[Int] = Cons(1, Nil)\n",
    "val ex3: List[String] = Cons(\"a\", Cons(\"b\", Nil))"
   ]
  },
  {
   "cell_type": "markdown",
   "metadata": {},
   "source": [
    "### Variance Annotation\n",
    "\n",
    "In trait List[+A],\n",
    "              ^\n",
    "              variance  annotation indicating that A is a covariant.\n",
    "              \n",
    "Covariant: For all types X and Y,\n",
    " - if X <: Y, hen List[X] <: List[Y].\n",
    " \n",
    "If not annotated, parameter is *invariant*, meaning there is no subtyping relationship List[X] and List[Y].\n",
    "\n",
    "Nil extends List[Nothing]. Since Nothing is a subtype of all types, in conjunction with the variance annotation,\n",
    " - Nil can be considered a sub type of any List[XXX]"
   ]
  },
  {
   "cell_type": "markdown",
   "metadata": {},
   "source": [
    "### Companion Object\n",
    "We'll often declare a companion object in addition to our data type and its data constructors.\n",
    "\n",
    "The companion object is the one with *the same name* as the data type(in this case List) where we put various convenience functions for creating or working with values of the data type.\n",
    "\n",
    "```scala\n",
    "object List {\n",
    "    def sum(xs: List[Int]): Int = ???\n",
    "    def product(xs: List[Double]): Double = ???\n",
    "    def apply[A](as: A*): List[A] = ???\n",
    "    ...\n",
    "}\n",
    "```"
   ]
  },
  {
   "cell_type": "markdown",
   "metadata": {},
   "source": [
    "### Pattern Matching\n",
    "\n",
    "```scala\n",
    "def sum(xs: List[Int]): Int = xs match {\n",
    "    case Nil => 0\n",
    "    case Cons(x, xsl) => x + sum(xsl)\n",
    "}\n",
    "```\n",
    "\n",
    "Pattern mathcing descends into the structure of the expression it examinges and extract subexpressions of that structure.\n",
    "```scala\n",
    "target match { pattern => result; ...}\n",
    "```\n",
    "If the target matches the pattern in a case, the result of that case becomes the result of the entire match expression.\n",
    "\n",
    "If multiple patterns match the target, Scala chooses the first matching case."
   ]
  },
  {
   "cell_type": "code",
   "execution_count": 5,
   "metadata": {},
   "outputs": [
    {
     "data": {
      "text/plain": [
       "\u001b[36mres4_0\u001b[39m: \u001b[32mInt\u001b[39m = \u001b[32m1\u001b[39m\n",
       "\u001b[36mres4_1\u001b[39m: \u001b[32mInt\u001b[39m = \u001b[32m42\u001b[39m\n",
       "\u001b[36mres4_2\u001b[39m: \u001b[32mList\u001b[39m[\u001b[32mInt\u001b[39m] = Cons(2,Cons(3,Nil))"
      ]
     },
     "execution_count": 5,
     "metadata": {},
     "output_type": "execute_result"
    }
   ],
   "source": [
    "// Pattern Matching Example\n",
    "List(1,2,3) match { case Cons(h, _) => h}\n",
    "\n",
    "// Variable pattern, _, matches any expression.\n",
    "List(1,2,3) match { case _ => 42}\n",
    "\n",
    "// Data constructor pattern in conjunction with variables to capture \n",
    "// or bind a subexpression of the target\n",
    "List(1,2,3) match { case Cons(_, t) => t}\n",
    "\n",
    "// List(1,2,3) match { case Nil => 42} \n",
    "// scala.MatchError"
   ]
  },
  {
   "cell_type": "markdown",
   "metadata": {
    "collapsed": true
   },
   "source": [
    "// Exercise\n",
    "what will be "
   ]
  },
  {
   "cell_type": "markdown",
   "metadata": {},
   "source": [
    "### Variadic functions\n",
    "\n",
    "The function apply in the comanion object List is a variadic function, meaning it accepts zero or more arguments of type A:\n",
    "\n",
    "---\n",
    "```scala\n",
    "def apply[A](as: A*): List[A] = \n",
    "    if (as.isEmpty) Nil\n",
    "    else Cons(as.head, apply(as.tail: _*)) // _ 뒤에 *는 시퀀스 타입인 _을 분해해주는 것을 뜻함 \n",
    "```\n",
    "---\n",
    "\n",
    "Variadic functions provides alittle *syntatic sugar* for creating and passing a `Seq` of elemnts explicitly."
   ]
  },
  {
   "cell_type": "markdown",
   "metadata": {},
   "source": [
    "## Data Sharing and Persistent Data Structures\n",
    "\n",
    "```scala\n",
    "def tail[A](as: List[A]): List[A] = as match {\n",
    "    case Cons(h, t) => t\n",
    "    case Nil => throw new UnsupportedOperationException;\n",
    "}\n",
    "```\n",
    "\n",
    "### Efficiency of Data Sharing\n",
    "\n",
    "**Vector** in Scla standard library is a purely functional sequence implementation\n",
    "벡터는 각종 오퍼레이션의 시간복잡도가 상수임\n",
    "\n",
    "\n",
    "append adds all the elements of one list to the end of another:\n",
    "```scala\n",
    "def append[A](a1: List[A], a2: List[A]): List[A] = a1 match {\n",
    "    case Nil => a2\n",
    "    case Cons(h, t) => Cons(h, append(t, a2))\n",
    "}\n",
    "```"
   ]
  },
  {
   "cell_type": "code",
   "execution_count": 6,
   "metadata": {},
   "outputs": [
    {
     "data": {
      "text/plain": [
       "defined \u001b[32mfunction\u001b[39m \u001b[36mappend\u001b[39m"
      ]
     },
     "execution_count": 6,
     "metadata": {},
     "output_type": "execute_result"
    }
   ],
   "source": [
    "def append[A](a1: List[A], a2: List[A]): List[A] = a1 match {\n",
    "    case Nil => a2\n",
    "    case Cons(h, t) => Cons(h, append(t, a2))\n",
    "}"
   ]
  },
  {
   "cell_type": "code",
   "execution_count": 7,
   "metadata": {},
   "outputs": [
    {
     "data": {
      "text/plain": [
       "\u001b[36mres6\u001b[39m: \u001b[32mList\u001b[39m[\u001b[32mInt\u001b[39m] = Cons(1,Cons(2,Cons(3,Cons(4,Cons(5,Nil)))))"
      ]
     },
     "execution_count": 7,
     "metadata": {},
     "output_type": "execute_result"
    }
   ],
   "source": [
    "append(List(1,2,3), List(4,5))"
   ]
  },
  {
   "cell_type": "markdown",
   "metadata": {},
   "source": [
    "Exercise\n",
    "\n",
    "Implement a function, *init*, htat returns a List consisting of all but the last element of a List.\n",
    "```scala\n",
    "init(list(1,2,3,4)) == List(1,2,3)\n",
    "```"
   ]
  },
  {
   "cell_type": "code",
   "execution_count": 8,
   "metadata": {},
   "outputs": [
    {
     "data": {
      "text/plain": [
       "defined \u001b[32mfunction\u001b[39m \u001b[36minit\u001b[39m"
      ]
     },
     "execution_count": 8,
     "metadata": {},
     "output_type": "execute_result"
    }
   ],
   "source": [
    "def init[A](as: List[A]): List[A] = as match {\n",
    "    case Cons(_, Nil) => Nil\n",
    "    case Cons(h, t) => Cons(h, init(t))\n",
    "    case Nil => throw new UnsupportedOperationException;\n",
    "}"
   ]
  },
  {
   "cell_type": "code",
   "execution_count": 9,
   "metadata": {},
   "outputs": [
    {
     "data": {
      "text/plain": [
       "defined \u001b[32mfunction\u001b[39m \u001b[36mdropWhile_\u001b[39m"
      ]
     },
     "execution_count": 9,
     "metadata": {},
     "output_type": "execute_result"
    }
   ],
   "source": [
    "def dropWhile_[A](l: List[A], f: A => Boolean): List[A] = l match {\n",
    "    case Cons(h, t) if (f(h)) => dropWhile_(t, f)\n",
    "    case e @ Cons(h, t) => e\n",
    "    case _ => Nil\n",
    "}"
   ]
  },
  {
   "cell_type": "markdown",
   "metadata": {},
   "source": [
    "Improving Type inference for HOFs\n",
    "\n",
    "Use curried form to maximize type inference."
   ]
  },
  {
   "cell_type": "code",
   "execution_count": 10,
   "metadata": {},
   "outputs": [
    {
     "data": {
      "text/plain": [
       "defined \u001b[32mfunction\u001b[39m \u001b[36mdropWhile\u001b[39m"
      ]
     },
     "execution_count": 10,
     "metadata": {},
     "output_type": "execute_result"
    }
   ],
   "source": [
    "def dropWhile[A](l: List[A])(f: A => Boolean): List[A] = l match {\n",
    "    case Cons(h, t) if (f(h)) => dropWhile(t)(f)\n",
    "    case e @ Cons(h, t) => e\n",
    "    case _ => Nil\n",
    "}"
   ]
  },
  {
   "cell_type": "markdown",
   "metadata": {},
   "source": [
    "Don't Repeat Yourself (DRY)\n",
    "\n",
    "``` scala\n",
    "def sum(ints: List[Int]): Int = ints match {\n",
    "    case Nil => 0\n",
    "    case Cons(x,xs) => x + sum(xs)\n",
    "}\n",
    "    \n",
    "def product(ds: List[Double]): Double = ds match {\n",
    "    case Nil => 1.0\n",
    "    case Cons(x,xs) => x * product(xs)\n",
    "}\n",
    "```"
   ]
  },
  {
   "cell_type": "markdown",
   "metadata": {},
   "source": [
    "### foldRight\n",
    "stack overflow의 위험성이 있음"
   ]
  },
  {
   "cell_type": "code",
   "execution_count": 11,
   "metadata": {},
   "outputs": [
    {
     "data": {
      "text/plain": [
       "defined \u001b[32mfunction\u001b[39m \u001b[36mfoldRight\u001b[39m"
      ]
     },
     "execution_count": 11,
     "metadata": {},
     "output_type": "execute_result"
    }
   ],
   "source": [
    "def foldRight[A,B](as: List[A], z: B)(f: (A, B) => B): B = as match {\n",
    "    case Nil => z\n",
    "    case Cons(h,t) => f(h, foldRight(t,z)(f))\n",
    "}"
   ]
  },
  {
   "cell_type": "code",
   "execution_count": 12,
   "metadata": {
    "scrolled": true
   },
   "outputs": [
    {
     "data": {
      "text/plain": [
       "defined \u001b[32mfunction\u001b[39m \u001b[36msum\u001b[39m\n",
       "defined \u001b[32mfunction\u001b[39m \u001b[36mproduct\u001b[39m"
      ]
     },
     "execution_count": 12,
     "metadata": {},
     "output_type": "execute_result"
    }
   ],
   "source": [
    "def sum(ns: List[Int]) = \n",
    "    foldRight(ns, 0)((x,y) => x+y)\n",
    "def product(ns: List[Double]) = \n",
    "    foldRight(ns, 1.0)(_ * _)"
   ]
  },
  {
   "cell_type": "markdown",
   "metadata": {},
   "source": [
    "### foldLeft"
   ]
  },
  {
   "cell_type": "code",
   "execution_count": 13,
   "metadata": {},
   "outputs": [
    {
     "data": {
      "text/plain": [
       "defined \u001b[32mfunction\u001b[39m \u001b[36mfoldLeft\u001b[39m"
      ]
     },
     "execution_count": 13,
     "metadata": {},
     "output_type": "execute_result"
    }
   ],
   "source": [
    "def foldLeft[A,B](as: List[A], z: B)(f: (B, A) => B): B = as match {\n",
    "    case Cons(h,t) => foldLeft(t, f(z, h))(f)\n",
    "    case Nil => z\n",
    "}"
   ]
  },
  {
   "cell_type": "markdown",
   "metadata": {},
   "source": [
    "### Exercise"
   ]
  },
  {
   "cell_type": "code",
   "execution_count": 14,
   "metadata": {},
   "outputs": [
    {
     "data": {
      "text/plain": [
       "defined \u001b[32mfunction\u001b[39m \u001b[36mlength\u001b[39m"
      ]
     },
     "execution_count": 14,
     "metadata": {},
     "output_type": "execute_result"
    }
   ],
   "source": [
    "def length[A](as: List[A]): Int = \n",
    "    foldRight(as, 0)((_, acc) => 1 + acc)"
   ]
  },
  {
   "cell_type": "code",
   "execution_count": 15,
   "metadata": {},
   "outputs": [
    {
     "data": {
      "text/plain": [
       "defined \u001b[32mfunction\u001b[39m \u001b[36mreverse\u001b[39m"
      ]
     },
     "execution_count": 15,
     "metadata": {},
     "output_type": "execute_result"
    }
   ],
   "source": [
    "// 요거는 안뒤집힘 그대로임 foldRight로 넘겨준 f가 맨끝원소부터 적용되기 때문에 그대로 쌓임\n",
    "def reverse[A](as: List[A]): List[A] =\n",
    "    foldRight(as, Nil: List[A])((a, acc) => Cons(a, acc))\n",
    "// or foldRight(as, List[A]())((a, acc) => Cons(a, acc))\n",
    "// or foldRight(as, List.empty[A])((a, acc) => Cons(a, acc))"
   ]
  },
  {
   "cell_type": "code",
   "execution_count": 16,
   "metadata": {},
   "outputs": [
    {
     "data": {
      "text/plain": [
       "defined \u001b[32mfunction\u001b[39m \u001b[36mreverse\u001b[39m"
      ]
     },
     "execution_count": 16,
     "metadata": {},
     "output_type": "execute_result"
    }
   ],
   "source": [
    "def reverse[A](as: List[A]): List[A] =\n",
    "    foldLeft(as, Nil: List[A])((acc, a) => Cons(a, acc))\n",
    "// or foldLeft(as, List[A]())((acc, a) => Cons(a, acc))\n",
    "// or foldLeft(as, List.empty[A])((acc, a) => Cons(a, acc))"
   ]
  },
  {
   "cell_type": "markdown",
   "metadata": {
    "collapsed": true
   },
   "source": [
    "# 04-19"
   ]
  },
  {
   "cell_type": "code",
   "execution_count": 17,
   "metadata": {},
   "outputs": [
    {
     "data": {
      "text/plain": [
       "defined \u001b[32mfunction\u001b[39m \u001b[36mflatten\u001b[39m\n",
       "defined \u001b[32mfunction\u001b[39m \u001b[36mjoin\u001b[39m\n",
       "defined \u001b[32mfunction\u001b[39m \u001b[36mjoin_\u001b[39m"
      ]
     },
     "execution_count": 17,
     "metadata": {},
     "output_type": "execute_result"
    }
   ],
   "source": [
    "\n",
    "def flatten[A](ffa: List[List[A]]): List[A] = ffa match{\n",
    "    case Cons(h,t)=> append(h, flatten(t))\n",
    "    case Nil => Nil\n",
    "}\n",
    "\n",
    "def join[A](ffa: List[List[A]]): List[A] = {\n",
    "    foldRight(ffa, List.empty[A])((a, acc) => append(a, acc))\n",
    "}\n",
    "\n",
    "def join_[A](ffa: List[List[A]]): List[A] = \n",
    "    foldRight(ffa, List.empty[A])((a, acc) => append(a, acc))"
   ]
  },
  {
   "cell_type": "markdown",
   "metadata": {},
   "source": [
    "## more exercise"
   ]
  },
  {
   "cell_type": "code",
   "execution_count": 18,
   "metadata": {},
   "outputs": [
    {
     "data": {
      "text/plain": [
       "defined \u001b[32mfunction\u001b[39m \u001b[36mincOne\u001b[39m"
      ]
     },
     "execution_count": 18,
     "metadata": {},
     "output_type": "execute_result"
    }
   ],
   "source": [
    "def incOne(as: List[Int]): List[Int] = as match {\n",
    "    case Cons(h, t) => Cons(h+1, incOne(t))\n",
    "    case Nil => Nil\n",
    "}"
   ]
  },
  {
   "cell_type": "code",
   "execution_count": 19,
   "metadata": {},
   "outputs": [
    {
     "data": {
      "text/plain": [
       "\u001b[36mres18\u001b[39m: \u001b[32mList\u001b[39m[\u001b[32mInt\u001b[39m] = Cons(2,Cons(3,Cons(4,Cons(5,Nil))))"
      ]
     },
     "execution_count": 19,
     "metadata": {},
     "output_type": "execute_result"
    }
   ],
   "source": [
    "incOne(List(1,2,3,4))"
   ]
  },
  {
   "cell_type": "code",
   "execution_count": 20,
   "metadata": {},
   "outputs": [
    {
     "data": {
      "text/plain": [
       "defined \u001b[32mfunction\u001b[39m \u001b[36mdoubleToString\u001b[39m"
      ]
     },
     "execution_count": 20,
     "metadata": {},
     "output_type": "execute_result"
    }
   ],
   "source": [
    "def doubleToString(as: List[Double]): List[String] = as match {\n",
    "    case Cons(h, t) => Cons(h.toString, doubleToString(t))\n",
    "    case Nil => Nil\n",
    "}"
   ]
  },
  {
   "cell_type": "markdown",
   "metadata": {},
   "source": [
    "## map"
   ]
  },
  {
   "cell_type": "code",
   "execution_count": 21,
   "metadata": {},
   "outputs": [
    {
     "data": {
      "text/plain": [
       "defined \u001b[32mfunction\u001b[39m \u001b[36mmap\u001b[39m"
      ]
     },
     "execution_count": 21,
     "metadata": {},
     "output_type": "execute_result"
    }
   ],
   "source": [
    "def map[A, B](fa: List[A])(f: A => B): List[B] = fa match {\n",
    "    case Cons(h, t) => Cons(f(h), map(t)(f))\n",
    "    case Nil => Nil\n",
    "}"
   ]
  },
  {
   "cell_type": "code",
   "execution_count": 22,
   "metadata": {},
   "outputs": [
    {
     "data": {
      "text/plain": [
       "\u001b[36mres21\u001b[39m: \u001b[32mList\u001b[39m[\u001b[32mInt\u001b[39m] = Cons(2,Cons(3,Cons(4,Cons(5,Cons(6,Nil)))))"
      ]
     },
     "execution_count": 22,
     "metadata": {},
     "output_type": "execute_result"
    }
   ],
   "source": [
    "map(List(1,2,3,4,5))(_ + 1)"
   ]
  },
  {
   "cell_type": "code",
   "execution_count": 23,
   "metadata": {},
   "outputs": [
    {
     "data": {
      "text/plain": [
       "\u001b[36mres22\u001b[39m: \u001b[32mList\u001b[39m[\u001b[32mString\u001b[39m] = Cons(1,Cons(2,Cons(3,Cons(4,Cons(5,Nil)))))"
      ]
     },
     "execution_count": 23,
     "metadata": {},
     "output_type": "execute_result"
    }
   ],
   "source": [
    "map(List(1,2,3,4,5))(_.toString)"
   ]
  },
  {
   "cell_type": "markdown",
   "metadata": {},
   "source": [
    "### map fold version"
   ]
  },
  {
   "cell_type": "code",
   "execution_count": 24,
   "metadata": {},
   "outputs": [
    {
     "data": {
      "text/plain": [
       "defined \u001b[32mfunction\u001b[39m \u001b[36mmap\u001b[39m"
      ]
     },
     "execution_count": 24,
     "metadata": {},
     "output_type": "execute_result"
    }
   ],
   "source": [
    "def map[A,B](as: List[A])(f: A => B): List[B] = \n",
    "    foldRight(as, List.empty[B])((a, acc) => Cons(f(a), acc))"
   ]
  },
  {
   "cell_type": "markdown",
   "metadata": {},
   "source": [
    "## flat map\n",
    "```scala\n",
    "def flatMap[A,B](as: List[A])(f: A => List[B]): List[B]\n",
    "```"
   ]
  },
  {
   "cell_type": "code",
   "execution_count": 25,
   "metadata": {},
   "outputs": [
    {
     "data": {
      "text/plain": [
       "defined \u001b[32mfunction\u001b[39m \u001b[36mflatMap\u001b[39m"
      ]
     },
     "execution_count": 25,
     "metadata": {},
     "output_type": "execute_result"
    }
   ],
   "source": [
    "def flatMap[A,B](as: List[A])(f: A => List[B]): List[B] = as match {\n",
    "    case Cons(h, t) => append(f(h), flatMap(t)(f))\n",
    "    case Nil => Nil\n",
    "}\n",
    "// def flatten[A]: List[A] = List.flatten(as)\n",
    "// def flatMap[A,B](as: List[A])(f: A => List[B]): List[B] = {\n",
    "//     flatten(map(as)(f))\n",
    "// }"
   ]
  },
  {
   "cell_type": "markdown",
   "metadata": {},
   "source": [
    "---\n",
    "map - join - pure\n",
    "flatmap - pure\n",
    "\n",
    "---"
   ]
  },
  {
   "cell_type": "markdown",
   "metadata": {},
   "source": [
    "## filter"
   ]
  },
  {
   "cell_type": "code",
   "execution_count": 31,
   "metadata": {},
   "outputs": [
    {
     "data": {
      "text/plain": [
       "defined \u001b[32mfunction\u001b[39m \u001b[36mpure\u001b[39m\n",
       "defined \u001b[32mfunction\u001b[39m \u001b[36mfilter\u001b[39m"
      ]
     },
     "execution_count": 31,
     "metadata": {},
     "output_type": "execute_result"
    }
   ],
   "source": [
    "def pure[A](a: A): List[A] = List(a)\n",
    "def filter[A](as: List[A])(f: A => Boolean): List[A] = {\n",
    "    flatMap(as)(a => if(f(a)) pure(a) else Nil) // apply가 정의되어 있으면 Cons 대신 List(a)해도됨\n",
    "}"
   ]
  },
  {
   "cell_type": "code",
   "execution_count": 32,
   "metadata": {},
   "outputs": [
    {
     "data": {
      "text/plain": [
       "\u001b[36mres31\u001b[39m: \u001b[32mList\u001b[39m[\u001b[32mInt\u001b[39m] = Cons(2,Cons(4,Nil))"
      ]
     },
     "execution_count": 32,
     "metadata": {},
     "output_type": "execute_result"
    }
   ],
   "source": [
    "filter(List(1,2,3,4,5))(_ % 2 ==0)"
   ]
  },
  {
   "cell_type": "markdown",
   "metadata": {},
   "source": [
    "## more exercises"
   ]
  },
  {
   "cell_type": "code",
   "execution_count": 33,
   "metadata": {},
   "outputs": [
    {
     "data": {
      "text/plain": [
       "defined \u001b[32mfunction\u001b[39m \u001b[36mzipWithInt\u001b[39m"
      ]
     },
     "execution_count": 33,
     "metadata": {},
     "output_type": "execute_result"
    }
   ],
   "source": [
    "def zipWithInt(as: List[Int], bs: List[Int]): List[Int] = (as, bs) match {\n",
    "    case (Cons(h1, t1), Cons(h2, t2)) => Cons(h1+h2, zipWithInt(t1, t2))\n",
    "    case _ => Nil\n",
    "}"
   ]
  },
  {
   "cell_type": "markdown",
   "metadata": {},
   "source": [
    "## 숙제\n",
    "- zipWith 구하기\n",
    "- tails 구하기\n",
    "- subset 구하기\n",
    "- permutation 구하기"
   ]
  },
  {
   "cell_type": "code",
   "execution_count": 35,
   "metadata": {},
   "outputs": [
    {
     "data": {
      "text/plain": [
       "defined \u001b[32mfunction\u001b[39m \u001b[36mzipWith\u001b[39m"
      ]
     },
     "execution_count": 35,
     "metadata": {},
     "output_type": "execute_result"
    }
   ],
   "source": [
    "def zipWith[A, B, C](as: List[A], bs: List[B])(f: (A, B) => C): List[C] = (as, bs) match {\n",
    "    case (Cons(h1, t1), Cons(h2, t2)) => Cons(f(h1,h2), zipWith(t1, t2)(f))\n",
    "    case _ => Nil\n",
    "}"
   ]
  },
  {
   "cell_type": "code",
   "execution_count": 36,
   "metadata": {},
   "outputs": [
    {
     "data": {
      "text/plain": [
       "defined \u001b[32mfunction\u001b[39m \u001b[36mtails\u001b[39m"
      ]
     },
     "execution_count": 36,
     "metadata": {},
     "output_type": "execute_result"
    }
   ],
   "source": [
    "// {1,2,3} -> {{1,2,3}, {2,3}, {3}}\n",
    "def tails[A](as: List[A]): List[List[A]] = ???"
   ]
  },
  {
   "cell_type": "markdown",
   "metadata": {},
   "source": [
    "# Algebraic Data Types (ADTs)\n",
    "**List** is just one example of what's called an **algebraic data type(ADT)**.\n",
    "\n",
    "**Sum type (OR type)**:\n",
    "- a data type defined by the sum or union of its data constructors\n",
    "- enum, Option, Either, List, Tree, etc.\n",
    "\n",
    "**Product type (AND type)**:\n",
    "- a data type defined by the product of other types\n",
    "- tuple, a (case) class with arguments"
   ]
  },
  {
   "cell_type": "markdown",
   "metadata": {},
   "source": [
    "## The Algebra of Data Types\n",
    "- 0 - void\n",
    "- 1 - unit (())\n",
    "- 2 - boolean\n",
    "\n",
    "|algebra|ADT|\n",
    "|--------------:|:---------------|\n",
    "|(a * b) * c = a * (b * c) | ((a, b), c) = (a, (b, c))|\n",
    "|a * 1 = a (right unit) | (a, ()) = a|\n",
    "|a + 0 = a | Either(a, void)|\n",
    "|a * (b + c) = a * b + a * c | (a, Either[b, c]) = Either[(a, b), (a, c)]|\n",
    "|a^(b^c) = a^(bc) | c => b => a = (b, c) => a|\n",
    "\n",
    "```\n",
    "l(a) = 1 + a * l(a)\n",
    "l(a) - a * l(a) = 1\n",
    "l(a)(1 - a) = 1\n",
    "l(a) = 1 / (1 - a) // geometric sequence\n",
    "\n",
    "data List a = Nil | Cons a (List a)\n",
    "```"
   ]
  },
  {
   "cell_type": "markdown",
   "metadata": {},
   "source": [
    "## 더 숙제 \n",
    "binary search tree 구현\n",
    "leaf엔 값이 없고 branch에만 값이 있음, leaf의 left, right, value는 모두 empty(not exception)\n",
    "- insert\n",
    "- delete\n",
    "- find"
   ]
  },
  {
   "cell_type": "code",
   "execution_count": null,
   "metadata": {
    "collapsed": true
   },
   "outputs": [],
   "source": []
  }
 ],
 "metadata": {
  "kernelspec": {
   "display_name": "Scala",
   "language": "scala",
   "name": "scala"
  },
  "language_info": {
   "codemirror_mode": "text/x-scala",
   "file_extension": ".scala",
   "mimetype": "text/x-scala",
   "name": "scala211",
   "nbconvert_exporter": "script",
   "pygments_lexer": "scala",
   "version": "2.11.8"
  }
 },
 "nbformat": 4,
 "nbformat_minor": 2
}
