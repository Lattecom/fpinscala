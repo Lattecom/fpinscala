{
 "cells": [
  {
   "cell_type": "markdown",
   "metadata": {},
   "source": [
    "# Strictness and Laziness\n",
    "**Non-strictness** is a fundamental technique for improving on\n",
    "- efficiency\n",
    "- modularrity\n",
    "\n",
    "of functional programs in general."
   ]
  },
  {
   "cell_type": "markdown",
   "metadata": {},
   "source": [
    "## Motivating Example\n",
    "```scala\n",
    "List(1,2,3,4).map(_ + 10).filter(_ % 2 == 0).map(_ * 3)\n",
    "```"
   ]
  },
  {
   "cell_type": "markdown",
   "metadata": {},
   "source": [
    "## Clear Intent does not mean... Familiar!\n",
    "Find the square of the second even number which is greater than 7.\n",
    "\n",
    "```scala\n",
    "// inparative style\n",
    "Integer find(List<Integer> ints) {\n",
    "  int count = 0; int ans = 0;\n",
    "  for(Integer num : ints) {\n",
    "    if(num % 2 == 0) {\n",
    "      if(num > 7) {\n",
    "        count++;\n",
    "        if(count == 2) {\n",
    "          ans = num * num; break;\n",
    "        }\n",
    "      }\n",
    "    }\n",
    "  }\n",
    "  return ans;\n",
    "}\n",
    "```\n",
    "\n",
    "```scala\n",
    "// functional style\n",
    "Optional<Integer> find(List<Integer> ints) {\n",
    "  return(\n",
    "    ints.stream()\n",
    "        .filter(n -> n % 2 == 0)\n",
    "        .filter(n -> n > 7)\n",
    "        .skip(1)\n",
    "        .map(n -> n * n)\n",
    "        .findFirst()\n",
    "  );\n",
    "}\n",
    "```"
   ]
  },
  {
   "cell_type": "markdown",
   "metadata": {},
   "source": [
    "# stream"
   ]
  },
  {
   "cell_type": "code",
   "execution_count": 1,
   "metadata": {},
   "outputs": [
    {
     "data": {
      "text/plain": [
       "defined \u001b[32mtrait\u001b[39m \u001b[36mStream\u001b[39m\n",
       "defined \u001b[32mobject\u001b[39m \u001b[36mEmpty\u001b[39m\n",
       "defined \u001b[32mclass\u001b[39m \u001b[36mCons\u001b[39m\n",
       "defined \u001b[32mobject\u001b[39m \u001b[36mStream\u001b[39m"
      ]
     },
     "execution_count": 1,
     "metadata": {},
     "output_type": "execute_result"
    }
   ],
   "source": [
    "sealed trait Stream[+A] {\n",
    "  def foldRight[B](z: => B)(f: (A, => B) => B): B = this match {\n",
    "    case Cons(h, t) => f(h(), t().foldRight(z)(f))\n",
    "    case _ => z\n",
    "  }\n",
    "  \n",
    "  def exists_(p: A => Boolean): Boolean = \n",
    "    foldRight(false)((a, acc) => p(a) || acc)\n",
    "  \n",
    "  def forAll(p: A => Boolean): Boolean = \n",
    "    foldRight(true)((a, acc) => p(a) && acc)\n",
    "  \n",
    "  def headOption_foldRight: Option[A] =\n",
    "    foldRight(None: Option[A])((a, acc) => Some(a))\n",
    "  \n",
    "  def headOption: Option[A] = this match {\n",
    "    case Empty => None\n",
    "    case Cons(h, t) => Option(h())\n",
    "  }\n",
    "  \n",
    "//   def map[B](f: A => B): Stream[B] =\n",
    "//     foldRight(Empty)((a, acc) => cons(f(a), acc))\n",
    "\n",
    "//   def mapViaFlatMap[B](f: A => B): Stream[B] =\n",
    "//     flatMap( a=> Stream(f(a)))\n",
    "  // variant error version\n",
    "//   def append(b: => Stream[A]): Stream[A] =\n",
    "//     foldRight(b)((a, acc) => cons(a, acc))\n",
    "  \n",
    "//   def append[B >: A](b: => Stream[B]): Stream[B] =\n",
    "//     foldRight(b)(cons(_,_))\n",
    "  \n",
    "//   def flatMap[B](f: A => Stream[B]): Stream[B] =\n",
    "//     foldRight(empty[B])((a, acc) => f(a).append(acc))\n",
    "  \n",
    "//   def takeWhileWithFoldRIght(P: A => Boolean): Stream[A] =\n",
    "//     foldRight(empty[A])((a, acc) => if (p(a)) cons(a, acc) else empty[A])\n",
    "}\n",
    "\n",
    "case object Empty extends Stream[Nothing]\n",
    "case class Cons[+A](h: () => A, t: () => Stream[A]) extends Stream[A]\n",
    "\n",
    "object Stream {\n",
    "  def cons[A](hd: => A, tl: => Stream[A]): Stream[A] = {\n",
    "    lazy val head = hd  // We cache the head and tail as lazy values\n",
    "    lazy val tail = tl  // to avoid repeated evaluation\n",
    "    Cons(() => head, () => tail)\n",
    "  }\n",
    "  \n",
    "  def empty[A]: Stream[A] = Empty\n",
    "  \n",
    "  def apply[A](as: A*): Stream[A] =\n",
    "    if(as.isEmpty) empty else cons(as.head, apply(as.tail: _*))\n",
    "  \n",
    "// //   def take\n",
    "// //   def takeWhile\n",
    "// //   def drop\n",
    "//   def exists(p: A => Boolean): Boolean = this match {\n",
    "//     case Cons(h, t) => p(h()) || {println(\"process tail ...\"); t().exsits(p)}\n",
    "//     case _ => false\n",
    "//   }\n",
    "}"
   ]
  },
  {
   "cell_type": "markdown",
   "metadata": {},
   "source": [
    "## infinite stream"
   ]
  },
  {
   "cell_type": "code",
   "execution_count": 1,
   "metadata": {},
   "outputs": [
    {
     "name": "stderr",
     "output_type": "stream",
     "text": [
      "cmd1.sc:1: not found: value cons\n",
      "val ones: Stream[Int] = cons(1, ones)\n",
      "                        ^"
     ]
    },
    {
     "ename": "",
     "evalue": "",
     "output_type": "error",
     "traceback": [
      "Compilation Failed"
     ]
    }
   ],
   "source": [
    "val ones: Stream[Int] = cons(1, ones)"
   ]
  },
  {
   "cell_type": "code",
   "execution_count": 3,
   "metadata": {},
   "outputs": [
    {
     "name": "stderr",
     "output_type": "stream",
     "text": [
      "cmd3.sc:1: value take is not a member of cmd3Wrapper.this.cmd2.cmd0.wrapper.Stream[Int]\n",
      "val res3 = ones.take(5)\n",
      "                ^"
     ]
    },
    {
     "ename": "",
     "evalue": "",
     "output_type": "error",
     "traceback": [
      "Compilation Failed"
     ]
    }
   ],
   "source": [
    "ones.take(5)"
   ]
  },
  {
   "cell_type": "code",
   "execution_count": null,
   "metadata": {
    "collapsed": true
   },
   "outputs": [],
   "source": []
  }
 ],
 "metadata": {
  "kernelspec": {
   "display_name": "Scala",
   "language": "scala",
   "name": "scala"
  },
  "language_info": {
   "codemirror_mode": "text/x-scala",
   "file_extension": ".scala",
   "mimetype": "text/x-scala",
   "name": "scala211",
   "nbconvert_exporter": "script",
   "pygments_lexer": "scala",
   "version": "2.11.8"
  }
 },
 "nbformat": 4,
 "nbformat_minor": 2
}
