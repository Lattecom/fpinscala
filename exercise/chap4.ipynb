{
 "cells": [
  {
   "cell_type": "markdown",
   "metadata": {
    "collapsed": true
   },
   "source": [
    "# chap4 "
   ]
  },
  {
   "cell_type": "markdown",
   "metadata": {},
   "source": [
    "## 연습문제 4.1\n",
    "아래에 나온 Option에 대한 함수들을 모두 구현하라. 각 함수를 구현할 떄 그 함수가 어떤 일을 하고 어떤 상황에서 쓰일 것인지 생각해 볼 것. 이 함수들 각각의 용도를 잠시 후에 보게 될 것이다. 다음은 이 연습문제를 위한 몇 가지 힌트이다.\n",
    "- 패턴 부합을 사용해도 좋으나, map과 getOrElse를 제외한 모든 함수는 패턴 부합 없이도 구현할 수 있어야한다.\n",
    "- map과 flatMap의 형식 서명은 구현을 결정하기에 충분해야 한다.\n",
    "- getOrElse는 Option의 Some 안의 결과를 돌려준다. 단, Option이 None이면 주어진 기본 값을 돌려준다.\n",
    "- orElse는 첫 Option이 정의되어 있으면 그것을 돌려주고 그렇지 않으면 둘째 Option을 돌려준다.\n",
    "```scala\n",
    "def map[B](f: A => B): Option[B]\n",
    "def flatMap[B](f: A => Option[B]): Option[B]\n",
    "def getOrElse[B >: A](default: => B) : B\n",
    "def orElse[B >: A](ob: => Option[B]): Option[B]\n",
    "def filter(f: A => Boolean): Option[A]\n",
    "```"
   ]
  },
  {
   "cell_type": "code",
   "execution_count": 1,
   "metadata": {},
   "outputs": [
    {
     "data": {
      "text/plain": [
       "defined \u001b[32mtrait\u001b[39m \u001b[36mOption\u001b[39m\n",
       "defined \u001b[32mclass\u001b[39m \u001b[36mSome\u001b[39m\n",
       "defined \u001b[32mobject\u001b[39m \u001b[36mNone\u001b[39m\n",
       "defined \u001b[32mobject\u001b[39m \u001b[36mOption\u001b[39m"
      ]
     },
     "execution_count": 1,
     "metadata": {},
     "output_type": "execute_result"
    }
   ],
   "source": [
    "sealed trait Option[+A] {\n",
    "  def map[B](f: A => B): Option[B] = this match {\n",
    "    case Some(x) => Some(f(x))\n",
    "    case None => None\n",
    "  }\n",
    "  \n",
    "  def flatMap[B](f: A => Option[B]): Option[B] = \n",
    "    this.map(f).getOrElse(None)\n",
    "  \n",
    "  def flatMap_[B](f: A => Option[B]): Option[B] = this match {\n",
    "    case Some(x) => f(x)\n",
    "    case None => None\n",
    "  }\n",
    "    \n",
    "  def getOrElse[B >: A](default: => B): B = this match {\n",
    "    case Some(x) => x\n",
    "    case None => default\n",
    "  }\n",
    "  def orElse[B >: A](ob: => Option[B]): Option[B] = \n",
    "    map(Some(_)).getOrElse(ob)\n",
    "  \n",
    "  def filter(f: A => Boolean): Option[A] = this match {\n",
    "    case Some(x) => if(f(x)) Some(x) else None\n",
    "    case None => None\n",
    "  }\n",
    "  def filter_(f: A => Boolean): Option[A] = \n",
    "    flatMap(a => if (f(a)) this else None)\n",
    "}\n",
    "case class Some[+A](get: A) extends Option[A]\n",
    "case object None extends Option[Nothing]\n",
    "\n",
    "object Option {\n",
    "  def none[A]: Option[A] = None\n",
    "  def some[A](a: A): Option[A] = Some(a)\n",
    "  def apply[A](a: A): Option[A] = Some(a)\n",
    "}"
   ]
  },
  {
   "cell_type": "code",
   "execution_count": 2,
   "metadata": {},
   "outputs": [
    {
     "data": {
      "text/plain": [
       "defined \u001b[32mfunction\u001b[39m \u001b[36mmean\u001b[39m"
      ]
     },
     "execution_count": 2,
     "metadata": {},
     "output_type": "execute_result"
    }
   ],
   "source": [
    "def mean(xs: Seq[Double]): Option[Double] = \n",
    "  if (xs.isEmpty) None\n",
    "  else Some(xs.sum / xs.length)"
   ]
  },
  {
   "cell_type": "code",
   "execution_count": 3,
   "metadata": {},
   "outputs": [
    {
     "data": {
      "text/plain": [
       "\u001b[36mres2\u001b[39m: \u001b[32mOption\u001b[39m[\u001b[32mDouble\u001b[39m] = Some(3.0)"
      ]
     },
     "execution_count": 3,
     "metadata": {},
     "output_type": "execute_result"
    }
   ],
   "source": [
    "mean(Seq(1.0,2.0,3.0,4.0,5))"
   ]
  },
  {
   "cell_type": "markdown",
   "metadata": {
    "collapsed": true
   },
   "source": [
    "## 연습문제 4.2\n",
    "variance 함수를 flatMap을 이용해서 구현하라. 순차열의 평균이 m이라 할 때, 분산(variance)은 순차열의 각 요소 x에 대한 math.pow(x - m, 2) 들의 평균이다.\n",
    "```scala\n",
    "def variance(xs: Seq[Double]): Option[Double]\n",
    "```"
   ]
  },
  {
   "cell_type": "code",
   "execution_count": 4,
   "metadata": {},
   "outputs": [
    {
     "data": {
      "text/plain": [
       "defined \u001b[32mfunction\u001b[39m \u001b[36mvariance\u001b[39m"
      ]
     },
     "execution_count": 4,
     "metadata": {},
     "output_type": "execute_result"
    }
   ],
   "source": [
    "def variance(xs: Seq[Double]): Option[Double] = \n",
    "  mean(xs).flatMap(m => mean(xs.map(x => math.pow(x - m, 2))))"
   ]
  },
  {
   "cell_type": "code",
   "execution_count": 5,
   "metadata": {},
   "outputs": [
    {
     "data": {
      "text/plain": [
       "\u001b[36mres4\u001b[39m: \u001b[32mOption\u001b[39m[\u001b[32mDouble\u001b[39m] = Some(2.0)"
      ]
     },
     "execution_count": 5,
     "metadata": {},
     "output_type": "execute_result"
    }
   ],
   "source": [
    "variance(Seq(1,2,3,4,5.0))"
   ]
  },
  {
   "cell_type": "code",
   "execution_count": 6,
   "metadata": {},
   "outputs": [
    {
     "data": {
      "text/plain": [
       "defined \u001b[32mfunction\u001b[39m \u001b[36mlift\u001b[39m"
      ]
     },
     "execution_count": 6,
     "metadata": {},
     "output_type": "execute_result"
    }
   ],
   "source": [
    "def lift[A,B](f: A => B): Option[A] => Option[B] = _ map f"
   ]
  },
  {
   "cell_type": "code",
   "execution_count": 7,
   "metadata": {},
   "outputs": [
    {
     "data": {
      "text/plain": [
       "defined \u001b[32mfunction\u001b[39m \u001b[36mTry\u001b[39m"
      ]
     },
     "execution_count": 7,
     "metadata": {},
     "output_type": "execute_result"
    }
   ],
   "source": [
    "def Try[A](a: => A): Option[A] =\n",
    "  try Some(a)\n",
    "  catch { case e: Exception => None}"
   ]
  },
  {
   "cell_type": "markdown",
   "metadata": {},
   "source": [
    "## 연습문제 4.3\n",
    "두 Option 값을 이항 함수(binary function)를 이용해서 결합하는 일반적 함수 map2를 작성하라.\n",
    "두 Option 값 중 하나라도 None이면 map2의 결과 역시 None이어야 한다. 서명은 다음과 같다.\n",
    "```scala\n",
    "def map2[A,B,C](a: Option[A], b: Option[B])(f: (A, B) => C): Option[C]\n",
    "```"
   ]
  },
  {
   "cell_type": "code",
   "execution_count": 8,
   "metadata": {},
   "outputs": [
    {
     "data": {
      "text/plain": [
       "defined \u001b[32mfunction\u001b[39m \u001b[36mmap2\u001b[39m\n",
       "defined \u001b[32mfunction\u001b[39m \u001b[36mmap2_\u001b[39m"
      ]
     },
     "execution_count": 8,
     "metadata": {},
     "output_type": "execute_result"
    }
   ],
   "source": [
    "def map2[A,B,C](a: Option[A], b: Option[B])(f: (A, B) => C): Option[C] = (a, b) match {\n",
    "  case (Some(x), Some(y)) => Some(f(x,y))\n",
    "  case _ => None\n",
    "}\n",
    "\n",
    "def map2_[A,B,C](a: Option[A], b: Option[B])(f: (A, B) => C): Option[C] =\n",
    "  a flatMap(aa => b map (bb => f(aa, bb)))"
   ]
  },
  {
   "cell_type": "code",
   "execution_count": 9,
   "metadata": {},
   "outputs": [
    {
     "data": {
      "text/plain": [
       "defined \u001b[32mfunction\u001b[39m \u001b[36minsuranceRateQuote\u001b[39m\n",
       "defined \u001b[32mfunction\u001b[39m \u001b[36mparseInsuranceRateQuote\u001b[39m"
      ]
     },
     "execution_count": 9,
     "metadata": {},
     "output_type": "execute_result"
    }
   ],
   "source": [
    "def insuranceRateQuote(age: Int, numberOfSpeedingTickets: Int): Double = ???\n",
    "\n",
    "def parseInsuranceRateQuote(age: String, numberOfSpeedingTickets: String): Option[Double] = {\n",
    "  val optAge: Option[Int] = Try(age.toInt)\n",
    "  val optTickets: Option[Int] = Try(numberOfSpeedingTickets.toInt)\n",
    "  map2(optAge, optTickets)(insuranceRateQuote)\n",
    "}"
   ]
  },
  {
   "cell_type": "markdown",
   "metadata": {},
   "source": [
    "## 연습문제 4.4\n",
    "Option들의 목록을 받고, 그 목록에 있는 모든 Some 값으로 구성된 목록을 담은 Option을 돌려주는 함수 sequence를 작성하라. 원래의 목록에 None이 하나라도 있으면 함수의 결과도 None이어야 한다. 그렇지 않으면 원래의 목록에 있는 모든 값의 목록을 담은 Some을 돌려주어야 한다. 서명은 다음과 같다.\n",
    "```scala\n",
    "def sequence[A](a: List[Option[A]]): Option[List[A]]\n",
    "```"
   ]
  },
  {
   "cell_type": "code",
   "execution_count": 10,
   "metadata": {},
   "outputs": [
    {
     "data": {
      "text/plain": [
       "defined \u001b[32mfunction\u001b[39m \u001b[36msequence\u001b[39m"
      ]
     },
     "execution_count": 10,
     "metadata": {},
     "output_type": "execute_result"
    }
   ],
   "source": [
    "def sequence[A](a: List[Option[A]]): Option[List[A]] = a match {\n",
    "    case h :: t => h.flatMap(x => sequence(t).map(x :: _))\n",
    "    case Nil => Option(Nil)\n",
    "}"
   ]
  },
  {
   "cell_type": "code",
   "execution_count": 11,
   "metadata": {},
   "outputs": [
    {
     "data": {
      "text/plain": [
       "\u001b[36mres10\u001b[39m: \u001b[32mOption\u001b[39m[\u001b[32mList\u001b[39m[\u001b[32mInt\u001b[39m]] = Some(List(1, 2))"
      ]
     },
     "execution_count": 11,
     "metadata": {},
     "output_type": "execute_result"
    }
   ],
   "source": [
    "sequence(List(Option(1), Option(2)))"
   ]
  },
  {
   "cell_type": "code",
   "execution_count": 12,
   "metadata": {},
   "outputs": [
    {
     "data": {
      "text/plain": [
       "defined \u001b[32mfunction\u001b[39m \u001b[36mparseInts\u001b[39m"
      ]
     },
     "execution_count": 12,
     "metadata": {},
     "output_type": "execute_result"
    }
   ],
   "source": [
    "def parseInts(a: List[String]): Option[List[Int]] =\n",
    "    sequence(a map (i => Try(i.toInt)))"
   ]
  },
  {
   "cell_type": "markdown",
   "metadata": {},
   "source": [
    "## 연습문제 4.5\n",
    "traverse 함수를 구현하라. map과 sequence를 사용하면 간단하겠지만, 목록을 단 한 번만 훑는 좀 더 효율적인 구현을 시도해 볼 것. 더 나아가서, sequence를 이 traverse로 구현해 보라.\n",
    "```scala\n",
    "def traverse[A,B](a: List[A])(f: A => Option[B]): Option[List[B]]\n",
    "```"
   ]
  },
  {
   "cell_type": "code",
   "execution_count": 13,
   "metadata": {},
   "outputs": [
    {
     "data": {
      "text/plain": [
       "defined \u001b[32mfunction\u001b[39m \u001b[36mtraverse\u001b[39m\n",
       "defined \u001b[32mfunction\u001b[39m \u001b[36mtraverse_\u001b[39m\n",
       "defined \u001b[32mfunction\u001b[39m \u001b[36msequenceViaTraverse\u001b[39m"
      ]
     },
     "execution_count": 13,
     "metadata": {},
     "output_type": "execute_result"
    }
   ],
   "source": [
    "def traverse[A,B](a: List[A])(f: A => Option[B]): Option[List[B]] = a match {\n",
    "    case Nil => Some(Nil)\n",
    "    case h :: t => map2(f(h), traverse(t)(f))(_ :: _)\n",
    "}\n",
    "def traverse_[A,B](a: List[A])(f: A => Option[B]): Option[List[B]] = \n",
    "    sequence(a map f)\n",
    "\n",
    "def sequenceViaTraverse[A](a: List[Option[A]]): Option[List[A]] = \n",
    "    traverse(a)(x => x)"
   ]
  },
  {
   "cell_type": "markdown",
   "metadata": {},
   "source": [
    "## Either"
   ]
  },
  {
   "cell_type": "code",
   "execution_count": 14,
   "metadata": {},
   "outputs": [
    {
     "data": {
      "text/plain": [
       "defined \u001b[32mtrait\u001b[39m \u001b[36mEither\u001b[39m\n",
       "defined \u001b[32mclass\u001b[39m \u001b[36mLeft\u001b[39m\n",
       "defined \u001b[32mclass\u001b[39m \u001b[36mRight\u001b[39m"
      ]
     },
     "execution_count": 14,
     "metadata": {},
     "output_type": "execute_result"
    }
   ],
   "source": [
    "sealed trait Either[+E, +A] {\n",
    "  def map[B](f: A => B): Either[E, B] = this match {\n",
    "    case Right(a) => Right(f(a))\n",
    "    case Left(e) => Left(e)\n",
    "  }\n",
    "}\n",
    "case class Left[+E](value: E) extends Either[E, Nothing]\n",
    "case class Right[+A](value: A) extends Either[Nothing, A]\n",
    "\n",
    "object Either {\n",
    "  def left[E](e: E): Either[E, A] = Left(e)\n",
    "  def right[A](a: A): Either[E, A] = Right(a)\n",
    "  def apply[A](a: A): Either[E, A] = Right(a)\n",
    "}"
   ]
  },
  {
   "cell_type": "code",
   "execution_count": 19,
   "metadata": {},
   "outputs": [
    {
     "data": {
      "text/plain": [
       "defined \u001b[32mfunction\u001b[39m \u001b[36mmean\u001b[39m"
      ]
     },
     "execution_count": 19,
     "metadata": {},
     "output_type": "execute_result"
    }
   ],
   "source": [
    "def mean(xs: IndexedSeq[Double]): Either[String, Double] =\n",
    "  if (xs.isEmpty) Left(\"mean of empty list!\")\n",
    "  else Right(xs.sum/xs.length)"
   ]
  },
  {
   "cell_type": "code",
   "execution_count": 20,
   "metadata": {},
   "outputs": [
    {
     "data": {
      "text/plain": [
       "defined \u001b[32mfunction\u001b[39m \u001b[36msafeDiv\u001b[39m"
      ]
     },
     "execution_count": 20,
     "metadata": {},
     "output_type": "execute_result"
    }
   ],
   "source": [
    "def safeDiv(x: Int, y: Int): Either[Exception, Int] = \n",
    "  try Right(x / y)\n",
    "  catch { case e: Exception => Left(e) }"
   ]
  },
  {
   "cell_type": "code",
   "execution_count": 21,
   "metadata": {},
   "outputs": [
    {
     "data": {
      "text/plain": [
       "defined \u001b[32mfunction\u001b[39m \u001b[36mTry\u001b[39m"
      ]
     },
     "execution_count": 21,
     "metadata": {},
     "output_type": "execute_result"
    }
   ],
   "source": [
    "def Try[A](a: => A): Either[Exception, A] =\n",
    "  try Right(a)\n",
    "  catch { case e: Exception => Left(e) }"
   ]
  },
  {
   "cell_type": "markdown",
   "metadata": {},
   "source": [
    "## 연습문제 4.6\n",
    "Right 값에 대해 작용하는 버전의 map, flatMap, orElse, amp2, Either를 구현하라.\n",
    "```scala\n",
    "trait Either[+E, +A] {\n",
    "  def map[B](f: A => B): Either[E, B]\n",
    "  def flatMap[EE >: E, B](f: A => Either[EE, B]): Either[EE, B]\n",
    "  def orElse[EE >: E, B >: A](b: => Either[EE, B]): Either[EE, B]\n",
    "  def map2[EE >: E, B, C](b: Either[EE, B])(f: (A, B) => C): Either[EE, C]\n",
    "}\n",
    "```"
   ]
  },
  {
   "cell_type": "code",
   "execution_count": 18,
   "metadata": {},
   "outputs": [
    {
     "data": {
      "text/plain": [
       "defined \u001b[32mtrait\u001b[39m \u001b[36mEither\u001b[39m\n",
       "defined \u001b[32mclass\u001b[39m \u001b[36mLeft\u001b[39m\n",
       "defined \u001b[32mclass\u001b[39m \u001b[36mRight\u001b[39m\n",
       "defined \u001b[32mobject\u001b[39m \u001b[36mEither\u001b[39m"
      ]
     },
     "execution_count": 18,
     "metadata": {},
     "output_type": "execute_result"
    }
   ],
   "source": [
    "sealed trait Either[+E, +A] {\n",
    "  def map[B](f: A => B): Either[E, B] = this match {\n",
    "    case Right(a) => Right(f(a))\n",
    "    case Left(e) => Left(e)\n",
    "  }\n",
    "  def flatMap[EE >: E, B](f: A => Either[EE, B]): Either[EE, B] = this match {\n",
    "    case Right(a) => f(a)\n",
    "    case Left(e) => Left(e)\n",
    "  }\n",
    "  def orElse[EE >: E, B >: A](b: => Either[EE, B]): Either[EE, B] = this match {\n",
    "    case Right(a) => Right(a)\n",
    "    case Left(e) => b\n",
    "  }\n",
    "  def map2[EE >: E, B, C](b: Either[EE, B])(f: (A, B) => C): Either[EE, C] = \n",
    "    flatMap (aa => b map (f(aa, _)))\n",
    "  \n",
    "  def map2_[EE >: E, B, C](b: Either[EE, B])(f: (A, B) => C): Either[EE, C] = \n",
    "    for {\n",
    "      a <- this\n",
    "      b1 <- b\n",
    "    } yield f(a, b1)\n",
    "}\n",
    "case class Left[+E](value: E) extends Either[E, Nothing]\n",
    "case class Right[+A](value: A) extends Either[Nothing, A]\n",
    "\n",
    "object Either {\n",
    "  def left[E,A](e: E): Either[E,A] = Left(e)\n",
    "  def right[E,A](a: A): Either[E,A] = Right(a)\n",
    "  def apply[E,A](a: A): Either[E, A] = Right(a)\n",
    "}"
   ]
  },
  {
   "cell_type": "code",
   "execution_count": 22,
   "metadata": {},
   "outputs": [
    {
     "data": {
      "text/plain": [
       "defined \u001b[32mfunction\u001b[39m \u001b[36mparseInseranceRateQuote\u001b[39m"
      ]
     },
     "execution_count": 22,
     "metadata": {},
     "output_type": "execute_result"
    }
   ],
   "source": [
    "def parseInseranceRateQuote(age: String, numberOfSpeedingTickets: String): Either[Exception, Double] =\n",
    "  for {\n",
    "    a <- Try(age.toInt)\n",
    "    b <- Try(numberOfSpeedingTickets.toInt)\n",
    "  } yield insuranceRateQuote(a, b)"
   ]
  },
  {
   "cell_type": "markdown",
   "metadata": {
    "collapsed": true
   },
   "source": [
    "## 연습문제 4.7\n",
    "Either에 대한 sequence와 traverse를 작성하라. 이 두 함수는 발생한 첫 오류를 돌려주어야 한다(오류가 발생했다면).\n",
    "```scala\n",
    "def sequence[E, A](es: List[Either[E, A]]): Either[E, List[A]]\n",
    "def traverse[E, A, B](as: List[A])(f: A => Either[E, B]): Either[E, List[B]]\n",
    "```"
   ]
  },
  {
   "cell_type": "code",
   "execution_count": 26,
   "metadata": {},
   "outputs": [
    {
     "data": {
      "text/plain": [
       "defined \u001b[32mfunction\u001b[39m \u001b[36msequence_\u001b[39m\n",
       "defined \u001b[32mfunction\u001b[39m \u001b[36mtraverse\u001b[39m\n",
       "defined \u001b[32mfunction\u001b[39m \u001b[36msequence\u001b[39m"
      ]
     },
     "execution_count": 26,
     "metadata": {},
     "output_type": "execute_result"
    }
   ],
   "source": [
    "def sequence_[E, A](es: List[Either[E, A]]): Either[E, List[A]] = es match {\n",
    "  case h :: t => h.flatMap(x => sequence(t).map(x :: _))\n",
    "  case Nil => Right(Nil)\n",
    "}\n",
    "  \n",
    "def traverse[E, A, B](as: List[A])(f: A => Either[E, B]): Either[E, List[B]] = as match {\n",
    "  case h :: t => f(h).map2(traverse(t)(f))(_ :: _)\n",
    "  case Nil => Right(Nil)\n",
    "}\n",
    "\n",
    "def sequence[E, A](es: List[Either[E, A]]): Either[E, List[A]] =\n",
    "  traverse(es)(x => x)"
   ]
  }
 ],
 "metadata": {
  "kernelspec": {
   "display_name": "Scala",
   "language": "scala",
   "name": "scala"
  },
  "language_info": {
   "codemirror_mode": "text/x-scala",
   "file_extension": ".scala",
   "mimetype": "text/x-scala",
   "name": "scala211",
   "nbconvert_exporter": "script",
   "pygments_lexer": "scala",
   "version": "2.11.8"
  }
 },
 "nbformat": 4,
 "nbformat_minor": 2
}
