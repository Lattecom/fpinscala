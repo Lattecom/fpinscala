{
 "cells": [
  {
   "cell_type": "markdown",
   "metadata": {},
   "source": [
    "# 연습문제 2.1\n",
    "n번째 피보나치 수를 돌려주는 재귀 함수를 작성하라. 처음 두 피보나치 수는 0과 1이다. n번째 피보나치 수는 항상 이전 두 수의 합이다. \n",
    "즉, 피보나치 수열은 0, 1, 1, 2, 3, 5로 시작한다. 반드시 지역 꼬리재귀 함수를 사용해서 작성할 것.\n",
    "``` scala\n",
    "def fib(n: Int): Int\n",
    "```"
   ]
  },
  {
   "cell_type": "code",
   "execution_count": 1,
   "metadata": {
    "collapsed": false
   },
   "outputs": [
    {
     "data": {
      "text/plain": [
       "defined \u001b[32mfunction\u001b[39m \u001b[36mfib\u001b[39m"
      ]
     },
     "execution_count": 1,
     "metadata": {},
     "output_type": "execute_result"
    }
   ],
   "source": [
    "def fib(n: Int): Int = {\n",
    "    @annotation.tailrec\n",
    "    def go(n: Int, acc: Int, pre: Int): Int =\n",
    "        if (n==0) 0\n",
    "        else if (n==1) acc\n",
    "        else go(n-1, acc+pre, acc)\n",
    "    go(n, 1, 0)\n",
    "}"
   ]
  },
  {
   "cell_type": "code",
   "execution_count": 7,
   "metadata": {
    "collapsed": false
   },
   "outputs": [
    {
     "data": {
      "text/plain": [
       "\u001b[36mres6\u001b[39m: \u001b[32mInt\u001b[39m = \u001b[32m55\u001b[39m"
      ]
     },
     "execution_count": 7,
     "metadata": {},
     "output_type": "execute_result"
    }
   ],
   "source": [
    "fib(10)"
   ]
  },
  {
   "cell_type": "markdown",
   "metadata": {},
   "source": [
    "# 연습문제 2.2\n",
    "\n",
    "Array[A]가 주어진 비교 함수에 의거해서 정렬되어 있는지 점검하는 isSorted함수를 구현하라.\n",
    "서명은 다음과 같다.\n",
    "```scala\n",
    "def isSorted[A](as: Array[A], ordered: (A,A) => Boolean): Boolean\n",
    "```"
   ]
  },
  {
   "cell_type": "code",
   "execution_count": 8,
   "metadata": {
    "collapsed": false
   },
   "outputs": [
    {
     "data": {
      "text/plain": [
       "defined \u001b[32mfunction\u001b[39m \u001b[36misSorted\u001b[39m"
      ]
     },
     "execution_count": 8,
     "metadata": {},
     "output_type": "execute_result"
    }
   ],
   "source": [
    "def isSorted[A](as: Array[A], ordered: (A,A) => Boolean): Boolean = {\n",
    "    @annotation.tailrec\n",
    "    def loop(n: Int): Boolean = {\n",
    "        if (n >= as.length) true\n",
    "        else if (ordered(as(n),as(n+1))) loop(n+1)\n",
    "        else false\n",
    "    }\n",
    "    loop(0)\n",
    "}"
   ]
  },
  {
   "cell_type": "markdown",
   "metadata": {},
   "source": [
    "# 연습문제 2.3\n",
    "\n",
    "또 다른 예로, 인수가 두 개인 함수 f를 인수 하나를 받고 그것으로 f를 부분 적용하는 함수로 변환하는 커링(currying)을 살펴보자. 이번에도 컴파일 되는 구현은 단 한 가지이다. 그러한 구현을 작성하라.\n",
    "```scala\n",
    "def curry[A,B,C](f: (A, B) => C): A => (B => C)\n",
    "```"
   ]
  },
  {
   "cell_type": "code",
   "execution_count": 14,
   "metadata": {
    "collapsed": false
   },
   "outputs": [
    {
     "data": {
      "text/plain": [
       "defined \u001b[32mfunction\u001b[39m \u001b[36mcurry\u001b[39m\n",
       "defined \u001b[32mfunction\u001b[39m \u001b[36mcurry2\u001b[39m\n",
       "defined \u001b[32mfunction\u001b[39m \u001b[36mcurry3\u001b[39m"
      ]
     },
     "execution_count": 14,
     "metadata": {},
     "output_type": "execute_result"
    }
   ],
   "source": [
    "def curry[A,B,C](f: (A, B) => C): A => (B => C) = {\n",
    "    (a: A) => (b: B) => f(a, b)\n",
    "}\n",
    "def curry2[A,B,C](f: (A, B) => C): A => (B => C) = {\n",
    "    (a: A) => f(a, _: B)\n",
    "}\n",
    "def curry3[A,B,C](f: (A, B) => C): A => (B => C) = {\n",
    "    a => f(a, _: B)\n",
    "}"
   ]
  },
  {
   "cell_type": "markdown",
   "metadata": {},
   "source": [
    "# 연습문제 2.4\n",
    "\n",
    "curry의 변환을 역으로 수행하는 고차 함수 uncurry를 구현하라. =>는 오른 쪽으로 묵이므로, A => (B => C)를 A => B => C라고 표기할 수 있음을 주의할 것.\n",
    "```scala\n",
    "def uncurry[A,B,C](f: A => B => C): (A, B) => C\n",
    "```"
   ]
  },
  {
   "cell_type": "code",
   "execution_count": 17,
   "metadata": {
    "collapsed": false
   },
   "outputs": [
    {
     "data": {
      "text/plain": [
       "defined \u001b[32mfunction\u001b[39m \u001b[36muncurry\u001b[39m\n",
       "defined \u001b[32mfunction\u001b[39m \u001b[36muncurry2\u001b[39m\n",
       "defined \u001b[32mfunction\u001b[39m \u001b[36muncurry3\u001b[39m"
      ]
     },
     "execution_count": 17,
     "metadata": {},
     "output_type": "execute_result"
    }
   ],
   "source": [
    "def uncurry[A,B,C](f: A => B => C): (A, B) => C =\n",
    "    (a: A, b: B) => f(a)(b)\n",
    "def uncurry2[A,B,C](f: A => B => C): (A, B) => C =\n",
    "    (a, b) => f(a)(b)\n",
    "def uncurry3[A,B,C](f: A => B => C): (A, B) => C =\n",
    "    f(_: A)(_: B)"
   ]
  },
  {
   "cell_type": "markdown",
   "metadata": {},
   "source": [
    "# 연습문제 2.5\n",
    "\n",
    "두 함수를 합성하는 고차 함수를 구현하라.\n",
    "```scala\n",
    "def compose[A,B,C](f: B => C, g: A => B): A => C\n",
    "```"
   ]
  },
  {
   "cell_type": "code",
   "execution_count": 20,
   "metadata": {
    "collapsed": false
   },
   "outputs": [
    {
     "data": {
      "text/plain": [
       "defined \u001b[32mfunction\u001b[39m \u001b[36mcompose\u001b[39m\n",
       "defined \u001b[32mfunction\u001b[39m \u001b[36mcompose2\u001b[39m"
      ]
     },
     "execution_count": 20,
     "metadata": {},
     "output_type": "execute_result"
    }
   ],
   "source": [
    "def compose[A,B,C](f: B => C, g: A => B): A => C =\n",
    "    (a: A) => f(g(a))\n",
    "def compose2[A,B,C](f: B => C, g: A => B): A => C =\n",
    "    (a) => f(g(a))"
   ]
  },
  {
   "cell_type": "code",
   "execution_count": null,
   "metadata": {
    "collapsed": true
   },
   "outputs": [],
   "source": []
  }
 ],
 "metadata": {
  "kernelspec": {
   "display_name": "Scala",
   "language": "scala",
   "name": "scala"
  },
  "language_info": {
   "codemirror_mode": "text/x-scala",
   "file_extension": ".scala",
   "mimetype": "text/x-scala",
   "name": "scala211",
   "nbconvert_exporter": "script",
   "pygments_lexer": "scala",
   "version": "2.11.8"
  }
 },
 "nbformat": 4,
 "nbformat_minor": 2
}
