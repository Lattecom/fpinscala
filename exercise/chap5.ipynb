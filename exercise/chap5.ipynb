{
 "cells": [
  {
   "cell_type": "markdown",
   "metadata": {},
   "source": [
    "# Chap 5"
   ]
  },
  {
   "cell_type": "code",
   "execution_count": 1,
   "metadata": {},
   "outputs": [
    {
     "data": {
      "text/plain": [
       "defined \u001b[32mtrait\u001b[39m \u001b[36mStream\u001b[39m\n",
       "defined \u001b[32mobject\u001b[39m \u001b[36mEmpty\u001b[39m\n",
       "defined \u001b[32mclass\u001b[39m \u001b[36mCons\u001b[39m\n",
       "defined \u001b[32mobject\u001b[39m \u001b[36mStream\u001b[39m"
      ]
     },
     "execution_count": 1,
     "metadata": {},
     "output_type": "execute_result"
    }
   ],
   "source": [
    "sealed trait Stream[+A]{\n",
    "  def cons[A](hd: => A, tl: => Stream[A]): Stream[A] = {\n",
    "    lazy val head = hd\n",
    "    lazy val tail = tl\n",
    "    Cons(() => head, () => tail)\n",
    "  }\n",
    "  \n",
    "  def empty[A]: Stream[A] = Empty\n",
    "  \n",
    "  def headOption: Option[A] = this match {\n",
    "    case Empty => None\n",
    "    case Cons(h, t) => Some(h())\n",
    "  }\n",
    "  \n",
    "  def foldRight[B](z: => B)(f: (A, => B) => B): B = this match {\n",
    "    case Cons(h, t) => f(h(), t().foldRight(z)(f))\n",
    "    case _ => z\n",
    "  }\n",
    "  \n",
    "  def exists_(p: A => Boolean): Boolean = this match {\n",
    "    case Cons(h, t) => p(h()) || t().exists(p)\n",
    "    case _ => false\n",
    "  }\n",
    "  \n",
    "  def exists(p: A => Boolean): Boolean = \n",
    "    foldRight(false)((a, b) => p(a) || b)\n",
    "  \n",
    "  // Exercise 5.1\n",
    "  def toListRec: List[A] = this match {\n",
    "    case Cons(h, t) => h() :: t().toListRec\n",
    "    case Empty => Nil\n",
    "  }\n",
    "  def toList: List[A] = {\n",
    "    @annotation.tailrec\n",
    "    def go(st: Stream[A], acc: List[A]): List[A] = st match {\n",
    "      case Cons(h, t) => go(t(), h() :: acc)\n",
    "      case Empty => acc\n",
    "    }\n",
    "    go(this, List()).reverse\n",
    "  }\n",
    "  \n",
    "  // Exercise 5.2\n",
    "  def take(n: Int): Stream[A] = this match {\n",
    "    case Cons(h, t) if (n > 1) => cons(h(), t().take(n-1))\n",
    "    case Cons(h, t) if (n == 1) => cons(h(), empty)\n",
    "    case _ => empty\n",
    "  }\n",
    "  def drop(n: Int): Stream[A] = this match {\n",
    "    case Cons(h, t) if (n > 0) => t().drop(n-1)\n",
    "    case _ => this\n",
    "  }\n",
    "  \n",
    "  // Exercise 5.3\n",
    "  def takeWhile(p: A => Boolean): Stream[A] = this match{\n",
    "    case Cons(h, t) if (p(h())) => cons(h(), t().takeWhile(p))\n",
    "    case _ => empty\n",
    "  }\n",
    "  \n",
    "  \n",
    "  // Exercise 5.4\n",
    "  def forAll(p: A => Boolean): Boolean =\n",
    "    foldRight(true)((a, b) => p(a) && b)\n",
    "  \n",
    "  // Exercise 5.5\n",
    "  def takeWhile_(p: A => Boolean): Stream[A] =\n",
    "    foldRight(empty[A])((a, b) => if(p(a)) cons(a, b) else empty)\n",
    "  \n",
    "  // Exercise 5.6\n",
    "  def headOption_ : Option[A] = \n",
    "    foldRight(None: Option[A])((a, b) => Some(a))\n",
    "  \n",
    "  // Exercise 5.7\n",
    "  def map[B](f: A => B): Stream[B] =\n",
    "    foldRight(empty[B])((a, b) => cons(f(a), b))\n",
    "  \n",
    "  def filter[B](f: A => Boolean): Stream[A] =\n",
    "    foldRight(empty[A])((a, b) => if(f(a)) cons(a, b) else b)\n",
    "  \n",
    "  def append[B>:A](e: => Stream[B]): Stream[B] =\n",
    "    foldRight(e)((a, b) => cons(a, b))\n",
    "  \n",
    "  def flatMap[B](f: A => Stream[B]): Stream[B] =\n",
    "    foldRight(empty[B])((a, b) => f(a).append(b))\n",
    "  \n",
    "  def repeat: Stream[A] = append(repeat)\n",
    "}\n",
    "case object Empty extends Stream[Nothing]\n",
    "case class Cons[+A](h: () => A, t: () => Stream[A]) extends Stream[A]\n",
    "\n",
    "object Stream {\n",
    "  def cons[A](hd: => A, tl: => Stream[A]): Stream[A] = {\n",
    "    lazy val head = hd\n",
    "    lazy val tail = tl\n",
    "    Cons(() => head, () => tail)\n",
    "  }\n",
    "  \n",
    "  def empty[A]: Stream[A] = Empty\n",
    "  \n",
    "  def apply[A](as: A*): Stream[A] =\n",
    "    if (as.isEmpty) empty else cons(as.head, apply(as.tail: _*))\n",
    "  \n",
    "}"
   ]
  },
  {
   "cell_type": "code",
   "execution_count": 2,
   "metadata": {},
   "outputs": [
    {
     "data": {
      "text/plain": [
       "\u001b[36mres1\u001b[39m: \u001b[32mList\u001b[39m[\u001b[32mInt\u001b[39m] = \u001b[33mList\u001b[39m(\u001b[32m1\u001b[39m, \u001b[32m2\u001b[39m, \u001b[32m3\u001b[39m, \u001b[32m1\u001b[39m, \u001b[32m2\u001b[39m)"
      ]
     },
     "execution_count": 2,
     "metadata": {},
     "output_type": "execute_result"
    }
   ],
   "source": [
    "Stream(1,2,3).repeat.take(5).toList"
   ]
  },
  {
   "cell_type": "code",
   "execution_count": 3,
   "metadata": {},
   "outputs": [
    {
     "data": {
      "text/plain": [
       "\u001b[36mres2\u001b[39m: \u001b[32mList\u001b[39m[\u001b[32mInt\u001b[39m] = \u001b[33mList\u001b[39m(\u001b[32m1\u001b[39m, \u001b[32m2\u001b[39m, \u001b[32m3\u001b[39m)"
      ]
     },
     "execution_count": 3,
     "metadata": {},
     "output_type": "execute_result"
    }
   ],
   "source": [
    "Stream(1,2,3).toListRec"
   ]
  },
  {
   "cell_type": "markdown",
   "metadata": {},
   "source": [
    "## 연습문제 5.1\n",
    "Stream을 List로 변환하되 평가를 강제해서 REPL로 목록의 요소들을 볼 수 있게 하는 함수를 작성하라. 표준라이브러리에 있는 정규 List 형식으로 변환하면 된다. 이 함수와 Stream에 대해 작용하는 다른 함수들을 Stream 특질(trait)안에 넣어도 좋다. \n",
    "```scala\n",
    "def toList: List[A]\n",
    "```"
   ]
  },
  {
   "cell_type": "code",
   "execution_count": null,
   "metadata": {
    "collapsed": true
   },
   "outputs": [],
   "source": [
    "def toListRec: List[A] = this match {\n",
    "  case Cons(h, t) => h() :: t().toListRec\n",
    "  case Empty => Nil\n",
    "}\n",
    "\n",
    "def toList: List[A] = {\n",
    "  @annotation.tailrec\n",
    "  def go(st: Stream[A], acc: List[A]): List[A] = st match {\n",
    "    case Cons(h, t) => go(t(), h() :: acc)\n",
    "    case Empty => acc\n",
    "  }\n",
    "  go(this, List()).reverse\n",
    "}"
   ]
  },
  {
   "cell_type": "markdown",
   "metadata": {},
   "source": [
    "## 연습문제 5.2\n",
    "Stream의 처음 n개의 요소를 돌려주는 함수 take(n)과 Stream의 처음 n개의 요소를 건너뛴 스트림을 돌려주는 drop(n)을 작성하라."
   ]
  },
  {
   "cell_type": "code",
   "execution_count": null,
   "metadata": {
    "collapsed": true
   },
   "outputs": [],
   "source": [
    "// Exercise 5.2\n",
    "def take(n: Int): Stream[A] = this match {\n",
    "  case Cons(h, t) if (n > 1) => cons(h(), t().take(n-1))\n",
    "  case Cons(h, t) if (n == 1) => cons(h(), empty)\n",
    "  case _ => empty\n",
    "}\n",
    "def drop(n: Int): Stream[A] = this match {\n",
    "  case Cons(h, t) if (n > 0) => t().drop(n-1)\n",
    "  case _ => this\n",
    "}"
   ]
  },
  {
   "cell_type": "markdown",
   "metadata": {},
   "source": [
    "## 연습문제 5.3\n",
    "Stream에서 주어진 술어를 만족하는 선행 요소들을 모두 돌려주는 함수 takeWhile을 작성하라.\n",
    "```scala\n",
    "def takeWhile(p: A => Boolean): Stream[A]\n",
    "```"
   ]
  },
  {
   "cell_type": "code",
   "execution_count": null,
   "metadata": {
    "collapsed": true
   },
   "outputs": [],
   "source": [
    "// Exercise 5.3\n",
    "def takeWhile(p: A => Boolean): Stream[A] = this match{\n",
    "  case Cons(h, t) if (p(h())) => cons(h(), t().takeWhile(p))\n",
    "  case _ => empty\n",
    "}"
   ]
  },
  {
   "cell_type": "code",
   "execution_count": 16,
   "metadata": {},
   "outputs": [
    {
     "data": {
      "text/plain": [
       "\u001b[36mres15\u001b[39m: \u001b[32mList\u001b[39m[\u001b[32mInt\u001b[39m] = \u001b[33mList\u001b[39m(\u001b[32m1\u001b[39m, \u001b[32m2\u001b[39m)"
      ]
     },
     "execution_count": 16,
     "metadata": {},
     "output_type": "execute_result"
    }
   ],
   "source": [
    "Stream(1,2,3).take(2).toList"
   ]
  },
  {
   "cell_type": "code",
   "execution_count": null,
   "metadata": {
    "collapsed": true
   },
   "outputs": [],
   "source": []
  },
  {
   "cell_type": "markdown",
   "metadata": {},
   "source": [
    "## 연습문제 5.4\n",
    "Stream의 모든 요소가 주어진 술어를 만족하는지 점검하는 forAll 함수를 구현하라. 만족하지 않는 값을 만나면 즉시 순회를 마쳐야 한다. \n",
    "```scala\n",
    "def forAll(p: A => Boolean): Boolean\n",
    "```"
   ]
  },
  {
   "cell_type": "code",
   "execution_count": null,
   "metadata": {
    "collapsed": true
   },
   "outputs": [],
   "source": [
    "// Exercise 5.4\n",
    "def forAll(p: A => Boolean): Boolean =\n",
    "  foldRight(true)((a, b) => p(a) && b)"
   ]
  },
  {
   "cell_type": "markdown",
   "metadata": {},
   "source": [
    "## 연습문제 5.5\n",
    "foldRight를 이용해서 takeWhile을 구현하라."
   ]
  },
  {
   "cell_type": "code",
   "execution_count": null,
   "metadata": {
    "collapsed": true
   },
   "outputs": [],
   "source": [
    "def takeWhile(p: A => Boolean): Stream[A] =\n",
    "  foldRight(empty)((a, b) => if(p(a)) cons(a, b))"
   ]
  },
  {
   "cell_type": "markdown",
   "metadata": {},
   "source": [
    "## 연습문제 5.6 (hard)\n",
    "foldRight를 이용해서 headOption을 구현하라."
   ]
  },
  {
   "cell_type": "code",
   "execution_count": null,
   "metadata": {
    "collapsed": true
   },
   "outputs": [],
   "source": [
    "// Exercise 5.6\n",
    "def headOption_ : Option[A] = \n",
    "  foldRight(None: Option[A])((a, b) => Some(a))"
   ]
  },
  {
   "cell_type": "markdown",
   "metadata": {},
   "source": [
    "## 연습문제 5.7\n",
    "foldRight를 이용해서 map, filter, append, flatMap을 구현하라. append 메서드는 자신의 인수에 대해 엄격하지 않아야 한다."
   ]
  },
  {
   "cell_type": "code",
   "execution_count": null,
   "metadata": {
    "collapsed": true
   },
   "outputs": [],
   "source": [
    "// Exercise 5.7\n",
    "def map[B](f: A => B): Stream[B] =\n",
    "  foldRight(empty[B])((a, b) => cons(f(a), b))\n",
    "\n",
    "def filter[B](f: A => Boolean): Stream[A] =\n",
    "  foldRight(empty[A])((a, b) => if(f(a)) cons(a, b) else b)\n",
    "\n",
    "def append[B>:A](e: => Stream[B]): Stream[B] =\n",
    "  foldRight(e)((a, b) => cons(a, b))\n",
    "\n",
    "def flatMap[B](f: A => Stream[B]): Stream[B] =\n",
    "  foldRight(empty[B])((a, b) => f(a).append(b))"
   ]
  },
  {
   "cell_type": "markdown",
   "metadata": {},
   "source": [
    "## infinite stream"
   ]
  },
  {
   "cell_type": "code",
   "execution_count": 2,
   "metadata": {},
   "outputs": [
    {
     "data": {
      "text/plain": [
       "\u001b[36mones\u001b[39m: \u001b[32mStream\u001b[39m[\u001b[32mInt\u001b[39m] = Cons(<function0>,<function0>)\n",
       "\u001b[36mres1_1\u001b[39m: \u001b[32mList\u001b[39m[\u001b[32mInt\u001b[39m] = \u001b[33mList\u001b[39m(\u001b[32m1\u001b[39m, \u001b[32m1\u001b[39m, \u001b[32m1\u001b[39m, \u001b[32m1\u001b[39m, \u001b[32m1\u001b[39m)\n",
       "\u001b[36mres1_2\u001b[39m: \u001b[32mBoolean\u001b[39m = \u001b[32mtrue\u001b[39m"
      ]
     },
     "execution_count": 2,
     "metadata": {},
     "output_type": "execute_result"
    }
   ],
   "source": [
    "val ones: Stream[Int] = Stream.cons(1, ones)\n",
    "ones.take(5).toList\n",
    "ones.exists(_ % 2 != 0)"
   ]
  },
  {
   "cell_type": "code",
   "execution_count": 3,
   "metadata": {},
   "outputs": [
    {
     "data": {
      "text/plain": [
       "\u001b[36mres2_0\u001b[39m: \u001b[32mBoolean\u001b[39m = \u001b[32mtrue\u001b[39m\n",
       "\u001b[36mres2_1\u001b[39m: \u001b[32mStream\u001b[39m[\u001b[32mInt\u001b[39m] = Cons(<function0>,<function0>)\n",
       "\u001b[36mres2_2\u001b[39m: \u001b[32mBoolean\u001b[39m = \u001b[32mfalse\u001b[39m"
      ]
     },
     "execution_count": 3,
     "metadata": {},
     "output_type": "execute_result"
    }
   ],
   "source": [
    "ones.map(_ + 1).exists(_ % 2 ==0)\n",
    "ones.takeWhile(_ == 1)\n",
    "ones.forAll(_ != 1)"
   ]
  },
  {
   "cell_type": "markdown",
   "metadata": {},
   "source": [
    "## 연습문제 5.8\n",
    "ones를 조금 일반화해서, 주어진 값의 무한 Stream을 돌려주는 함수 constant를 구현하라.\n",
    "```scala\n",
    "def constant[A](a: A): Stream[A]\n",
    "```"
   ]
  },
  {
   "cell_type": "code",
   "execution_count": 4,
   "metadata": {},
   "outputs": [
    {
     "data": {
      "text/plain": [
       "defined \u001b[32mfunction\u001b[39m \u001b[36mconstant\u001b[39m"
      ]
     },
     "execution_count": 4,
     "metadata": {},
     "output_type": "execute_result"
    }
   ],
   "source": [
    "def constant[A](a: A): Stream[A] = {\n",
    "  lazy val cs: Stream[A] = Stream.cons(a, cs)\n",
    "  cs\n",
    "}"
   ]
  },
  {
   "cell_type": "markdown",
   "metadata": {},
   "source": [
    "## 연습문제 5.9\n",
    "n에서 시작해서 n+1, n+2, 등으로 이어지는 무한 정수 스트림을 생성하는 함수를 작성하라.\n",
    "```scala\n",
    "def from(n: Int): Stream[Int]\n",
    "```"
   ]
  },
  {
   "cell_type": "code",
   "execution_count": 5,
   "metadata": {},
   "outputs": [
    {
     "data": {
      "text/plain": [
       "defined \u001b[32mfunction\u001b[39m \u001b[36mfrom\u001b[39m"
      ]
     },
     "execution_count": 5,
     "metadata": {},
     "output_type": "execute_result"
    }
   ],
   "source": [
    "def from(n: Int): Stream[Int] = {\n",
    "  Stream.cons(n, from(n+1))\n",
    "}"
   ]
  },
  {
   "cell_type": "markdown",
   "metadata": {
    "collapsed": true
   },
   "source": [
    "## 연습문제 5.10\n",
    "무한 피보나치 수 0, 1, 1, 2, 3, 5, 8, ...으로 이루어진 무한 스트림을 생성하는 함수 fibs를 작성하라. "
   ]
  },
  {
   "cell_type": "code",
   "execution_count": 6,
   "metadata": {},
   "outputs": [
    {
     "data": {
      "text/plain": [
       "defined \u001b[32mfunction\u001b[39m \u001b[36mfibs\u001b[39m"
      ]
     },
     "execution_count": 6,
     "metadata": {},
     "output_type": "execute_result"
    }
   ],
   "source": [
    "def fibs: Stream[Int] = {\n",
    "  def go(before: Int, after: Int): Stream[Int] =\n",
    "    Stream.cons(before, go(after, before+after))\n",
    "  go(0,1)\n",
    "}"
   ]
  },
  {
   "cell_type": "code",
   "execution_count": 9,
   "metadata": {},
   "outputs": [
    {
     "data": {
      "text/plain": [
       "\u001b[36mres8\u001b[39m: \u001b[32mList\u001b[39m[\u001b[32mInt\u001b[39m] = \u001b[33mList\u001b[39m(\u001b[32m0\u001b[39m, \u001b[32m1\u001b[39m, \u001b[32m1\u001b[39m, \u001b[32m2\u001b[39m, \u001b[32m3\u001b[39m, \u001b[32m5\u001b[39m, \u001b[32m8\u001b[39m, \u001b[32m13\u001b[39m, \u001b[32m21\u001b[39m, \u001b[32m34\u001b[39m)"
      ]
     },
     "execution_count": 9,
     "metadata": {},
     "output_type": "execute_result"
    }
   ],
   "source": [
    "fibs.take(10).toList"
   ]
  },
  {
   "cell_type": "markdown",
   "metadata": {},
   "source": [
    "## 연습문제 5.11\n",
    "좀더 일반화된 스트림 구축 함수 unfold를 작성하라. 이 함수는 초기 상태 하나와 다음 상태 및 다음 값(생성된 스트림 안의)을 산출하는 함수 하나를 받아야 한다.\n",
    "```scala\n",
    "def unfold[A, S](z: S)(f: S => Option[(A, S)]): Stream[A]\n",
    "```"
   ]
  },
  {
   "cell_type": "code",
   "execution_count": 4,
   "metadata": {},
   "outputs": [
    {
     "data": {
      "text/plain": [
       "defined \u001b[32mfunction\u001b[39m \u001b[36munfold\u001b[39m"
      ]
     },
     "execution_count": 4,
     "metadata": {},
     "output_type": "execute_result"
    }
   ],
   "source": [
    "def unfold[A, S](z: S)(f: S => Option[(A, S)]): Stream[A] = f(z) match {\n",
    "  case Some((a, s)) => Stream.cons(a, unfold(s)(f))\n",
    "  case None => Stream.empty\n",
    "}"
   ]
  },
  {
   "cell_type": "markdown",
   "metadata": {},
   "source": [
    "## 연습문제 5.12\n",
    "unfold를 이용해서 fibs, from, constant, ones를 작성하라."
   ]
  },
  {
   "cell_type": "code",
   "execution_count": 5,
   "metadata": {},
   "outputs": [
    {
     "data": {
      "text/plain": [
       "defined \u001b[32mfunction\u001b[39m \u001b[36mones\u001b[39m\n",
       "defined \u001b[32mfunction\u001b[39m \u001b[36mconstant\u001b[39m\n",
       "defined \u001b[32mfunction\u001b[39m \u001b[36mfrom\u001b[39m\n",
       "defined \u001b[32mfunction\u001b[39m \u001b[36mfibs\u001b[39m"
      ]
     },
     "execution_count": 5,
     "metadata": {},
     "output_type": "execute_result"
    }
   ],
   "source": [
    "def ones : Stream[Int] =\n",
    "  unfold(1)(x => Some((x, x)))\n",
    "\n",
    "def constant[A](v: A): Stream[A] =\n",
    "  unfold(v)(x => Some(x, x))\n",
    "\n",
    "def from(n: Int): Stream[Int] =\n",
    "  unfold(n)(x => Some(x, x+1))\n",
    "\n",
    "def fibs: Stream[Int] =\n",
    "  unfold((0, 1)) { case (b, a) => Some((b, (a, b+a))) }"
   ]
  },
  {
   "cell_type": "code",
   "execution_count": 6,
   "metadata": {},
   "outputs": [
    {
     "data": {
      "text/plain": [
       "\u001b[36mres5\u001b[39m: \u001b[32mList\u001b[39m[\u001b[32mInt\u001b[39m] = \u001b[33mList\u001b[39m(\u001b[32m4\u001b[39m, \u001b[32m5\u001b[39m, \u001b[32m6\u001b[39m, \u001b[32m7\u001b[39m, \u001b[32m8\u001b[39m)"
      ]
     },
     "execution_count": 6,
     "metadata": {},
     "output_type": "execute_result"
    }
   ],
   "source": [
    "from(4).take(5).toList"
   ]
  },
  {
   "cell_type": "markdown",
   "metadata": {},
   "source": [
    "## 연습문제 5.13\n",
    "unfold를 이용해서 map, take, takeWhile, zipWith(제3장 참고), zipAll을 구현하라. zipAll함수는 스트림에 요소가 더 있는 한 순회를 계속해야 한다. 각 스트림이 소진되었는지는 Option을 이용해서 지정한다.\n",
    "```scala\n",
    "def zipAll[B](s2: Stream[B]): Stream[(Option[A], Option[B])]\n",
    "```"
   ]
  },
  {
   "cell_type": "code",
   "execution_count": 7,
   "metadata": {},
   "outputs": [
    {
     "data": {
      "text/plain": [
       "defined \u001b[32mfunction\u001b[39m \u001b[36mmap\u001b[39m\n",
       "defined \u001b[32mfunction\u001b[39m \u001b[36mtake\u001b[39m\n",
       "defined \u001b[32mfunction\u001b[39m \u001b[36mtakeWhile\u001b[39m\n",
       "defined \u001b[32mfunction\u001b[39m \u001b[36mzipWith\u001b[39m\n",
       "defined \u001b[32mfunction\u001b[39m \u001b[36mzipAll\u001b[39m"
      ]
     },
     "execution_count": 7,
     "metadata": {},
     "output_type": "execute_result"
    }
   ],
   "source": [
    "def map[A,B](st: Stream[A])(f: A => B): Stream[B] = \n",
    "  unfold(st){ \n",
    "    case Cons(h, t) => Some(f(h()), t())\n",
    "    case _ => None\n",
    "  }\n",
    "\n",
    "def take[A](st: Stream[A])(n: Int): Stream[A] =\n",
    "  unfold((st, n)){\n",
    "    case (Cons(h, t), n) if (n > 1) => Some(h(), (t(), n-1))\n",
    "    case (Cons(h, t), 1) => Some(h(), (Stream.empty[A], 0))\n",
    "    case _ => None\n",
    "  }\n",
    "\n",
    "def takeWhile[A](st: Stream[A])(f: A => Boolean): Stream[A] =\n",
    "  unfold(st){\n",
    "    case Cons(h, t) if f(h()) => Some(h(), t())\n",
    "    case _ => None\n",
    "  }\n",
    "\n",
    "def zipWith[A,B,C](s1: Stream[A], s2: Stream[B])(f: (A, B) => C): Stream[C] = \n",
    "  unfold((s1, s2)){\n",
    "    case (Cons(h1, t1), Cons(h2, t2)) => Some(f(h1(), h2()), (t1(), t2()))\n",
    "    case _ => None\n",
    "  }\n",
    "\n",
    "def zipAll[A,B](s1: Stream[A], s2: Stream[B]): Stream[(Option[A], Option[B])] =\n",
    "  unfold((s1, s2)){\n",
    "    case (Cons(h1, t1), Cons(h2, t2)) => Some((Some(h1()), Some(h2())), (t1(), t2()))\n",
    "    case (Cons(h1, t1), Empty) => Some((Some(h1()), Option.empty[B]), (t1(), Stream.empty[B]))\n",
    "    case (Empty, Cons(h2, t2)) => Some((Option.empty[A], Some(h2())), (Stream.empty[A], t2()))\n",
    "    case _ => None\n",
    "  }"
   ]
  },
  {
   "cell_type": "markdown",
   "metadata": {},
   "source": [
    "## 연습문제 5.14 (hard)\n",
    "앞에서 작성한 함수들을 이용해서 startsWith를 구현하라. 이 함수는 한 Stream이 다른 한 Stream의 선행 순차열(prefix)인지 점검해야 한다. 예를 들어 Stream(1,2,3) startsWith Stream(1,2)는 true가 되어야 한다.\n",
    "```scala\n",
    "def startsWith[A](s: Stream[A]): Boolean\n",
    "```"
   ]
  },
  {
   "cell_type": "code",
   "execution_count": 15,
   "metadata": {},
   "outputs": [
    {
     "name": "stderr",
     "output_type": "stream",
     "text": [
      "cmd15.sc:2: cmd15Wrapper.this.cmd6.cmd0.wrapper.Stream[(Option[A], Option[A])] does not take parameters\n",
      "  zipAll(as, s)((a, b) => a == b).forAll(_ == true)\n",
      "               ^"
     ]
    },
    {
     "ename": "",
     "evalue": "",
     "output_type": "error",
     "traceback": [
      "Compilation Failed"
     ]
    }
   ],
   "source": [
    "def startsWith[A](as: Stream[A], s: Stream[A]): Boolean =\n",
    "  zipAll(as, s)((a, b) => a == b).forAll(_ == true)"
   ]
  },
  {
   "cell_type": "code",
   "execution_count": 12,
   "metadata": {},
   "outputs": [
    {
     "data": {
      "text/plain": [
       "\u001b[36mres11\u001b[39m: \u001b[32mBoolean\u001b[39m = \u001b[32mfalse\u001b[39m"
      ]
     },
     "execution_count": 12,
     "metadata": {},
     "output_type": "execute_result"
    }
   ],
   "source": [
    "startsWith(Stream(1,2,3,4), Stream(2,3))"
   ]
  },
  {
   "cell_type": "code",
   "execution_count": 18,
   "metadata": {},
   "outputs": [
    {
     "data": {
      "text/plain": [
       "defined \u001b[32mfunction\u001b[39m \u001b[36mstartsWith\u001b[39m"
      ]
     },
     "execution_count": 18,
     "metadata": {},
     "output_type": "execute_result"
    }
   ],
   "source": [
    "def startsWith[A](ss: Stream[A], s: Stream[A]): Boolean =\n",
    "  zipAll(ss, s).takeWhile(_._2.isEmpty) forAll {\n",
    "    case (h,h2) => h == h2 \n",
    "  }"
   ]
  },
  {
   "cell_type": "code",
   "execution_count": 29,
   "metadata": {},
   "outputs": [
    {
     "data": {
      "text/plain": [
       "\u001b[36mres28\u001b[39m: \u001b[32mList\u001b[39m[(\u001b[32mOption\u001b[39m[\u001b[32mInt\u001b[39m], \u001b[32mOption\u001b[39m[\u001b[32mInt\u001b[39m])] = \u001b[33mList\u001b[39m(\n",
       "  (\u001b[33mSome\u001b[39m(\u001b[32m1\u001b[39m), \u001b[33mSome\u001b[39m(\u001b[32m1\u001b[39m)),\n",
       "  (\u001b[33mSome\u001b[39m(\u001b[32m2\u001b[39m), \u001b[33mSome\u001b[39m(\u001b[32m2\u001b[39m)),\n",
       "  (\u001b[33mSome\u001b[39m(\u001b[32m3\u001b[39m), \u001b[33mSome\u001b[39m(\u001b[32m3\u001b[39m)),\n",
       "  (\u001b[33mSome\u001b[39m(\u001b[32m4\u001b[39m), \u001b[33mSome\u001b[39m(\u001b[32m4\u001b[39m)),\n",
       "  (\u001b[33mSome\u001b[39m(\u001b[32m5\u001b[39m), \u001b[33mSome\u001b[39m(\u001b[32m5\u001b[39m))\n",
       ")"
      ]
     },
     "execution_count": 29,
     "metadata": {},
     "output_type": "execute_result"
    }
   ],
   "source": [
    "zipAll(Stream(1,2,3,4,5,6,7), Stream(1,2,3,4,5)).takeWhile(!_._2.isEmpty).toList"
   ]
  },
  {
   "cell_type": "code",
   "execution_count": 19,
   "metadata": {},
   "outputs": [
    {
     "data": {
      "text/plain": [
       "\u001b[36mres18\u001b[39m: \u001b[32mBoolean\u001b[39m = \u001b[32mtrue\u001b[39m"
      ]
     },
     "execution_count": 19,
     "metadata": {},
     "output_type": "execute_result"
    }
   ],
   "source": [
    "startsWith(Stream(1,2,3,4), Stream(1,2,3,4,5))"
   ]
  },
  {
   "cell_type": "markdown",
   "metadata": {},
   "source": [
    "## 연습문제 5.15\n",
    "unfold를 이용해서 tails를 구현하라. tails는 주어진 입력 Stream과 그 후행 순차열(suffix)들로 이루어진 스트림을 돌려준다. 예를 들어 Stream(1,2,3)에 대해 이 함수는 원래의 Stream(Stream(1,2,3), Stream(2,3), Stream(3), Stream())을 돌려주어야 한다.\n",
    "```scala\n",
    "def tails: Stream[Stream[A]]\n",
    "```"
   ]
  },
  {
   "cell_type": "code",
   "execution_count": 36,
   "metadata": {},
   "outputs": [
    {
     "data": {
      "text/plain": [
       "defined \u001b[32mfunction\u001b[39m \u001b[36mtails\u001b[39m"
      ]
     },
     "execution_count": 36,
     "metadata": {},
     "output_type": "execute_result"
    }
   ],
   "source": [
    "def tails[A](st: Stream[A]): Stream[Stream[A]] = \n",
    "  unfold(st){\n",
    "    case Cons(h, t) => Some((Cons(h,t), t()))\n",
    "    case Empty => None\n",
    "  }"
   ]
  },
  {
   "cell_type": "code",
   "execution_count": 37,
   "metadata": {},
   "outputs": [
    {
     "data": {
      "text/plain": [
       "\u001b[36mres36\u001b[39m: \u001b[32mList\u001b[39m[\u001b[32mList\u001b[39m[\u001b[32mInt\u001b[39m]] = \u001b[33mList\u001b[39m(\u001b[33mList\u001b[39m(\u001b[32m1\u001b[39m, \u001b[32m2\u001b[39m, \u001b[32m3\u001b[39m), \u001b[33mList\u001b[39m(\u001b[32m2\u001b[39m, \u001b[32m3\u001b[39m), \u001b[33mList\u001b[39m(\u001b[32m3\u001b[39m))"
      ]
     },
     "execution_count": 37,
     "metadata": {},
     "output_type": "execute_result"
    }
   ],
   "source": [
    "tails(Stream(1,2,3)).toList.map(_.toList)"
   ]
  },
  {
   "cell_type": "markdown",
   "metadata": {},
   "source": [
    "## 연습문제 5.16 (hard)\n",
    "tails를 일반화한 scanRight 함수를 작성하라. 이 함수는 중간 결과들의 스트림을 돌려주는 foldRight와 비슷하다. 예:\n",
    "```bash\n",
    "scala> Stream(1,2,3).scanRight(0)(_ + _).toList\n",
    "res0: List[Int] = List(6,5,3,0)\n",
    "```\n",
    "이 예는 표현식 List(1+2+3+0, 2+3+0, 3+0, 0)과 동등해야 한다. 독자의 구현은 중간 결과들을 재사용해야 한다. 즉, 요소가 n개인 Stream을 훑는 데 걸리는 시간이 항상 n에 선형 비례해야 한다. 이 함수를 unfold를 이용해서 구현할 수 있을까? 있다면 어떻게? 없다면 왜 그럴까? 이 함수를 앞에서 작성한 다른 어떤 함수로 구현할 수는 있을까?"
   ]
  },
  {
   "cell_type": "code",
   "execution_count": null,
   "metadata": {
    "collapsed": true
   },
   "outputs": [],
   "source": []
  }
 ],
 "metadata": {
  "kernelspec": {
   "display_name": "Scala",
   "language": "scala",
   "name": "scala"
  },
  "language_info": {
   "codemirror_mode": "text/x-scala",
   "file_extension": ".scala",
   "mimetype": "text/x-scala",
   "name": "scala211",
   "nbconvert_exporter": "script",
   "pygments_lexer": "scala",
   "version": "2.11.8"
  }
 },
 "nbformat": 4,
 "nbformat_minor": 2
}
